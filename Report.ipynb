{
  "cells": [
    {
      "cell_type": "markdown",
      "metadata": {
        "id": "view-in-github"
      },
      "source": [
        "<a href=\"https://colab.research.google.com/github/mhtn-it/6_APP_Project/blob/main/Report.ipynb\" target=\"_parent\"><img src=\"https://colab.research.google.com/assets/colab-badge.svg\" alt=\"Open In Colab\"/></a>"
      ],
      "id": "view-in-github"
    },
    {
      "cell_type": "markdown",
      "metadata": {
        "id": "5b2dcf7c"
      },
      "source": [
        "# Đồ án môn Lập trình song song ứng dụng\n",
        "**Giảng viên: Thầy Trần Trung Kiên**\n",
        "\n",
        "## Thông tin nhóm\n",
        "### STT: Nhóm 6\n",
        "\n",
        "### Thành viên:\n",
        "1. 1712258 - Nguyễn Văn Hậu - [kenneth-nguyenn](https://github.com/kenneth-nguyenn)\n",
        "2. 18120181 - Nguyễn Thị Cẩm Hồng - [chnhgr](https://github.com/chnhgr)\n",
        "3. 18120216 - Mai Huỳnh Trung Nguyên - [mhtn-it](https://github.com/mhtn-it)\n",
        "\n",
        "### Tài liệu của nhóm\n",
        "- Kế hoạch nhóm, phân chia công việc: [Google Sheet](https://docs.google.com/spreadsheets/d/1lNRWbRRnsN0L1bEBLm2tHkauJC2jS9DPZiZfhLQ9Av8/edit?usp=sharing)\n",
        "- Link Colab thực thi: [Google Colab](https://colab.research.google.com/github/mhtn-it/6_APP_Project/blob/main/Report.ipynb)\n",
        "- Drive làm việc chung: [Google Drive](https://drive.google.com/drive/folders/1bDjdUTDdbr1EV_9VxSVIOGB60OutJlZi?usp=sharing)"
      ],
      "id": "5b2dcf7c"
    },
    {
      "cell_type": "markdown",
      "metadata": {
        "id": "2f93d974"
      },
      "source": [
        "## **Mô tả ứng dụng:** "
      ],
      "id": "2f93d974"
    },
    {
      "cell_type": "markdown",
      "metadata": {
        "id": "oLXvSmx5DZYw"
      },
      "source": [
        "### **Mô tả tổng quan:**"
      ],
      "id": "oLXvSmx5DZYw"
    },
    {
      "cell_type": "markdown",
      "metadata": {
        "id": "dc0bf646"
      },
      "source": [
        "**Đề tài**: Thay đổi background ảnh dựa vào phương pháp Poisson Matting\n",
        "\n",
        "**Input**: \n",
        "- Một bức ảnh chân dung\n",
        "- Trimap của ảnh (được tạo từ một bài toán khác)\n",
        "- Ảnh nền mới mong muốn\n",
        "\n",
        "**Output**: \n",
        "- Ảnh đã được thay đổi nền\n",
        "\n",
        "**Ý nghĩa thực tế của ứng dụng**:\n",
        "- Thay đổi background của ảnh khi cần thiết, ví dụ trong các trường hợp như ảnh kỷ niệm, ảnh thẻ, trang trí...\n",
        "- Áp dụng trên các phần mềm chỉnh sửa ảnh, trang web chỉnh sửa ảnh online\n",
        "\n",
        "**Lý do cần tăng tốc**: \n",
        "- Toàn bộ quá trình xử lý để cho ra một bức ảnh đúng và chính xác có thể mất đến vài phút (giảm trải nghiệm người dùng)\n",
        "- Khi xử lý hàng loạt, số lượng lớn thì thời gian sẽ rất lâu"
      ],
      "id": "dc0bf646"
    },
    {
      "cell_type": "markdown",
      "metadata": {
        "id": "b5K1puaqDdv5"
      },
      "source": [
        "### **Ý tưởng chính của bài toán:**"
      ],
      "id": "b5K1puaqDdv5"
    },
    {
      "cell_type": "markdown",
      "metadata": {
        "id": "bZZzeO5EEBlQ"
      },
      "source": [
        "Từ hình ảnh gốc, trimap, ảnh nền mới ứng dụng sử dụng các biện pháp phủ (matting) và pha trộn (blending) để ghép ảnh chân dung background mới.\n",
        "\n",
        "![demo](https://github.com/avani17101/Poisson-Matting/raw/main/attachments/result1.png)\n",
        "\n",
        "Qua nhiều phương pháp cải thiện thì foreground ngày càng chính xác với đối tượng của mình.\n",
        "\n",
        "![demo2](https://github.com/avani17101/Poisson-Matting/raw/main/attachments/result2.png)"
      ],
      "id": "bZZzeO5EEBlQ"
    },
    {
      "cell_type": "markdown",
      "metadata": {
        "id": "l3dgxz-YF3eu"
      },
      "source": [
        "### **Phần nhóm dự định song song hoá:**"
      ],
      "id": "l3dgxz-YF3eu"
    },
    {
      "cell_type": "markdown",
      "metadata": {
        "id": "5Df1RKJYF71Z"
      },
      "source": [
        "Nhóm nhận thấy việc xử lý ảnh có thể song song hoá bằng cách chia nhỏ công việc cho từng pixel. Do đó nhóm dự định sẽ lựa chọn các bước:\n",
        "- Thao tác matting và blending\n",
        "- Các bước xử lý để tạo độ chính xác cho foreground"
      ],
      "id": "5Df1RKJYF71Z"
    },
    {
      "cell_type": "markdown",
      "metadata": {
        "id": "d48122eb"
      },
      "source": [
        "## **Giải quyết bài toán**"
      ],
      "id": "d48122eb"
    },
    {
      "cell_type": "markdown",
      "metadata": {
        "id": "wOp0huxak_ou"
      },
      "source": [
        "### **Phần bổ trợ**"
      ],
      "id": "wOp0huxak_ou"
    },
    {
      "cell_type": "markdown",
      "metadata": {
        "id": "PEmpHqajIEk5"
      },
      "source": [
        "Phần này dùng để tạo cách hàm bổ trợ cho việc thực hiện trên Google Colab. Bao gồm: liên kết Google Colab với Drive, Tạo hàm Python để hỗ trợ đọc file pnm và file ma trận ở notebook, kiểm tra thông tin GPU."
      ],
      "id": "PEmpHqajIEk5"
    },
    {
      "cell_type": "markdown",
      "metadata": {
        "id": "i5EKrc0mktgd"
      },
      "source": [
        "#### Liên kết colab với Google Drive\n",
        "Để tiết kiệm thời gian load dữ liệu"
      ],
      "id": "i5EKrc0mktgd"
    },
    {
      "cell_type": "code",
      "execution_count": null,
      "metadata": {
        "colab": {
          "base_uri": "https://localhost:8080/"
        },
        "id": "tbt9_dp8i5xZ",
        "outputId": "99bf6391-4de8-4ea3-9973-6ab600515d07"
      },
      "outputs": [
        {
          "name": "stdout",
          "output_type": "stream",
          "text": [
            "Mounted at /content/drive\n"
          ]
        }
      ],
      "source": [
        "from google.colab import drive\n",
        "drive.mount('/content/drive')"
      ],
      "id": "tbt9_dp8i5xZ"
    },
    {
      "cell_type": "markdown",
      "metadata": {
        "id": "H1bC5hm6mQvm"
      },
      "source": [
        "#### Kiểm tra thông tin GPU"
      ],
      "id": "H1bC5hm6mQvm"
    },
    {
      "cell_type": "code",
      "execution_count": null,
      "metadata": {
        "id": "q0txMSMr7E58"
      },
      "outputs": [],
      "source": [
        "from numba import jit, prange, cuda"
      ],
      "id": "q0txMSMr7E58"
    },
    {
      "cell_type": "code",
      "execution_count": null,
      "metadata": {
        "colab": {
          "base_uri": "https://localhost:8080/"
        },
        "id": "AdRpZ_-enDEF",
        "outputId": "741f272d-d270-4ae5-da38-08a32c386ba8"
      },
      "outputs": [
        {
          "name": "stdout",
          "output_type": "stream",
          "text": [
            "Found 1 CUDA devices\n",
            "id 0             b'Tesla T4'                              [SUPPORTED]\n",
            "                      compute capability: 7.5\n",
            "                           pci device id: 4\n",
            "                              pci bus id: 0\n",
            "Summary:\n",
            "\t1/1 devices are supported\n"
          ]
        },
        {
          "data": {
            "text/plain": [
              "True"
            ]
          },
          "execution_count": 5,
          "metadata": {},
          "output_type": "execute_result"
        }
      ],
      "source": [
        "cuda.detect()"
      ],
      "id": "AdRpZ_-enDEF"
    },
    {
      "cell_type": "markdown",
      "metadata": {
        "id": "sbFNliCqCh29"
      },
      "source": [
        "### **Thực thi tuần tự**"
      ],
      "id": "sbFNliCqCh29"
    },
    {
      "cell_type": "markdown",
      "metadata": {
        "id": "3uoiHitdy6W4"
      },
      "source": [
        "#### Chuẩn bị"
      ],
      "id": "3uoiHitdy6W4"
    },
    {
      "cell_type": "markdown",
      "metadata": {
        "id": "2h7pJoi_Cvzi"
      },
      "source": [
        "Chuyển vị trí thực thi về thư mục Code"
      ],
      "id": "2h7pJoi_Cvzi"
    },
    {
      "cell_type": "code",
      "execution_count": null,
      "metadata": {
        "colab": {
          "base_uri": "https://localhost:8080/"
        },
        "id": "8jWSCrAhDlKO",
        "outputId": "ef75fcb1-10d1-4b24-fa2a-dc059a0766ba"
      },
      "outputs": [
        {
          "name": "stdout",
          "output_type": "stream",
          "text": [
            "/content/drive/MyDrive/6_APP_Project/Code\n"
          ]
        }
      ],
      "source": [
        "cd drive/MyDrive/6_APP_Project/Code"
      ],
      "id": "8jWSCrAhDlKO"
    },
    {
      "cell_type": "markdown",
      "metadata": {
        "id": "dnYjgIyOD2mj"
      },
      "source": [
        "Import thư viện"
      ],
      "id": "dnYjgIyOD2mj"
    },
    {
      "cell_type": "code",
      "execution_count": null,
      "metadata": {
        "id": "K03lgFZ0E_Ij"
      },
      "outputs": [],
      "source": [
        "import numpy as np\n",
        "import cv2\n",
        "import matplotlib.pyplot as plt\n",
        "%matplotlib inline\n",
        "import os\n",
        "from  scipy import ndimage\n",
        "import time\n",
        "import scipy\n",
        "from scipy.optimize import fmin\n",
        "IMAGES_FOLDER_PATH = \"../Data/Input\""
      ],
      "id": "K03lgFZ0E_Ij"
    },
    {
      "cell_type": "markdown",
      "metadata": {
        "id": "b0dmAWd2dn-Z"
      },
      "source": [
        "#### Quy trình"
      ],
      "id": "b0dmAWd2dn-Z"
    },
    {
      "cell_type": "markdown",
      "metadata": {
        "id": "e38a5169"
      },
      "source": [
        "![Global Matting](https://github.com/mhtn-it/6_APP_Project/blob/main/Data/Report/GlobalMatting.png?raw=true)"
      ],
      "id": "e38a5169"
    },
    {
      "cell_type": "markdown",
      "metadata": {
        "id": "BVUVz2wHFURg"
      },
      "source": [
        "#### Các ảnh Input"
      ],
      "id": "BVUVz2wHFURg"
    },
    {
      "cell_type": "markdown",
      "metadata": {
        "id": "W2L_Hj7mzFj5"
      },
      "source": [
        "Danh sách các input, bao gồm:\n",
        "- Ảnh gốc\n",
        "- Ảnh trimap\n",
        "- Ảnh background mới\n",
        "\n",
        "Lưu ý:\n",
        "- Ảnh grayscale được thêm vào để minh hoạ, người dùng không cần cung cấp.\n",
        "- Phương pháp tạo ảnh trimap nhóm đã tìm hiểu và làm thử nhưng chưa thành công nên tạm thời bỏ qua và sử dụng các trimap có sẵn.\n",
        "\n",
        "<img src='https://drive.google.com/uc?id=1ULspQFfkDyjg-WFZZnLmNRQCjKW1hhhJ'/>"
      ],
      "id": "W2L_Hj7mzFj5"
    },
    {
      "cell_type": "markdown",
      "metadata": {
        "id": "nSC5Oi892kZU"
      },
      "source": [
        "#### Phân tích ảnh input"
      ],
      "id": "nSC5Oi892kZU"
    },
    {
      "cell_type": "markdown",
      "metadata": {
        "id": "Q2Er-oan0Oya"
      },
      "source": [
        "Từ các ảnh input ta dùng hàm tính toán mask để phân tích ra được vùng/ảnh của foreground, background và unknown. Nguyên tắc: các pixel trên ảnh trimap sẽ là:\n",
        "- Background: nếu giá trị < 10.\n",
        "- Foreground: nếu giá trị > 245.\n",
        "- Unknown: còn lại\n",
        "\n",
        "<img align=\"justify\" src='https://drive.google.com/uc?id=1S36DiTkgMNj_aUYCNK8es4yvYu5dFmdA'/>\n"
      ],
      "id": "Q2Er-oan0Oya"
    },
    {
      "cell_type": "markdown",
      "metadata": {
        "id": "udibb7PL1UeY"
      },
      "source": [
        "Từ các vùng ở trên ta ghép:\n",
        "- F = foreground + unknown\n",
        "- B = background + unknown\n",
        "\n",
        "<img align=\"justify\" src='https://drive.google.com/uc?id=1_uwZGhYmlF76OxKPetgzvz8ed24asQEJ'/>\n"
      ],
      "id": "udibb7PL1UeY"
    },
    {
      "cell_type": "markdown",
      "metadata": {
        "id": "Gji8K6iOXjOS"
      },
      "source": [
        "#### Global Matting"
      ],
      "id": "Gji8K6iOXjOS"
    },
    {
      "cell_type": "markdown",
      "metadata": {
        "id": "8eoVDYYKXwC-"
      },
      "source": [
        "Phương trình Poisson:\n",
        "\n",
        "$$\\nabla I = (F - B)\\nabla \\alpha + \\alpha \\nabla F + (1 - \\alpha)\\nabla B$$\n",
        "\n",
        "Suy ra:\n",
        "\n",
        "$$\\Delta \\alpha = div (\\frac{\\nabla I}{F-B})$$\n",
        "trong đó, $\\Delta = (\\frac{\\partial^2}{\\partial x^2},\\frac{\\partial^2}{\\partial y^2})$\n",
        "là một toán tử Laplacian and toán tử vector div của Gradient ảnh input đối với hiệu của Foreground và Background.\n",
        "\n",
        "\n",
        "Phương trinh Poisson được giải bằng phương pháp ước lượng Gauss Siedel Iteration\n",
        "\n",
        "cho,  $$ \\frac{\\partial^2 f}{\\partial x^2}+\\frac{\\partial^2 f}{\\partial y^2} = S$$\n",
        "$$ {f_{i,j}}^{(n+1)} = \\frac{\\beta}{4}({f_{i+1,j}}^{(n)} + {f_{i-1,j}}^{(n+1)}) + {f_{i,j+1}}^{(n)} + {f_{i,j-1}}^{(n+1)} - S_{i,j}) + (1-\\beta){f_{i,j}}^{(n)}$$\n",
        "với $\\beta$ nằm trong đoạn (1,2)\n",
        "\n",
        "Tìm hiểu thêm về phương trình Poisson [tại đây](https://www.microsoft.com/en-us/research/wp-content/uploads/2016/02/poissonmatting_siggraph04.pdf)..\n"
      ],
      "id": "8eoVDYYKXwC-"
    },
    {
      "cell_type": "markdown",
      "metadata": {
        "id": "68044668"
      },
      "source": [
        "Lý do sử dụng Phương trình Poisson:\n",
        "\n",
        "Poisson là một phương pháp tổng quát dùng để mô tả hành vi của các đại lượng ví dụ như hướng thế năng điện, trọng lực, chất lỏng. Áp dụng với bài toán này ta có thể mô tả xu hướng gradient của các pixel. Khi đó việc giải phương trình (tìm alpha) có thể xác định được độ mờ của pixel đó để biết nó có xu hướng nghiêng về background hay foreground."
      ],
      "id": "68044668"
    },
    {
      "cell_type": "markdown",
      "metadata": {
        "id": "0coi3EVq2sks"
      },
      "source": [
        "Sau khi áp dụng phương pháp trên ta được một mảng numpy chứa các giá trị alpha dùng để ghép với nền mới. Ta có thể xem alpha nhưng một hệ số làm mờ.\n",
        "\n",
        "<img src='https://drive.google.com/uc?id=1up3_IVpNZRzD-mziEwlr2M-Kjn_Xrh-4'/>\n"
      ],
      "id": "0coi3EVq2sks"
    },
    {
      "cell_type": "markdown",
      "metadata": {
        "id": "gPmiELGbSLK1"
      },
      "source": [
        "#### Alpha Blending"
      ],
      "id": "gPmiELGbSLK1"
    },
    {
      "cell_type": "markdown",
      "metadata": {
        "id": "zb1jK7PhSQaz"
      },
      "source": [
        "Tiến hành blending mảng alpha global matting ở trên với hình nên mới để được kết quả.\n",
        "\n",
        "<img src='https://drive.google.com/uc?id=1O9bYFhq6t6jfgrDaqglRTurH8NZt8xSm'/>"
      ],
      "id": "zb1jK7PhSQaz"
    },
    {
      "cell_type": "markdown",
      "metadata": {
        "id": "5IvaMvJwwEc7"
      },
      "source": [
        "#### Local Matting"
      ],
      "id": "5IvaMvJwwEc7"
    },
    {
      "cell_type": "markdown",
      "metadata": {
        "id": "SjszXVFSumcJ"
      },
      "source": [
        "Người dùng sẽ quan sát ảnh sau khi dùng Global Matting và đánh dấu những điểm ROI (Region of Interest - Những khu vực mong muốn được cải thiện hơn) sau đó chương trình sẽ chạy Local Matting trên khu vực này để cải thiện chất lượng hình ảnh.\n",
        "Local Matting cũng chính là Global Matting nhưng trên một khu vực nhỏ hơn."
      ],
      "id": "SjszXVFSumcJ"
    },
    {
      "cell_type": "markdown",
      "metadata": {
        "id": "xZ6ABfecw6-m"
      },
      "source": [
        "Ví dụ, với hình ở trên ta chọn 2 khu vực có chỉ số như sau:\n",
        "- top, bottom, left, right = [347, 475, 130, 195]\n",
        "- top, bottom, left, right = [367, 480, 386, 439]\n",
        "\n",
        "\n",
        "<img src='https://drive.google.com/uc?id=1s3DTgKOwGPqLOCmo_oZV0XncFOdW5Xfz'/>"
      ],
      "id": "xZ6ABfecw6-m"
    },
    {
      "cell_type": "markdown",
      "metadata": {
        "id": "W6lSqCoIzZW_"
      },
      "source": [
        "Local matte và ảnh kết quả sau khi blending:\n",
        "\n",
        "<img src=\"https://drive.google.com/uc?id=1St6RIQp6ztso5_k6gOSkqhCEmT_narm_\"/>\n",
        "\n"
      ],
      "id": "W6lSqCoIzZW_"
    },
    {
      "cell_type": "markdown",
      "metadata": {
        "id": "pyT-B9W81oTZ"
      },
      "source": [
        "Hiện tại nhóm đang tự quan sát và set cứng các giá trị ROI trong file code. Nhóm kì vọng cuối đồ án sẽ thực hiện để xử lý qua tham số dòng lệnh để thực tế hơn.\n",
        "\n",
        "Quy trình dự định:\n",
        "- In ra ảnh từ global matting\n",
        "- Người dùng nhập vào danh sách những khu vực muốn chỉnh sửa\n",
        "- In ra kết quả sau khi local matting"
      ],
      "id": "pyT-B9W81oTZ"
    },
    {
      "cell_type": "markdown",
      "metadata": {
        "id": "Cad4rVT6eB8e"
      },
      "source": [
        "#### Thực hiện"
      ],
      "id": "Cad4rVT6eB8e"
    },
    {
      "cell_type": "markdown",
      "metadata": {
        "id": "8-9xInPc2OLm"
      },
      "source": [
        "Hiện tại để tiện kiểm tra thì nhóm set cứng giá trị input (ảnh gốc, trimap, background) tương tự như phần trình bày phía trên của notebook. Sau này dự kiến sẽ chuyển qua dùng tham số dòng lệnh."
      ],
      "id": "8-9xInPc2OLm"
    },
    {
      "cell_type": "markdown",
      "metadata": {
        "id": "JkqIX8Wl2Far"
      },
      "source": [
        "Thực thi với Python thuần (thời gian xử lý với 1 ảnh):"
      ],
      "id": "JkqIX8Wl2Far"
    },
    {
      "cell_type": "code",
      "execution_count": null,
      "metadata": {
        "colab": {
          "base_uri": "https://localhost:8080/"
        },
        "id": "FJhcQ3DmlffA",
        "outputId": "9f8f9a2e-e2d1-4e0d-db67-43618ff5cea0"
      },
      "outputs": [
        {
          "name": "stdout",
          "output_type": "stream",
          "text": [
            "====SUCCESS GLOBAL MATTING====\n",
            "====SUCCESS LOCAL MATTING====\n",
            "CPU times: user 136 ms, sys: 33.7 ms, total: 170 ms\n",
            "Wall time: 23.5 s\n"
          ]
        }
      ],
      "source": [
        "%%time\n",
        "!python3 sequential.py"
      ],
      "id": "FJhcQ3DmlffA"
    },
    {
      "cell_type": "markdown",
      "metadata": {
        "id": "nm8yt98vGuvM"
      },
      "source": [
        "Thực thi tuần tự với Numba jit. Phần sử dụng git:\n",
        "- Hàm `global_alpha_matting`: hàm chạy phương pháp Gauss Siedel để tìm ra alpha phù hợp.\n",
        "\n",
        "Những phần sử dụng thư viện có sẵn:\n",
        "- Numpy: các phương thức `gradient`, `maximum`, `minimun`...; các phép toán nhân, cộng ma trận\n",
        "- OpenCV: đọc ảnh, lưu ảnh, chuyển ảnh sang grayscale, RGB\n",
        "\n",
        "> Nhóm đã có thử cài đặt để dùng jit với các hàm trên nhưng thấy tốc độ giảm không đáng kể (< 0.5s hoặc đôi khi chậm hơn) nên quyết định không jit nữa"
      ],
      "id": "nm8yt98vGuvM"
    },
    {
      "cell_type": "code",
      "execution_count": null,
      "metadata": {
        "colab": {
          "base_uri": "https://localhost:8080/"
        },
        "id": "cqsdKd-QjW2r",
        "outputId": "3871d191-be04-4b91-d3e8-174a2d6a9c9a"
      },
      "outputs": [
        {
          "name": "stdout",
          "output_type": "stream",
          "text": [
            "====SUCCESS GLOBAL MATTING====\n",
            "====SUCCESS LOCAL MATTING====\n",
            "CPU times: user 31.4 ms, sys: 5.8 ms, total: 37.2 ms\n",
            "Wall time: 2.73 s\n"
          ]
        }
      ],
      "source": [
        "%%time\n",
        "!python3 sequential_jit.py"
      ],
      "id": "cqsdKd-QjW2r"
    },
    {
      "cell_type": "markdown",
      "metadata": {
        "id": "nnh47mIp7Zfy"
      },
      "source": [
        "### Thực thi song song"
      ],
      "id": "nnh47mIp7Zfy"
    },
    {
      "cell_type": "markdown",
      "source": [
        "Phần thực hiện song song: Bước tính toán alpha nằm trong hàm `global_alpha_matting`.\n",
        "\n",
        "Ý tưởng của hàm `global_alpha_matting`:\n",
        "  \n",
        "    Parameters:\n",
        "    alpha: giá trị xấp xỉ của alpha\n",
        "    d2alpha: tổng đạo hàm riêng bậc 2 của alpha theo X và Y\n",
        "    unknown_seg: mảng munby đại diện cho vùng chưa xác định rõ\n",
        "    iters: số lần chạy của phương pháp ước lượng Gauss Siedel\n",
        "    threshold: ngưỡng cho sự thay đổi sau mỗi lần chạy. Nếu dưới ngưỡng thì phương trình sẽ dừng lại\n",
        "    beta: nhân tử beta của phương pháp ước lượng Gauss Siedel\n",
        "\n",
        "    Return:\n",
        "    Mảng numpy đại diện cho chỉ số matte đã được tạo\n",
        "\n",
        "- Bước đầu gán prev_alpha: 1 ma trận toàn số 0\n",
        "- Tính toán sai khác giữa prev_alpha và alpha\n",
        "- Đi vào vòng lặp với số lần lặp là iters\n",
        "  - Tính độ khác biệt giữa prev_alpha và alpha\n",
        "  - Chạy 2 vòng lặp for lần lượt duyệt qua từng pixel của alpha\n",
        "  - Tính lại giá trị của từng pixel theo công thức từ beta, alpha, pre_alpha, d2alpha (*)\n",
        "\n",
        "=> Nhóm lựa chọn song song phần (*) ở trên bằng cách: chia cho mỗi thread đảm nhận các pixel để tính lại giá trị của alpha."
      ],
      "metadata": {
        "id": "uxSUH2yzVX62"
      },
      "id": "uxSUH2yzVX62"
    },
    {
      "cell_type": "code",
      "execution_count": null,
      "metadata": {
        "colab": {
          "base_uri": "https://localhost:8080/"
        },
        "id": "CwbzFwXK7c3i",
        "outputId": "d07aac7e-33fa-4875-f21b-f6c6c921a949"
      },
      "outputs": [
        {
          "output_type": "stream",
          "name": "stdout",
          "text": [
            "====SUCCESS GLOBAL MATTING====\n",
            "Traceback (most recent call last):\n",
            "  File \"parallel_v1.py\", line 285, in <module>\n",
            "    local_matte[top:bottom+1, left:right+1] = local_matting(all_data_2, top, bottom, left, right)\n",
            "  File \"parallel_v1.py\", line 256, in local_matting\n",
            "    print(required_alpha.shape())\n",
            "TypeError: 'tuple' object is not callable\n",
            "CPU times: user 264 ms, sys: 47.2 ms, total: 312 ms\n",
            "Wall time: 52.5 s\n"
          ]
        }
      ],
      "source": [
        "%%time\n",
        "!python3 parallel_v1.py"
      ],
      "id": "CwbzFwXK7c3i"
    },
    {
      "cell_type": "markdown",
      "source": [
        "So sánh độ chính xác:"
      ],
      "metadata": {
        "id": "v21hUE96ZhTz"
      },
      "id": "v21hUE96ZhTz"
    },
    {
      "cell_type": "code",
      "source": [
        "img_seq = cv2.imread(os.path.join(IMAGES_FOLDER_PATH, '../Output/output_4_global_jit.png'))\n",
        "img_seq = cv2.cvtColor(img_seq, cv2.COLOR_BGR2RGB)\n",
        "img_par = cv2.imread(os.path.join(IMAGES_FOLDER_PATH, '../Output/output_4_global_parallel.png'))\n",
        "img_par = cv2.cvtColor(img_par, cv2.COLOR_BGR2RGB)\n",
        "errorL2 = cv2.norm(img_seq, img_par, cv2.NORM_L2)\n",
        "similarity = 1 - errorL2 / ( img_seq.shape[0] * img_seq.shape[1] )\n",
        "print('Similarity = ',similarity)"
      ],
      "metadata": {
        "colab": {
          "base_uri": "https://localhost:8080/"
        },
        "id": "37wvCAGYZkfr",
        "outputId": "2543f93d-a9a8-431f-c77e-5e81459d87b8"
      },
      "id": "37wvCAGYZkfr",
      "execution_count": null,
      "outputs": [
        {
          "output_type": "stream",
          "name": "stdout",
          "text": [
            "Similarity =  1.0\n"
          ]
        }
      ]
    },
    {
      "cell_type": "markdown",
      "source": [
        "### Đánh giá"
      ],
      "metadata": {
        "id": "Ppl5lBZmUsI0"
      },
      "id": "Ppl5lBZmUsI0"
    },
    {
      "cell_type": "markdown",
      "source": [
        "Các kết quả thử nghiệm của nhóm đến thời điểm hiện tại:\n",
        "\n",
        "\n",
        "**Về mặt độ chính xác:** Ảnh từ các phiên bản cho ra kết quả giống nhau.\n",
        "\n",
        "**Về mặt thời gian:**\n",
        "\n",
        "Chỉ dùng Global Matting:\n",
        "- Python dùng thư viện: 23.6s\n",
        "- Python thuần dùng jit: 1.53s\n",
        "- Song song với cuda.jit: 54s\n",
        "\n",
        "Sử dụng cả Global và Local Matting:\n",
        "- Python dùng thư viện: 23.5s\n",
        "- Python thuần dùng jit: 2.73s\n",
        "- Song song với cuda.jit: Bị lỗi truy xuất vùng nhớ không liên tục\n"
      ],
      "metadata": {
        "id": "04ONOM5sUvoK"
      },
      "id": "04ONOM5sUvoK"
    },
    {
      "cell_type": "markdown",
      "source": [
        "Giải thích các vấn đề gặp phải:\n",
        "- Phần Global bị tốn thời gian: Do chạy vòng lặp với `iters = 50` nên dữ liệu bị chuyển qua chuyển lại giữa device và host nhiều lần => mất thời gian \n",
        "\n",
        "=> Nhóm sẽ thay đổi bằng cách cố gắng thực hiện toàn bộ hàm trên cùng 1 bên, hoặc sử dụng SMEM\n",
        "- Phần Local chưa thực hiện được: Do quá trình dùng local thì sẽ trích xuất 1 phần nhỏ của toàn bộ ảnh để xử lý. Nhóm dự đoán bị lỗi trong quá trình trích mảng này."
      ],
      "metadata": {
        "id": "KpcCn8-tXosk"
      },
      "id": "KpcCn8-tXosk"
    },
    {
      "cell_type": "markdown",
      "metadata": {
        "id": "1gG_KmKD3-8w"
      },
      "source": [
        "### **Dự định của nhóm sắp tới**"
      ],
      "id": "1gG_KmKD3-8w"
    },
    {
      "cell_type": "markdown",
      "metadata": {
        "id": "Auk5rqADJJJP"
      },
      "source": [
        "- Tìm hiểu thêm về trimap\n",
        "- Cải tiến lại phần song song hoá `global matting`\n",
        "- Song song hoá phần `local matting`\n",
        "- Thêm các phiên bản cải tiến bằng việc sử dụng SMEM"
      ],
      "id": "Auk5rqADJJJP"
    },
    {
      "cell_type": "markdown",
      "metadata": {
        "id": "337c34ef"
      },
      "source": [
        "## Nhìn lại quá trình làm đồ án"
      ],
      "id": "337c34ef"
    },
    {
      "cell_type": "markdown",
      "metadata": {
        "id": "72079acf"
      },
      "source": [
        "**1712898 - Nguyễn Văn Hậu**\n",
        "- Khó khăn\n",
        "    + \n",
        "    + \n",
        "    + \n",
        "- Học được:\n",
        "    + \n",
        "    + "
      ],
      "id": "72079acf"
    },
    {
      "cell_type": "markdown",
      "metadata": {
        "id": "UGW49RWY73cE"
      },
      "source": [
        "**18120181 - Nguyễn Thị Cẩm Hồng**\n",
        "- Khó khăn\n",
        "    + \n",
        "    + \n",
        "    + \n",
        "- Học được:\n",
        "    + \n",
        "    + "
      ],
      "id": "UGW49RWY73cE"
    },
    {
      "cell_type": "markdown",
      "metadata": {
        "id": "2915e3fe"
      },
      "source": [
        "**18120216 - Mai Huỳnh Trung Nguyên**\n",
        "- Khó khăn\n",
        "    + \n",
        "    + \n",
        "    + \n",
        "- Học được:\n",
        "    + \n",
        "    + \n",
        "    + "
      ],
      "id": "2915e3fe"
    },
    {
      "cell_type": "markdown",
      "metadata": {
        "id": "BMPUTSuak3RI"
      },
      "source": [
        "**Nhóm**: \n",
        "- Khó khăn:\n",
        "  + \n",
        "  + \n",
        "  + \n",
        "- Do đó, nếu có thêm thời gian nhóm sẽ cố gắng thực hiện:\n",
        "  + \n",
        "  + \n",
        "  + \n"
      ],
      "id": "BMPUTSuak3RI"
    },
    {
      "cell_type": "markdown",
      "metadata": {
        "id": "4ae45e1e"
      },
      "source": [
        "## Tài liệu tham khảo"
      ],
      "id": "4ae45e1e"
    },
    {
      "cell_type": "markdown",
      "metadata": {
        "id": "9701b2bd"
      },
      "source": [
        "- Project: Poisson Matting, [github](https://github.com/avani17101/Poisson-Matting).\n",
        "- Paper: Poisson Matting của Juan Sun, Jiaya Jia, Chi-Keung Tang, Heung-Yeung Shum, [paper](http://www.cse.cuhk.edu.hk/~leojia/all_final_papers/matting_siggraph04.pdf)"
      ],
      "id": "9701b2bd"
    }
  ],
  "metadata": {
    "accelerator": "GPU",
    "colab": {
      "collapsed_sections": [
        "oLXvSmx5DZYw",
        "b5K1puaqDdv5",
        "l3dgxz-YF3eu",
        "wOp0huxak_ou",
        "i5EKrc0mktgd",
        "H1bC5hm6mQvm",
        "b0dmAWd2dn-Z",
        "Cad4rVT6eB8e",
        "BVUVz2wHFURg",
        "Gji8K6iOXjOS",
        "iO3HfyUtA42z",
        "lmcoZxhdDEc8",
        "337c34ef",
        "4ae45e1e"
      ],
      "name": "Report.ipynb",
      "toc_visible": true,
      "provenance": []
    },
    "kernelspec": {
      "display_name": "Python 3 (ipykernel)",
      "language": "python",
      "name": "python3"
    },
    "language_info": {
      "codemirror_mode": {
        "name": "ipython",
        "version": 3
      },
      "file_extension": ".py",
      "mimetype": "text/x-python",
      "name": "python",
      "nbconvert_exporter": "python",
      "pygments_lexer": "ipython3",
      "version": "3.8.8"
    },
    "toc": {
      "base_numbering": 1,
      "nav_menu": {},
      "number_sections": true,
      "sideBar": true,
      "skip_h1_title": false,
      "title_cell": "Table of Contents",
      "title_sidebar": "Contents",
      "toc_cell": false,
      "toc_position": {},
      "toc_section_display": true,
      "toc_window_display": false
    }
  },
  "nbformat": 4,
  "nbformat_minor": 5
}