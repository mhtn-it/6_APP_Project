{
  "cells": [
    {
      "cell_type": "markdown",
      "metadata": {
        "id": "view-in-github"
      },
      "source": [
        "<a href=\"https://colab.research.google.com/github/mhtn-it/6_APP_Project/blob/main/Report.ipynb\" target=\"_parent\"><img src=\"https://colab.research.google.com/assets/colab-badge.svg\" alt=\"Open In Colab\"/></a>"
      ],
      "id": "view-in-github"
    },
    {
      "cell_type": "markdown",
      "metadata": {
        "id": "5b2dcf7c"
      },
      "source": [
        "# Đồ án môn Lập trình song song ứng dụng\n",
        "**Giảng viên hướng dẫn: Thầy Trần Trung Kiên**\n",
        "\n",
        "## Thông tin nhóm\n",
        "### STT: Nhóm 6\n",
        "\n",
        "### Thành viên:\n",
        "1. 1712258 - Nguyễn Văn Hậu - [kenneth-nguyenn](https://github.com/kenneth-nguyenn)\n",
        "2. 18120181 - Nguyễn Thị Cẩm Hồng - [chnhgr](https://github.com/chnhgr)\n",
        "3. 18120216 - Mai Huỳnh Trung Nguyên - [mhtn-it](https://github.com/mhtn-it)\n",
        "\n",
        "### Tài liệu của nhóm\n",
        "- Link thùng chứa Github của nhóm: [Github](https://github.com/mhtn-it/6_APP_Project)\n",
        "- Kế hoạch nhóm, phân chia công việc: [Google Sheet](https://docs.google.com/spreadsheets/d/1lNRWbRRnsN0L1bEBLm2tHkauJC2jS9DPZiZfhLQ9Av8/edit?usp=sharing)\n",
        "- Link Colab thực thi: [Google Colab](https://colab.research.google.com/github/mhtn-it/6_APP_Project/blob/main/Report.ipynb)"
      ],
      "id": "5b2dcf7c"
    },
    {
      "cell_type": "markdown",
      "metadata": {
        "id": "2f93d974"
      },
      "source": [
        "## **1. Mô tả ứng dụng:** "
      ],
      "id": "2f93d974"
    },
    {
      "cell_type": "markdown",
      "metadata": {
        "id": "oLXvSmx5DZYw"
      },
      "source": [
        "### **1.1. Mô tả tổng quan:**"
      ],
      "id": "oLXvSmx5DZYw"
    },
    {
      "cell_type": "markdown",
      "metadata": {
        "id": "dc0bf646"
      },
      "source": [
        "**Đề tài**: Thay đổi background ảnh dựa vào phương pháp Poisson Matting\n",
        "\n",
        "**Input**: \n",
        "- Một bức ảnh chân dung\n",
        "- Trimap của ảnh (được tạo từ một bài toán khác)\n",
        "- Ảnh nền mới mong muốn\n",
        "\n",
        "**Output**: \n",
        "- Ảnh đã được thay đổi nền\n",
        "\n",
        "**Ý nghĩa thực tế của ứng dụng**:\n",
        "- Thay đổi background của ảnh khi cần thiết, ví dụ trong các trường hợp như ảnh kỷ niệm, ảnh thẻ, trang trí...\n",
        "- Áp dụng trên các phần mềm chỉnh sửa ảnh, trang web chỉnh sửa ảnh online\n",
        "- Là một phần xử lý của quy trình đổi nền của video\n",
        "\n",
        "**Lý do cần tăng tốc**: \n",
        "- Toàn bộ quá trình xử lý để cho ra một bức ảnh đúng và chính xác có thể mất đến vài phút (giảm trải nghiệm người dùng)\n",
        "- Khi xử lý hàng loạt, số lượng lớn thì thời gian sẽ rất lâu\n",
        "- Nếu áp dụng cho đổi nền video thì cần có tốc độ nhanh"
      ],
      "id": "dc0bf646"
    },
    {
      "cell_type": "markdown",
      "metadata": {
        "id": "b5K1puaqDdv5"
      },
      "source": [
        "### **1.2. Ý tưởng chính của bài toán:**"
      ],
      "id": "b5K1puaqDdv5"
    },
    {
      "cell_type": "markdown",
      "metadata": {
        "id": "bZZzeO5EEBlQ"
      },
      "source": [
        "Từ hình ảnh gốc, trimap, ảnh nền mới ứng dụng sử dụng các biện pháp phủ (matting) và pha trộn (blending) để ghép ảnh chân dung background mới.\n",
        "\n",
        "<img src='https://drive.google.com/uc?id=1rpQhdF5U7Y2LTdbPb9pLc-i6dJ2IS3zC'/>\n",
        "\n",
        "Qua nhiều phương pháp cải thiện thì foreground ngày càng chính xác với đối tượng của mình.\n",
        "\n",
        "<img src='https://drive.google.com/uc?id=1sdEYodB2lyyb_FROl5okKbeavDmTJJLr'/>"
      ],
      "id": "bZZzeO5EEBlQ"
    },
    {
      "cell_type": "markdown",
      "source": [
        "*Nguồn ảnh: từ Github [1] nhóm tham khảo*"
      ],
      "metadata": {
        "id": "Dwae-bv7aoBf"
      },
      "id": "Dwae-bv7aoBf"
    },
    {
      "cell_type": "markdown",
      "metadata": {
        "id": "l3dgxz-YF3eu"
      },
      "source": [
        "### **1.3. Phần nhóm dự định song song hoá:**"
      ],
      "id": "l3dgxz-YF3eu"
    },
    {
      "cell_type": "markdown",
      "metadata": {
        "id": "5Df1RKJYF71Z"
      },
      "source": [
        "Nhóm nhận thấy việc xử lý ảnh có thể song song hoá bằng cách chia nhỏ công việc cho từng pixel. Do đó nhóm dự định sẽ lựa chọn bước: Thao tác Global Matting dùng để tính giá trị alpha cho việc blending ảnh."
      ],
      "id": "5Df1RKJYF71Z"
    },
    {
      "cell_type": "markdown",
      "metadata": {
        "id": "wOp0huxak_ou"
      },
      "source": [
        "## **2. Phần bổ trợ**"
      ],
      "id": "wOp0huxak_ou"
    },
    {
      "cell_type": "markdown",
      "metadata": {
        "id": "PEmpHqajIEk5"
      },
      "source": [
        "Phần này dùng để tạo cách hàm bổ trợ cho việc thực hiện trên Google Colab. Bao gồm: liên kết Google Colab với Drive, kiểm tra thông tin GPU, chuyển thư mục làm việc về thư mục `Code`, Import thư viện."
      ],
      "id": "PEmpHqajIEk5"
    },
    {
      "cell_type": "markdown",
      "metadata": {
        "id": "H1bC5hm6mQvm"
      },
      "source": [
        "Kiểm tra thông tin GPU"
      ],
      "id": "H1bC5hm6mQvm"
    },
    {
      "cell_type": "code",
      "execution_count": 1,
      "metadata": {
        "colab": {
          "base_uri": "https://localhost:8080/"
        },
        "id": "AdRpZ_-enDEF",
        "outputId": "20df7cd7-61a0-4438-8f76-047bdddd2ce5"
      },
      "outputs": [
        {
          "output_type": "stream",
          "name": "stdout",
          "text": [
            "Found 1 CUDA devices\n",
            "id 0             b'Tesla T4'                              [SUPPORTED]\n",
            "                      compute capability: 7.5\n",
            "                           pci device id: 4\n",
            "                              pci bus id: 0\n",
            "Summary:\n",
            "\t1/1 devices are supported\n"
          ]
        },
        {
          "output_type": "execute_result",
          "data": {
            "text/plain": [
              "True"
            ]
          },
          "metadata": {},
          "execution_count": 1
        }
      ],
      "source": [
        "from numba import jit, prange, cuda\n",
        "cuda.detect()"
      ],
      "id": "AdRpZ_-enDEF"
    },
    {
      "cell_type": "markdown",
      "metadata": {
        "id": "i5EKrc0mktgd"
      },
      "source": [
        "Liên kết colab với Google Drive để tiết kiệm thời gian load dữ liệu."
      ],
      "id": "i5EKrc0mktgd"
    },
    {
      "cell_type": "code",
      "execution_count": 2,
      "metadata": {
        "colab": {
          "base_uri": "https://localhost:8080/"
        },
        "id": "tbt9_dp8i5xZ",
        "outputId": "62333d8c-8576-44b7-9b54-b6003e5f81fc"
      },
      "outputs": [
        {
          "output_type": "stream",
          "name": "stdout",
          "text": [
            "Mounted at /content/drive\n"
          ]
        }
      ],
      "source": [
        "from google.colab import drive\n",
        "drive.mount('/content/drive')"
      ],
      "id": "tbt9_dp8i5xZ"
    },
    {
      "cell_type": "markdown",
      "metadata": {
        "id": "2h7pJoi_Cvzi"
      },
      "source": [
        "Chuyển vị trí thực thi về thư mục Code"
      ],
      "id": "2h7pJoi_Cvzi"
    },
    {
      "cell_type": "code",
      "execution_count": 3,
      "metadata": {
        "colab": {
          "base_uri": "https://localhost:8080/"
        },
        "id": "8jWSCrAhDlKO",
        "outputId": "bcd1b483-8c1b-41e9-c1b3-258254e88007"
      },
      "outputs": [
        {
          "output_type": "stream",
          "name": "stdout",
          "text": [
            "/content/drive/.shortcut-targets-by-id/1bDjdUTDdbr1EV_9VxSVIOGB60OutJlZi/6_APP_Project/Code\n"
          ]
        }
      ],
      "source": [
        "cd drive/MyDrive/6_APP_Project/Code"
      ],
      "id": "8jWSCrAhDlKO"
    },
    {
      "cell_type": "markdown",
      "metadata": {
        "id": "dnYjgIyOD2mj"
      },
      "source": [
        "Import thư viện"
      ],
      "id": "dnYjgIyOD2mj"
    },
    {
      "cell_type": "code",
      "execution_count": 4,
      "metadata": {
        "id": "K03lgFZ0E_Ij"
      },
      "outputs": [],
      "source": [
        "import numpy as np\n",
        "import cv2\n",
        "import matplotlib.pyplot as plt\n",
        "%matplotlib inline\n",
        "import os\n",
        "from  scipy import ndimage\n",
        "import time\n",
        "import scipy\n",
        "from scipy.optimize import fmin\n",
        "IMAGES_FOLDER_PATH = \"../Data/Input\""
      ],
      "id": "K03lgFZ0E_Ij"
    },
    {
      "cell_type": "markdown",
      "metadata": {
        "id": "sbFNliCqCh29"
      },
      "source": [
        "## **3. Cài đặt tuần tự**"
      ],
      "id": "sbFNliCqCh29"
    },
    {
      "cell_type": "markdown",
      "metadata": {
        "id": "b0dmAWd2dn-Z"
      },
      "source": [
        "### **3.1. Thiết kế:**"
      ],
      "id": "b0dmAWd2dn-Z"
    },
    {
      "cell_type": "markdown",
      "source": [
        "#### 3.1.1. Quy trình tổng quan:"
      ],
      "metadata": {
        "id": "u9pwjoyoUipw"
      },
      "id": "u9pwjoyoUipw"
    },
    {
      "cell_type": "markdown",
      "metadata": {
        "id": "e38a5169"
      },
      "source": [
        "<img src='https://drive.google.com/uc?id=1PF-AdVz4KhFx2CmqpLdORmRBVEBED-xM'/>"
      ],
      "id": "e38a5169"
    },
    {
      "cell_type": "markdown",
      "source": [
        "<img src='https://drive.google.com/uc?id=1hnm-vuha0rYrlHrgK_rvJpSoMKYrKvZm'/>"
      ],
      "metadata": {
        "id": "Vs6tsDKQUrWy"
      },
      "id": "Vs6tsDKQUrWy"
    },
    {
      "cell_type": "markdown",
      "source": [
        "<img src='https://drive.google.com/uc?id=1-FVmGkJIPUqEdUIRy12vYyyZP7MZVkM_'/>"
      ],
      "metadata": {
        "id": "iFtrYWEpUsvA"
      },
      "id": "iFtrYWEpUsvA"
    },
    {
      "cell_type": "markdown",
      "source": [
        "<img src='https://drive.google.com/uc?id=1qY_tqmHLIExD4IJWn3uVjaCKoRSOdRJW'/>"
      ],
      "metadata": {
        "id": "o4o8toyNUgGL"
      },
      "id": "o4o8toyNUgGL"
    },
    {
      "cell_type": "markdown",
      "metadata": {
        "id": "BVUVz2wHFURg"
      },
      "source": [
        "#### 3.1.2. Các ảnh Input:"
      ],
      "id": "BVUVz2wHFURg"
    },
    {
      "cell_type": "markdown",
      "metadata": {
        "id": "W2L_Hj7mzFj5"
      },
      "source": [
        "Danh sách các input, bao gồm:\n",
        "- Ảnh gốc\n",
        "- Ảnh trimap\n",
        "- Ảnh background mới\n",
        "\n",
        "*Các ảnh có kích thước là 480x640 pixels*\n",
        "\n",
        "Lưu ý:\n",
        "- Ảnh grayscale được thêm vào để minh hoạ, người dùng không cần cung cấp.\n",
        "- Phương pháp tạo ảnh trimap nhóm đã tìm hiểu, làm thử nhưng chưa thành công và mất nhiều thời gian của nhóm. Do đó nhóm sử dụng các trimap có sẵn. Đưa việc tạo ra trimap sang một bài toán khác.\n",
        "\n",
        "<img src='https://drive.google.com/uc?id=1ULspQFfkDyjg-WFZZnLmNRQCjKW1hhhJ'/>"
      ],
      "id": "W2L_Hj7mzFj5"
    },
    {
      "cell_type": "markdown",
      "metadata": {
        "id": "nSC5Oi892kZU"
      },
      "source": [
        "#### 3.1.3. Phân tích ảnh input:"
      ],
      "id": "nSC5Oi892kZU"
    },
    {
      "cell_type": "markdown",
      "metadata": {
        "id": "Q2Er-oan0Oya"
      },
      "source": [
        "Từ các ảnh input ta dùng hàm tính toán mask để phân tích ra được vùng/ảnh của foreground, background và unknown. Nguyên tắc: các pixel trên ảnh trimap sẽ là:\n",
        "- Background: nếu giá trị < 10.\n",
        "- Foreground: nếu giá trị > 245.\n",
        "- Unknown: còn lại\n",
        "\n",
        "<img align=\"justify\" src='https://drive.google.com/uc?id=1S36DiTkgMNj_aUYCNK8es4yvYu5dFmdA'/>\n"
      ],
      "id": "Q2Er-oan0Oya"
    },
    {
      "cell_type": "markdown",
      "metadata": {
        "id": "udibb7PL1UeY"
      },
      "source": [
        "Từ các vùng ở trên ta ghép:\n",
        "- F = foreground + unknown\n",
        "- B = background + unknown\n",
        "\n",
        "<img align=\"justify\" src='https://drive.google.com/uc?id=1_uwZGhYmlF76OxKPetgzvz8ed24asQEJ'/>\n"
      ],
      "id": "udibb7PL1UeY"
    },
    {
      "cell_type": "markdown",
      "metadata": {
        "id": "Gji8K6iOXjOS"
      },
      "source": [
        "#### 3.1.4. Global Matting:"
      ],
      "id": "Gji8K6iOXjOS"
    },
    {
      "cell_type": "markdown",
      "metadata": {
        "id": "8eoVDYYKXwC-"
      },
      "source": [
        "**Phương trình Poisson:**\n",
        "\n",
        "$$\\nabla I = (F - B)\\nabla \\alpha + \\alpha \\nabla F + (1 - \\alpha)\\nabla B$$\n",
        "\n",
        "Suy ra:\n",
        "\n",
        "$$\\Delta \\alpha = div (\\frac{\\nabla I}{F-B})$$\n",
        "trong đó, $\\Delta = (\\frac{\\partial^2}{\\partial x^2},\\frac{\\partial^2}{\\partial y^2})$\n",
        "là một toán tử Laplacian and toán tử vector div của Gradient ảnh input đối với hiệu của Foreground và Background.\n",
        "\n",
        "\n",
        "Phương trinh Poisson được giải bằng phương pháp ước lượng Gauss Siedel Iteration\n",
        "\n",
        "cho,  $$ \\frac{\\partial^2 f}{\\partial x^2}+\\frac{\\partial^2 f}{\\partial y^2} = S$$\n",
        "$$ {f_{i,j}}^{(n+1)} = \\frac{\\beta}{4}({f_{i+1,j}}^{(n)} + {f_{i-1,j}}^{(n+1)} + {f_{i,j+1}}^{(n)} + {f_{i,j-1}}^{(n+1)} - S_{i,j}) + (1-\\beta){f_{i,j}}^{(n)}$$\n",
        "với $\\beta$ nằm trong đoạn (1,2)\n",
        "\n",
        "Nhóm hiện thực công thức trên bằng các hàm python để tính toán.\n",
        "\n",
        "Tìm hiểu thêm về phương trình Poisson [tại đây](https://www.microsoft.com/en-us/research/wp-content/uploads/2016/02/poissonmatting_siggraph04.pdf)..\n"
      ],
      "id": "8eoVDYYKXwC-"
    },
    {
      "cell_type": "markdown",
      "metadata": {
        "id": "68044668"
      },
      "source": [
        "**Lý do sử dụng Phương trình Poisson:**\n",
        "\n",
        "Poisson là một phương pháp tổng quát dùng để mô tả hành vi của các đại lượng ví dụ như hướng thế năng điện, trọng lực, chất lỏng. Áp dụng với bài toán này ta có thể mô tả xu hướng gradient của các pixel. Khi đó việc giải phương trình (tìm alpha) có thể xác định được độ mờ của pixel đó để biết nó có xu hướng nghiêng về background hay foreground."
      ],
      "id": "68044668"
    },
    {
      "cell_type": "markdown",
      "metadata": {
        "id": "0coi3EVq2sks"
      },
      "source": [
        "Sau khi áp dụng phương pháp trên ta được một mảng numpy chứa các giá trị alpha dùng để ghép với nền mới. Ta có thể xem alpha nhưng một hệ số làm mờ. Ở công thức phía trên `f` chính là hệ số `alpha` mà ta cần tìm. \n",
        "\n",
        "<img src='https://drive.google.com/uc?id=1up3_IVpNZRzD-mziEwlr2M-Kjn_Xrh-4'/>\n"
      ],
      "id": "0coi3EVq2sks"
    },
    {
      "cell_type": "markdown",
      "metadata": {
        "id": "gPmiELGbSLK1"
      },
      "source": [
        "#### 3.1.5. Alpha Blending:"
      ],
      "id": "gPmiELGbSLK1"
    },
    {
      "cell_type": "markdown",
      "source": [
        "**Công thức tổng quan Bleding:**\n",
        "\n",
        "Với mỗi pixel:\n",
        "\n",
        "**I = α F + (1 − α )B**\n",
        "\n",
        "Trong đó:\n",
        "- I: là output\n",
        "- α: alpha đã tính ở trên\n",
        "- F: foreground\n",
        "- B: background"
      ],
      "metadata": {
        "id": "COQrvQ2ZcNoD"
      },
      "id": "COQrvQ2ZcNoD"
    },
    {
      "cell_type": "markdown",
      "metadata": {
        "id": "zb1jK7PhSQaz"
      },
      "source": [
        "Tiến hành blending mảng alpha global matting ở trên với hình nên mới để được kết quả.\n",
        "\n",
        "<img src='https://drive.google.com/uc?id=1O9bYFhq6t6jfgrDaqglRTurH8NZt8xSm'/>"
      ],
      "id": "zb1jK7PhSQaz"
    },
    {
      "cell_type": "markdown",
      "metadata": {
        "id": "5IvaMvJwwEc7"
      },
      "source": [
        "#### 3.1.6. Local Matting:"
      ],
      "id": "5IvaMvJwwEc7"
    },
    {
      "cell_type": "markdown",
      "metadata": {
        "id": "SjszXVFSumcJ"
      },
      "source": [
        "Người dùng sẽ quan sát ảnh sau khi dùng Global Matting và đánh dấu những điểm ROI (Region of Interest - Những khu vực mong muốn được cải thiện hơn) sau đó chương trình sẽ chạy Local Matting trên khu vực này để cải thiện chất lượng hình ảnh.\n",
        "Local Matting cũng chính là Global Matting nhưng trên một khu vực nhỏ hơn."
      ],
      "id": "SjszXVFSumcJ"
    },
    {
      "cell_type": "markdown",
      "metadata": {
        "id": "xZ6ABfecw6-m"
      },
      "source": [
        "Ví dụ, với hình ở trên ta chọn 4 khu vực có chỉ số như sau:\n",
        "- top, bottom, left, right = [0, 20, 370, 435]\n",
        "- top, bottom, left, right = [135, 155, 145, 170]\n",
        "- top, bottom, left, right = [212, 240, 118, 150]\n",
        "- top, bottom, left, right = [465, 480, 120, 150]\n",
        "\n",
        "<img src='https://drive.google.com/uc?id=1s3DTgKOwGPqLOCmo_oZV0XncFOdW5Xfz'/>"
      ],
      "id": "xZ6ABfecw6-m"
    },
    {
      "cell_type": "markdown",
      "metadata": {
        "id": "W6lSqCoIzZW_"
      },
      "source": [
        "Local matte và ảnh kết quả sau khi blending:\n",
        "\n",
        "<img src=\"https://drive.google.com/uc?id=1St6RIQp6ztso5_k6gOSkqhCEmT_narm_\"/>\n",
        "\n"
      ],
      "id": "W6lSqCoIzZW_"
    },
    {
      "cell_type": "markdown",
      "metadata": {
        "id": "pyT-B9W81oTZ"
      },
      "source": [
        "Hiện tại nhóm đang tự quan sát và set cứng các giá trị ROI trong file code để dễ dàng và nhanh chóng kiểm thử. Nếu dự án ứng dụng vào thực tế thì nhóm đề xuất quy trình để xử lý:\n",
        "- In ra ảnh từ global matting\n",
        "- Người dùng nhập vào danh sách những khu vực muốn chỉnh sửa\n",
        "- In ra kết quả sau khi local matting\n",
        "\n",
        "Nhóm đã có làm thử nhưng vì mất nhiều thời gian nhập toạ độ nên lược bỏ trong report."
      ],
      "id": "pyT-B9W81oTZ"
    },
    {
      "cell_type": "markdown",
      "source": [
        "### **3.2. Đánh giá:**"
      ],
      "metadata": {
        "id": "TNep9kR3X_5L"
      },
      "id": "TNep9kR3X_5L"
    },
    {
      "cell_type": "markdown",
      "source": [
        "#### **3.2.1. Kịch bản thí nghiệm:**"
      ],
      "metadata": {
        "id": "qTUjDwgYYHuJ"
      },
      "id": "qTUjDwgYYHuJ"
    },
    {
      "cell_type": "markdown",
      "source": [
        "Chương trình sẽ lần lượt thực hiện theo quy trình sau:\n",
        "1. Đọc ảnh gốc, ảnh tri map, ảnh nền mới. Chuyển ảnh gốc sang dạng grayscale\n",
        "2. Chạy hàm `matting_combined`: hàm tổng hợp quy trình xử lý ảnh với Global Matting bên trên.\n",
        "3. Lưu file ảnh output được áp dụng Global Matting.\n",
        "4. Bắt đầu pha Local Matting. Cho người dùng nhập (ở đây nhóm set cứng) giá trị của vùng mong muốn được cải thiện.\n",
        "5. Tính toán giá trị `alpha` mới của các vùng này.\n",
        "6. Gọi hàm `alpha_blend` để áp giá trị `alpha` mới vào ảnh.\n",
        "7. Lưu file ảnh output được áp dụng cả Global và Local Matting.\n",
        "\n"
      ],
      "metadata": {
        "id": "gutehR0yYMcc"
      },
      "id": "gutehR0yYMcc"
    },
    {
      "cell_type": "markdown",
      "metadata": {
        "id": "Cad4rVT6eB8e"
      },
      "source": [
        "#### **3.2.2. Thực thi với Python (không jit):**"
      ],
      "id": "Cad4rVT6eB8e"
    },
    {
      "cell_type": "markdown",
      "metadata": {
        "id": "8-9xInPc2OLm"
      },
      "source": [
        "Hiện tại để tiện kiểm tra thì nhóm set cứng giá trị input (ảnh gốc, trimap, background) tương tự như phần trình bày phía trên của notebook. Sau này dự kiến sẽ chuyển qua dùng tham số dòng lệnh."
      ],
      "id": "8-9xInPc2OLm"
    },
    {
      "cell_type": "markdown",
      "metadata": {
        "id": "JkqIX8Wl2Far"
      },
      "source": [
        "**Thực thi (thời gian xử lý với 1 ảnh):**"
      ],
      "id": "JkqIX8Wl2Far"
    },
    {
      "cell_type": "code",
      "execution_count": 5,
      "metadata": {
        "colab": {
          "base_uri": "https://localhost:8080/"
        },
        "id": "FJhcQ3DmlffA",
        "outputId": "923ae76c-f013-4a29-ffac-6ba931181413"
      },
      "outputs": [
        {
          "output_type": "stream",
          "name": "stdout",
          "text": [
            "====SUCCESS GLOBAL MATTING====\n",
            "====SUCCESS LOCAL MATTING====\n",
            "CPU times: user 190 ms, sys: 26.7 ms, total: 217 ms\n",
            "Wall time: 30.9 s\n"
          ]
        }
      ],
      "source": [
        "%%time\n",
        "!python3 sequential.py"
      ],
      "id": "FJhcQ3DmlffA"
    },
    {
      "cell_type": "markdown",
      "source": [
        "**Ảnh kết quả**"
      ],
      "metadata": {
        "id": "yOzVhOYKXR-s"
      },
      "id": "yOzVhOYKXR-s"
    },
    {
      "cell_type": "markdown",
      "source": [
        "- Ảnh chỉ áp dụng Global Matting:"
      ],
      "metadata": {
        "id": "Uwv9R5QKvKbB"
      },
      "id": "Uwv9R5QKvKbB"
    },
    {
      "cell_type": "code",
      "source": [
        "%%html\n",
        "<img width=\"40%\" src='https://drive.google.com/uc?id=1-a026cY2ST8ct9Sd-ZKhw2PBHWF4_qfY'/>"
      ],
      "metadata": {
        "colab": {
          "base_uri": "https://localhost:8080/",
          "height": 326
        },
        "id": "e1CAsuCuvDtT",
        "outputId": "71a37c83-ed89-476a-fb6b-4c86f22249c5"
      },
      "id": "e1CAsuCuvDtT",
      "execution_count": 6,
      "outputs": [
        {
          "output_type": "display_data",
          "data": {
            "text/plain": [
              "<IPython.core.display.HTML object>"
            ],
            "text/html": [
              "<img width=\"40%\" src='https://drive.google.com/uc?id=1-a026cY2ST8ct9Sd-ZKhw2PBHWF4_qfY'/>"
            ]
          },
          "metadata": {}
        }
      ]
    },
    {
      "cell_type": "markdown",
      "source": [
        "- Ảnh áp dụng cả Global và Local Matting:"
      ],
      "metadata": {
        "id": "HrcyXixSXXxv"
      },
      "id": "HrcyXixSXXxv"
    },
    {
      "cell_type": "code",
      "source": [
        "%%html\n",
        "<img width=\"40%\" src='https://drive.google.com/uc?id=1-MXY0dxhLKQyfUArGLJMkTjWfluOW-MT'/>"
      ],
      "metadata": {
        "colab": {
          "base_uri": "https://localhost:8080/",
          "height": 326
        },
        "id": "jwIlhFgevNTt",
        "outputId": "c2255f3c-9ddf-455f-f600-b82c10143219"
      },
      "id": "jwIlhFgevNTt",
      "execution_count": 7,
      "outputs": [
        {
          "output_type": "display_data",
          "data": {
            "text/plain": [
              "<IPython.core.display.HTML object>"
            ],
            "text/html": [
              "<img width=\"40%\" src='https://drive.google.com/uc?id=1-MXY0dxhLKQyfUArGLJMkTjWfluOW-MT'/>"
            ]
          },
          "metadata": {}
        }
      ]
    },
    {
      "cell_type": "markdown",
      "source": [
        "#### **3.2.3. Thực thi với Python (có jit):**"
      ],
      "metadata": {
        "id": "t7ji_NWOW2-E"
      },
      "id": "t7ji_NWOW2-E"
    },
    {
      "cell_type": "markdown",
      "metadata": {
        "id": "nm8yt98vGuvM"
      },
      "source": [
        "Thực thi tuần tự với Numba jit. Phần sử dụng git:\n",
        "- Hàm `global_alpha_matting`: hàm chạy phương pháp Gauss Siedel để tìm ra alpha phù hợp.\n",
        "\n",
        "Những phần sử dụng thư viện có sẵn:\n",
        "- Numpy: các phương thức `gradient`, `maximum`, `minimun`...; các phép toán nhân, cộng ma trận\n",
        "- OpenCV: đọc ảnh, lưu ảnh, chuyển ảnh sang grayscale, RGB\n",
        "\n",
        "> Nhóm đã có thử cài đặt để dùng jit với các hàm trên nhưng thấy tốc độ giảm không đáng kể (< 0.5s hoặc đôi khi chậm hơn) nên quyết định không jit nữa."
      ],
      "id": "nm8yt98vGuvM"
    },
    {
      "cell_type": "markdown",
      "source": [
        "**Thực thi:**"
      ],
      "metadata": {
        "id": "L5jXe1ltcLD0"
      },
      "id": "L5jXe1ltcLD0"
    },
    {
      "cell_type": "code",
      "execution_count": 8,
      "metadata": {
        "colab": {
          "base_uri": "https://localhost:8080/"
        },
        "id": "cqsdKd-QjW2r",
        "outputId": "aa2f4f0e-d6ec-46b1-c759-aae0bca19b78"
      },
      "outputs": [
        {
          "output_type": "stream",
          "name": "stdout",
          "text": [
            "====SUCCESS GLOBAL MATTING====\n",
            "====SUCCESS LOCAL MATTING====\n",
            "CPU times: user 38.5 ms, sys: 14.8 ms, total: 53.2 ms\n",
            "Wall time: 4.14 s\n"
          ]
        }
      ],
      "source": [
        "%%time\n",
        "!python3 sequential_jit.py"
      ],
      "id": "cqsdKd-QjW2r"
    },
    {
      "cell_type": "markdown",
      "source": [
        "**Ảnh kết quả**"
      ],
      "metadata": {
        "id": "aHaWQKtgb_sa"
      },
      "id": "aHaWQKtgb_sa"
    },
    {
      "cell_type": "markdown",
      "source": [
        "- Ảnh chỉ áp dụng Global Matting:\n"
      ],
      "metadata": {
        "id": "fuDFVPKtb_sa"
      },
      "id": "fuDFVPKtb_sa"
    },
    {
      "cell_type": "code",
      "source": [
        "%%html\n",
        "<img width=\"40%\" src='https://drive.google.com/uc?id=1-DiphlaTa2wYUlTZiHGylhtlIxzPoUgr'/>"
      ],
      "metadata": {
        "colab": {
          "base_uri": "https://localhost:8080/",
          "height": 326
        },
        "id": "PIKEN3LtU5-z",
        "outputId": "c9f3d8f1-a8b6-4a2e-fdd1-20bfb5348f0f"
      },
      "id": "PIKEN3LtU5-z",
      "execution_count": 9,
      "outputs": [
        {
          "output_type": "display_data",
          "data": {
            "text/plain": [
              "<IPython.core.display.HTML object>"
            ],
            "text/html": [
              "<img width=\"40%\" src='https://drive.google.com/uc?id=1-DiphlaTa2wYUlTZiHGylhtlIxzPoUgr'/>"
            ]
          },
          "metadata": {}
        }
      ]
    },
    {
      "cell_type": "markdown",
      "source": [
        "- Ảnh áp dụng cả Global và Local Matting:\n"
      ],
      "metadata": {
        "id": "ZNmL-Sqzb_sa"
      },
      "id": "ZNmL-Sqzb_sa"
    },
    {
      "cell_type": "code",
      "source": [
        "%%html\n",
        "<img width=\"40%\" src='https://drive.google.com/uc?id=1-BxQMpPPH2iIdH_7j25BcWU_qf4wltiE'/>"
      ],
      "metadata": {
        "colab": {
          "base_uri": "https://localhost:8080/",
          "height": 326
        },
        "id": "B1-VpXXgU9S9",
        "outputId": "d787ecc4-d746-4939-d4f2-6e73a4e16ea8"
      },
      "id": "B1-VpXXgU9S9",
      "execution_count": 10,
      "outputs": [
        {
          "output_type": "display_data",
          "data": {
            "text/plain": [
              "<IPython.core.display.HTML object>"
            ],
            "text/html": [
              "<img width=\"40%\" src='https://drive.google.com/uc?id=1-BxQMpPPH2iIdH_7j25BcWU_qf4wltiE'/>"
            ]
          },
          "metadata": {}
        }
      ]
    },
    {
      "cell_type": "markdown",
      "source": [
        "#### **3.2.4. So sánh độ chính xác:**"
      ],
      "metadata": {
        "id": "uYE2yu8lqqCI"
      },
      "id": "uYE2yu8lqqCI"
    },
    {
      "cell_type": "code",
      "source": [
        "img_seq = cv2.imread(os.path.join(IMAGES_FOLDER_PATH, '../Output/output_4_global.png'))\n",
        "img_seq = cv2.cvtColor(img_seq, cv2.COLOR_BGR2RGB)\n",
        "img_seq_jit = cv2.imread(os.path.join(IMAGES_FOLDER_PATH, '../Output/output_4_global_jit.png'))\n",
        "img_seq_jit = cv2.cvtColor(img_seq_jit, cv2.COLOR_BGR2RGB)\n",
        "errorL2 = cv2.norm(img_seq, img_seq_jit, cv2.NORM_L2)\n",
        "similarity = 1 - errorL2 / ( img_seq.shape[0] * img_seq.shape[1] )\n",
        "print('Độ giống nhau giữa ảnh của phiên bản tuần tự không jit và có jit = ',similarity)"
      ],
      "metadata": {
        "colab": {
          "base_uri": "https://localhost:8080/"
        },
        "outputId": "cd4be5a9-8662-4966-cc76-e176912c1694",
        "id": "zMTauJAoqqCJ"
      },
      "execution_count": 11,
      "outputs": [
        {
          "output_type": "stream",
          "name": "stdout",
          "text": [
            "Độ giống nhau giữa ảnh của phiên bản tuần tự không jit và có jit =  1.0\n"
          ]
        }
      ],
      "id": "zMTauJAoqqCJ"
    },
    {
      "cell_type": "markdown",
      "metadata": {
        "id": "nnh47mIp7Zfy"
      },
      "source": [
        "## **4. Cài đặt song song:**"
      ],
      "id": "nnh47mIp7Zfy"
    },
    {
      "cell_type": "markdown",
      "source": [
        "### **4.1. Phân tích:**"
      ],
      "metadata": {
        "id": "0rGTMYg9aIVO"
      },
      "id": "0rGTMYg9aIVO"
    },
    {
      "cell_type": "markdown",
      "source": [
        "**Phần thực hiện song song:** Bước tính toán alpha nằm trong hàm `global_alpha_matting`.\n",
        "\n",
        "Thông tin về hàm `global_alpha_matting`:\n",
        "  \n",
        "    \"\"\"\n",
        "    Hàm thực thi global alpha matting\n",
        "\n",
        "    Parameters:\n",
        "    -----------\n",
        "    alpha: giá trị xấp xỉ của alpha\n",
        "    d2alpha: tổng đạo hàm riêng bậc 2 của alpha theo X và Y\n",
        "    unknown_seg: mảng munby đại diện cho vùng chưa xác định rõ\n",
        "    iters: số lần chạy của phương pháp ước lượng Gauss Siedel\n",
        "    threshold: ngưỡng cho sự thay đổi sau mỗi lần chạy. Nếu dưới ngưỡng thì phương trình sẽ dừng lại\n",
        "    beta: nhân tử beta của phương pháp ước lượng Gauss Siedel\n",
        "\n",
        "    Return:\n",
        "    -----------\n",
        "    Mảng numpy đại diện cho chỉ số matte đã được tạo\n",
        "    \"\"\"\n",
        "\n",
        "Quy trình của hàm:\n",
        "\n",
        "- Bước đầu gán prev_alpha: 1 ma trận toàn số 0\n",
        "- Tính toán sai khác giữa prev_alpha và alpha\n",
        "- Đi vào vòng lặp với số lần lặp là iters\n",
        "  - Tính độ khác biệt giữa prev_alpha và alpha. Nếu nhỏ hơn threshold thì kết thúc\n",
        "  - Chạy 2 vòng lặp for lần lượt duyệt qua từng pixel của alpha\n",
        "  - Tính lại giá trị của từng pixel theo công thức từ beta, alpha, pre_alpha, d2alpha (*)\n",
        "\n",
        "=> Nhóm lựa chọn song song phần (*) ở trên bằng cách: chia cho mỗi thread đảm nhận một pixel để tính lại giá trị của alpha.\n",
        "\n",
        "Nhóm chỉ song song khi xử lý global matting, còn local matting thì chỉ thực hiện trên jit."
      ],
      "metadata": {
        "id": "uxSUH2yzVX62"
      },
      "id": "uxSUH2yzVX62"
    },
    {
      "cell_type": "markdown",
      "source": [
        "**Lý do nhóm lựa chọn phần này:**\n",
        "\n",
        "- Nhóm nhận thấy bước này có những công việc lặp đi lặp lại rất nhiều lần (tối đa là `iter`). Ở mỗi lần công việc có thể chia cho các thread thực hiện để giúp tăng tốc độ.\n",
        "- Nhóm đã thực hiện song song hoá các phần khác như hàm tính gradient, diff,... của numpy hoặc chuyển ảnh rgb -> grayscale của opencv tuy nhiên kết quả không thay đổi nhiều (thậm chí chậm hơn từ 0.5s - 1s) nên không đưa vào bài làm."
      ],
      "metadata": {
        "id": "ChxcUJ1hdVoU"
      },
      "id": "ChxcUJ1hdVoU"
    },
    {
      "cell_type": "markdown",
      "source": [
        "### **4.2. Thiết kế:**"
      ],
      "metadata": {
        "id": "dyuiYD6tdpxv"
      },
      "id": "dyuiYD6tdpxv"
    },
    {
      "cell_type": "markdown",
      "source": [
        "Tại mỗi thread:\n",
        "- Xác định vị trí của nó\n",
        "- Kiểm tra xem vị trí của nó có nằm trong bức ảnh hay không\n",
        "- Nếu vị trí của thread là chưa xác định được foreground hay background thì ta sẽ tính giá trị alpha ở đây bằng công thức Gauss Siedel Iteration.\n",
        "\n",
        "\n",
        "$$ {f_{i,j}}^{(n+1)} = \\frac{\\beta}{4}({f_{i+1,j}}^{(n)} + {f_{i-1,j}}^{(n+1)} + {f_{i,j+1}}^{(n)} + {f_{i,j-1}}^{(n+1)} - S_{i,j}) + (1-\\beta){f_{i,j}}^{(n)}$$\n",
        "\n",
        "Với: $$ \\frac{\\partial^2 f}{\\partial x^2}+\\frac{\\partial^2 f}{\\partial y^2} = S$$"
      ],
      "metadata": {
        "id": "xTGR8AWgduDa"
      },
      "id": "xTGR8AWgduDa"
    },
    {
      "cell_type": "markdown",
      "source": [
        "Ví dụ ở pixel [1,1], alpha được tính như sau:\n",
        "\n",
        "`alpha[1,1] = beta/4*(alpha[0,1] + alpha[1,0] + prev_alpha[2,1] + prev_alpha[1,2] - S[1,1]) + (1-beta)*prev_alpha[1,1]`"
      ],
      "metadata": {
        "id": "70iRxUxxL0nY"
      },
      "id": "70iRxUxxL0nY"
    },
    {
      "cell_type": "markdown",
      "source": [
        "### **4.3. Đánh giá:**"
      ],
      "metadata": {
        "id": "TEK9A3neduoE"
      },
      "id": "TEK9A3neduoE"
    },
    {
      "cell_type": "markdown",
      "source": [
        "#### **4.3.1. Kịch bản thí nghiệm:**"
      ],
      "metadata": {
        "id": "FeXiRsPZd3SZ"
      },
      "id": "FeXiRsPZd3SZ"
    },
    {
      "cell_type": "markdown",
      "source": [
        "Chương trình sẽ lần lượt thực hiện theo quy trình sau:\n",
        "1. Đọc ảnh gốc, ảnh tri map, ảnh nền mới. Chuyển ảnh gốc sang dạng grayscale\n",
        "2. Chạy hàm `matting_combined`: hàm tổng hợp quy trình xử lý ảnh với Global Matting bên trên. \n",
        "  - Ở hàm tổng hợp sẽ gọi hàm `global_alpha_matting`\n",
        "  - Bên trong hàm `global_alpha_matting` sẽ gọi hàm `compute_alpha_kernel` truyền vào thêm `block_size` và `grid_size` để chạy song song trên GPU.\n",
        "3. Lưu file ảnh output được áp dụng Global Matting.\n",
        "4. Bắt đầu pha Local Matting. Cho người dùng nhập (ở đây nhóm set cứng) giá trị của vùng mong muốn được cải thiện.\n",
        "5. Tính toán giá trị `alpha` mới của các vùng này bằng các hàm tuần tự chứ không chạy song song như ở Global Matting.\n",
        "6. Gọi hàm `alpha_blend` để áp giá trị `alpha` mới vào ảnh.\n",
        "7. Lưu file ảnh output được áp dụng cả Global và Local Matting.\n",
        "\n",
        "Nhìn chung, kịch bản thí nghiệm tương tự với thực thi tuần tự, chỉ khác ở bước 2 và một chút lưu ý ở bước 5. Global Matting thì sẽ có song song trên GPU, còn Local Matting thì chỉ chạy với jit.\n"
      ],
      "metadata": {
        "id": "e2it5scPd8Yz"
      },
      "id": "e2it5scPd8Yz"
    },
    {
      "cell_type": "markdown",
      "source": [
        "#### **4.3.2. Thực thi:**"
      ],
      "metadata": {
        "id": "-JpS0PeyfG8t"
      },
      "id": "-JpS0PeyfG8t"
    },
    {
      "cell_type": "markdown",
      "source": [
        "**Thực thi:**"
      ],
      "metadata": {
        "id": "aZkCDqtRfYVr"
      },
      "id": "aZkCDqtRfYVr"
    },
    {
      "cell_type": "code",
      "execution_count": 12,
      "metadata": {
        "colab": {
          "base_uri": "https://localhost:8080/"
        },
        "id": "CwbzFwXK7c3i",
        "outputId": "cd9d8958-ca1c-4c30-e4c6-3a9c97079b71"
      },
      "outputs": [
        {
          "output_type": "stream",
          "name": "stdout",
          "text": [
            "==315== NVPROF is profiling process 315, command: python3 parallel.py\n",
            "====SUCCESS GLOBAL MATTING====\n",
            "====SUCCESS LOCAL MATTING====\n",
            "==315== Profiling application: python3 parallel.py\n",
            "==315== Profiling result:\n",
            "   Start  Duration            Grid Size      Block Size     Regs*    SSMem*    DSMem*      Size  Throughput  SrcMemType  DstMemType           Device   Context    Stream  Name\n",
            "369.22ms  337.40us                    -               -         -         -         -  2.3438MB  6.7837GB/s    Pageable      Device     Tesla T4 (0)         1         7  [CUDA memcpy HtoD]\n",
            "370.33ms  364.22us                    -               -         -         -         -  2.3438MB  6.2843GB/s    Pageable      Device     Tesla T4 (0)         1         7  [CUDA memcpy HtoD]\n",
            "371.56ms  378.20us                    -               -         -         -         -  2.3438MB  6.0519GB/s    Pageable      Device     Tesla T4 (0)         1         7  [CUDA memcpy HtoD]\n",
            "372.44ms  28.223us                    -               -         -         -         -  300.00KB  10.137GB/s    Pageable      Device     Tesla T4 (0)         1         7  [CUDA memcpy HtoD]\n",
            "880.76ms  36.543us            (15 20 1)       (32 32 1)        32        0B        0B         -           -           -           -     Tesla T4 (0)         1         7  cudapy::__main__::compute_alpha_kernel$241(Array<double, int=2, C, mutable, aligned>, __int64, Array<double, int=2, C, mutable, aligned>, Array<double, int=2, C, mutable, aligned>, Array<bool, int=2, C, mutable, aligned>) [158]\n",
            "881.35ms  36.319us            (15 20 1)       (32 32 1)        32        0B        0B         -           -           -           -     Tesla T4 (0)         1         7  cudapy::__main__::compute_alpha_kernel$241(Array<double, int=2, C, mutable, aligned>, __int64, Array<double, int=2, C, mutable, aligned>, Array<double, int=2, C, mutable, aligned>, Array<bool, int=2, C, mutable, aligned>) [163]\n",
            "881.68ms  36.159us            (15 20 1)       (32 32 1)        32        0B        0B         -           -           -           -     Tesla T4 (0)         1         7  cudapy::__main__::compute_alpha_kernel$241(Array<double, int=2, C, mutable, aligned>, __int64, Array<double, int=2, C, mutable, aligned>, Array<double, int=2, C, mutable, aligned>, Array<bool, int=2, C, mutable, aligned>) [168]\n",
            "881.97ms  36.128us            (15 20 1)       (32 32 1)        32        0B        0B         -           -           -           -     Tesla T4 (0)         1         7  cudapy::__main__::compute_alpha_kernel$241(Array<double, int=2, C, mutable, aligned>, __int64, Array<double, int=2, C, mutable, aligned>, Array<double, int=2, C, mutable, aligned>, Array<bool, int=2, C, mutable, aligned>) [173]\n",
            "882.19ms  36.063us            (15 20 1)       (32 32 1)        32        0B        0B         -           -           -           -     Tesla T4 (0)         1         7  cudapy::__main__::compute_alpha_kernel$241(Array<double, int=2, C, mutable, aligned>, __int64, Array<double, int=2, C, mutable, aligned>, Array<double, int=2, C, mutable, aligned>, Array<bool, int=2, C, mutable, aligned>) [178]\n",
            "882.44ms  36.191us            (15 20 1)       (32 32 1)        32        0B        0B         -           -           -           -     Tesla T4 (0)         1         7  cudapy::__main__::compute_alpha_kernel$241(Array<double, int=2, C, mutable, aligned>, __int64, Array<double, int=2, C, mutable, aligned>, Array<double, int=2, C, mutable, aligned>, Array<bool, int=2, C, mutable, aligned>) [183]\n",
            "882.67ms  36.127us            (15 20 1)       (32 32 1)        32        0B        0B         -           -           -           -     Tesla T4 (0)         1         7  cudapy::__main__::compute_alpha_kernel$241(Array<double, int=2, C, mutable, aligned>, __int64, Array<double, int=2, C, mutable, aligned>, Array<double, int=2, C, mutable, aligned>, Array<bool, int=2, C, mutable, aligned>) [188]\n",
            "882.95ms  36.127us            (15 20 1)       (32 32 1)        32        0B        0B         -           -           -           -     Tesla T4 (0)         1         7  cudapy::__main__::compute_alpha_kernel$241(Array<double, int=2, C, mutable, aligned>, __int64, Array<double, int=2, C, mutable, aligned>, Array<double, int=2, C, mutable, aligned>, Array<bool, int=2, C, mutable, aligned>) [193]\n",
            "883.19ms  36.191us            (15 20 1)       (32 32 1)        32        0B        0B         -           -           -           -     Tesla T4 (0)         1         7  cudapy::__main__::compute_alpha_kernel$241(Array<double, int=2, C, mutable, aligned>, __int64, Array<double, int=2, C, mutable, aligned>, Array<double, int=2, C, mutable, aligned>, Array<bool, int=2, C, mutable, aligned>) [198]\n",
            "883.44ms  36.127us            (15 20 1)       (32 32 1)        32        0B        0B         -           -           -           -     Tesla T4 (0)         1         7  cudapy::__main__::compute_alpha_kernel$241(Array<double, int=2, C, mutable, aligned>, __int64, Array<double, int=2, C, mutable, aligned>, Array<double, int=2, C, mutable, aligned>, Array<bool, int=2, C, mutable, aligned>) [203]\n",
            "883.65ms  36.095us            (15 20 1)       (32 32 1)        32        0B        0B         -           -           -           -     Tesla T4 (0)         1         7  cudapy::__main__::compute_alpha_kernel$241(Array<double, int=2, C, mutable, aligned>, __int64, Array<double, int=2, C, mutable, aligned>, Array<double, int=2, C, mutable, aligned>, Array<bool, int=2, C, mutable, aligned>) [208]\n",
            "883.88ms  36.127us            (15 20 1)       (32 32 1)        32        0B        0B         -           -           -           -     Tesla T4 (0)         1         7  cudapy::__main__::compute_alpha_kernel$241(Array<double, int=2, C, mutable, aligned>, __int64, Array<double, int=2, C, mutable, aligned>, Array<double, int=2, C, mutable, aligned>, Array<bool, int=2, C, mutable, aligned>) [213]\n",
            "884.09ms  36.159us            (15 20 1)       (32 32 1)        32        0B        0B         -           -           -           -     Tesla T4 (0)         1         7  cudapy::__main__::compute_alpha_kernel$241(Array<double, int=2, C, mutable, aligned>, __int64, Array<double, int=2, C, mutable, aligned>, Array<double, int=2, C, mutable, aligned>, Array<bool, int=2, C, mutable, aligned>) [218]\n",
            "884.30ms  36.063us            (15 20 1)       (32 32 1)        32        0B        0B         -           -           -           -     Tesla T4 (0)         1         7  cudapy::__main__::compute_alpha_kernel$241(Array<double, int=2, C, mutable, aligned>, __int64, Array<double, int=2, C, mutable, aligned>, Array<double, int=2, C, mutable, aligned>, Array<bool, int=2, C, mutable, aligned>) [223]\n",
            "884.51ms  36.127us            (15 20 1)       (32 32 1)        32        0B        0B         -           -           -           -     Tesla T4 (0)         1         7  cudapy::__main__::compute_alpha_kernel$241(Array<double, int=2, C, mutable, aligned>, __int64, Array<double, int=2, C, mutable, aligned>, Array<double, int=2, C, mutable, aligned>, Array<bool, int=2, C, mutable, aligned>) [228]\n",
            "884.73ms  36.127us            (15 20 1)       (32 32 1)        32        0B        0B         -           -           -           -     Tesla T4 (0)         1         7  cudapy::__main__::compute_alpha_kernel$241(Array<double, int=2, C, mutable, aligned>, __int64, Array<double, int=2, C, mutable, aligned>, Array<double, int=2, C, mutable, aligned>, Array<bool, int=2, C, mutable, aligned>) [233]\n",
            "884.95ms  36.127us            (15 20 1)       (32 32 1)        32        0B        0B         -           -           -           -     Tesla T4 (0)         1         7  cudapy::__main__::compute_alpha_kernel$241(Array<double, int=2, C, mutable, aligned>, __int64, Array<double, int=2, C, mutable, aligned>, Array<double, int=2, C, mutable, aligned>, Array<bool, int=2, C, mutable, aligned>) [238]\n",
            "885.16ms  36.159us            (15 20 1)       (32 32 1)        32        0B        0B         -           -           -           -     Tesla T4 (0)         1         7  cudapy::__main__::compute_alpha_kernel$241(Array<double, int=2, C, mutable, aligned>, __int64, Array<double, int=2, C, mutable, aligned>, Array<double, int=2, C, mutable, aligned>, Array<bool, int=2, C, mutable, aligned>) [243]\n",
            "885.36ms  36.287us            (15 20 1)       (32 32 1)        32        0B        0B         -           -           -           -     Tesla T4 (0)         1         7  cudapy::__main__::compute_alpha_kernel$241(Array<double, int=2, C, mutable, aligned>, __int64, Array<double, int=2, C, mutable, aligned>, Array<double, int=2, C, mutable, aligned>, Array<bool, int=2, C, mutable, aligned>) [248]\n",
            "885.57ms  36.127us            (15 20 1)       (32 32 1)        32        0B        0B         -           -           -           -     Tesla T4 (0)         1         7  cudapy::__main__::compute_alpha_kernel$241(Array<double, int=2, C, mutable, aligned>, __int64, Array<double, int=2, C, mutable, aligned>, Array<double, int=2, C, mutable, aligned>, Array<bool, int=2, C, mutable, aligned>) [253]\n",
            "885.80ms  36.159us            (15 20 1)       (32 32 1)        32        0B        0B         -           -           -           -     Tesla T4 (0)         1         7  cudapy::__main__::compute_alpha_kernel$241(Array<double, int=2, C, mutable, aligned>, __int64, Array<double, int=2, C, mutable, aligned>, Array<double, int=2, C, mutable, aligned>, Array<bool, int=2, C, mutable, aligned>) [258]\n",
            "886.01ms  36.031us            (15 20 1)       (32 32 1)        32        0B        0B         -           -           -           -     Tesla T4 (0)         1         7  cudapy::__main__::compute_alpha_kernel$241(Array<double, int=2, C, mutable, aligned>, __int64, Array<double, int=2, C, mutable, aligned>, Array<double, int=2, C, mutable, aligned>, Array<bool, int=2, C, mutable, aligned>) [263]\n",
            "886.25ms  36.159us            (15 20 1)       (32 32 1)        32        0B        0B         -           -           -           -     Tesla T4 (0)         1         7  cudapy::__main__::compute_alpha_kernel$241(Array<double, int=2, C, mutable, aligned>, __int64, Array<double, int=2, C, mutable, aligned>, Array<double, int=2, C, mutable, aligned>, Array<bool, int=2, C, mutable, aligned>) [268]\n",
            "886.48ms  36.191us            (15 20 1)       (32 32 1)        32        0B        0B         -           -           -           -     Tesla T4 (0)         1         7  cudapy::__main__::compute_alpha_kernel$241(Array<double, int=2, C, mutable, aligned>, __int64, Array<double, int=2, C, mutable, aligned>, Array<double, int=2, C, mutable, aligned>, Array<bool, int=2, C, mutable, aligned>) [273]\n",
            "886.69ms  36.223us            (15 20 1)       (32 32 1)        32        0B        0B         -           -           -           -     Tesla T4 (0)         1         7  cudapy::__main__::compute_alpha_kernel$241(Array<double, int=2, C, mutable, aligned>, __int64, Array<double, int=2, C, mutable, aligned>, Array<double, int=2, C, mutable, aligned>, Array<bool, int=2, C, mutable, aligned>) [278]\n",
            "886.96ms  36.191us            (15 20 1)       (32 32 1)        32        0B        0B         -           -           -           -     Tesla T4 (0)         1         7  cudapy::__main__::compute_alpha_kernel$241(Array<double, int=2, C, mutable, aligned>, __int64, Array<double, int=2, C, mutable, aligned>, Array<double, int=2, C, mutable, aligned>, Array<bool, int=2, C, mutable, aligned>) [283]\n",
            "887.17ms  36.159us            (15 20 1)       (32 32 1)        32        0B        0B         -           -           -           -     Tesla T4 (0)         1         7  cudapy::__main__::compute_alpha_kernel$241(Array<double, int=2, C, mutable, aligned>, __int64, Array<double, int=2, C, mutable, aligned>, Array<double, int=2, C, mutable, aligned>, Array<bool, int=2, C, mutable, aligned>) [288]\n",
            "887.37ms  36.127us            (15 20 1)       (32 32 1)        32        0B        0B         -           -           -           -     Tesla T4 (0)         1         7  cudapy::__main__::compute_alpha_kernel$241(Array<double, int=2, C, mutable, aligned>, __int64, Array<double, int=2, C, mutable, aligned>, Array<double, int=2, C, mutable, aligned>, Array<bool, int=2, C, mutable, aligned>) [293]\n",
            "887.63ms  36.191us            (15 20 1)       (32 32 1)        32        0B        0B         -           -           -           -     Tesla T4 (0)         1         7  cudapy::__main__::compute_alpha_kernel$241(Array<double, int=2, C, mutable, aligned>, __int64, Array<double, int=2, C, mutable, aligned>, Array<double, int=2, C, mutable, aligned>, Array<bool, int=2, C, mutable, aligned>) [298]\n",
            "887.90ms  36.127us            (15 20 1)       (32 32 1)        32        0B        0B         -           -           -           -     Tesla T4 (0)         1         7  cudapy::__main__::compute_alpha_kernel$241(Array<double, int=2, C, mutable, aligned>, __int64, Array<double, int=2, C, mutable, aligned>, Array<double, int=2, C, mutable, aligned>, Array<bool, int=2, C, mutable, aligned>) [303]\n",
            "888.15ms  36.191us            (15 20 1)       (32 32 1)        32        0B        0B         -           -           -           -     Tesla T4 (0)         1         7  cudapy::__main__::compute_alpha_kernel$241(Array<double, int=2, C, mutable, aligned>, __int64, Array<double, int=2, C, mutable, aligned>, Array<double, int=2, C, mutable, aligned>, Array<bool, int=2, C, mutable, aligned>) [308]\n",
            "888.39ms  36.159us            (15 20 1)       (32 32 1)        32        0B        0B         -           -           -           -     Tesla T4 (0)         1         7  cudapy::__main__::compute_alpha_kernel$241(Array<double, int=2, C, mutable, aligned>, __int64, Array<double, int=2, C, mutable, aligned>, Array<double, int=2, C, mutable, aligned>, Array<bool, int=2, C, mutable, aligned>) [313]\n",
            "888.64ms  36.095us            (15 20 1)       (32 32 1)        32        0B        0B         -           -           -           -     Tesla T4 (0)         1         7  cudapy::__main__::compute_alpha_kernel$241(Array<double, int=2, C, mutable, aligned>, __int64, Array<double, int=2, C, mutable, aligned>, Array<double, int=2, C, mutable, aligned>, Array<bool, int=2, C, mutable, aligned>) [318]\n",
            "888.90ms  36.192us            (15 20 1)       (32 32 1)        32        0B        0B         -           -           -           -     Tesla T4 (0)         1         7  cudapy::__main__::compute_alpha_kernel$241(Array<double, int=2, C, mutable, aligned>, __int64, Array<double, int=2, C, mutable, aligned>, Array<double, int=2, C, mutable, aligned>, Array<bool, int=2, C, mutable, aligned>) [323]\n",
            "889.11ms  36.191us            (15 20 1)       (32 32 1)        32        0B        0B         -           -           -           -     Tesla T4 (0)         1         7  cudapy::__main__::compute_alpha_kernel$241(Array<double, int=2, C, mutable, aligned>, __int64, Array<double, int=2, C, mutable, aligned>, Array<double, int=2, C, mutable, aligned>, Array<bool, int=2, C, mutable, aligned>) [328]\n",
            "889.31ms  36.095us            (15 20 1)       (32 32 1)        32        0B        0B         -           -           -           -     Tesla T4 (0)         1         7  cudapy::__main__::compute_alpha_kernel$241(Array<double, int=2, C, mutable, aligned>, __int64, Array<double, int=2, C, mutable, aligned>, Array<double, int=2, C, mutable, aligned>, Array<bool, int=2, C, mutable, aligned>) [333]\n",
            "889.52ms  36.191us            (15 20 1)       (32 32 1)        32        0B        0B         -           -           -           -     Tesla T4 (0)         1         7  cudapy::__main__::compute_alpha_kernel$241(Array<double, int=2, C, mutable, aligned>, __int64, Array<double, int=2, C, mutable, aligned>, Array<double, int=2, C, mutable, aligned>, Array<bool, int=2, C, mutable, aligned>) [338]\n",
            "889.74ms  36.159us            (15 20 1)       (32 32 1)        32        0B        0B         -           -           -           -     Tesla T4 (0)         1         7  cudapy::__main__::compute_alpha_kernel$241(Array<double, int=2, C, mutable, aligned>, __int64, Array<double, int=2, C, mutable, aligned>, Array<double, int=2, C, mutable, aligned>, Array<bool, int=2, C, mutable, aligned>) [343]\n",
            "889.95ms  36.191us            (15 20 1)       (32 32 1)        32        0B        0B         -           -           -           -     Tesla T4 (0)         1         7  cudapy::__main__::compute_alpha_kernel$241(Array<double, int=2, C, mutable, aligned>, __int64, Array<double, int=2, C, mutable, aligned>, Array<double, int=2, C, mutable, aligned>, Array<bool, int=2, C, mutable, aligned>) [348]\n",
            "890.16ms  36.095us            (15 20 1)       (32 32 1)        32        0B        0B         -           -           -           -     Tesla T4 (0)         1         7  cudapy::__main__::compute_alpha_kernel$241(Array<double, int=2, C, mutable, aligned>, __int64, Array<double, int=2, C, mutable, aligned>, Array<double, int=2, C, mutable, aligned>, Array<bool, int=2, C, mutable, aligned>) [353]\n",
            "890.40ms  36.127us            (15 20 1)       (32 32 1)        32        0B        0B         -           -           -           -     Tesla T4 (0)         1         7  cudapy::__main__::compute_alpha_kernel$241(Array<double, int=2, C, mutable, aligned>, __int64, Array<double, int=2, C, mutable, aligned>, Array<double, int=2, C, mutable, aligned>, Array<bool, int=2, C, mutable, aligned>) [358]\n",
            "890.65ms  36.191us            (15 20 1)       (32 32 1)        32        0B        0B         -           -           -           -     Tesla T4 (0)         1         7  cudapy::__main__::compute_alpha_kernel$241(Array<double, int=2, C, mutable, aligned>, __int64, Array<double, int=2, C, mutable, aligned>, Array<double, int=2, C, mutable, aligned>, Array<bool, int=2, C, mutable, aligned>) [363]\n",
            "890.91ms  36.159us            (15 20 1)       (32 32 1)        32        0B        0B         -           -           -           -     Tesla T4 (0)         1         7  cudapy::__main__::compute_alpha_kernel$241(Array<double, int=2, C, mutable, aligned>, __int64, Array<double, int=2, C, mutable, aligned>, Array<double, int=2, C, mutable, aligned>, Array<bool, int=2, C, mutable, aligned>) [368]\n",
            "891.15ms  36.127us            (15 20 1)       (32 32 1)        32        0B        0B         -           -           -           -     Tesla T4 (0)         1         7  cudapy::__main__::compute_alpha_kernel$241(Array<double, int=2, C, mutable, aligned>, __int64, Array<double, int=2, C, mutable, aligned>, Array<double, int=2, C, mutable, aligned>, Array<bool, int=2, C, mutable, aligned>) [373]\n",
            "891.39ms  36.191us            (15 20 1)       (32 32 1)        32        0B        0B         -           -           -           -     Tesla T4 (0)         1         7  cudapy::__main__::compute_alpha_kernel$241(Array<double, int=2, C, mutable, aligned>, __int64, Array<double, int=2, C, mutable, aligned>, Array<double, int=2, C, mutable, aligned>, Array<bool, int=2, C, mutable, aligned>) [378]\n",
            "891.66ms  36.159us            (15 20 1)       (32 32 1)        32        0B        0B         -           -           -           -     Tesla T4 (0)         1         7  cudapy::__main__::compute_alpha_kernel$241(Array<double, int=2, C, mutable, aligned>, __int64, Array<double, int=2, C, mutable, aligned>, Array<double, int=2, C, mutable, aligned>, Array<bool, int=2, C, mutable, aligned>) [383]\n",
            "891.89ms  36.127us            (15 20 1)       (32 32 1)        32        0B        0B         -           -           -           -     Tesla T4 (0)         1         7  cudapy::__main__::compute_alpha_kernel$241(Array<double, int=2, C, mutable, aligned>, __int64, Array<double, int=2, C, mutable, aligned>, Array<double, int=2, C, mutable, aligned>, Array<bool, int=2, C, mutable, aligned>) [388]\n",
            "892.10ms  36.159us            (15 20 1)       (32 32 1)        32        0B        0B         -           -           -           -     Tesla T4 (0)         1         7  cudapy::__main__::compute_alpha_kernel$241(Array<double, int=2, C, mutable, aligned>, __int64, Array<double, int=2, C, mutable, aligned>, Array<double, int=2, C, mutable, aligned>, Array<bool, int=2, C, mutable, aligned>) [393]\n",
            "892.30ms  36.095us            (15 20 1)       (32 32 1)        32        0B        0B         -           -           -           -     Tesla T4 (0)         1         7  cudapy::__main__::compute_alpha_kernel$241(Array<double, int=2, C, mutable, aligned>, __int64, Array<double, int=2, C, mutable, aligned>, Array<double, int=2, C, mutable, aligned>, Array<bool, int=2, C, mutable, aligned>) [398]\n",
            "892.51ms  36.095us            (15 20 1)       (32 32 1)        32        0B        0B         -           -           -           -     Tesla T4 (0)         1         7  cudapy::__main__::compute_alpha_kernel$241(Array<double, int=2, C, mutable, aligned>, __int64, Array<double, int=2, C, mutable, aligned>, Array<double, int=2, C, mutable, aligned>, Array<bool, int=2, C, mutable, aligned>) [403]\n",
            "892.62ms  667.34us                    -               -         -         -         -  2.3438MB  3.4297GB/s      Device    Pageable     Tesla T4 (0)         1         7  [CUDA memcpy DtoH]\n",
            "\n",
            "Regs: Number of registers used per CUDA thread. This number includes registers used internally by the CUDA driver and/or tools and can be more than what the compiler shows.\n",
            "SSMem: Static shared memory allocated per CUDA block.\n",
            "DSMem: Dynamic shared memory allocated per CUDA block.\n",
            "SrcMemType: The type of source memory accessed by memory operation/copy\n",
            "DstMemType: The type of destination memory accessed by memory operation/copy\n",
            "CPU times: user 50.9 ms, sys: 11.4 ms, total: 62.3 ms\n",
            "Wall time: 5.14 s\n"
          ]
        }
      ],
      "source": [
        "%%time\n",
        "!nvprof --print-gpu-trace python3 parallel.py"
      ],
      "id": "CwbzFwXK7c3i"
    },
    {
      "cell_type": "markdown",
      "source": [
        "**Ảnh kết quả**"
      ],
      "metadata": {
        "id": "Gyfq55hlfevH"
      },
      "id": "Gyfq55hlfevH"
    },
    {
      "cell_type": "markdown",
      "source": [
        "- Ảnh chỉ áp dụng Global Matting:\n"
      ],
      "metadata": {
        "id": "IhudXUucfevI"
      },
      "id": "IhudXUucfevI"
    },
    {
      "cell_type": "code",
      "source": [
        "%%html\n",
        "<img width=\"40%\" src='https://drive.google.com/uc?id=1-a3THTLnRgomDjLfPM3l4qcGGGnaJPdP'/>"
      ],
      "metadata": {
        "colab": {
          "base_uri": "https://localhost:8080/",
          "height": 326
        },
        "id": "3fZMMe6UVEoe",
        "outputId": "a4da8075-4145-46a5-8598-61d2046b7347"
      },
      "id": "3fZMMe6UVEoe",
      "execution_count": 13,
      "outputs": [
        {
          "output_type": "display_data",
          "data": {
            "text/plain": [
              "<IPython.core.display.HTML object>"
            ],
            "text/html": [
              "<img width=\"40%\" src='https://drive.google.com/uc?id=1-a3THTLnRgomDjLfPM3l4qcGGGnaJPdP'/>"
            ]
          },
          "metadata": {}
        }
      ]
    },
    {
      "cell_type": "markdown",
      "source": [
        "- Ảnh áp dụng cả Global và Local Matting:\n"
      ],
      "metadata": {
        "id": "mFsr9hLgfevJ"
      },
      "id": "mFsr9hLgfevJ"
    },
    {
      "cell_type": "code",
      "source": [
        "%%html\n",
        "<img width=\"40%\" src='https://drive.google.com/uc?id=1ZvkB_la4tmPchvHqGi6s0ngeAwwnTrng'/>"
      ],
      "metadata": {
        "colab": {
          "base_uri": "https://localhost:8080/",
          "height": 326
        },
        "id": "XoklfZNqVGvP",
        "outputId": "fb8f2918-3b2b-43e8-d3db-d732f932d47f"
      },
      "id": "XoklfZNqVGvP",
      "execution_count": 14,
      "outputs": [
        {
          "output_type": "display_data",
          "data": {
            "text/plain": [
              "<IPython.core.display.HTML object>"
            ],
            "text/html": [
              "<img width=\"40%\" src='https://drive.google.com/uc?id=1ZvkB_la4tmPchvHqGi6s0ngeAwwnTrng'/>"
            ]
          },
          "metadata": {}
        }
      ]
    },
    {
      "cell_type": "markdown",
      "source": [
        "#### **4.3.3. So sánh độ chính xác:**"
      ],
      "metadata": {
        "id": "v21hUE96ZhTz"
      },
      "id": "v21hUE96ZhTz"
    },
    {
      "cell_type": "code",
      "source": [
        "img_seq = cv2.imread(os.path.join(IMAGES_FOLDER_PATH, '../Output/output_4_global_jit.png'))\n",
        "img_seq = cv2.cvtColor(img_seq, cv2.COLOR_BGR2RGB)\n",
        "img_par = cv2.imread(os.path.join(IMAGES_FOLDER_PATH, '../Output/output_4_global_parallel.png'))\n",
        "img_par = cv2.cvtColor(img_par, cv2.COLOR_BGR2RGB)\n",
        "errorL2 = cv2.norm(img_seq, img_par, cv2.NORM_L2)\n",
        "similarity = 1 - errorL2 / ( img_seq.shape[0] * img_seq.shape[1] )\n",
        "print('Độ giống nhau giữa ảnh của phiên bản tuần tự và phiên bản song song 1 = ',similarity)"
      ],
      "metadata": {
        "colab": {
          "base_uri": "https://localhost:8080/"
        },
        "id": "37wvCAGYZkfr",
        "outputId": "d40ddf67-c3f5-4b34-dc93-f96bf7a30416"
      },
      "id": "37wvCAGYZkfr",
      "execution_count": 15,
      "outputs": [
        {
          "output_type": "stream",
          "name": "stdout",
          "text": [
            "Độ giống nhau giữa ảnh của phiên bản tuần tự và phiên bản song song 1 =  0.9791598824421006\n"
          ]
        }
      ]
    },
    {
      "cell_type": "markdown",
      "source": [
        "#### **4.3.4. Kết quả và giải thích:**"
      ],
      "metadata": {
        "id": "Ppl5lBZmUsI0"
      },
      "id": "Ppl5lBZmUsI0"
    },
    {
      "cell_type": "markdown",
      "source": [
        "**Kết quả:**\n",
        "\n",
        "Các kết quả thử nghiệm của nhóm đến thời điểm hiện tại:\n",
        "\n",
        "\n",
        "- Về mặt độ chính xác: Ảnh của phiên bản song song chỉ khớp khoảng 98% so với ảnh từ phiên bản tuần tự.\n",
        "\n",
        "- Về mặt thời gian: 5.14s"
      ],
      "metadata": {
        "id": "04ONOM5sUvoK"
      },
      "id": "04ONOM5sUvoK"
    },
    {
      "cell_type": "markdown",
      "source": [
        "**Giải thích kết quả:**\n",
        "- Kết quả ảnh khác nhau do thứ tự thực hiện tính toán mỗi pixel của 2 phiên bản khác nhau:\n",
        "  + Tuần tự: từ trái sang phải, từ trên xuống dưới\n",
        "  + Song song: ngẫu nhiên trong block\n",
        "- Thời gian của phiên bản song song và phiên bản tuần tự có dùng jit không chênh lệch nhiều: có thể do số phần song song hoá của nhóm chưa nhiều, nên tốc độ không cải thiện nhiều."
      ],
      "metadata": {
        "id": "KpcCn8-tXosk"
      },
      "id": "KpcCn8-tXosk"
    },
    {
      "cell_type": "markdown",
      "metadata": {
        "id": "6nd6TRTmmwu1"
      },
      "source": [
        "## **5. Cài đặt song song - Phiên bản tối ưu hoá 1:**"
      ],
      "id": "6nd6TRTmmwu1"
    },
    {
      "cell_type": "markdown",
      "source": [
        "### **5.1. Phân tích:**"
      ],
      "metadata": {
        "id": "PFZbYkxemwu2"
      },
      "id": "PFZbYkxemwu2"
    },
    {
      "cell_type": "markdown",
      "source": [
        "**Phần thực hiện tối ưu:** Nhóm thực hiện cải thiện phần được song song hoá ở trên bằng cách sử dụng SMEM."
      ],
      "metadata": {
        "id": "xXeZ68BBmwu2"
      },
      "id": "xXeZ68BBmwu2"
    },
    {
      "cell_type": "markdown",
      "source": [
        "**Lý do nhóm lựa chọn phần này:** Nhóm nhận thấy là việc tính toán giá trị của mỗi pixel có phụ thuộc vào các pixel khác lân cận. Do đó sử dụng SMEM để lưu trữ mảng giá trị mỗi block để giảm thiểu thời gian truy xuất."
      ],
      "metadata": {
        "id": "tc3z4hDSmwu3"
      },
      "id": "tc3z4hDSmwu3"
    },
    {
      "cell_type": "markdown",
      "source": [
        "### **5.2. Thiết kế:**"
      ],
      "metadata": {
        "id": "MSFFeb8Bmwu4"
      },
      "id": "MSFFeb8Bmwu4"
    },
    {
      "cell_type": "markdown",
      "source": [
        "Tại mỗi thread:\n",
        "- Xác định vị trí của nó trong tổng thể grid và bên trong block\n",
        "- Kiểm tra xem vị trí của nó có nằm trong bức ảnh hay không\n",
        "- Sao chép dữ liệu tương ứng của các mảng `alpha`, `prev_alpha`, `d2_alpha` qua SMEM\n",
        "- Nếu vị trí của thread là chưa xác định được foreground hay background thì ta sẽ tính giá trị alpha ở đây bằng công thức Gauss Siedel Iteration.\n",
        "\n",
        "\n",
        "$$ {f_{i,j}}^{(n+1)} = \\frac{\\beta}{4}({f_{i+1,j}}^{(n)} + {f_{i-1,j}}^{(n+1)} + {f_{i,j+1}}^{(n)} + {f_{i,j-1}}^{(n+1)} - S_{i,j}) + (1-\\beta){f_{i,j}}^{(n)}$$\n",
        "\n",
        "Với: $$ \\frac{\\partial^2 f}{\\partial x^2}+\\frac{\\partial^2 f}{\\partial y^2} = S$$\n",
        "\n",
        "Trong công thức thì ta sử dụng các index là vị trí của thread trong block.\n",
        "\n",
        "**Vấn đề gặp phải:**\n",
        "\n",
        "Tại công thức tính thì giá trị alpha có phụ thuộc vào những pixel liền kề. Do đó ở các vị trí biên của block thì ta sẽ lấy giá trị `alpha` và `prev_alpha` từ mảng lớn được chép từ host sang.\n",
        "\n",
        "Ví dụ ở pixel [0,1], alpha sẽ được tính như sau, [0,1] ở đây là toạ độ trong block của pixel:\n",
        "\n",
        "`alpha[0,1] = beta/4*(s_alpha[-1,0] + s_alpha[0,0] + s_prev_alpha[1,1] + s_prev_alpha[0,2] - S[0,1]) + (1-beta)*s_prev_alpha[0,1]`\n",
        "\n",
        "Ta nhận thấy `s_alpha[-1,0]` nằm ngoài vùng shared mem block của mình. Do đó ta thay thế `s_alpha[-1,0]` bằng `alpha` tương ứng (mảng đã được copy sang device trước đó)."
      ],
      "metadata": {
        "id": "bRIMH5N_mwu4"
      },
      "id": "bRIMH5N_mwu4"
    },
    {
      "cell_type": "markdown",
      "source": [
        "### **5.3. Đánh giá:**"
      ],
      "metadata": {
        "id": "u6-tOdyimwu5"
      },
      "id": "u6-tOdyimwu5"
    },
    {
      "cell_type": "markdown",
      "source": [
        "#### **5.3.1. Kịch bản thí nghiệm:**"
      ],
      "metadata": {
        "id": "ekHRm4Ofmwu5"
      },
      "id": "ekHRm4Ofmwu5"
    },
    {
      "cell_type": "markdown",
      "source": [
        "Chương trình sẽ lần lượt thực hiện theo quy trình sau:\n",
        "1. Đọc ảnh gốc, ảnh tri map, ảnh nền mới. Chuyển ảnh gốc sang dạng grayscale\n",
        "2. Chạy hàm `matting_combined`: hàm tổng hợp quy trình xử lý ảnh với Global Matting bên trên. \n",
        "- Ở hàm tổng hợp sẽ gọi hàm `global_alpha_matting`\n",
        "- Ở đây sẽ gọi hàm `compute_alpha_kernel` truyền vào thêm `block_size` và `grid_size`, hàm sẽ chạy song song trên GPU.\n",
        "3. Lưu file ảnh output được áp dụng Global Matting.\n",
        "4. Bắt đầu pha Local Matting. Cho người dùng nhập (ở đây nhóm set cứng) giá trị của vùng mong muốn được cải thiện.\n",
        "5. Tính toán giá trị `alpha` mới của các vùng này bằng các hàm tuần tự chứ không chạy song song như ở Global Matting.\n",
        "6. Gọi hàm `alpha_blend` để áp giá trị `alpha` mới vào ảnh.\n",
        "7. Lưu file ảnh output được áp dụng cả Global và Local Matting.\n",
        "\n",
        "Nhìn chung, kịch bản thí nghiệm tương tự với phiên bản song song. Tuy nhiên tại bước 2 thì hàm `compute_alpha_kernel` tính toán trên SMEM.\n"
      ],
      "metadata": {
        "id": "vn-izN50mwu6"
      },
      "id": "vn-izN50mwu6"
    },
    {
      "cell_type": "markdown",
      "source": [
        "#### **5.3.2. Thực thi:**"
      ],
      "metadata": {
        "id": "PrbFVCiPmwu6"
      },
      "id": "PrbFVCiPmwu6"
    },
    {
      "cell_type": "markdown",
      "source": [
        "**Thực thi:**"
      ],
      "metadata": {
        "id": "MmhbHkBsmwu7"
      },
      "id": "MmhbHkBsmwu7"
    },
    {
      "cell_type": "code",
      "execution_count": 16,
      "metadata": {
        "id": "bb4w93VMmwu8",
        "colab": {
          "base_uri": "https://localhost:8080/"
        },
        "outputId": "c842e126-6631-46e0-8747-44d34421b4b8"
      },
      "outputs": [
        {
          "output_type": "stream",
          "name": "stdout",
          "text": [
            "==335== NVPROF is profiling process 335, command: python3 parallel_opt_v1.py\n",
            "====SUCCESS GLOBAL MATTING====\n",
            "====SUCCESS LOCAL MATTING====\n",
            "==335== Profiling application: python3 parallel_opt_v1.py\n",
            "==335== Profiling result:\n",
            "   Start  Duration            Grid Size      Block Size     Regs*    SSMem*    DSMem*      Size  Throughput  SrcMemType  DstMemType           Device   Context    Stream  Name\n",
            "353.60ms  338.42us                    -               -         -         -         -  2.3438MB  6.7632GB/s    Pageable      Device     Tesla T4 (0)         1         7  [CUDA memcpy HtoD]\n",
            "354.72ms  335.86us                    -               -         -         -         -  2.3438MB  6.8147GB/s    Pageable      Device     Tesla T4 (0)         1         7  [CUDA memcpy HtoD]\n",
            "355.98ms  381.11us                    -               -         -         -         -  2.3438MB  6.0057GB/s    Pageable      Device     Tesla T4 (0)         1         7  [CUDA memcpy HtoD]\n",
            "357.03ms  27.968us                    -               -         -         -         -  300.00KB  10.230GB/s    Pageable      Device     Tesla T4 (0)         1         7  [CUDA memcpy HtoD]\n",
            "867.58ms  50.558us            (15 20 1)       (32 32 1)        34  24.000KB        0B         -           -           -           -     Tesla T4 (0)         1         7  cudapy::__main__::compute_alpha_kernel_shared$241(Array<double, int=2, C, mutable, aligned>, __int64, Array<double, int=2, C, mutable, aligned>, Array<double, int=2, C, mutable, aligned>, Array<bool, int=2, C, mutable, aligned>) [158]\n",
            "868.02ms  53.215us            (15 20 1)       (32 32 1)        34  24.000KB        0B         -           -           -           -     Tesla T4 (0)         1         7  cudapy::__main__::compute_alpha_kernel_shared$241(Array<double, int=2, C, mutable, aligned>, __int64, Array<double, int=2, C, mutable, aligned>, Array<double, int=2, C, mutable, aligned>, Array<bool, int=2, C, mutable, aligned>) [163]\n",
            "868.29ms  52.351us            (15 20 1)       (32 32 1)        34  24.000KB        0B         -           -           -           -     Tesla T4 (0)         1         7  cudapy::__main__::compute_alpha_kernel_shared$241(Array<double, int=2, C, mutable, aligned>, __int64, Array<double, int=2, C, mutable, aligned>, Array<double, int=2, C, mutable, aligned>, Array<bool, int=2, C, mutable, aligned>) [168]\n",
            "868.78ms  52.670us            (15 20 1)       (32 32 1)        34  24.000KB        0B         -           -           -           -     Tesla T4 (0)         1         7  cudapy::__main__::compute_alpha_kernel_shared$241(Array<double, int=2, C, mutable, aligned>, __int64, Array<double, int=2, C, mutable, aligned>, Array<double, int=2, C, mutable, aligned>, Array<bool, int=2, C, mutable, aligned>) [173]\n",
            "869.10ms  52.671us            (15 20 1)       (32 32 1)        34  24.000KB        0B         -           -           -           -     Tesla T4 (0)         1         7  cudapy::__main__::compute_alpha_kernel_shared$241(Array<double, int=2, C, mutable, aligned>, __int64, Array<double, int=2, C, mutable, aligned>, Array<double, int=2, C, mutable, aligned>, Array<bool, int=2, C, mutable, aligned>) [178]\n",
            "869.35ms  52.446us            (15 20 1)       (32 32 1)        34  24.000KB        0B         -           -           -           -     Tesla T4 (0)         1         7  cudapy::__main__::compute_alpha_kernel_shared$241(Array<double, int=2, C, mutable, aligned>, __int64, Array<double, int=2, C, mutable, aligned>, Array<double, int=2, C, mutable, aligned>, Array<bool, int=2, C, mutable, aligned>) [183]\n",
            "869.66ms  52.574us            (15 20 1)       (32 32 1)        34  24.000KB        0B         -           -           -           -     Tesla T4 (0)         1         7  cudapy::__main__::compute_alpha_kernel_shared$241(Array<double, int=2, C, mutable, aligned>, __int64, Array<double, int=2, C, mutable, aligned>, Array<double, int=2, C, mutable, aligned>, Array<bool, int=2, C, mutable, aligned>) [188]\n",
            "869.94ms  52.862us            (15 20 1)       (32 32 1)        34  24.000KB        0B         -           -           -           -     Tesla T4 (0)         1         7  cudapy::__main__::compute_alpha_kernel_shared$241(Array<double, int=2, C, mutable, aligned>, __int64, Array<double, int=2, C, mutable, aligned>, Array<double, int=2, C, mutable, aligned>, Array<bool, int=2, C, mutable, aligned>) [193]\n",
            "870.18ms  52.671us            (15 20 1)       (32 32 1)        34  24.000KB        0B         -           -           -           -     Tesla T4 (0)         1         7  cudapy::__main__::compute_alpha_kernel_shared$241(Array<double, int=2, C, mutable, aligned>, __int64, Array<double, int=2, C, mutable, aligned>, Array<double, int=2, C, mutable, aligned>, Array<bool, int=2, C, mutable, aligned>) [198]\n",
            "870.43ms  52.414us            (15 20 1)       (32 32 1)        34  24.000KB        0B         -           -           -           -     Tesla T4 (0)         1         7  cudapy::__main__::compute_alpha_kernel_shared$241(Array<double, int=2, C, mutable, aligned>, __int64, Array<double, int=2, C, mutable, aligned>, Array<double, int=2, C, mutable, aligned>, Array<bool, int=2, C, mutable, aligned>) [203]\n",
            "870.70ms  52.766us            (15 20 1)       (32 32 1)        34  24.000KB        0B         -           -           -           -     Tesla T4 (0)         1         7  cudapy::__main__::compute_alpha_kernel_shared$241(Array<double, int=2, C, mutable, aligned>, __int64, Array<double, int=2, C, mutable, aligned>, Array<double, int=2, C, mutable, aligned>, Array<bool, int=2, C, mutable, aligned>) [208]\n",
            "870.94ms  52.446us            (15 20 1)       (32 32 1)        34  24.000KB        0B         -           -           -           -     Tesla T4 (0)         1         7  cudapy::__main__::compute_alpha_kernel_shared$241(Array<double, int=2, C, mutable, aligned>, __int64, Array<double, int=2, C, mutable, aligned>, Array<double, int=2, C, mutable, aligned>, Array<bool, int=2, C, mutable, aligned>) [213]\n",
            "871.18ms  52.606us            (15 20 1)       (32 32 1)        34  24.000KB        0B         -           -           -           -     Tesla T4 (0)         1         7  cudapy::__main__::compute_alpha_kernel_shared$241(Array<double, int=2, C, mutable, aligned>, __int64, Array<double, int=2, C, mutable, aligned>, Array<double, int=2, C, mutable, aligned>, Array<bool, int=2, C, mutable, aligned>) [218]\n",
            "871.43ms  52.383us            (15 20 1)       (32 32 1)        34  24.000KB        0B         -           -           -           -     Tesla T4 (0)         1         7  cudapy::__main__::compute_alpha_kernel_shared$241(Array<double, int=2, C, mutable, aligned>, __int64, Array<double, int=2, C, mutable, aligned>, Array<double, int=2, C, mutable, aligned>, Array<bool, int=2, C, mutable, aligned>) [223]\n",
            "871.68ms  52.447us            (15 20 1)       (32 32 1)        34  24.000KB        0B         -           -           -           -     Tesla T4 (0)         1         7  cudapy::__main__::compute_alpha_kernel_shared$241(Array<double, int=2, C, mutable, aligned>, __int64, Array<double, int=2, C, mutable, aligned>, Array<double, int=2, C, mutable, aligned>, Array<bool, int=2, C, mutable, aligned>) [228]\n",
            "871.92ms  52.735us            (15 20 1)       (32 32 1)        34  24.000KB        0B         -           -           -           -     Tesla T4 (0)         1         7  cudapy::__main__::compute_alpha_kernel_shared$241(Array<double, int=2, C, mutable, aligned>, __int64, Array<double, int=2, C, mutable, aligned>, Array<double, int=2, C, mutable, aligned>, Array<bool, int=2, C, mutable, aligned>) [233]\n",
            "872.16ms  52.415us            (15 20 1)       (32 32 1)        34  24.000KB        0B         -           -           -           -     Tesla T4 (0)         1         7  cudapy::__main__::compute_alpha_kernel_shared$241(Array<double, int=2, C, mutable, aligned>, __int64, Array<double, int=2, C, mutable, aligned>, Array<double, int=2, C, mutable, aligned>, Array<bool, int=2, C, mutable, aligned>) [238]\n",
            "872.41ms  52.446us            (15 20 1)       (32 32 1)        34  24.000KB        0B         -           -           -           -     Tesla T4 (0)         1         7  cudapy::__main__::compute_alpha_kernel_shared$241(Array<double, int=2, C, mutable, aligned>, __int64, Array<double, int=2, C, mutable, aligned>, Array<double, int=2, C, mutable, aligned>, Array<bool, int=2, C, mutable, aligned>) [243]\n",
            "872.67ms  52.543us            (15 20 1)       (32 32 1)        34  24.000KB        0B         -           -           -           -     Tesla T4 (0)         1         7  cudapy::__main__::compute_alpha_kernel_shared$241(Array<double, int=2, C, mutable, aligned>, __int64, Array<double, int=2, C, mutable, aligned>, Array<double, int=2, C, mutable, aligned>, Array<bool, int=2, C, mutable, aligned>) [248]\n",
            "872.90ms  52.830us            (15 20 1)       (32 32 1)        34  24.000KB        0B         -           -           -           -     Tesla T4 (0)         1         7  cudapy::__main__::compute_alpha_kernel_shared$241(Array<double, int=2, C, mutable, aligned>, __int64, Array<double, int=2, C, mutable, aligned>, Array<double, int=2, C, mutable, aligned>, Array<bool, int=2, C, mutable, aligned>) [253]\n",
            "873.14ms  52.606us            (15 20 1)       (32 32 1)        34  24.000KB        0B         -           -           -           -     Tesla T4 (0)         1         7  cudapy::__main__::compute_alpha_kernel_shared$241(Array<double, int=2, C, mutable, aligned>, __int64, Array<double, int=2, C, mutable, aligned>, Array<double, int=2, C, mutable, aligned>, Array<bool, int=2, C, mutable, aligned>) [258]\n",
            "873.38ms  52.638us            (15 20 1)       (32 32 1)        34  24.000KB        0B         -           -           -           -     Tesla T4 (0)         1         7  cudapy::__main__::compute_alpha_kernel_shared$241(Array<double, int=2, C, mutable, aligned>, __int64, Array<double, int=2, C, mutable, aligned>, Array<double, int=2, C, mutable, aligned>, Array<bool, int=2, C, mutable, aligned>) [263]\n",
            "873.67ms  52.735us            (15 20 1)       (32 32 1)        34  24.000KB        0B         -           -           -           -     Tesla T4 (0)         1         7  cudapy::__main__::compute_alpha_kernel_shared$241(Array<double, int=2, C, mutable, aligned>, __int64, Array<double, int=2, C, mutable, aligned>, Array<double, int=2, C, mutable, aligned>, Array<bool, int=2, C, mutable, aligned>) [268]\n",
            "873.93ms  52.959us            (15 20 1)       (32 32 1)        34  24.000KB        0B         -           -           -           -     Tesla T4 (0)         1         7  cudapy::__main__::compute_alpha_kernel_shared$241(Array<double, int=2, C, mutable, aligned>, __int64, Array<double, int=2, C, mutable, aligned>, Array<double, int=2, C, mutable, aligned>, Array<bool, int=2, C, mutable, aligned>) [273]\n",
            "874.17ms  52.735us            (15 20 1)       (32 32 1)        34  24.000KB        0B         -           -           -           -     Tesla T4 (0)         1         7  cudapy::__main__::compute_alpha_kernel_shared$241(Array<double, int=2, C, mutable, aligned>, __int64, Array<double, int=2, C, mutable, aligned>, Array<double, int=2, C, mutable, aligned>, Array<bool, int=2, C, mutable, aligned>) [278]\n",
            "874.41ms  52.639us            (15 20 1)       (32 32 1)        34  24.000KB        0B         -           -           -           -     Tesla T4 (0)         1         7  cudapy::__main__::compute_alpha_kernel_shared$241(Array<double, int=2, C, mutable, aligned>, __int64, Array<double, int=2, C, mutable, aligned>, Array<double, int=2, C, mutable, aligned>, Array<bool, int=2, C, mutable, aligned>) [283]\n",
            "874.68ms  52.446us            (15 20 1)       (32 32 1)        34  24.000KB        0B         -           -           -           -     Tesla T4 (0)         1         7  cudapy::__main__::compute_alpha_kernel_shared$241(Array<double, int=2, C, mutable, aligned>, __int64, Array<double, int=2, C, mutable, aligned>, Array<double, int=2, C, mutable, aligned>, Array<bool, int=2, C, mutable, aligned>) [288]\n",
            "874.95ms  52.415us            (15 20 1)       (32 32 1)        34  24.000KB        0B         -           -           -           -     Tesla T4 (0)         1         7  cudapy::__main__::compute_alpha_kernel_shared$241(Array<double, int=2, C, mutable, aligned>, __int64, Array<double, int=2, C, mutable, aligned>, Array<double, int=2, C, mutable, aligned>, Array<bool, int=2, C, mutable, aligned>) [293]\n",
            "875.19ms  53.246us            (15 20 1)       (32 32 1)        34  24.000KB        0B         -           -           -           -     Tesla T4 (0)         1         7  cudapy::__main__::compute_alpha_kernel_shared$241(Array<double, int=2, C, mutable, aligned>, __int64, Array<double, int=2, C, mutable, aligned>, Array<double, int=2, C, mutable, aligned>, Array<bool, int=2, C, mutable, aligned>) [298]\n",
            "875.44ms  52.447us            (15 20 1)       (32 32 1)        34  24.000KB        0B         -           -           -           -     Tesla T4 (0)         1         7  cudapy::__main__::compute_alpha_kernel_shared$241(Array<double, int=2, C, mutable, aligned>, __int64, Array<double, int=2, C, mutable, aligned>, Array<double, int=2, C, mutable, aligned>, Array<bool, int=2, C, mutable, aligned>) [303]\n",
            "875.71ms  52.191us            (15 20 1)       (32 32 1)        34  24.000KB        0B         -           -           -           -     Tesla T4 (0)         1         7  cudapy::__main__::compute_alpha_kernel_shared$241(Array<double, int=2, C, mutable, aligned>, __int64, Array<double, int=2, C, mutable, aligned>, Array<double, int=2, C, mutable, aligned>, Array<bool, int=2, C, mutable, aligned>) [308]\n",
            "875.95ms  52.607us            (15 20 1)       (32 32 1)        34  24.000KB        0B         -           -           -           -     Tesla T4 (0)         1         7  cudapy::__main__::compute_alpha_kernel_shared$241(Array<double, int=2, C, mutable, aligned>, __int64, Array<double, int=2, C, mutable, aligned>, Array<double, int=2, C, mutable, aligned>, Array<bool, int=2, C, mutable, aligned>) [313]\n",
            "876.19ms  52.318us            (15 20 1)       (32 32 1)        34  24.000KB        0B         -           -           -           -     Tesla T4 (0)         1         7  cudapy::__main__::compute_alpha_kernel_shared$241(Array<double, int=2, C, mutable, aligned>, __int64, Array<double, int=2, C, mutable, aligned>, Array<double, int=2, C, mutable, aligned>, Array<bool, int=2, C, mutable, aligned>) [318]\n",
            "876.45ms  52.447us            (15 20 1)       (32 32 1)        34  24.000KB        0B         -           -           -           -     Tesla T4 (0)         1         7  cudapy::__main__::compute_alpha_kernel_shared$241(Array<double, int=2, C, mutable, aligned>, __int64, Array<double, int=2, C, mutable, aligned>, Array<double, int=2, C, mutable, aligned>, Array<bool, int=2, C, mutable, aligned>) [323]\n",
            "876.70ms  52.158us            (15 20 1)       (32 32 1)        34  24.000KB        0B         -           -           -           -     Tesla T4 (0)         1         7  cudapy::__main__::compute_alpha_kernel_shared$241(Array<double, int=2, C, mutable, aligned>, __int64, Array<double, int=2, C, mutable, aligned>, Array<double, int=2, C, mutable, aligned>, Array<bool, int=2, C, mutable, aligned>) [328]\n",
            "876.94ms  52.415us            (15 20 1)       (32 32 1)        34  24.000KB        0B         -           -           -           -     Tesla T4 (0)         1         7  cudapy::__main__::compute_alpha_kernel_shared$241(Array<double, int=2, C, mutable, aligned>, __int64, Array<double, int=2, C, mutable, aligned>, Array<double, int=2, C, mutable, aligned>, Array<bool, int=2, C, mutable, aligned>) [333]\n",
            "877.17ms  52.735us            (15 20 1)       (32 32 1)        34  24.000KB        0B         -           -           -           -     Tesla T4 (0)         1         7  cudapy::__main__::compute_alpha_kernel_shared$241(Array<double, int=2, C, mutable, aligned>, __int64, Array<double, int=2, C, mutable, aligned>, Array<double, int=2, C, mutable, aligned>, Array<bool, int=2, C, mutable, aligned>) [338]\n",
            "877.41ms  52.607us            (15 20 1)       (32 32 1)        34  24.000KB        0B         -           -           -           -     Tesla T4 (0)         1         7  cudapy::__main__::compute_alpha_kernel_shared$241(Array<double, int=2, C, mutable, aligned>, __int64, Array<double, int=2, C, mutable, aligned>, Array<double, int=2, C, mutable, aligned>, Array<bool, int=2, C, mutable, aligned>) [343]\n",
            "877.69ms  52.639us            (15 20 1)       (32 32 1)        34  24.000KB        0B         -           -           -           -     Tesla T4 (0)         1         7  cudapy::__main__::compute_alpha_kernel_shared$241(Array<double, int=2, C, mutable, aligned>, __int64, Array<double, int=2, C, mutable, aligned>, Array<double, int=2, C, mutable, aligned>, Array<bool, int=2, C, mutable, aligned>) [348]\n",
            "877.93ms  53.054us            (15 20 1)       (32 32 1)        34  24.000KB        0B         -           -           -           -     Tesla T4 (0)         1         7  cudapy::__main__::compute_alpha_kernel_shared$241(Array<double, int=2, C, mutable, aligned>, __int64, Array<double, int=2, C, mutable, aligned>, Array<double, int=2, C, mutable, aligned>, Array<bool, int=2, C, mutable, aligned>) [353]\n",
            "878.17ms  53.023us            (15 20 1)       (32 32 1)        34  24.000KB        0B         -           -           -           -     Tesla T4 (0)         1         7  cudapy::__main__::compute_alpha_kernel_shared$241(Array<double, int=2, C, mutable, aligned>, __int64, Array<double, int=2, C, mutable, aligned>, Array<double, int=2, C, mutable, aligned>, Array<bool, int=2, C, mutable, aligned>) [358]\n",
            "878.43ms  53.118us            (15 20 1)       (32 32 1)        34  24.000KB        0B         -           -           -           -     Tesla T4 (0)         1         7  cudapy::__main__::compute_alpha_kernel_shared$241(Array<double, int=2, C, mutable, aligned>, __int64, Array<double, int=2, C, mutable, aligned>, Array<double, int=2, C, mutable, aligned>, Array<bool, int=2, C, mutable, aligned>) [363]\n",
            "878.70ms  52.894us            (15 20 1)       (32 32 1)        34  24.000KB        0B         -           -           -           -     Tesla T4 (0)         1         7  cudapy::__main__::compute_alpha_kernel_shared$241(Array<double, int=2, C, mutable, aligned>, __int64, Array<double, int=2, C, mutable, aligned>, Array<double, int=2, C, mutable, aligned>, Array<bool, int=2, C, mutable, aligned>) [368]\n",
            "878.94ms  52.542us            (15 20 1)       (32 32 1)        34  24.000KB        0B         -           -           -           -     Tesla T4 (0)         1         7  cudapy::__main__::compute_alpha_kernel_shared$241(Array<double, int=2, C, mutable, aligned>, __int64, Array<double, int=2, C, mutable, aligned>, Array<double, int=2, C, mutable, aligned>, Array<bool, int=2, C, mutable, aligned>) [373]\n",
            "879.17ms  52.798us            (15 20 1)       (32 32 1)        34  24.000KB        0B         -           -           -           -     Tesla T4 (0)         1         7  cudapy::__main__::compute_alpha_kernel_shared$241(Array<double, int=2, C, mutable, aligned>, __int64, Array<double, int=2, C, mutable, aligned>, Array<double, int=2, C, mutable, aligned>, Array<bool, int=2, C, mutable, aligned>) [378]\n",
            "879.42ms  52.447us            (15 20 1)       (32 32 1)        34  24.000KB        0B         -           -           -           -     Tesla T4 (0)         1         7  cudapy::__main__::compute_alpha_kernel_shared$241(Array<double, int=2, C, mutable, aligned>, __int64, Array<double, int=2, C, mutable, aligned>, Array<double, int=2, C, mutable, aligned>, Array<bool, int=2, C, mutable, aligned>) [383]\n",
            "879.68ms  52.766us            (15 20 1)       (32 32 1)        34  24.000KB        0B         -           -           -           -     Tesla T4 (0)         1         7  cudapy::__main__::compute_alpha_kernel_shared$241(Array<double, int=2, C, mutable, aligned>, __int64, Array<double, int=2, C, mutable, aligned>, Array<double, int=2, C, mutable, aligned>, Array<bool, int=2, C, mutable, aligned>) [388]\n",
            "879.91ms  52.479us            (15 20 1)       (32 32 1)        34  24.000KB        0B         -           -           -           -     Tesla T4 (0)         1         7  cudapy::__main__::compute_alpha_kernel_shared$241(Array<double, int=2, C, mutable, aligned>, __int64, Array<double, int=2, C, mutable, aligned>, Array<double, int=2, C, mutable, aligned>, Array<bool, int=2, C, mutable, aligned>) [393]\n",
            "880.14ms  52.511us            (15 20 1)       (32 32 1)        34  24.000KB        0B         -           -           -           -     Tesla T4 (0)         1         7  cudapy::__main__::compute_alpha_kernel_shared$241(Array<double, int=2, C, mutable, aligned>, __int64, Array<double, int=2, C, mutable, aligned>, Array<double, int=2, C, mutable, aligned>, Array<bool, int=2, C, mutable, aligned>) [398]\n",
            "880.38ms  52.959us            (15 20 1)       (32 32 1)        34  24.000KB        0B         -           -           -           -     Tesla T4 (0)         1         7  cudapy::__main__::compute_alpha_kernel_shared$241(Array<double, int=2, C, mutable, aligned>, __int64, Array<double, int=2, C, mutable, aligned>, Array<double, int=2, C, mutable, aligned>, Array<bool, int=2, C, mutable, aligned>) [403]\n",
            "880.51ms  722.03us                    -               -         -         -         -  2.3438MB  3.1700GB/s      Device    Pageable     Tesla T4 (0)         1         7  [CUDA memcpy DtoH]\n",
            "\n",
            "Regs: Number of registers used per CUDA thread. This number includes registers used internally by the CUDA driver and/or tools and can be more than what the compiler shows.\n",
            "SSMem: Static shared memory allocated per CUDA block.\n",
            "DSMem: Dynamic shared memory allocated per CUDA block.\n",
            "SrcMemType: The type of source memory accessed by memory operation/copy\n",
            "DstMemType: The type of destination memory accessed by memory operation/copy\n",
            "CPU times: user 48.6 ms, sys: 16.2 ms, total: 64.8 ms\n",
            "Wall time: 5.04 s\n"
          ]
        }
      ],
      "source": [
        "%%time\n",
        "!nvprof --print-gpu-trace python3 parallel_opt_v1.py"
      ],
      "id": "bb4w93VMmwu8"
    },
    {
      "cell_type": "markdown",
      "source": [
        "**Ảnh kết quả**"
      ],
      "metadata": {
        "id": "owFVS0uGileT"
      },
      "id": "owFVS0uGileT"
    },
    {
      "cell_type": "markdown",
      "source": [
        "- Ảnh chỉ áp dụng Global Matting:\n"
      ],
      "metadata": {
        "id": "RUXVGjfjileb"
      },
      "id": "RUXVGjfjileb"
    },
    {
      "cell_type": "code",
      "source": [
        "%%html\n",
        "<img width=\"40%\" src='https://drive.google.com/uc?id=1WeUnf6TYkWmTrSBSbdfn1FKv3PigCtcj'/>"
      ],
      "metadata": {
        "colab": {
          "base_uri": "https://localhost:8080/",
          "height": 326
        },
        "outputId": "771c3752-1fb3-4eaf-90e5-d82847ccdcc5",
        "id": "Ilk1N7dqileb"
      },
      "execution_count": 17,
      "outputs": [
        {
          "output_type": "display_data",
          "data": {
            "text/plain": [
              "<IPython.core.display.HTML object>"
            ],
            "text/html": [
              "<img width=\"40%\" src='https://drive.google.com/uc?id=1WeUnf6TYkWmTrSBSbdfn1FKv3PigCtcj'/>"
            ]
          },
          "metadata": {}
        }
      ],
      "id": "Ilk1N7dqileb"
    },
    {
      "cell_type": "markdown",
      "source": [
        "- Ảnh áp dụng cả Global và Local Matting:\n"
      ],
      "metadata": {
        "id": "0g5VQQGOilec"
      },
      "id": "0g5VQQGOilec"
    },
    {
      "cell_type": "code",
      "source": [
        "%%html\n",
        "<img width=\"40%\" src='https://drive.google.com/uc?id=1OGbbkjKtehe72X6WTObowolKBygDor4f'/>"
      ],
      "metadata": {
        "colab": {
          "base_uri": "https://localhost:8080/",
          "height": 326
        },
        "outputId": "79b268c5-0437-4efe-c027-e07fbfd5ef15",
        "id": "ZgUqBjOmilec"
      },
      "execution_count": 18,
      "outputs": [
        {
          "output_type": "display_data",
          "data": {
            "text/plain": [
              "<IPython.core.display.HTML object>"
            ],
            "text/html": [
              "<img width=\"40%\" src='https://drive.google.com/uc?id=1OGbbkjKtehe72X6WTObowolKBygDor4f'/>"
            ]
          },
          "metadata": {}
        }
      ],
      "id": "ZgUqBjOmilec"
    },
    {
      "cell_type": "markdown",
      "source": [
        "#### **5.3.3. So sánh độ chính xác:**"
      ],
      "metadata": {
        "id": "9PVtIPufmwu_"
      },
      "id": "9PVtIPufmwu_"
    },
    {
      "cell_type": "code",
      "source": [
        "img_seq = cv2.imread(os.path.join(IMAGES_FOLDER_PATH, '../Output/output_4_global_jit.png'))\n",
        "img_seq = cv2.cvtColor(img_seq, cv2.COLOR_BGR2RGB)\n",
        "img_par = cv2.imread(os.path.join(IMAGES_FOLDER_PATH, '../Output/output_4_global_parallel.png'))\n",
        "img_par = cv2.cvtColor(img_par, cv2.COLOR_BGR2RGB)\n",
        "img_par_v1 = cv2.imread(os.path.join(IMAGES_FOLDER_PATH, '../Output/output_4_global_parallel_v1.png'))\n",
        "img_par_v1 = cv2.cvtColor(img_par_v1, cv2.COLOR_BGR2RGB)\n",
        "errorL2 = cv2.norm(img_seq, img_par_v1, cv2.NORM_L2)\n",
        "similarity = 1 - errorL2 / ( img_seq.shape[0] * img_seq.shape[1] )\n",
        "print('Độ giống nhau giữa ảnh của phiên bản tuần tự và phiên bản song song 1 = ',similarity)\n",
        "errorL2_2 = cv2.norm(img_par, img_par_v1, cv2.NORM_L2)\n",
        "similarity_2 = 1 - errorL2_2 / ( img_par.shape[0] * img_par.shape[1] )\n",
        "print('Độ giống nhau giữa ảnh của phiên bản tuần tự và phiên bản song song 1 = ',similarity_2)"
      ],
      "metadata": {
        "id": "Pqq0Ez5Qmwu_",
        "colab": {
          "base_uri": "https://localhost:8080/"
        },
        "outputId": "7fb51c8b-b21b-4308-bf01-e62c7543401b"
      },
      "execution_count": 19,
      "outputs": [
        {
          "output_type": "stream",
          "name": "stdout",
          "text": [
            "Độ giống nhau giữa ảnh của phiên bản tuần tự và phiên bản song song 1 =  0.9791908386586683\n",
            "Độ giống nhau giữa ảnh của phiên bản tuần tự và phiên bản song song 1 =  0.9994664039305301\n"
          ]
        }
      ],
      "id": "Pqq0Ez5Qmwu_"
    },
    {
      "cell_type": "markdown",
      "source": [
        "#### **5.3.4. Kết quả và giải thích:**"
      ],
      "metadata": {
        "id": "LQNp9IOUmwu_"
      },
      "id": "LQNp9IOUmwu_"
    },
    {
      "cell_type": "markdown",
      "source": [
        "**Kết quả:**\n",
        "\n",
        "Các kết quả thử nghiệm của nhóm đến thời điểm hiện tại:\n",
        "\n",
        "\n",
        "- Về mặt độ chính xác: Ảnh output phiên bản cải tiến gần như giống với phiên bản song song, do đó nó cũng có độ khớp với output phiên bản có jit là 98%.\n",
        "\n",
        "- Về mặt thời gian: 5.04s\n"
      ],
      "metadata": {
        "id": "SB48x65dmwvA"
      },
      "id": "SB48x65dmwvA"
    },
    {
      "cell_type": "markdown",
      "source": [
        "**Giải thích kết quả:**\n",
        "- Kết quả ảnh khác nhau do thứ tự thực hiện tính toán mỗi pixel của 2 phiên bản khác nhau:\n",
        "  + Tuần tự: từ trái sang phải, từ trên xuống dưới\n",
        "  + Song song: ngẫu nhiên trong block và chưa xử lý được các phần tử ở biên của mỗi block\n",
        "- Thời gian của phiên bản song song và phiên bản tuần tự có dùng jit không chênh lệch nhiều: có thể do số phần song song hoá của nhóm chưa nhiều, nên tốc độ không cải thiện nhiều."
      ],
      "metadata": {
        "id": "YjLAPWcmmwvA"
      },
      "id": "YjLAPWcmmwvA"
    },
    {
      "cell_type": "markdown",
      "source": [
        "## **6. Tổng hợp kết quả và giải thích**"
      ],
      "metadata": {
        "id": "rioygFuj5Bwk"
      },
      "id": "rioygFuj5Bwk"
    },
    {
      "cell_type": "markdown",
      "source": [
        "### **6.1. Các kết quả:**"
      ],
      "metadata": {
        "id": "8edniscF5MsG"
      },
      "id": "8edniscF5MsG"
    },
    {
      "cell_type": "markdown",
      "source": [
        "**Về mặt độ chính xác:** Độ khớp của ảnh từ các phiên bản:\n",
        "\n",
        "|       **Phiên bản**      \t| **Tuần tự có jit** \t| **Song song** \t| **Song song + Cải tiến** \t|\n",
        "|:------------------------:\t|:------------------:\t|:-------------:\t|:------------------------:\t|\n",
        "|    **Tuần tự có jit**    \t|          -         \t|      98%      \t|            98%           \t|\n",
        "|       **Song song**      \t|          -         \t|       -       \t|           99.9%           \t|\n",
        "| **Song song + Cải tiến** \t|          -         \t|       -       \t|             -            \t|\n"
      ],
      "metadata": {
        "id": "-C2Bmgwt5QZ1"
      },
      "id": "-C2Bmgwt5QZ1"
    },
    {
      "cell_type": "markdown",
      "source": [
        "\n",
        "**Về mặt thời gian:** Ở đây khi gom tất cả các phiên bản vào chung 1 notebook và chạy theo thứ tự: Tuần tự không jit -> Tuần tự có jit -> Song song -> Cải tiến thì thời gian chạy khác với khi chạy riêng lẻ từng phiên bản. Số liệu có thể khác qua mỗi lần chạy. Thời gian chạy hiển thị ở các cell phía trên là khi chạy chung trên 1 notebook.\n",
        "\n",
        "|       **Phiên bản**      \t| **Chạy chung trên 1 notebook** \t| **Chạy riêng lẻ** \t|\n",
        "|:------------------------:\t|:------------------------------:\t|:-----------------:\t|\n",
        "|   **Tuần tự không jit**  \t|              24.4s             \t|       27.8s       \t|\n",
        "|    **Tuần tự có jit**    \t|              4.14s             \t|       9.35s       \t|\n",
        "|       **Song song**      \t|              5.14s             \t|       6.04s       \t|\n",
        "| **Song song + Cải tiến** \t|              5.04s             \t|       5.63s       \t|"
      ],
      "metadata": {
        "id": "xtNrFICsJe8I"
      },
      "id": "xtNrFICsJe8I"
    },
    {
      "cell_type": "markdown",
      "source": [
        "### **6.2. Giải thích các kết quả:**"
      ],
      "metadata": {
        "id": "Tt-xAQoI6CIy"
      },
      "id": "Tt-xAQoI6CIy"
    },
    {
      "cell_type": "markdown",
      "source": [
        "**Về mặt độ chính xác**\n",
        "- Các phiên bản song song có sự chính xác khác so với bản tuần tự là do thứ tự thực hiện tính toán mỗi pixel của 2 phiên bản khác nhau:\n",
        "  + Tuần tự: từ trái sang phải, từ trên xuống dưới\n",
        "  + Song song: ngẫu nhiên trong block\n",
        "- Hai phiên bản song song khác nhau một chút có thể do cách làm tròn số của hệ thống.\n",
        "\n",
        "**Về mặt thời gian**\n",
        "- Khi chạy riêng lẻ và gộp chung có thời gian khác nhau là bởi vì do trong các file .py nhiều hàm trùng lặp. Nhưng phiên bản sau hệ thống sẽ tốn ít thời gian để biên dịch hơn, vì đã từng được biên dịch một lần trước đó => Để so sánh thì dùng kết quả khi chạy riêng lẻ là hợp lý.\n",
        "- Các mốc thời gian đúng như ta kì vọng:\n",
        "(Song song cải tiến) < (Song song) < (Tuần tự có jit) < (Tuần tự không jit)"
      ],
      "metadata": {
        "id": "7ZqGM6C_6FB_"
      },
      "id": "7ZqGM6C_6FB_"
    },
    {
      "cell_type": "markdown",
      "metadata": {
        "id": "337c34ef"
      },
      "source": [
        "## **7. Nhìn lại quá trình làm đồ án**"
      ],
      "id": "337c34ef"
    },
    {
      "cell_type": "markdown",
      "metadata": {
        "id": "72079acf"
      },
      "source": [
        "**1712898 - Nguyễn Văn Hậu**\n",
        "- Khó khăn\n",
        "    + Xuất phát điểm là người may mắn khi tham gia vào lớp Lập trình song song ứng dụng nhưng chưa học qua lớp tiên quyết trước đó. Khó khăn ban đầu em gặp phải là quy trình giải quyết một bài toán song song, kĩ thuật để tối ưu hóa các thuật toán bằng xử lý song song. Thời gian đầu khá khó nhằn để tìm được đề tài vừa với sức mình. May mắn hơn khi em có một team nhiều kinh nghiệm, từng bước giúp em theo được quá trình giải quyết bài toán.\n",
        "- Học được:\n",
        "    + Cách phân chia công việc tốt, giúp cho quá trình làm việc diễn ra khá suôn sẻ. Cách hoạt động trong nhóm, tính cách của những con người trong nhóm, giúp em biết em thích hợp với nhóm như thế nào, cũng là bài học chọn người đồng hành cho cơ hội làm việc sau này.\n",
        "    + Em biết và hiểu thêm về luồng xử lý song song trên GPU, cách ứng dụng vào một bài toán thực tế."
      ],
      "id": "72079acf"
    },
    {
      "cell_type": "markdown",
      "metadata": {
        "id": "UGW49RWY73cE"
      },
      "source": [
        "**18120181 - Nguyễn Thị Cẩm Hồng**\n",
        "- Khó khăn\n",
        "    + Thời gian còn hạn chế do có khá nhiều môn học và môn nào cũng có nhiều đồ án, deadline. Nhất là giai đoạn cuối kì khi có nhiều đồ án môn học và em có đi thực tập.\n",
        "    + Tìm hiểu về bản chất của công thức Poisson, cách tự tạo trimap.\n",
        "    + Giải thích các kết quả gặp phải trong bài toán.\n",
        "- Học được:\n",
        "    + Cách lập trình song song bằng numba cuda.\n",
        "    + Cải thiện nhiều khả năng làm việc nhóm, quản lý version github."
      ],
      "id": "UGW49RWY73cE"
    },
    {
      "cell_type": "markdown",
      "metadata": {
        "id": "2915e3fe"
      },
      "source": [
        "**18120216 - Mai Huỳnh Trung Nguyên**\n",
        "- Khó khăn\n",
        "    + Học kì này, em có nhiều môn học khá nặng về cả lý thuyết và thực hành. \n",
        "    + Nhiều lúc hơi nản chí vì không có hướng giải quyết cho vấn đề của bài toán\n",
        "- Học được:\n",
        "    + Sự chỉn chu, tỉ mỉ, rõ ràng hơn khi viết báo cáo môn học\n",
        "    + Lắng nghe bài làm của nhóm và cách giải thích phần của mình cho dễ hiểu\n",
        "    + Song song hoá bằng Python"
      ],
      "id": "2915e3fe"
    },
    {
      "cell_type": "markdown",
      "metadata": {
        "id": "BMPUTSuak3RI"
      },
      "source": [
        "**Nhóm**: \n",
        "- Khó khăn:\n",
        "  + Lúc đầu nhóm bị mông lung về các đề tài lựa chọn, nhóm tập trung vào các dự án xử lý ảnh thuần không xử lý các mạng neuron phức tạp => khá ít bài toán\n",
        "  + Khi nhóm có dự án mẫu rồi, làm được một thời gian thì phát hiện dự án mẫu làm nhiều cái sai sót, nhiều phần dư thừa => phải fix bug, cải thiện nhiều. Bên cạnh đó còn thấy được nhiều dự án khác có độ hiệu quả cao hơn.\n",
        "  + Về nửa sau của dự án, nhóm thấy không có quá nhiều phần để song song hoá, khi cài đặt xong thì không thấy cải thiện nhiều về hiệu suất; nhóm mất nhiều thời gian để nghiên cứu các phương pháp mới, thử nhiều cách nhưng không thành công.\n",
        "- Do đó, nếu có thêm thời gian nhóm sẽ cố gắng thực hiện:\n",
        "  + Tìm hiểu thêm về cách song song hoá để tối ưu thời gian rõ rệt\n",
        "  + Thử nghiệm trên nhiều ví dụ hơn để hiểu hơn nữa về dự án\n"
      ],
      "id": "BMPUTSuak3RI"
    },
    {
      "cell_type": "markdown",
      "metadata": {
        "id": "4ae45e1e"
      },
      "source": [
        "## **8. Tài liệu tham khảo**"
      ],
      "id": "4ae45e1e"
    },
    {
      "cell_type": "markdown",
      "metadata": {
        "id": "9701b2bd"
      },
      "source": [
        "- Project: Poisson Matting, [github](https://github.com/avani17101/Poisson-Matting).\n",
        "- Paper: Poisson Matting của Juan Sun, Jiaya Jia, Chi-Keung Tang, Heung-Yeung Shum, [paper](http://www.cse.cuhk.edu.hk/~leojia/all_final_papers/matting_siggraph04.pdf)"
      ],
      "id": "9701b2bd"
    }
  ],
  "metadata": {
    "accelerator": "GPU",
    "colab": {
      "collapsed_sections": [],
      "name": "Report.ipynb",
      "provenance": [],
      "toc_visible": true
    },
    "kernelspec": {
      "display_name": "Python 3 (ipykernel)",
      "language": "python",
      "name": "python3"
    },
    "language_info": {
      "codemirror_mode": {
        "name": "ipython",
        "version": 3
      },
      "file_extension": ".py",
      "mimetype": "text/x-python",
      "name": "python",
      "nbconvert_exporter": "python",
      "pygments_lexer": "ipython3",
      "version": "3.8.8"
    },
    "toc": {
      "base_numbering": 1,
      "nav_menu": {},
      "number_sections": true,
      "sideBar": true,
      "skip_h1_title": false,
      "title_cell": "Table of Contents",
      "title_sidebar": "Contents",
      "toc_cell": false,
      "toc_position": {},
      "toc_section_display": true,
      "toc_window_display": false
    }
  },
  "nbformat": 4,
  "nbformat_minor": 5
}