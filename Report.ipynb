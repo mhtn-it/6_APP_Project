{
  "cells": [
    {
      "cell_type": "markdown",
      "metadata": {
        "id": "view-in-github",
        "colab_type": "text"
      },
      "source": [
        "<a href=\"https://colab.research.google.com/github/mhtn-it/6_APP_Project/blob/main/Report.ipynb\" target=\"_parent\"><img src=\"https://colab.research.google.com/assets/colab-badge.svg\" alt=\"Open In Colab\"/></a>"
      ]
    },
    {
      "cell_type": "markdown",
      "metadata": {
        "id": "5b2dcf7c"
      },
      "source": [
        "# Đồ án môn Lập trình song song ứng dụng\n",
        "**Giảng viên hướng dẫn: Thầy Trần Trung Kiên**\n",
        "\n",
        "## Thông tin nhóm\n",
        "### STT: Nhóm 6\n",
        "\n",
        "### Thành viên:\n",
        "1. 1712258 - Nguyễn Văn Hậu - [kenneth-nguyenn](https://github.com/kenneth-nguyenn)\n",
        "2. 18120181 - Nguyễn Thị Cẩm Hồng - [chnhgr](https://github.com/chnhgr)\n",
        "3. 18120216 - Mai Huỳnh Trung Nguyên - [mhtn-it](https://github.com/mhtn-it)\n",
        "\n",
        "### Tài liệu của nhóm\n",
        "- Link thùng chứa Github của nhóm: [Github](https://github.com/mhtn-it/6_APP_Project)\n",
        "- Kế hoạch nhóm, phân chia công việc: [Google Sheet](https://docs.google.com/spreadsheets/d/1lNRWbRRnsN0L1bEBLm2tHkauJC2jS9DPZiZfhLQ9Av8/edit?usp=sharing)\n",
        "- Link Colab thực thi: [Google Colab](https://colab.research.google.com/github/mhtn-it/6_APP_Project/blob/main/Report.ipynb)"
      ],
      "id": "5b2dcf7c"
    },
    {
      "cell_type": "markdown",
      "metadata": {
        "id": "2f93d974"
      },
      "source": [
        "## **1. Mô tả ứng dụng:** "
      ],
      "id": "2f93d974"
    },
    {
      "cell_type": "markdown",
      "metadata": {
        "id": "oLXvSmx5DZYw"
      },
      "source": [
        "### **1.1. Mô tả tổng quan:**"
      ],
      "id": "oLXvSmx5DZYw"
    },
    {
      "cell_type": "markdown",
      "metadata": {
        "id": "dc0bf646"
      },
      "source": [
        "**Đề tài**: Thay đổi background ảnh dựa vào phương pháp Poisson Matting\n",
        "\n",
        "**Input**: \n",
        "- Một bức ảnh chân dung\n",
        "- Trimap của ảnh (được tạo từ một bài toán khác)\n",
        "- Ảnh nền mới mong muốn\n",
        "\n",
        "**Output**: \n",
        "- Ảnh đã được thay đổi nền\n",
        "\n",
        "**Ý nghĩa thực tế của ứng dụng**:\n",
        "- Thay đổi background của ảnh khi cần thiết, ví dụ trong các trường hợp như ảnh kỷ niệm, ảnh thẻ, trang trí...\n",
        "- Áp dụng trên các phần mềm chỉnh sửa ảnh, trang web chỉnh sửa ảnh online\n",
        "- Là một phần xử lý của quy trình đổi nền của video\n",
        "\n",
        "**Lý do cần tăng tốc**: \n",
        "- Toàn bộ quá trình xử lý để cho ra một bức ảnh đúng và chính xác có thể mất đến vài phút (giảm trải nghiệm người dùng)\n",
        "- Khi xử lý hàng loạt, số lượng lớn thì thời gian sẽ rất lâu\n",
        "- Nếu áp dụng cho đổi nền video thì cần có tốc độ nhanh"
      ],
      "id": "dc0bf646"
    },
    {
      "cell_type": "markdown",
      "metadata": {
        "id": "b5K1puaqDdv5"
      },
      "source": [
        "### **1.2. Ý tưởng chính của bài toán:**"
      ],
      "id": "b5K1puaqDdv5"
    },
    {
      "cell_type": "markdown",
      "metadata": {
        "id": "bZZzeO5EEBlQ"
      },
      "source": [
        "Từ hình ảnh gốc, trimap, ảnh nền mới ứng dụng sử dụng các biện pháp phủ (matting) và pha trộn (blending) để ghép ảnh chân dung background mới.\n",
        "\n",
        "<img src='https://drive.google.com/uc?id=1rpQhdF5U7Y2LTdbPb9pLc-i6dJ2IS3zC'/>\n",
        "\n",
        "Qua nhiều phương pháp cải thiện thì foreground ngày càng chính xác với đối tượng của mình.\n",
        "\n",
        "<img src='https://drive.google.com/uc?id=1sdEYodB2lyyb_FROl5okKbeavDmTJJLr'/>"
      ],
      "id": "bZZzeO5EEBlQ"
    },
    {
      "cell_type": "markdown",
      "metadata": {
        "id": "l3dgxz-YF3eu"
      },
      "source": [
        "### **1.3. Phần nhóm dự định song song hoá:**"
      ],
      "id": "l3dgxz-YF3eu"
    },
    {
      "cell_type": "markdown",
      "metadata": {
        "id": "5Df1RKJYF71Z"
      },
      "source": [
        "Nhóm nhận thấy việc xử lý ảnh có thể song song hoá bằng cách chia nhỏ công việc cho từng pixel. Do đó nhóm dự định sẽ lựa chọn bước: Thao tác Global Matting dùng để tính giá trị alpha cho việc blending ảnh."
      ],
      "id": "5Df1RKJYF71Z"
    },
    {
      "cell_type": "markdown",
      "metadata": {
        "id": "wOp0huxak_ou"
      },
      "source": [
        "## **2. Phần bổ trợ**"
      ],
      "id": "wOp0huxak_ou"
    },
    {
      "cell_type": "markdown",
      "metadata": {
        "id": "PEmpHqajIEk5"
      },
      "source": [
        "Phần này dùng để tạo cách hàm bổ trợ cho việc thực hiện trên Google Colab. Bao gồm: liên kết Google Colab với Drive, kiểm tra thông tin GPU, chuyển thư mục làm việc về thư mục `Code`, Import thư viện."
      ],
      "id": "PEmpHqajIEk5"
    },
    {
      "cell_type": "markdown",
      "metadata": {
        "id": "i5EKrc0mktgd"
      },
      "source": [
        "Liên kết colab với Google Drive để tiết kiệm thời gian load dữ liệu."
      ],
      "id": "i5EKrc0mktgd"
    },
    {
      "cell_type": "code",
      "execution_count": 1,
      "metadata": {
        "colab": {
          "base_uri": "https://localhost:8080/"
        },
        "id": "tbt9_dp8i5xZ",
        "outputId": "046e5de3-731f-4667-c4c3-a40eb1443d17"
      },
      "outputs": [
        {
          "output_type": "stream",
          "name": "stdout",
          "text": [
            "Mounted at /content/drive\n"
          ]
        }
      ],
      "source": [
        "from google.colab import drive\n",
        "drive.mount('/content/drive')"
      ],
      "id": "tbt9_dp8i5xZ"
    },
    {
      "cell_type": "markdown",
      "metadata": {
        "id": "H1bC5hm6mQvm"
      },
      "source": [
        "Kiểm tra thông tin GPU"
      ],
      "id": "H1bC5hm6mQvm"
    },
    {
      "cell_type": "code",
      "execution_count": 2,
      "metadata": {
        "colab": {
          "base_uri": "https://localhost:8080/"
        },
        "id": "AdRpZ_-enDEF",
        "outputId": "79a8a5f1-834f-43c9-d94c-6897a9962412"
      },
      "outputs": [
        {
          "output_type": "stream",
          "name": "stdout",
          "text": [
            "Found 1 CUDA devices\n",
            "id 0             b'Tesla T4'                              [SUPPORTED]\n",
            "                      compute capability: 7.5\n",
            "                           pci device id: 4\n",
            "                              pci bus id: 0\n",
            "Summary:\n",
            "\t1/1 devices are supported\n"
          ]
        },
        {
          "output_type": "execute_result",
          "data": {
            "text/plain": [
              "True"
            ]
          },
          "metadata": {},
          "execution_count": 2
        }
      ],
      "source": [
        "from numba import jit, prange, cuda\n",
        "cuda.detect()"
      ],
      "id": "AdRpZ_-enDEF"
    },
    {
      "cell_type": "markdown",
      "metadata": {
        "id": "2h7pJoi_Cvzi"
      },
      "source": [
        "Chuyển vị trí thực thi về thư mục Code"
      ],
      "id": "2h7pJoi_Cvzi"
    },
    {
      "cell_type": "code",
      "execution_count": 3,
      "metadata": {
        "colab": {
          "base_uri": "https://localhost:8080/"
        },
        "id": "8jWSCrAhDlKO",
        "outputId": "1d7fe076-c797-4433-d02a-144dd8835e38"
      },
      "outputs": [
        {
          "output_type": "stream",
          "name": "stdout",
          "text": [
            "/content/drive/MyDrive/6_APP_Project/Code\n"
          ]
        }
      ],
      "source": [
        "cd drive/MyDrive/6_APP_Project/Code"
      ],
      "id": "8jWSCrAhDlKO"
    },
    {
      "cell_type": "markdown",
      "metadata": {
        "id": "dnYjgIyOD2mj"
      },
      "source": [
        "Import thư viện"
      ],
      "id": "dnYjgIyOD2mj"
    },
    {
      "cell_type": "code",
      "execution_count": 4,
      "metadata": {
        "id": "K03lgFZ0E_Ij"
      },
      "outputs": [],
      "source": [
        "import numpy as np\n",
        "import cv2\n",
        "import matplotlib.pyplot as plt\n",
        "%matplotlib inline\n",
        "import os\n",
        "from  scipy import ndimage\n",
        "import time\n",
        "import scipy\n",
        "from scipy.optimize import fmin\n",
        "IMAGES_FOLDER_PATH = \"../Data/Input\""
      ],
      "id": "K03lgFZ0E_Ij"
    },
    {
      "cell_type": "markdown",
      "metadata": {
        "id": "sbFNliCqCh29"
      },
      "source": [
        "## **3. Cài đặt tuần tự**"
      ],
      "id": "sbFNliCqCh29"
    },
    {
      "cell_type": "markdown",
      "metadata": {
        "id": "b0dmAWd2dn-Z"
      },
      "source": [
        "### 3.1. Thiết kế:"
      ],
      "id": "b0dmAWd2dn-Z"
    },
    {
      "cell_type": "markdown",
      "source": [
        "#### 3.1.1. Quy trình tổng quan:"
      ],
      "metadata": {
        "id": "u9pwjoyoUipw"
      },
      "id": "u9pwjoyoUipw"
    },
    {
      "cell_type": "markdown",
      "metadata": {
        "id": "e38a5169"
      },
      "source": [
        "<img src='https://drive.google.com/uc?id=1PF-AdVz4KhFx2CmqpLdORmRBVEBED-xM'/>"
      ],
      "id": "e38a5169"
    },
    {
      "cell_type": "markdown",
      "source": [
        "<img src='https://drive.google.com/uc?id=1hnm-vuha0rYrlHrgK_rvJpSoMKYrKvZm'/>"
      ],
      "metadata": {
        "id": "Vs6tsDKQUrWy"
      },
      "id": "Vs6tsDKQUrWy"
    },
    {
      "cell_type": "markdown",
      "source": [
        "<img src='https://drive.google.com/uc?id=1-FVmGkJIPUqEdUIRy12vYyyZP7MZVkM_'/>"
      ],
      "metadata": {
        "id": "iFtrYWEpUsvA"
      },
      "id": "iFtrYWEpUsvA"
    },
    {
      "cell_type": "markdown",
      "metadata": {
        "id": "BVUVz2wHFURg"
      },
      "source": [
        "#### 3.1.2. Các ảnh Input:"
      ],
      "id": "BVUVz2wHFURg"
    },
    {
      "cell_type": "markdown",
      "metadata": {
        "id": "W2L_Hj7mzFj5"
      },
      "source": [
        "Danh sách các input, bao gồm:\n",
        "- Ảnh gốc\n",
        "- Ảnh trimap\n",
        "- Ảnh background mới\n",
        "\n",
        "Lưu ý:\n",
        "- Ảnh grayscale được thêm vào để minh hoạ, người dùng không cần cung cấp.\n",
        "- Phương pháp tạo ảnh trimap nhóm đã tìm hiểu và làm thử nhưng chưa thành công nên tạm thời bỏ qua và sử dụng các trimap có sẵn.\n",
        "\n",
        "<img src='https://drive.google.com/uc?id=1ULspQFfkDyjg-WFZZnLmNRQCjKW1hhhJ'/>"
      ],
      "id": "W2L_Hj7mzFj5"
    },
    {
      "cell_type": "markdown",
      "metadata": {
        "id": "nSC5Oi892kZU"
      },
      "source": [
        "#### 3.1.3. Phân tích ảnh input:"
      ],
      "id": "nSC5Oi892kZU"
    },
    {
      "cell_type": "markdown",
      "metadata": {
        "id": "Q2Er-oan0Oya"
      },
      "source": [
        "Từ các ảnh input ta dùng hàm tính toán mask để phân tích ra được vùng/ảnh của foreground, background và unknown. Nguyên tắc: các pixel trên ảnh trimap sẽ là:\n",
        "- Background: nếu giá trị < 10.\n",
        "- Foreground: nếu giá trị > 245.\n",
        "- Unknown: còn lại\n",
        "\n",
        "<img align=\"justify\" src='https://drive.google.com/uc?id=1S36DiTkgMNj_aUYCNK8es4yvYu5dFmdA'/>\n"
      ],
      "id": "Q2Er-oan0Oya"
    },
    {
      "cell_type": "markdown",
      "metadata": {
        "id": "udibb7PL1UeY"
      },
      "source": [
        "Từ các vùng ở trên ta ghép:\n",
        "- F = foreground + unknown\n",
        "- B = background + unknown\n",
        "\n",
        "<img align=\"justify\" src='https://drive.google.com/uc?id=1_uwZGhYmlF76OxKPetgzvz8ed24asQEJ'/>\n"
      ],
      "id": "udibb7PL1UeY"
    },
    {
      "cell_type": "markdown",
      "metadata": {
        "id": "Gji8K6iOXjOS"
      },
      "source": [
        "#### 3.1.4. Global Matting:"
      ],
      "id": "Gji8K6iOXjOS"
    },
    {
      "cell_type": "markdown",
      "metadata": {
        "id": "8eoVDYYKXwC-"
      },
      "source": [
        "Phương trình Poisson:\n",
        "\n",
        "$$\\nabla I = (F - B)\\nabla \\alpha + \\alpha \\nabla F + (1 - \\alpha)\\nabla B$$\n",
        "\n",
        "Suy ra:\n",
        "\n",
        "$$\\Delta \\alpha = div (\\frac{\\nabla I}{F-B})$$\n",
        "trong đó, $\\Delta = (\\frac{\\partial^2}{\\partial x^2},\\frac{\\partial^2}{\\partial y^2})$\n",
        "là một toán tử Laplacian and toán tử vector div của Gradient ảnh input đối với hiệu của Foreground và Background.\n",
        "\n",
        "\n",
        "Phương trinh Poisson được giải bằng phương pháp ước lượng Gauss Siedel Iteration\n",
        "\n",
        "cho,  $$ \\frac{\\partial^2 f}{\\partial x^2}+\\frac{\\partial^2 f}{\\partial y^2} = S$$\n",
        "$$ {f_{i,j}}^{(n+1)} = \\frac{\\beta}{4}({f_{i+1,j}}^{(n)} + {f_{i-1,j}}^{(n+1)}) + {f_{i,j+1}}^{(n)} + {f_{i,j-1}}^{(n+1)} - S_{i,j}) + (1-\\beta){f_{i,j}}^{(n)}$$\n",
        "với $\\beta$ nằm trong đoạn (1,2)\n",
        "\n",
        "Tìm hiểu thêm về phương trình Poisson [tại đây](https://www.microsoft.com/en-us/research/wp-content/uploads/2016/02/poissonmatting_siggraph04.pdf)..\n"
      ],
      "id": "8eoVDYYKXwC-"
    },
    {
      "cell_type": "markdown",
      "metadata": {
        "id": "68044668"
      },
      "source": [
        "Lý do sử dụng Phương trình Poisson:\n",
        "\n",
        "Poisson là một phương pháp tổng quát dùng để mô tả hành vi của các đại lượng ví dụ như hướng thế năng điện, trọng lực, chất lỏng. Áp dụng với bài toán này ta có thể mô tả xu hướng gradient của các pixel. Khi đó việc giải phương trình (tìm alpha) có thể xác định được độ mờ của pixel đó để biết nó có xu hướng nghiêng về background hay foreground."
      ],
      "id": "68044668"
    },
    {
      "cell_type": "markdown",
      "metadata": {
        "id": "0coi3EVq2sks"
      },
      "source": [
        "Sau khi áp dụng phương pháp trên ta được một mảng numpy chứa các giá trị alpha dùng để ghép với nền mới. Ta có thể xem alpha nhưng một hệ số làm mờ.\n",
        "\n",
        "<img src='https://drive.google.com/uc?id=1up3_IVpNZRzD-mziEwlr2M-Kjn_Xrh-4'/>\n"
      ],
      "id": "0coi3EVq2sks"
    },
    {
      "cell_type": "markdown",
      "metadata": {
        "id": "gPmiELGbSLK1"
      },
      "source": [
        "#### 3.1.5. Alpha Blending:"
      ],
      "id": "gPmiELGbSLK1"
    },
    {
      "cell_type": "markdown",
      "metadata": {
        "id": "zb1jK7PhSQaz"
      },
      "source": [
        "Tiến hành blending mảng alpha global matting ở trên với hình nên mới để được kết quả.\n",
        "\n",
        "<img src='https://drive.google.com/uc?id=1O9bYFhq6t6jfgrDaqglRTurH8NZt8xSm'/>"
      ],
      "id": "zb1jK7PhSQaz"
    },
    {
      "cell_type": "markdown",
      "metadata": {
        "id": "5IvaMvJwwEc7"
      },
      "source": [
        "#### 3.1.6. Local Matting:"
      ],
      "id": "5IvaMvJwwEc7"
    },
    {
      "cell_type": "markdown",
      "metadata": {
        "id": "SjszXVFSumcJ"
      },
      "source": [
        "Người dùng sẽ quan sát ảnh sau khi dùng Global Matting và đánh dấu những điểm ROI (Region of Interest - Những khu vực mong muốn được cải thiện hơn) sau đó chương trình sẽ chạy Local Matting trên khu vực này để cải thiện chất lượng hình ảnh.\n",
        "Local Matting cũng chính là Global Matting nhưng trên một khu vực nhỏ hơn."
      ],
      "id": "SjszXVFSumcJ"
    },
    {
      "cell_type": "markdown",
      "metadata": {
        "id": "xZ6ABfecw6-m"
      },
      "source": [
        "Ví dụ, với hình ở trên ta chọn 2 khu vực có chỉ số như sau:\n",
        "- top, bottom, left, right = [347, 475, 130, 195]\n",
        "- top, bottom, left, right = [367, 480, 386, 439]\n",
        "\n",
        "\n",
        "<img src='https://drive.google.com/uc?id=1s3DTgKOwGPqLOCmo_oZV0XncFOdW5Xfz'/>"
      ],
      "id": "xZ6ABfecw6-m"
    },
    {
      "cell_type": "markdown",
      "metadata": {
        "id": "W6lSqCoIzZW_"
      },
      "source": [
        "Local matte và ảnh kết quả sau khi blending:\n",
        "\n",
        "<img src=\"https://drive.google.com/uc?id=1St6RIQp6ztso5_k6gOSkqhCEmT_narm_\"/>\n",
        "\n"
      ],
      "id": "W6lSqCoIzZW_"
    },
    {
      "cell_type": "markdown",
      "metadata": {
        "id": "pyT-B9W81oTZ"
      },
      "source": [
        "Hiện tại nhóm đang tự quan sát và set cứng các giá trị ROI trong file code. Nhóm kì vọng cuối đồ án sẽ thực hiện để xử lý qua tham số dòng lệnh để thực tế hơn.\n",
        "\n",
        "Quy trình dự định:\n",
        "- In ra ảnh từ global matting\n",
        "- Người dùng nhập vào danh sách những khu vực muốn chỉnh sửa\n",
        "- In ra kết quả sau khi local matting"
      ],
      "id": "pyT-B9W81oTZ"
    },
    {
      "cell_type": "markdown",
      "source": [
        "### 3.2. Đánh giá:"
      ],
      "metadata": {
        "id": "TNep9kR3X_5L"
      },
      "id": "TNep9kR3X_5L"
    },
    {
      "cell_type": "markdown",
      "source": [
        "#### 3.2.1. Kịch bản thí nghiệm:"
      ],
      "metadata": {
        "id": "qTUjDwgYYHuJ"
      },
      "id": "qTUjDwgYYHuJ"
    },
    {
      "cell_type": "markdown",
      "source": [
        "Chương trình sẽ lần lượt thực hiện theo quy trình sau:\n",
        "1. Đọc ảnh gốc, ảnh tri map, ảnh nền mới. Chuyển ảnh gốc sang dạng grayscale\n",
        "2. Chạy hàm `matting_combined`: hàm tổng hợp quy trình xử lý ảnh với Global Matting bên trên.\n",
        "3. Lưu file ảnh output được áp dụng Global Matting.\n",
        "4. Bắt đầu pha Local Matting. Cho người dùng nhập (ở đây nhóm set cứng) giá trị của vùng mong muốn được cải thiện.\n",
        "5. Tính toán giá trị `alpha` mới của các vùng này.\n",
        "6. Gọi hàm `alpha_blend` để áp giá trị `alpha` mới vào ảnh.\n",
        "7. Lưu file ảnh output được áp dụng cả Global và Local Matting.\n",
        "\n"
      ],
      "metadata": {
        "id": "gutehR0yYMcc"
      },
      "id": "gutehR0yYMcc"
    },
    {
      "cell_type": "markdown",
      "metadata": {
        "id": "Cad4rVT6eB8e"
      },
      "source": [
        "#### 3.2.2. Thực thi với Python (không jit):"
      ],
      "id": "Cad4rVT6eB8e"
    },
    {
      "cell_type": "markdown",
      "metadata": {
        "id": "8-9xInPc2OLm"
      },
      "source": [
        "Hiện tại để tiện kiểm tra thì nhóm set cứng giá trị input (ảnh gốc, trimap, background) tương tự như phần trình bày phía trên của notebook. Sau này dự kiến sẽ chuyển qua dùng tham số dòng lệnh."
      ],
      "id": "8-9xInPc2OLm"
    },
    {
      "cell_type": "markdown",
      "metadata": {
        "id": "JkqIX8Wl2Far"
      },
      "source": [
        "**Thực thi (thời gian xử lý với 1 ảnh):**"
      ],
      "id": "JkqIX8Wl2Far"
    },
    {
      "cell_type": "code",
      "execution_count": 5,
      "metadata": {
        "colab": {
          "base_uri": "https://localhost:8080/"
        },
        "id": "FJhcQ3DmlffA",
        "outputId": "3322ca17-3407-4d83-dfd2-45f5b6d43e82"
      },
      "outputs": [
        {
          "output_type": "stream",
          "name": "stdout",
          "text": [
            "====SUCCESS GLOBAL MATTING====\n",
            "====SUCCESS LOCAL MATTING====\n",
            "CPU times: user 134 ms, sys: 31.2 ms, total: 165 ms\n",
            "Wall time: 25.3 s\n"
          ]
        }
      ],
      "source": [
        "%%time\n",
        "!python3 sequential.py"
      ],
      "id": "FJhcQ3DmlffA"
    },
    {
      "cell_type": "markdown",
      "source": [
        "**Ảnh kết quả**"
      ],
      "metadata": {
        "id": "yOzVhOYKXR-s"
      },
      "id": "yOzVhOYKXR-s"
    },
    {
      "cell_type": "markdown",
      "source": [
        "- Ảnh chỉ áp dụng Global Matting:\n",
        "\n",
        "<img width=\"40%\" src='https://drive.google.com/uc?id=1-a026cY2ST8ct9Sd-ZKhw2PBHWF4_qfY'/>"
      ],
      "metadata": {
        "id": "sg3IAZXDXVRB"
      },
      "id": "sg3IAZXDXVRB"
    },
    {
      "cell_type": "markdown",
      "source": [
        "- Ảnh áp dụng cả Global và Local Matting:\n",
        "\n",
        "<img width=\"40%\" src='https://drive.google.com/uc?id=1-MXY0dxhLKQyfUArGLJMkTjWfluOW-MT'/>"
      ],
      "metadata": {
        "id": "HrcyXixSXXxv"
      },
      "id": "HrcyXixSXXxv"
    },
    {
      "cell_type": "markdown",
      "source": [
        "#### 3.2.3. Thực thi với Python (có jit):"
      ],
      "metadata": {
        "id": "t7ji_NWOW2-E"
      },
      "id": "t7ji_NWOW2-E"
    },
    {
      "cell_type": "markdown",
      "metadata": {
        "id": "nm8yt98vGuvM"
      },
      "source": [
        "Thực thi tuần tự với Numba jit. Phần sử dụng git:\n",
        "- Hàm `global_alpha_matting`: hàm chạy phương pháp Gauss Siedel để tìm ra alpha phù hợp.\n",
        "\n",
        "Những phần sử dụng thư viện có sẵn:\n",
        "- Numpy: các phương thức `gradient`, `maximum`, `minimun`...; các phép toán nhân, cộng ma trận\n",
        "- OpenCV: đọc ảnh, lưu ảnh, chuyển ảnh sang grayscale, RGB\n",
        "\n",
        "> Nhóm đã có thử cài đặt để dùng jit với các hàm trên nhưng thấy tốc độ giảm không đáng kể (< 0.5s hoặc đôi khi chậm hơn) nên quyết định không jit nữa."
      ],
      "id": "nm8yt98vGuvM"
    },
    {
      "cell_type": "markdown",
      "source": [
        "**Thực thi:**"
      ],
      "metadata": {
        "id": "L5jXe1ltcLD0"
      },
      "id": "L5jXe1ltcLD0"
    },
    {
      "cell_type": "code",
      "execution_count": 6,
      "metadata": {
        "colab": {
          "base_uri": "https://localhost:8080/"
        },
        "id": "cqsdKd-QjW2r",
        "outputId": "cd230175-22d9-4e9f-8a9d-09885c38af4c"
      },
      "outputs": [
        {
          "output_type": "stream",
          "name": "stdout",
          "text": [
            "====SUCCESS GLOBAL MATTING====\n",
            "====SUCCESS LOCAL MATTING====\n",
            "CPU times: user 28.9 ms, sys: 4.3 ms, total: 33.2 ms\n",
            "Wall time: 2.82 s\n"
          ]
        }
      ],
      "source": [
        "%%time\n",
        "!python3 sequential_jit.py"
      ],
      "id": "cqsdKd-QjW2r"
    },
    {
      "cell_type": "markdown",
      "source": [
        "**Ảnh kết quả**"
      ],
      "metadata": {
        "id": "aHaWQKtgb_sa"
      },
      "id": "aHaWQKtgb_sa"
    },
    {
      "cell_type": "markdown",
      "source": [
        "- Ảnh chỉ áp dụng Global Matting:\n",
        "\n",
        "<img width=\"40%\" src='https://drive.google.com/uc?id=1-DiphlaTa2wYUlTZiHGylhtlIxzPoUgr'/>"
      ],
      "metadata": {
        "id": "fuDFVPKtb_sa"
      },
      "id": "fuDFVPKtb_sa"
    },
    {
      "cell_type": "markdown",
      "source": [
        "- Ảnh áp dụng cả Global và Local Matting:\n",
        "\n",
        "<img width=\"40%\" src='https://drive.google.com/uc?id=1-BxQMpPPH2iIdH_7j25BcWU_qf4wltiE'/>"
      ],
      "metadata": {
        "id": "ZNmL-Sqzb_sa"
      },
      "id": "ZNmL-Sqzb_sa"
    },
    {
      "cell_type": "markdown",
      "metadata": {
        "id": "nnh47mIp7Zfy"
      },
      "source": [
        "## **4. Cài đặt song song:**"
      ],
      "id": "nnh47mIp7Zfy"
    },
    {
      "cell_type": "markdown",
      "source": [
        "### 4.1. Phân tích:"
      ],
      "metadata": {
        "id": "0rGTMYg9aIVO"
      },
      "id": "0rGTMYg9aIVO"
    },
    {
      "cell_type": "markdown",
      "source": [
        "**Phần thực hiện song song:** Bước tính toán alpha nằm trong hàm `global_alpha_matting`.\n",
        "\n",
        "Thông tin về hàm `global_alpha_matting`:\n",
        "  \n",
        "    \"\"\"\n",
        "    Hàm thực thi global alpha matting\n",
        "\n",
        "    Parameters:\n",
        "    -----------\n",
        "    alpha: giá trị xấp xỉ của alpha\n",
        "    d2alpha: tổng đạo hàm riêng bậc 2 của alpha theo X và Y\n",
        "    unknown_seg: mảng munby đại diện cho vùng chưa xác định rõ\n",
        "    iters: số lần chạy của phương pháp ước lượng Gauss Siedel\n",
        "    threshold: ngưỡng cho sự thay đổi sau mỗi lần chạy. Nếu dưới ngưỡng thì phương trình sẽ dừng lại\n",
        "    beta: nhân tử beta của phương pháp ước lượng Gauss Siedel\n",
        "\n",
        "    Return:\n",
        "    -----------\n",
        "    Mảng numpy đại diện cho chỉ số matte đã được tạo\n",
        "    \"\"\"\n",
        "\n",
        "Quy trình của hàm:\n",
        "\n",
        "- Bước đầu gán prev_alpha: 1 ma trận toàn số 0\n",
        "- Tính toán sai khác giữa prev_alpha và alpha\n",
        "- Đi vào vòng lặp với số lần lặp là iters\n",
        "  - Tính độ khác biệt giữa prev_alpha và alpha\n",
        "  - Chạy 2 vòng lặp for lần lượt duyệt qua từng pixel của alpha\n",
        "  - Tính lại giá trị của từng pixel theo công thức từ beta, alpha, pre_alpha, d2alpha (*)\n",
        "\n",
        "=> Nhóm lựa chọn song song phần (*) ở trên bằng cách: chia cho mỗi thread đảm nhận các pixel để tính lại giá trị của alpha.\n",
        "\n",
        "Nhóm chỉ song song khi xử lý global matting, còn local matting thì chỉ thực hiện trên jit."
      ],
      "metadata": {
        "id": "uxSUH2yzVX62"
      },
      "id": "uxSUH2yzVX62"
    },
    {
      "cell_type": "markdown",
      "source": [
        "**Lý do nhóm lựa chọn phần này:**\n",
        "\n",
        "Nhóm nhận thấy bước này có những công việc lặp đi lặp lại nhiều lần. Ở mỗi lần công việc có thể chia cho các thresh thực hiện để giúp tăng tốc độ."
      ],
      "metadata": {
        "id": "ChxcUJ1hdVoU"
      },
      "id": "ChxcUJ1hdVoU"
    },
    {
      "cell_type": "markdown",
      "source": [
        "### 4.2. Thiết kế:"
      ],
      "metadata": {
        "id": "dyuiYD6tdpxv"
      },
      "id": "dyuiYD6tdpxv"
    },
    {
      "cell_type": "markdown",
      "source": [
        ""
      ],
      "metadata": {
        "id": "xTGR8AWgduDa"
      },
      "id": "xTGR8AWgduDa"
    },
    {
      "cell_type": "markdown",
      "source": [
        "### 4.3. Đánh giá:"
      ],
      "metadata": {
        "id": "TEK9A3neduoE"
      },
      "id": "TEK9A3neduoE"
    },
    {
      "cell_type": "markdown",
      "source": [
        "#### 4.3.1. Kịch bản thí nghiệm:"
      ],
      "metadata": {
        "id": "FeXiRsPZd3SZ"
      },
      "id": "FeXiRsPZd3SZ"
    },
    {
      "cell_type": "markdown",
      "source": [
        "Chương trình sẽ lần lượt thực hiện theo quy trình sau:\n",
        "1. Đọc ảnh gốc, ảnh tri map, ảnh nền mới. Chuyển ảnh gốc sang dạng grayscale\n",
        "2. Chạy hàm `matting_combined`: hàm tổng hợp quy trình xử lý ảnh với Global Matting bên trên. Ở hàm tổng hợp sẽ gọi hàm `global_alpha_matting` chạy song song trên GPU.\n",
        "3. Lưu file ảnh output được áp dụng Global Matting.\n",
        "4. Bắt đầu pha Local Matting. Cho người dùng nhập (ở đây nhóm set cứng) giá trị của vùng mong muốn được cải thiện.\n",
        "5. Tính toán giá trị `alpha` mới của các vùng này bằng các hàm tuần tự chứ không chạy song song như ở Global Matting.\n",
        "6. Gọi hàm `alpha_blend` để áp giá trị `alpha` mới vào ảnh.\n",
        "7. Lưu file ảnh output được áp dụng cả Global và Local Matting.\n",
        "\n",
        "Nhìn chung, kịch bản thí nghiệm tương tự với thực thi tuần tự, chỉ khác ở bước 2 và một chút lưu ý ở bước 5. Global Matting thì sẽ có song song trên GPU, còn Local Matting thì chỉ chạy với jit.\n"
      ],
      "metadata": {
        "id": "e2it5scPd8Yz"
      },
      "id": "e2it5scPd8Yz"
    },
    {
      "cell_type": "markdown",
      "source": [
        "#### 4.3.2. Thực thi:"
      ],
      "metadata": {
        "id": "-JpS0PeyfG8t"
      },
      "id": "-JpS0PeyfG8t"
    },
    {
      "cell_type": "markdown",
      "source": [
        "**Thực thi:**"
      ],
      "metadata": {
        "id": "aZkCDqtRfYVr"
      },
      "id": "aZkCDqtRfYVr"
    },
    {
      "cell_type": "code",
      "execution_count": 7,
      "metadata": {
        "colab": {
          "base_uri": "https://localhost:8080/"
        },
        "id": "CwbzFwXK7c3i",
        "outputId": "44b9ac0d-8845-4c3b-9698-160c6a566ce5"
      },
      "outputs": [
        {
          "output_type": "stream",
          "name": "stdout",
          "text": [
            "==294== NVPROF is profiling process 294, command: python3 parallel_v1.py\n",
            "====SUCCESS GLOBAL MATTING====\n",
            "====SUCCESS LOCAL MATTING====\n",
            "==294== Profiling application: python3 parallel_v1.py\n",
            "==294== Profiling result:\n",
            "   Start  Duration            Grid Size      Block Size     Regs*    SSMem*    DSMem*      Size  Throughput  SrcMemType  DstMemType           Device   Context    Stream  Name\n",
            "1.09731s  331.71us                    -               -         -         -         -  2.3438MB  6.9001GB/s    Pageable      Device     Tesla T4 (0)         1         7  [CUDA memcpy HtoD]\n",
            "1.09841s  332.70us                    -               -         -         -         -  2.3438MB  6.8795GB/s    Pageable      Device     Tesla T4 (0)         1         7  [CUDA memcpy HtoD]\n",
            "1.09952s  359.80us                    -               -         -         -         -  2.3438MB  6.3613GB/s    Pageable      Device     Tesla T4 (0)         1         7  [CUDA memcpy HtoD]\n",
            "1.10051s  27.808us                    -               -         -         -         -  300.00KB  10.288GB/s    Pageable      Device     Tesla T4 (0)         1         7  [CUDA memcpy HtoD]\n",
            "1.10070s  1.03872s            (15 20 1)       (32 32 1)        50        0B        0B         -           -           -           -     Tesla T4 (0)         1         7  cudapy::__main__::compute_alpha$241(Array<double, int=2, C, mutable, aligned>, __int64, Array<double, int=2, C, mutable, aligned>, Array<double, int=2, C, mutable, aligned>, Array<bool, int=2, C, mutable, aligned>) [163]\n",
            "2.13942s  423.36us                    -               -         -         -         -  2.3438MB  5.4064GB/s      Device    Pageable     Tesla T4 (0)         1         7  [CUDA memcpy DtoH]\n",
            "2.14050s  377.98us                    -               -         -         -         -  2.3438MB  6.0554GB/s      Device    Pageable     Tesla T4 (0)         1         7  [CUDA memcpy DtoH]\n",
            "2.14139s  330.30us                    -               -         -         -         -  2.3438MB  6.9295GB/s      Device    Pageable     Tesla T4 (0)         1         7  [CUDA memcpy DtoH]\n",
            "2.14222s  24.607us                    -               -         -         -         -  300.00KB  11.627GB/s      Device    Pageable     Tesla T4 (0)         1         7  [CUDA memcpy DtoH]\n",
            "2.14691s  360.83us                    -               -         -         -         -  2.3438MB  6.3432GB/s    Pageable      Device     Tesla T4 (0)         1         7  [CUDA memcpy HtoD]\n",
            "2.14829s  349.15us                    -               -         -         -         -  2.3438MB  6.5554GB/s    Pageable      Device     Tesla T4 (0)         1         7  [CUDA memcpy HtoD]\n",
            "2.14991s  366.36us                    -               -         -         -         -  2.3438MB  6.2474GB/s    Pageable      Device     Tesla T4 (0)         1         7  [CUDA memcpy HtoD]\n",
            "2.15117s  27.199us                    -               -         -         -         -  300.00KB  10.519GB/s    Pageable      Device     Tesla T4 (0)         1         7  [CUDA memcpy HtoD]\n",
            "2.15134s  900.84ms            (15 20 1)       (32 32 1)        50        0B        0B         -           -           -           -     Tesla T4 (0)         1         7  cudapy::__main__::compute_alpha$241(Array<double, int=2, C, mutable, aligned>, __int64, Array<double, int=2, C, mutable, aligned>, Array<double, int=2, C, mutable, aligned>, Array<bool, int=2, C, mutable, aligned>) [204]\n",
            "3.05219s  336.28us                    -               -         -         -         -  2.3438MB  6.8062GB/s      Device    Pageable     Tesla T4 (0)         1         7  [CUDA memcpy DtoH]\n",
            "3.05306s  309.82us                    -               -         -         -         -  2.3438MB  7.3876GB/s      Device    Pageable     Tesla T4 (0)         1         7  [CUDA memcpy DtoH]\n",
            "3.05382s  316.06us                    -               -         -         -         -  2.3438MB  7.2417GB/s      Device    Pageable     Tesla T4 (0)         1         7  [CUDA memcpy DtoH]\n",
            "3.05453s  24.768us                    -               -         -         -         -  300.00KB  11.551GB/s      Device    Pageable     Tesla T4 (0)         1         7  [CUDA memcpy DtoH]\n",
            "3.05741s  332.86us                    -               -         -         -         -  2.3438MB  6.8762GB/s    Pageable      Device     Tesla T4 (0)         1         7  [CUDA memcpy HtoD]\n",
            "3.05848s  332.64us                    -               -         -         -         -  2.3438MB  6.8808GB/s    Pageable      Device     Tesla T4 (0)         1         7  [CUDA memcpy HtoD]\n",
            "3.05950s  361.66us                    -               -         -         -         -  2.3438MB  6.3286GB/s    Pageable      Device     Tesla T4 (0)         1         7  [CUDA memcpy HtoD]\n",
            "3.06029s  27.360us                    -               -         -         -         -  300.00KB  10.457GB/s    Pageable      Device     Tesla T4 (0)         1         7  [CUDA memcpy HtoD]\n",
            "3.06041s  904.03ms            (15 20 1)       (32 32 1)        50        0B        0B         -           -           -           -     Tesla T4 (0)         1         7  cudapy::__main__::compute_alpha$241(Array<double, int=2, C, mutable, aligned>, __int64, Array<double, int=2, C, mutable, aligned>, Array<double, int=2, C, mutable, aligned>, Array<bool, int=2, C, mutable, aligned>) [245]\n",
            "3.96444s  335.77us                    -               -         -         -         -  2.3438MB  6.8166GB/s      Device    Pageable     Tesla T4 (0)         1         7  [CUDA memcpy DtoH]\n",
            "3.96538s  324.70us                    -               -         -         -         -  2.3438MB  7.0490GB/s      Device    Pageable     Tesla T4 (0)         1         7  [CUDA memcpy DtoH]\n",
            "3.96616s  333.89us                    -               -         -         -         -  2.3438MB  6.8551GB/s      Device    Pageable     Tesla T4 (0)         1         7  [CUDA memcpy DtoH]\n",
            "3.96693s  24.736us                    -               -         -         -         -  300.00KB  11.566GB/s      Device    Pageable     Tesla T4 (0)         1         7  [CUDA memcpy DtoH]\n",
            "3.97118s  327.39us                    -               -         -         -         -  2.3438MB  6.9911GB/s    Pageable      Device     Tesla T4 (0)         1         7  [CUDA memcpy HtoD]\n",
            "3.97221s  331.55us                    -               -         -         -         -  2.3438MB  6.9034GB/s    Pageable      Device     Tesla T4 (0)         1         7  [CUDA memcpy HtoD]\n",
            "3.97322s  329.95us                    -               -         -         -         -  2.3438MB  6.9369GB/s    Pageable      Device     Tesla T4 (0)         1         7  [CUDA memcpy HtoD]\n",
            "3.97393s  27.167us                    -               -         -         -         -  300.00KB  10.531GB/s    Pageable      Device     Tesla T4 (0)         1         7  [CUDA memcpy HtoD]\n",
            "3.97404s  1.13420s            (15 20 1)       (32 32 1)        50        0B        0B         -           -           -           -     Tesla T4 (0)         1         7  cudapy::__main__::compute_alpha$241(Array<double, int=2, C, mutable, aligned>, __int64, Array<double, int=2, C, mutable, aligned>, Array<double, int=2, C, mutable, aligned>, Array<bool, int=2, C, mutable, aligned>) [297]\n",
            "5.10824s  335.68us                    -               -         -         -         -  2.3438MB  6.8185GB/s      Device    Pageable     Tesla T4 (0)         1         7  [CUDA memcpy DtoH]\n",
            "5.10918s  310.56us                    -               -         -         -         -  2.3438MB  7.3700GB/s      Device    Pageable     Tesla T4 (0)         1         7  [CUDA memcpy DtoH]\n",
            "5.11000s  313.85us                    -               -         -         -         -  2.3438MB  7.2926GB/s      Device    Pageable     Tesla T4 (0)         1         7  [CUDA memcpy DtoH]\n",
            "5.11073s  24.640us                    -               -         -         -         -  300.00KB  11.611GB/s      Device    Pageable     Tesla T4 (0)         1         7  [CUDA memcpy DtoH]\n",
            "5.11365s  345.05us                    -               -         -         -         -  2.3438MB  6.6333GB/s    Pageable      Device     Tesla T4 (0)         1         7  [CUDA memcpy HtoD]\n",
            "5.11484s  344.48us                    -               -         -         -         -  2.3438MB  6.6443GB/s    Pageable      Device     Tesla T4 (0)         1         7  [CUDA memcpy HtoD]\n",
            "5.11605s  331.29us                    -               -         -         -         -  2.3438MB  6.9088GB/s    Pageable      Device     Tesla T4 (0)         1         7  [CUDA memcpy HtoD]\n",
            "5.11676s  27.360us                    -               -         -         -         -  300.00KB  10.457GB/s    Pageable      Device     Tesla T4 (0)         1         7  [CUDA memcpy HtoD]\n",
            "5.11688s  1.13503s            (15 20 1)       (32 32 1)        50        0B        0B         -           -           -           -     Tesla T4 (0)         1         7  cudapy::__main__::compute_alpha$241(Array<double, int=2, C, mutable, aligned>, __int64, Array<double, int=2, C, mutable, aligned>, Array<double, int=2, C, mutable, aligned>, Array<bool, int=2, C, mutable, aligned>) [338]\n",
            "6.25191s  349.12us                    -               -         -         -         -  2.3438MB  6.5560GB/s      Device    Pageable     Tesla T4 (0)         1         7  [CUDA memcpy DtoH]\n",
            "6.25288s  325.89us                    -               -         -         -         -  2.3438MB  7.0234GB/s      Device    Pageable     Tesla T4 (0)         1         7  [CUDA memcpy DtoH]\n",
            "6.25364s  323.45us                    -               -         -         -         -  2.3438MB  7.0762GB/s      Device    Pageable     Tesla T4 (0)         1         7  [CUDA memcpy DtoH]\n",
            "6.25438s  24.735us                    -               -         -         -         -  300.00KB  11.567GB/s      Device    Pageable     Tesla T4 (0)         1         7  [CUDA memcpy DtoH]\n",
            "6.25727s  331.04us                    -               -         -         -         -  2.3438MB  6.9141GB/s    Pageable      Device     Tesla T4 (0)         1         7  [CUDA memcpy HtoD]\n",
            "6.25841s  337.41us                    -               -         -         -         -  2.3438MB  6.7836GB/s    Pageable      Device     Tesla T4 (0)         1         7  [CUDA memcpy HtoD]\n",
            "6.25986s  390.33us                    -               -         -         -         -  2.3438MB  5.8638GB/s    Pageable      Device     Tesla T4 (0)         1         7  [CUDA memcpy HtoD]\n",
            "6.26072s  27.296us                    -               -         -         -         -  300.00KB  10.481GB/s    Pageable      Device     Tesla T4 (0)         1         7  [CUDA memcpy HtoD]\n",
            "6.26094s  907.99ms            (15 20 1)       (32 32 1)        50        0B        0B         -           -           -           -     Tesla T4 (0)         1         7  cudapy::__main__::compute_alpha$241(Array<double, int=2, C, mutable, aligned>, __int64, Array<double, int=2, C, mutable, aligned>, Array<double, int=2, C, mutable, aligned>, Array<bool, int=2, C, mutable, aligned>) [379]\n",
            "7.16894s  343.52us                    -               -         -         -         -  2.3438MB  6.6629GB/s      Device    Pageable     Tesla T4 (0)         1         7  [CUDA memcpy DtoH]\n",
            "7.16986s  320.51us                    -               -         -         -         -  2.3438MB  7.1412GB/s      Device    Pageable     Tesla T4 (0)         1         7  [CUDA memcpy DtoH]\n",
            "7.17062s  341.02us                    -               -         -         -         -  2.3438MB  6.7117GB/s      Device    Pageable     Tesla T4 (0)         1         7  [CUDA memcpy DtoH]\n",
            "7.17138s  24.736us                    -               -         -         -         -  300.00KB  11.566GB/s      Device    Pageable     Tesla T4 (0)         1         7  [CUDA memcpy DtoH]\n",
            "7.17534s  330.40us                    -               -         -         -         -  2.3438MB  6.9275GB/s    Pageable      Device     Tesla T4 (0)         1         7  [CUDA memcpy HtoD]\n",
            "7.17640s  332.99us                    -               -         -         -         -  2.3438MB  6.8736GB/s    Pageable      Device     Tesla T4 (0)         1         7  [CUDA memcpy HtoD]\n",
            "7.17741s  330.62us                    -               -         -         -         -  2.3438MB  6.9228GB/s    Pageable      Device     Tesla T4 (0)         1         7  [CUDA memcpy HtoD]\n",
            "7.17813s  27.232us                    -               -         -         -         -  300.00KB  10.506GB/s    Pageable      Device     Tesla T4 (0)         1         7  [CUDA memcpy HtoD]\n",
            "7.17823s  910.64ms            (15 20 1)       (32 32 1)        50        0B        0B         -           -           -           -     Tesla T4 (0)         1         7  cudapy::__main__::compute_alpha$241(Array<double, int=2, C, mutable, aligned>, __int64, Array<double, int=2, C, mutable, aligned>, Array<double, int=2, C, mutable, aligned>, Array<bool, int=2, C, mutable, aligned>) [431]\n",
            "8.08887s  335.17us                    -               -         -         -         -  2.3438MB  6.8289GB/s      Device    Pageable     Tesla T4 (0)         1         7  [CUDA memcpy DtoH]\n",
            "8.08974s  328.09us                    -               -         -         -         -  2.3438MB  6.9761GB/s      Device    Pageable     Tesla T4 (0)         1         7  [CUDA memcpy DtoH]\n",
            "8.09052s  333.50us                    -               -         -         -         -  2.3438MB  6.8630GB/s      Device    Pageable     Tesla T4 (0)         1         7  [CUDA memcpy DtoH]\n",
            "8.09126s  24.704us                    -               -         -         -         -  300.00KB  11.581GB/s      Device    Pageable     Tesla T4 (0)         1         7  [CUDA memcpy DtoH]\n",
            "8.09406s  329.95us                    -               -         -         -         -  2.3438MB  6.9369GB/s    Pageable      Device     Tesla T4 (0)         1         7  [CUDA memcpy HtoD]\n",
            "8.09513s  334.72us                    -               -         -         -         -  2.3438MB  6.8381GB/s    Pageable      Device     Tesla T4 (0)         1         7  [CUDA memcpy HtoD]\n",
            "8.09615s  330.27us                    -               -         -         -         -  2.3438MB  6.9302GB/s    Pageable      Device     Tesla T4 (0)         1         7  [CUDA memcpy HtoD]\n",
            "8.09689s  27.104us                    -               -         -         -         -  300.00KB  10.556GB/s    Pageable      Device     Tesla T4 (0)         1         7  [CUDA memcpy HtoD]\n",
            "8.09701s  909.89ms            (15 20 1)       (32 32 1)        50        0B        0B         -           -           -           -     Tesla T4 (0)         1         7  cudapy::__main__::compute_alpha$241(Array<double, int=2, C, mutable, aligned>, __int64, Array<double, int=2, C, mutable, aligned>, Array<double, int=2, C, mutable, aligned>, Array<bool, int=2, C, mutable, aligned>) [472]\n",
            "9.00690s  339.77us                    -               -         -         -         -  2.3438MB  6.7363GB/s      Device    Pageable     Tesla T4 (0)         1         7  [CUDA memcpy DtoH]\n",
            "9.00777s  324.70us                    -               -         -         -         -  2.3438MB  7.0490GB/s      Device    Pageable     Tesla T4 (0)         1         7  [CUDA memcpy DtoH]\n",
            "9.00852s  322.37us                    -               -         -         -         -  2.3438MB  7.1001GB/s      Device    Pageable     Tesla T4 (0)         1         7  [CUDA memcpy DtoH]\n",
            "9.00924s  24.768us                    -               -         -         -         -  300.00KB  11.551GB/s      Device    Pageable     Tesla T4 (0)         1         7  [CUDA memcpy DtoH]\n",
            "9.01232s  328.22us                    -               -         -         -         -  2.3438MB  6.9734GB/s    Pageable      Device     Tesla T4 (0)         1         7  [CUDA memcpy HtoD]\n",
            "9.01357s  358.14us                    -               -         -         -         -  2.3438MB  6.3908GB/s    Pageable      Device     Tesla T4 (0)         1         7  [CUDA memcpy HtoD]\n",
            "9.01466s  367.23us                    -               -         -         -         -  2.3438MB  6.2327GB/s    Pageable      Device     Tesla T4 (0)         1         7  [CUDA memcpy HtoD]\n",
            "9.01544s  27.168us                    -               -         -         -         -  300.00KB  10.531GB/s    Pageable      Device     Tesla T4 (0)         1         7  [CUDA memcpy HtoD]\n",
            "9.01555s  1.13961s            (15 20 1)       (32 32 1)        50        0B        0B         -           -           -           -     Tesla T4 (0)         1         7  cudapy::__main__::compute_alpha$241(Array<double, int=2, C, mutable, aligned>, __int64, Array<double, int=2, C, mutable, aligned>, Array<double, int=2, C, mutable, aligned>, Array<bool, int=2, C, mutable, aligned>) [513]\n",
            "10.1552s  334.68us                    -               -         -         -         -  2.3438MB  6.8387GB/s      Device    Pageable     Tesla T4 (0)         1         7  [CUDA memcpy DtoH]\n",
            "10.1560s  306.88us                    -               -         -         -         -  2.3438MB  7.4584GB/s      Device    Pageable     Tesla T4 (0)         1         7  [CUDA memcpy DtoH]\n",
            "10.1568s  305.34us                    -               -         -         -         -  2.3438MB  7.4959GB/s      Device    Pageable     Tesla T4 (0)         1         7  [CUDA memcpy DtoH]\n",
            "10.1575s  24.608us                    -               -         -         -         -  300.00KB  11.626GB/s      Device    Pageable     Tesla T4 (0)         1         7  [CUDA memcpy DtoH]\n",
            "10.1615s  343.52us                    -               -         -         -         -  2.3438MB  6.6629GB/s    Pageable      Device     Tesla T4 (0)         1         7  [CUDA memcpy HtoD]\n",
            "10.1625s  332.32us                    -               -         -         -         -  2.3438MB  6.8875GB/s    Pageable      Device     Tesla T4 (0)         1         7  [CUDA memcpy HtoD]\n",
            "10.1636s  345.60us                    -               -         -         -         -  2.3438MB  6.6228GB/s    Pageable      Device     Tesla T4 (0)         1         7  [CUDA memcpy HtoD]\n",
            "10.1643s  27.231us                    -               -         -         -         -  300.00KB  10.506GB/s    Pageable      Device     Tesla T4 (0)         1         7  [CUDA memcpy HtoD]\n",
            "10.1644s  1.14130s            (15 20 1)       (32 32 1)        50        0B        0B         -           -           -           -     Tesla T4 (0)         1         7  cudapy::__main__::compute_alpha$241(Array<double, int=2, C, mutable, aligned>, __int64, Array<double, int=2, C, mutable, aligned>, Array<double, int=2, C, mutable, aligned>, Array<bool, int=2, C, mutable, aligned>) [565]\n",
            "11.3057s  353.53us                    -               -         -         -         -  2.3438MB  6.4741GB/s      Device    Pageable     Tesla T4 (0)         1         7  [CUDA memcpy DtoH]\n",
            "11.3067s  329.18us                    -               -         -         -         -  2.3438MB  6.9531GB/s      Device    Pageable     Tesla T4 (0)         1         7  [CUDA memcpy DtoH]\n",
            "11.3076s  336.16us                    -               -         -         -         -  2.3438MB  6.8088GB/s      Device    Pageable     Tesla T4 (0)         1         7  [CUDA memcpy DtoH]\n",
            "11.3084s  24.735us                    -               -         -         -         -  300.00KB  11.567GB/s      Device    Pageable     Tesla T4 (0)         1         7  [CUDA memcpy DtoH]\n",
            "11.3120s  345.79us                    -               -         -         -         -  2.3438MB  6.6191GB/s    Pageable      Device     Tesla T4 (0)         1         7  [CUDA memcpy HtoD]\n",
            "11.3135s  388.64us                    -               -         -         -         -  2.3438MB  5.8894GB/s    Pageable      Device     Tesla T4 (0)         1         7  [CUDA memcpy HtoD]\n",
            "11.3148s  362.72us                    -               -         -         -         -  2.3438MB  6.3102GB/s    Pageable      Device     Tesla T4 (0)         1         7  [CUDA memcpy HtoD]\n",
            "11.3157s  26.880us                    -               -         -         -         -  300.00KB  10.644GB/s    Pageable      Device     Tesla T4 (0)         1         7  [CUDA memcpy HtoD]\n",
            "11.3158s  1.14344s            (15 20 1)       (32 32 1)        50        0B        0B         -           -           -           -     Tesla T4 (0)         1         7  cudapy::__main__::compute_alpha$241(Array<double, int=2, C, mutable, aligned>, __int64, Array<double, int=2, C, mutable, aligned>, Array<double, int=2, C, mutable, aligned>, Array<bool, int=2, C, mutable, aligned>) [606]\n",
            "12.4593s  338.21us                    -               -         -         -         -  2.3438MB  6.7675GB/s      Device    Pageable     Tesla T4 (0)         1         7  [CUDA memcpy DtoH]\n",
            "12.4602s  313.47us                    -               -         -         -         -  2.3438MB  7.3016GB/s      Device    Pageable     Tesla T4 (0)         1         7  [CUDA memcpy DtoH]\n",
            "12.4610s  311.39us                    -               -         -         -         -  2.3438MB  7.3504GB/s      Device    Pageable     Tesla T4 (0)         1         7  [CUDA memcpy DtoH]\n",
            "12.4617s  24.768us                    -               -         -         -         -  300.00KB  11.551GB/s      Device    Pageable     Tesla T4 (0)         1         7  [CUDA memcpy DtoH]\n",
            "12.4658s  335.07us                    -               -         -         -         -  2.3438MB  6.8309GB/s    Pageable      Device     Tesla T4 (0)         1         7  [CUDA memcpy HtoD]\n",
            "12.4669s  388.57us                    -               -         -         -         -  2.3438MB  5.8903GB/s    Pageable      Device     Tesla T4 (0)         1         7  [CUDA memcpy HtoD]\n",
            "12.4680s  340.13us                    -               -         -         -         -  2.3438MB  6.7293GB/s    Pageable      Device     Tesla T4 (0)         1         7  [CUDA memcpy HtoD]\n",
            "12.4688s  27.008us                    -               -         -         -         -  300.00KB  10.593GB/s    Pageable      Device     Tesla T4 (0)         1         7  [CUDA memcpy HtoD]\n",
            "12.4689s  909.24ms            (15 20 1)       (32 32 1)        50        0B        0B         -           -           -           -     Tesla T4 (0)         1         7  cudapy::__main__::compute_alpha$241(Array<double, int=2, C, mutable, aligned>, __int64, Array<double, int=2, C, mutable, aligned>, Array<double, int=2, C, mutable, aligned>, Array<bool, int=2, C, mutable, aligned>) [658]\n",
            "13.3782s  339.20us                    -               -         -         -         -  2.3438MB  6.7478GB/s      Device    Pageable     Tesla T4 (0)         1         7  [CUDA memcpy DtoH]\n",
            "13.3791s  315.49us                    -               -         -         -         -  2.3438MB  7.2549GB/s      Device    Pageable     Tesla T4 (0)         1         7  [CUDA memcpy DtoH]\n",
            "13.3799s  341.72us                    -               -         -         -         -  2.3438MB  6.6979GB/s      Device    Pageable     Tesla T4 (0)         1         7  [CUDA memcpy DtoH]\n",
            "13.3806s  24.800us                    -               -         -         -         -  300.00KB  11.536GB/s      Device    Pageable     Tesla T4 (0)         1         7  [CUDA memcpy DtoH]\n",
            "13.3837s  352.61us                    -               -         -         -         -  2.3438MB  6.4912GB/s    Pageable      Device     Tesla T4 (0)         1         7  [CUDA memcpy HtoD]\n",
            "13.3848s  344.89us                    -               -         -         -         -  2.3438MB  6.6363GB/s    Pageable      Device     Tesla T4 (0)         1         7  [CUDA memcpy HtoD]\n",
            "13.3861s  331.20us                    -               -         -         -         -  2.3438MB  6.9107GB/s    Pageable      Device     Tesla T4 (0)         1         7  [CUDA memcpy HtoD]\n",
            "13.3869s  27.392us                    -               -         -         -         -  300.00KB  10.445GB/s    Pageable      Device     Tesla T4 (0)         1         7  [CUDA memcpy HtoD]\n",
            "13.3870s  913.74ms            (15 20 1)       (32 32 1)        50        0B        0B         -           -           -           -     Tesla T4 (0)         1         7  cudapy::__main__::compute_alpha$241(Array<double, int=2, C, mutable, aligned>, __int64, Array<double, int=2, C, mutable, aligned>, Array<double, int=2, C, mutable, aligned>, Array<bool, int=2, C, mutable, aligned>) [699]\n",
            "14.3008s  340.06us                    -               -         -         -         -  2.3438MB  6.7306GB/s      Device    Pageable     Tesla T4 (0)         1         7  [CUDA memcpy DtoH]\n",
            "14.3017s  307.65us                    -               -         -         -         -  2.3438MB  7.4398GB/s      Device    Pageable     Tesla T4 (0)         1         7  [CUDA memcpy DtoH]\n",
            "14.3024s  305.98us                    -               -         -         -         -  2.3438MB  7.4803GB/s      Device    Pageable     Tesla T4 (0)         1         7  [CUDA memcpy DtoH]\n",
            "14.3032s  24.799us                    -               -         -         -         -  300.00KB  11.537GB/s      Device    Pageable     Tesla T4 (0)         1         7  [CUDA memcpy DtoH]\n",
            "14.3061s  364.54us                    -               -         -         -         -  2.3438MB  6.2786GB/s    Pageable      Device     Tesla T4 (0)         1         7  [CUDA memcpy HtoD]\n",
            "14.3073s  343.48us                    -               -         -         -         -  2.3438MB  6.6635GB/s    Pageable      Device     Tesla T4 (0)         1         7  [CUDA memcpy HtoD]\n",
            "14.3083s  341.88us                    -               -         -         -         -  2.3438MB  6.6947GB/s    Pageable      Device     Tesla T4 (0)         1         7  [CUDA memcpy HtoD]\n",
            "14.3091s  27.295us                    -               -         -         -         -  300.00KB  10.482GB/s    Pageable      Device     Tesla T4 (0)         1         7  [CUDA memcpy HtoD]\n",
            "14.3092s  918.41ms            (15 20 1)       (32 32 1)        50        0B        0B         -           -           -           -     Tesla T4 (0)         1         7  cudapy::__main__::compute_alpha$241(Array<double, int=2, C, mutable, aligned>, __int64, Array<double, int=2, C, mutable, aligned>, Array<double, int=2, C, mutable, aligned>, Array<bool, int=2, C, mutable, aligned>) [740]\n",
            "15.2276s  356.86us                    -               -         -         -         -  2.3438MB  6.4138GB/s      Device    Pageable     Tesla T4 (0)         1         7  [CUDA memcpy DtoH]\n",
            "15.2285s  327.71us                    -               -         -         -         -  2.3438MB  6.9843GB/s      Device    Pageable     Tesla T4 (0)         1         7  [CUDA memcpy DtoH]\n",
            "15.2293s  309.82us                    -               -         -         -         -  2.3438MB  7.3876GB/s      Device    Pageable     Tesla T4 (0)         1         7  [CUDA memcpy DtoH]\n",
            "15.2300s  24.768us                    -               -         -         -         -  300.00KB  11.551GB/s      Device    Pageable     Tesla T4 (0)         1         7  [CUDA memcpy DtoH]\n",
            "15.2343s  324.64us                    -               -         -         -         -  2.3438MB  7.0504GB/s    Pageable      Device     Tesla T4 (0)         1         7  [CUDA memcpy HtoD]\n",
            "15.2354s  337.25us                    -               -         -         -         -  2.3438MB  6.7868GB/s    Pageable      Device     Tesla T4 (0)         1         7  [CUDA memcpy HtoD]\n",
            "15.2364s  328.38us                    -               -         -         -         -  2.3438MB  6.9700GB/s    Pageable      Device     Tesla T4 (0)         1         7  [CUDA memcpy HtoD]\n",
            "15.2371s  27.456us                    -               -         -         -         -  300.00KB  10.420GB/s    Pageable      Device     Tesla T4 (0)         1         7  [CUDA memcpy HtoD]\n",
            "15.2372s  1.14930s            (15 20 1)       (32 32 1)        50        0B        0B         -           -           -           -     Tesla T4 (0)         1         7  cudapy::__main__::compute_alpha$241(Array<double, int=2, C, mutable, aligned>, __int64, Array<double, int=2, C, mutable, aligned>, Array<double, int=2, C, mutable, aligned>, Array<bool, int=2, C, mutable, aligned>) [792]\n",
            "16.3866s  377.50us                    -               -         -         -         -  2.3438MB  6.0631GB/s      Device    Pageable     Tesla T4 (0)         1         7  [CUDA memcpy DtoH]\n",
            "16.3876s  350.91us                    -               -         -         -         -  2.3438MB  6.5226GB/s      Device    Pageable     Tesla T4 (0)         1         7  [CUDA memcpy DtoH]\n",
            "16.3885s  346.94us                    -               -         -         -         -  2.3438MB  6.5971GB/s      Device    Pageable     Tesla T4 (0)         1         7  [CUDA memcpy DtoH]\n",
            "16.3894s  24.576us                    -               -         -         -         -  300.00KB  11.642GB/s      Device    Pageable     Tesla T4 (0)         1         7  [CUDA memcpy DtoH]\n",
            "16.3931s  357.82us                    -               -         -         -         -  2.3438MB  6.3966GB/s    Pageable      Device     Tesla T4 (0)         1         7  [CUDA memcpy HtoD]\n",
            "16.3944s  373.21us                    -               -         -         -         -  2.3438MB  6.1328GB/s    Pageable      Device     Tesla T4 (0)         1         7  [CUDA memcpy HtoD]\n",
            "16.3959s  374.88us                    -               -         -         -         -  2.3438MB  6.1055GB/s    Pageable      Device     Tesla T4 (0)         1         7  [CUDA memcpy HtoD]\n",
            "16.3969s  27.008us                    -               -         -         -         -  300.00KB  10.593GB/s    Pageable      Device     Tesla T4 (0)         1         7  [CUDA memcpy HtoD]\n",
            "16.3971s  1.15288s            (15 20 1)       (32 32 1)        50        0B        0B         -           -           -           -     Tesla T4 (0)         1         7  cudapy::__main__::compute_alpha$241(Array<double, int=2, C, mutable, aligned>, __int64, Array<double, int=2, C, mutable, aligned>, Array<double, int=2, C, mutable, aligned>, Array<bool, int=2, C, mutable, aligned>) [833]\n",
            "17.5499s  334.20us                    -               -         -         -         -  2.3438MB  6.8486GB/s      Device    Pageable     Tesla T4 (0)         1         7  [CUDA memcpy DtoH]\n",
            "17.5509s  314.11us                    -               -         -         -         -  2.3438MB  7.2867GB/s      Device    Pageable     Tesla T4 (0)         1         7  [CUDA memcpy DtoH]\n",
            "17.5516s  334.78us                    -               -         -         -         -  2.3438MB  6.8368GB/s      Device    Pageable     Tesla T4 (0)         1         7  [CUDA memcpy DtoH]\n",
            "17.5523s  24.736us                    -               -         -         -         -  300.00KB  11.566GB/s      Device    Pageable     Tesla T4 (0)         1         7  [CUDA memcpy DtoH]\n",
            "17.5552s  329.02us                    -               -         -         -         -  2.3438MB  6.9565GB/s    Pageable      Device     Tesla T4 (0)         1         7  [CUDA memcpy HtoD]\n",
            "17.5562s  333.92us                    -               -         -         -         -  2.3438MB  6.8545GB/s    Pageable      Device     Tesla T4 (0)         1         7  [CUDA memcpy HtoD]\n",
            "17.5572s  336.25us                    -               -         -         -         -  2.3438MB  6.8068GB/s    Pageable      Device     Tesla T4 (0)         1         7  [CUDA memcpy HtoD]\n",
            "17.5580s  27.359us                    -               -         -         -         -  300.00KB  10.457GB/s    Pageable      Device     Tesla T4 (0)         1         7  [CUDA memcpy HtoD]\n",
            "17.5581s  919.53ms            (15 20 1)       (32 32 1)        50        0B        0B         -           -           -           -     Tesla T4 (0)         1         7  cudapy::__main__::compute_alpha$241(Array<double, int=2, C, mutable, aligned>, __int64, Array<double, int=2, C, mutable, aligned>, Array<double, int=2, C, mutable, aligned>, Array<bool, int=2, C, mutable, aligned>) [874]\n",
            "18.4776s  354.21us                    -               -         -         -         -  2.3438MB  6.4618GB/s      Device    Pageable     Tesla T4 (0)         1         7  [CUDA memcpy DtoH]\n",
            "18.4785s  324.25us                    -               -         -         -         -  2.3438MB  7.0587GB/s      Device    Pageable     Tesla T4 (0)         1         7  [CUDA memcpy DtoH]\n",
            "18.4792s  318.21us                    -               -         -         -         -  2.3438MB  7.1929GB/s      Device    Pageable     Tesla T4 (0)         1         7  [CUDA memcpy DtoH]\n",
            "18.4800s  24.799us                    -               -         -         -         -  300.00KB  11.537GB/s      Device    Pageable     Tesla T4 (0)         1         7  [CUDA memcpy DtoH]\n",
            "18.4842s  356.48us                    -               -         -         -         -  2.3438MB  6.4207GB/s    Pageable      Device     Tesla T4 (0)         1         7  [CUDA memcpy HtoD]\n",
            "18.4853s  343.04us                    -               -         -         -         -  2.3438MB  6.6722GB/s    Pageable      Device     Tesla T4 (0)         1         7  [CUDA memcpy HtoD]\n",
            "18.4864s  330.75us                    -               -         -         -         -  2.3438MB  6.9201GB/s    Pageable      Device     Tesla T4 (0)         1         7  [CUDA memcpy HtoD]\n",
            "18.4871s  27.456us                    -               -         -         -         -  300.00KB  10.420GB/s    Pageable      Device     Tesla T4 (0)         1         7  [CUDA memcpy HtoD]\n",
            "18.4872s  919.59ms            (15 20 1)       (32 32 1)        50        0B        0B         -           -           -           -     Tesla T4 (0)         1         7  cudapy::__main__::compute_alpha$241(Array<double, int=2, C, mutable, aligned>, __int64, Array<double, int=2, C, mutable, aligned>, Array<double, int=2, C, mutable, aligned>, Array<bool, int=2, C, mutable, aligned>) [926]\n",
            "19.4068s  337.02us                    -               -         -         -         -  2.3438MB  6.7913GB/s      Device    Pageable     Tesla T4 (0)         1         7  [CUDA memcpy DtoH]\n",
            "19.4076s  330.56us                    -               -         -         -         -  2.3438MB  6.9241GB/s      Device    Pageable     Tesla T4 (0)         1         7  [CUDA memcpy DtoH]\n",
            "19.4084s  323.36us                    -               -         -         -         -  2.3438MB  7.0783GB/s      Device    Pageable     Tesla T4 (0)         1         7  [CUDA memcpy DtoH]\n",
            "19.4091s  24.768us                    -               -         -         -         -  300.00KB  11.551GB/s      Device    Pageable     Tesla T4 (0)         1         7  [CUDA memcpy DtoH]\n",
            "19.4121s  327.48us                    -               -         -         -         -  2.3438MB  6.9891GB/s    Pageable      Device     Tesla T4 (0)         1         7  [CUDA memcpy HtoD]\n",
            "19.4131s  330.68us                    -               -         -         -         -  2.3438MB  6.9215GB/s    Pageable      Device     Tesla T4 (0)         1         7  [CUDA memcpy HtoD]\n",
            "19.4141s  329.37us                    -               -         -         -         -  2.3438MB  6.9490GB/s    Pageable      Device     Tesla T4 (0)         1         7  [CUDA memcpy HtoD]\n",
            "19.4148s  27.456us                    -               -         -         -         -  300.00KB  10.420GB/s    Pageable      Device     Tesla T4 (0)         1         7  [CUDA memcpy HtoD]\n",
            "19.4149s  921.53ms            (15 20 1)       (32 32 1)        50        0B        0B         -           -           -           -     Tesla T4 (0)         1         7  cudapy::__main__::compute_alpha$241(Array<double, int=2, C, mutable, aligned>, __int64, Array<double, int=2, C, mutable, aligned>, Array<double, int=2, C, mutable, aligned>, Array<bool, int=2, C, mutable, aligned>) [967]\n",
            "20.3365s  352.32us                    -               -         -         -         -  2.3438MB  6.4965GB/s      Device    Pageable     Tesla T4 (0)         1         7  [CUDA memcpy DtoH]\n",
            "20.3374s  313.79us                    -               -         -         -         -  2.3438MB  7.2941GB/s      Device    Pageable     Tesla T4 (0)         1         7  [CUDA memcpy DtoH]\n",
            "20.3382s  310.81us                    -               -         -         -         -  2.3438MB  7.3640GB/s      Device    Pageable     Tesla T4 (0)         1         7  [CUDA memcpy DtoH]\n",
            "20.3389s  24.671us                    -               -         -         -         -  300.00KB  11.597GB/s      Device    Pageable     Tesla T4 (0)         1         7  [CUDA memcpy DtoH]\n",
            "20.3421s  331.17us                    -               -         -         -         -  2.3438MB  6.9114GB/s    Pageable      Device     Tesla T4 (0)         1         7  [CUDA memcpy HtoD]\n",
            "20.3433s  339.26us                    -               -         -         -         -  2.3438MB  6.7465GB/s    Pageable      Device     Tesla T4 (0)         1         7  [CUDA memcpy HtoD]\n",
            "20.3444s  333.34us                    -               -         -         -         -  2.3438MB  6.8663GB/s    Pageable      Device     Tesla T4 (0)         1         7  [CUDA memcpy HtoD]\n",
            "20.3451s  27.199us                    -               -         -         -         -  300.00KB  10.519GB/s    Pageable      Device     Tesla T4 (0)         1         7  [CUDA memcpy HtoD]\n",
            "20.3452s  1.15696s            (15 20 1)       (32 32 1)        50        0B        0B         -           -           -           -     Tesla T4 (0)         1         7  cudapy::__main__::compute_alpha$241(Array<double, int=2, C, mutable, aligned>, __int64, Array<double, int=2, C, mutable, aligned>, Array<double, int=2, C, mutable, aligned>, Array<bool, int=2, C, mutable, aligned>) [1008]\n",
            "21.5022s  336.09us                    -               -         -         -         -  2.3438MB  6.8101GB/s      Device    Pageable     Tesla T4 (0)         1         7  [CUDA memcpy DtoH]\n",
            "21.5031s  309.66us                    -               -         -         -         -  2.3438MB  7.3914GB/s      Device    Pageable     Tesla T4 (0)         1         7  [CUDA memcpy DtoH]\n",
            "21.5039s  319.39us                    -               -         -         -         -  2.3438MB  7.1662GB/s      Device    Pageable     Tesla T4 (0)         1         7  [CUDA memcpy DtoH]\n",
            "21.5046s  24.576us                    -               -         -         -         -  300.00KB  11.642GB/s      Device    Pageable     Tesla T4 (0)         1         7  [CUDA memcpy DtoH]\n",
            "21.5085s  344.70us                    -               -         -         -         -  2.3438MB  6.6400GB/s    Pageable      Device     Tesla T4 (0)         1         7  [CUDA memcpy HtoD]\n",
            "21.5096s  365.44us                    -               -         -         -         -  2.3438MB  6.2633GB/s    Pageable      Device     Tesla T4 (0)         1         7  [CUDA memcpy HtoD]\n",
            "21.5107s  370.78us                    -               -         -         -         -  2.3438MB  6.1730GB/s    Pageable      Device     Tesla T4 (0)         1         7  [CUDA memcpy HtoD]\n",
            "21.5115s  27.264us                    -               -         -         -         -  300.00KB  10.494GB/s    Pageable      Device     Tesla T4 (0)         1         7  [CUDA memcpy HtoD]\n",
            "21.5117s  1.15803s            (15 20 1)       (32 32 1)        50        0B        0B         -           -           -           -     Tesla T4 (0)         1         7  cudapy::__main__::compute_alpha$241(Array<double, int=2, C, mutable, aligned>, __int64, Array<double, int=2, C, mutable, aligned>, Array<double, int=2, C, mutable, aligned>, Array<bool, int=2, C, mutable, aligned>) [1060]\n",
            "22.6697s  342.53us                    -               -         -         -         -  2.3438MB  6.6822GB/s      Device    Pageable     Tesla T4 (0)         1         7  [CUDA memcpy DtoH]\n",
            "22.6706s  341.12us                    -               -         -         -         -  2.3438MB  6.7098GB/s      Device    Pageable     Tesla T4 (0)         1         7  [CUDA memcpy DtoH]\n",
            "22.6714s  311.77us                    -               -         -         -         -  2.3438MB  7.3413GB/s      Device    Pageable     Tesla T4 (0)         1         7  [CUDA memcpy DtoH]\n",
            "22.6722s  24.704us                    -               -         -         -         -  300.00KB  11.581GB/s      Device    Pageable     Tesla T4 (0)         1         7  [CUDA memcpy DtoH]\n",
            "22.6751s  330.88us                    -               -         -         -         -  2.3438MB  6.9175GB/s    Pageable      Device     Tesla T4 (0)         1         7  [CUDA memcpy HtoD]\n",
            "22.6762s  333.47us                    -               -         -         -         -  2.3438MB  6.8637GB/s    Pageable      Device     Tesla T4 (0)         1         7  [CUDA memcpy HtoD]\n",
            "22.6772s  331.45us                    -               -         -         -         -  2.3438MB  6.9054GB/s    Pageable      Device     Tesla T4 (0)         1         7  [CUDA memcpy HtoD]\n",
            "22.6779s  27.488us                    -               -         -         -         -  300.00KB  10.408GB/s    Pageable      Device     Tesla T4 (0)         1         7  [CUDA memcpy HtoD]\n",
            "22.6781s  1.15838s            (15 20 1)       (32 32 1)        50        0B        0B         -           -           -           -     Tesla T4 (0)         1         7  cudapy::__main__::compute_alpha$241(Array<double, int=2, C, mutable, aligned>, __int64, Array<double, int=2, C, mutable, aligned>, Array<double, int=2, C, mutable, aligned>, Array<bool, int=2, C, mutable, aligned>) [1101]\n",
            "23.8364s  332.76us                    -               -         -         -         -  2.3438MB  6.8782GB/s      Device    Pageable     Tesla T4 (0)         1         7  [CUDA memcpy DtoH]\n",
            "23.8373s  307.81us                    -               -         -         -         -  2.3438MB  7.4359GB/s      Device    Pageable     Tesla T4 (0)         1         7  [CUDA memcpy DtoH]\n",
            "23.8381s  306.88us                    -               -         -         -         -  2.3438MB  7.4584GB/s      Device    Pageable     Tesla T4 (0)         1         7  [CUDA memcpy DtoH]\n",
            "23.8387s  25.119us                    -               -         -         -         -  300.00KB  11.390GB/s      Device    Pageable     Tesla T4 (0)         1         7  [CUDA memcpy DtoH]\n",
            "23.8429s  370.40us                    -               -         -         -         -  2.3438MB  6.1794GB/s    Pageable      Device     Tesla T4 (0)         1         7  [CUDA memcpy HtoD]\n",
            "23.8440s  351.42us                    -               -         -         -         -  2.3438MB  6.5130GB/s    Pageable      Device     Tesla T4 (0)         1         7  [CUDA memcpy HtoD]\n",
            "23.8450s  329.92us                    -               -         -         -         -  2.3438MB  6.9376GB/s    Pageable      Device     Tesla T4 (0)         1         7  [CUDA memcpy HtoD]\n",
            "23.8462s  27.232us                    -               -         -         -         -  300.00KB  10.506GB/s    Pageable      Device     Tesla T4 (0)         1         7  [CUDA memcpy HtoD]\n",
            "23.8463s  926.37ms            (15 20 1)       (32 32 1)        50        0B        0B         -           -           -           -     Tesla T4 (0)         1         7  cudapy::__main__::compute_alpha$241(Array<double, int=2, C, mutable, aligned>, __int64, Array<double, int=2, C, mutable, aligned>, Array<double, int=2, C, mutable, aligned>, Array<bool, int=2, C, mutable, aligned>) [1153]\n",
            "24.7727s  334.97us                    -               -         -         -         -  2.3438MB  6.8328GB/s      Device    Pageable     Tesla T4 (0)         1         7  [CUDA memcpy DtoH]\n",
            "24.7736s  325.44us                    -               -         -         -         -  2.3438MB  7.0331GB/s      Device    Pageable     Tesla T4 (0)         1         7  [CUDA memcpy DtoH]\n",
            "24.7743s  323.90us                    -               -         -         -         -  2.3438MB  7.0664GB/s      Device    Pageable     Tesla T4 (0)         1         7  [CUDA memcpy DtoH]\n",
            "24.7750s  24.832us                    -               -         -         -         -  300.00KB  11.522GB/s      Device    Pageable     Tesla T4 (0)         1         7  [CUDA memcpy DtoH]\n",
            "24.7778s  331.80us                    -               -         -         -         -  2.3438MB  6.8981GB/s    Pageable      Device     Tesla T4 (0)         1         7  [CUDA memcpy HtoD]\n",
            "24.7789s  339.23us                    -               -         -         -         -  2.3438MB  6.7471GB/s    Pageable      Device     Tesla T4 (0)         1         7  [CUDA memcpy HtoD]\n",
            "24.7799s  329.02us                    -               -         -         -         -  2.3438MB  6.9565GB/s    Pageable      Device     Tesla T4 (0)         1         7  [CUDA memcpy HtoD]\n",
            "24.7806s  27.296us                    -               -         -         -         -  300.00KB  10.481GB/s    Pageable      Device     Tesla T4 (0)         1         7  [CUDA memcpy HtoD]\n",
            "24.7808s  927.26ms            (15 20 1)       (32 32 1)        50        0B        0B         -           -           -           -     Tesla T4 (0)         1         7  cudapy::__main__::compute_alpha$241(Array<double, int=2, C, mutable, aligned>, __int64, Array<double, int=2, C, mutable, aligned>, Array<double, int=2, C, mutable, aligned>, Array<bool, int=2, C, mutable, aligned>) [1194]\n",
            "25.7080s  360.32us                    -               -         -         -         -  2.3438MB  6.3522GB/s      Device    Pageable     Tesla T4 (0)         1         7  [CUDA memcpy DtoH]\n",
            "25.7090s  308.45us                    -               -         -         -         -  2.3438MB  7.4205GB/s      Device    Pageable     Tesla T4 (0)         1         7  [CUDA memcpy DtoH]\n",
            "25.7098s  312.61us                    -               -         -         -         -  2.3438MB  7.3218GB/s      Device    Pageable     Tesla T4 (0)         1         7  [CUDA memcpy DtoH]\n",
            "25.7105s  24.864us                    -               -         -         -         -  300.00KB  11.507GB/s      Device    Pageable     Tesla T4 (0)         1         7  [CUDA memcpy DtoH]\n",
            "25.7134s  357.18us                    -               -         -         -         -  2.3438MB  6.4080GB/s    Pageable      Device     Tesla T4 (0)         1         7  [CUDA memcpy HtoD]\n",
            "25.7145s  366.78us                    -               -         -         -         -  2.3438MB  6.2403GB/s    Pageable      Device     Tesla T4 (0)         1         7  [CUDA memcpy HtoD]\n",
            "25.7155s  356.57us                    -               -         -         -         -  2.3438MB  6.4190GB/s    Pageable      Device     Tesla T4 (0)         1         7  [CUDA memcpy HtoD]\n",
            "25.7163s  27.199us                    -               -         -         -         -  300.00KB  10.519GB/s    Pageable      Device     Tesla T4 (0)         1         7  [CUDA memcpy HtoD]\n",
            "25.7164s  931.13ms            (15 20 1)       (32 32 1)        50        0B        0B         -           -           -           -     Tesla T4 (0)         1         7  cudapy::__main__::compute_alpha$241(Array<double, int=2, C, mutable, aligned>, __int64, Array<double, int=2, C, mutable, aligned>, Array<double, int=2, C, mutable, aligned>, Array<bool, int=2, C, mutable, aligned>) [1235]\n",
            "26.6476s  373.69us                    -               -         -         -         -  2.3438MB  6.1249GB/s      Device    Pageable     Tesla T4 (0)         1         7  [CUDA memcpy DtoH]\n",
            "26.6485s  310.27us                    -               -         -         -         -  2.3438MB  7.3769GB/s      Device    Pageable     Tesla T4 (0)         1         7  [CUDA memcpy DtoH]\n",
            "26.6493s  334.88us                    -               -         -         -         -  2.3438MB  6.8348GB/s      Device    Pageable     Tesla T4 (0)         1         7  [CUDA memcpy DtoH]\n",
            "26.6500s  24.736us                    -               -         -         -         -  300.00KB  11.566GB/s      Device    Pageable     Tesla T4 (0)         1         7  [CUDA memcpy DtoH]\n",
            "26.6542s  329.25us                    -               -         -         -         -  2.3438MB  6.9517GB/s    Pageable      Device     Tesla T4 (0)         1         7  [CUDA memcpy HtoD]\n",
            "26.6553s  335.74us                    -               -         -         -         -  2.3438MB  6.8172GB/s    Pageable      Device     Tesla T4 (0)         1         7  [CUDA memcpy HtoD]\n",
            "26.6563s  333.56us                    -               -         -         -         -  2.3438MB  6.8617GB/s    Pageable      Device     Tesla T4 (0)         1         7  [CUDA memcpy HtoD]\n",
            "26.6570s  27.456us                    -               -         -         -         -  300.00KB  10.420GB/s    Pageable      Device     Tesla T4 (0)         1         7  [CUDA memcpy HtoD]\n",
            "26.6572s  1.16480s            (15 20 1)       (32 32 1)        50        0B        0B         -           -           -           -     Tesla T4 (0)         1         7  cudapy::__main__::compute_alpha$241(Array<double, int=2, C, mutable, aligned>, __int64, Array<double, int=2, C, mutable, aligned>, Array<double, int=2, C, mutable, aligned>, Array<bool, int=2, C, mutable, aligned>) [1287]\n",
            "27.8220s  338.59us                    -               -         -         -         -  2.3438MB  6.7599GB/s      Device    Pageable     Tesla T4 (0)         1         7  [CUDA memcpy DtoH]\n",
            "27.8229s  348.86us                    -               -         -         -         -  2.3438MB  6.5609GB/s      Device    Pageable     Tesla T4 (0)         1         7  [CUDA memcpy DtoH]\n",
            "27.8237s  315.65us                    -               -         -         -         -  2.3438MB  7.2512GB/s      Device    Pageable     Tesla T4 (0)         1         7  [CUDA memcpy DtoH]\n",
            "27.8245s  24.608us                    -               -         -         -         -  300.00KB  11.626GB/s      Device    Pageable     Tesla T4 (0)         1         7  [CUDA memcpy DtoH]\n",
            "27.8274s  327.97us                    -               -         -         -         -  2.3438MB  6.9788GB/s    Pageable      Device     Tesla T4 (0)         1         7  [CUDA memcpy HtoD]\n",
            "27.8285s  339.84us                    -               -         -         -         -  2.3438MB  6.7351GB/s    Pageable      Device     Tesla T4 (0)         1         7  [CUDA memcpy HtoD]\n",
            "27.8295s  334.59us                    -               -         -         -         -  2.3438MB  6.8407GB/s    Pageable      Device     Tesla T4 (0)         1         7  [CUDA memcpy HtoD]\n",
            "27.8302s  27.008us                    -               -         -         -         -  300.00KB  10.593GB/s    Pageable      Device     Tesla T4 (0)         1         7  [CUDA memcpy HtoD]\n",
            "27.8304s  1.16698s            (15 20 1)       (32 32 1)        50        0B        0B         -           -           -           -     Tesla T4 (0)         1         7  cudapy::__main__::compute_alpha$241(Array<double, int=2, C, mutable, aligned>, __int64, Array<double, int=2, C, mutable, aligned>, Array<double, int=2, C, mutable, aligned>, Array<bool, int=2, C, mutable, aligned>) [1328]\n",
            "28.9973s  333.95us                    -               -         -         -         -  2.3438MB  6.8538GB/s      Device    Pageable     Tesla T4 (0)         1         7  [CUDA memcpy DtoH]\n",
            "28.9982s  308.38us                    -               -         -         -         -  2.3438MB  7.4220GB/s      Device    Pageable     Tesla T4 (0)         1         7  [CUDA memcpy DtoH]\n",
            "28.9990s  314.81us                    -               -         -         -         -  2.3438MB  7.2704GB/s      Device    Pageable     Tesla T4 (0)         1         7  [CUDA memcpy DtoH]\n",
            "28.9997s  24.640us                    -               -         -         -         -  300.00KB  11.611GB/s      Device    Pageable     Tesla T4 (0)         1         7  [CUDA memcpy DtoH]\n",
            "29.0027s  354.24us                    -               -         -         -         -  2.3438MB  6.4613GB/s    Pageable      Device     Tesla T4 (0)         1         7  [CUDA memcpy HtoD]\n",
            "29.0038s  346.84us                    -               -         -         -         -  2.3438MB  6.5990GB/s    Pageable      Device     Tesla T4 (0)         1         7  [CUDA memcpy HtoD]\n",
            "29.0048s  346.01us                    -               -         -         -         -  2.3438MB  6.6149GB/s    Pageable      Device     Tesla T4 (0)         1         7  [CUDA memcpy HtoD]\n",
            "29.0056s  27.104us                    -               -         -         -         -  300.00KB  10.556GB/s    Pageable      Device     Tesla T4 (0)         1         7  [CUDA memcpy HtoD]\n",
            "29.0057s  934.67ms            (15 20 1)       (32 32 1)        50        0B        0B         -           -           -           -     Tesla T4 (0)         1         7  cudapy::__main__::compute_alpha$241(Array<double, int=2, C, mutable, aligned>, __int64, Array<double, int=2, C, mutable, aligned>, Array<double, int=2, C, mutable, aligned>, Array<bool, int=2, C, mutable, aligned>) [1369]\n",
            "29.9403s  340.86us                    -               -         -         -         -  2.3438MB  6.7148GB/s      Device    Pageable     Tesla T4 (0)         1         7  [CUDA memcpy DtoH]\n",
            "29.9412s  331.96us                    -               -         -         -         -  2.3438MB  6.8948GB/s      Device    Pageable     Tesla T4 (0)         1         7  [CUDA memcpy DtoH]\n",
            "29.9420s  310.59us                    -               -         -         -         -  2.3438MB  7.3693GB/s      Device    Pageable     Tesla T4 (0)         1         7  [CUDA memcpy DtoH]\n",
            "29.9427s  24.768us                    -               -         -         -         -  300.00KB  11.551GB/s      Device    Pageable     Tesla T4 (0)         1         7  [CUDA memcpy DtoH]\n",
            "29.9468s  370.01us                    -               -         -         -         -  2.3438MB  6.1858GB/s    Pageable      Device     Tesla T4 (0)         1         7  [CUDA memcpy HtoD]\n",
            "29.9479s  344.38us                    -               -         -         -         -  2.3438MB  6.6462GB/s    Pageable      Device     Tesla T4 (0)         1         7  [CUDA memcpy HtoD]\n",
            "29.9489s  353.69us                    -               -         -         -         -  2.3438MB  6.4712GB/s    Pageable      Device     Tesla T4 (0)         1         7  [CUDA memcpy HtoD]\n",
            "29.9496s  27.359us                    -               -         -         -         -  300.00KB  10.457GB/s    Pageable      Device     Tesla T4 (0)         1         7  [CUDA memcpy HtoD]\n",
            "29.9497s  933.62ms            (15 20 1)       (32 32 1)        50        0B        0B         -           -           -           -     Tesla T4 (0)         1         7  cudapy::__main__::compute_alpha$241(Array<double, int=2, C, mutable, aligned>, __int64, Array<double, int=2, C, mutable, aligned>, Array<double, int=2, C, mutable, aligned>, Array<bool, int=2, C, mutable, aligned>) [1421]\n",
            "30.8834s  346.46us                    -               -         -         -         -  2.3438MB  6.6063GB/s      Device    Pageable     Tesla T4 (0)         1         7  [CUDA memcpy DtoH]\n",
            "30.8843s  311.93us                    -               -         -         -         -  2.3438MB  7.3375GB/s      Device    Pageable     Tesla T4 (0)         1         7  [CUDA memcpy DtoH]\n",
            "30.8851s  316.60us                    -               -         -         -         -  2.3438MB  7.2293GB/s      Device    Pageable     Tesla T4 (0)         1         7  [CUDA memcpy DtoH]\n",
            "30.8860s  24.704us                    -               -         -         -         -  300.00KB  11.581GB/s      Device    Pageable     Tesla T4 (0)         1         7  [CUDA memcpy DtoH]\n",
            "30.8891s  348.06us                    -               -         -         -         -  2.3438MB  6.5759GB/s    Pageable      Device     Tesla T4 (0)         1         7  [CUDA memcpy HtoD]\n",
            "30.8902s  331.42us                    -               -         -         -         -  2.3438MB  6.9061GB/s    Pageable      Device     Tesla T4 (0)         1         7  [CUDA memcpy HtoD]\n",
            "30.8912s  348.29us                    -               -         -         -         -  2.3438MB  6.5717GB/s    Pageable      Device     Tesla T4 (0)         1         7  [CUDA memcpy HtoD]\n",
            "30.8920s  27.360us                    -               -         -         -         -  300.00KB  10.457GB/s    Pageable      Device     Tesla T4 (0)         1         7  [CUDA memcpy HtoD]\n",
            "30.8921s  940.11ms            (15 20 1)       (32 32 1)        50        0B        0B         -           -           -           -     Tesla T4 (0)         1         7  cudapy::__main__::compute_alpha$241(Array<double, int=2, C, mutable, aligned>, __int64, Array<double, int=2, C, mutable, aligned>, Array<double, int=2, C, mutable, aligned>, Array<bool, int=2, C, mutable, aligned>) [1462]\n",
            "31.8322s  345.76us                    -               -         -         -         -  2.3438MB  6.6198GB/s      Device    Pageable     Tesla T4 (0)         1         7  [CUDA memcpy DtoH]\n",
            "31.8332s  309.98us                    -               -         -         -         -  2.3438MB  7.3837GB/s      Device    Pageable     Tesla T4 (0)         1         7  [CUDA memcpy DtoH]\n",
            "31.8339s  319.84us                    -               -         -         -         -  2.3438MB  7.1562GB/s      Device    Pageable     Tesla T4 (0)         1         7  [CUDA memcpy DtoH]\n",
            "31.8346s  24.704us                    -               -         -         -         -  300.00KB  11.581GB/s      Device    Pageable     Tesla T4 (0)         1         7  [CUDA memcpy DtoH]\n",
            "31.8375s  333.31us                    -               -         -         -         -  2.3438MB  6.8670GB/s    Pageable      Device     Tesla T4 (0)         1         7  [CUDA memcpy HtoD]\n",
            "31.8386s  347.29us                    -               -         -         -         -  2.3438MB  6.5905GB/s    Pageable      Device     Tesla T4 (0)         1         7  [CUDA memcpy HtoD]\n",
            "31.8396s  347.90us                    -               -         -         -         -  2.3438MB  6.5789GB/s    Pageable      Device     Tesla T4 (0)         1         7  [CUDA memcpy HtoD]\n",
            "31.8403s  27.136us                    -               -         -         -         -  300.00KB  10.543GB/s    Pageable      Device     Tesla T4 (0)         1         7  [CUDA memcpy HtoD]\n",
            "31.8404s  1.17390s            (15 20 1)       (32 32 1)        50        0B        0B         -           -           -           -     Tesla T4 (0)         1         7  cudapy::__main__::compute_alpha$241(Array<double, int=2, C, mutable, aligned>, __int64, Array<double, int=2, C, mutable, aligned>, Array<double, int=2, C, mutable, aligned>, Array<bool, int=2, C, mutable, aligned>) [1503]\n",
            "33.0143s  365.50us                    -               -         -         -         -  2.3438MB  6.2621GB/s      Device    Pageable     Tesla T4 (0)         1         7  [CUDA memcpy DtoH]\n",
            "33.0153s  317.15us                    -               -         -         -         -  2.3438MB  7.2169GB/s      Device    Pageable     Tesla T4 (0)         1         7  [CUDA memcpy DtoH]\n",
            "33.0160s  308.67us                    -               -         -         -         -  2.3438MB  7.4151GB/s      Device    Pageable     Tesla T4 (0)         1         7  [CUDA memcpy DtoH]\n",
            "33.0168s  24.608us                    -               -         -         -         -  300.00KB  11.626GB/s      Device    Pageable     Tesla T4 (0)         1         7  [CUDA memcpy DtoH]\n",
            "33.0208s  347.64us                    -               -         -         -         -  2.3438MB  6.5838GB/s    Pageable      Device     Tesla T4 (0)         1         7  [CUDA memcpy HtoD]\n",
            "33.0220s  349.02us                    -               -         -         -         -  2.3438MB  6.5578GB/s    Pageable      Device     Tesla T4 (0)         1         7  [CUDA memcpy HtoD]\n",
            "33.0231s  331.87us                    -               -         -         -         -  2.3438MB  6.8968GB/s    Pageable      Device     Tesla T4 (0)         1         7  [CUDA memcpy HtoD]\n",
            "33.0239s  27.199us                    -               -         -         -         -  300.00KB  10.519GB/s    Pageable      Device     Tesla T4 (0)         1         7  [CUDA memcpy HtoD]\n",
            "33.0240s  1.17463s            (15 20 1)       (32 32 1)        50        0B        0B         -           -           -           -     Tesla T4 (0)         1         7  cudapy::__main__::compute_alpha$241(Array<double, int=2, C, mutable, aligned>, __int64, Array<double, int=2, C, mutable, aligned>, Array<double, int=2, C, mutable, aligned>, Array<bool, int=2, C, mutable, aligned>) [1555]\n",
            "34.1986s  342.01us                    -               -         -         -         -  2.3438MB  6.6922GB/s      Device    Pageable     Tesla T4 (0)         1         7  [CUDA memcpy DtoH]\n",
            "34.1995s  309.50us                    -               -         -         -         -  2.3438MB  7.3952GB/s      Device    Pageable     Tesla T4 (0)         1         7  [CUDA memcpy DtoH]\n",
            "34.2002s  307.45us                    -               -         -         -         -  2.3438MB  7.4444GB/s      Device    Pageable     Tesla T4 (0)         1         7  [CUDA memcpy DtoH]\n",
            "34.2009s  24.768us                    -               -         -         -         -  300.00KB  11.551GB/s      Device    Pageable     Tesla T4 (0)         1         7  [CUDA memcpy DtoH]\n",
            "34.2039s  340.41us                    -               -         -         -         -  2.3438MB  6.7237GB/s    Pageable      Device     Tesla T4 (0)         1         7  [CUDA memcpy HtoD]\n",
            "34.2049s  340.99us                    -               -         -         -         -  2.3438MB  6.7123GB/s    Pageable      Device     Tesla T4 (0)         1         7  [CUDA memcpy HtoD]\n",
            "34.2060s  358.46us                    -               -         -         -         -  2.3438MB  6.3851GB/s    Pageable      Device     Tesla T4 (0)         1         7  [CUDA memcpy HtoD]\n",
            "34.2067s  27.167us                    -               -         -         -         -  300.00KB  10.531GB/s    Pageable      Device     Tesla T4 (0)         1         7  [CUDA memcpy HtoD]\n",
            "34.2068s  1.17679s            (15 20 1)       (32 32 1)        50        0B        0B         -           -           -           -     Tesla T4 (0)         1         7  cudapy::__main__::compute_alpha$241(Array<double, int=2, C, mutable, aligned>, __int64, Array<double, int=2, C, mutable, aligned>, Array<double, int=2, C, mutable, aligned>, Array<bool, int=2, C, mutable, aligned>) [1596]\n",
            "35.3836s  341.37us                    -               -         -         -         -  2.3438MB  6.7048GB/s      Device    Pageable     Tesla T4 (0)         1         7  [CUDA memcpy DtoH]\n",
            "35.3845s  326.04us                    -               -         -         -         -  2.3438MB  7.0200GB/s      Device    Pageable     Tesla T4 (0)         1         7  [CUDA memcpy DtoH]\n",
            "35.3852s  306.30us                    -               -         -         -         -  2.3438MB  7.4724GB/s      Device    Pageable     Tesla T4 (0)         1         7  [CUDA memcpy DtoH]\n",
            "35.3859s  24.768us                    -               -         -         -         -  300.00KB  11.551GB/s      Device    Pageable     Tesla T4 (0)         1         7  [CUDA memcpy DtoH]\n",
            "35.3902s  326.91us                    -               -         -         -         -  2.3438MB  7.0014GB/s    Pageable      Device     Tesla T4 (0)         1         7  [CUDA memcpy HtoD]\n",
            "35.3913s  333.76us                    -               -         -         -         -  2.3438MB  6.8578GB/s    Pageable      Device     Tesla T4 (0)         1         7  [CUDA memcpy HtoD]\n",
            "35.3924s  346.04us                    -               -         -         -         -  2.3438MB  6.6142GB/s    Pageable      Device     Tesla T4 (0)         1         7  [CUDA memcpy HtoD]\n",
            "35.3934s  27.424us                    -               -         -         -         -  300.00KB  10.433GB/s    Pageable      Device     Tesla T4 (0)         1         7  [CUDA memcpy HtoD]\n",
            "35.3935s  937.94ms            (15 20 1)       (32 32 1)        50        0B        0B         -           -           -           -     Tesla T4 (0)         1         7  cudapy::__main__::compute_alpha$241(Array<double, int=2, C, mutable, aligned>, __int64, Array<double, int=2, C, mutable, aligned>, Array<double, int=2, C, mutable, aligned>, Array<bool, int=2, C, mutable, aligned>) [1648]\n",
            "36.3315s  411.13us                    -               -         -         -         -  2.3438MB  5.5671GB/s      Device    Pageable     Tesla T4 (0)         1         7  [CUDA memcpy DtoH]\n",
            "36.3324s  326.62us                    -               -         -         -         -  2.3438MB  7.0076GB/s      Device    Pageable     Tesla T4 (0)         1         7  [CUDA memcpy DtoH]\n",
            "36.3333s  315.36us                    -               -         -         -         -  2.3438MB  7.2579GB/s      Device    Pageable     Tesla T4 (0)         1         7  [CUDA memcpy DtoH]\n",
            "36.3340s  24.607us                    -               -         -         -         -  300.00KB  11.627GB/s      Device    Pageable     Tesla T4 (0)         1         7  [CUDA memcpy DtoH]\n",
            "36.3370s  344.73us                    -               -         -         -         -  2.3438MB  6.6394GB/s    Pageable      Device     Tesla T4 (0)         1         7  [CUDA memcpy HtoD]\n",
            "36.3381s  332.48us                    -               -         -         -         -  2.3438MB  6.8841GB/s    Pageable      Device     Tesla T4 (0)         1         7  [CUDA memcpy HtoD]\n",
            "36.3391s  351.29us                    -               -         -         -         -  2.3438MB  6.5154GB/s    Pageable      Device     Tesla T4 (0)         1         7  [CUDA memcpy HtoD]\n",
            "36.3399s  27.424us                    -               -         -         -         -  300.00KB  10.433GB/s    Pageable      Device     Tesla T4 (0)         1         7  [CUDA memcpy HtoD]\n",
            "36.3400s  938.06ms            (15 20 1)       (32 32 1)        50        0B        0B         -           -           -           -     Tesla T4 (0)         1         7  cudapy::__main__::compute_alpha$241(Array<double, int=2, C, mutable, aligned>, __int64, Array<double, int=2, C, mutable, aligned>, Array<double, int=2, C, mutable, aligned>, Array<bool, int=2, C, mutable, aligned>) [1689]\n",
            "37.2781s  335.13us                    -               -         -         -         -  2.3438MB  6.8296GB/s      Device    Pageable     Tesla T4 (0)         1         7  [CUDA memcpy DtoH]\n",
            "37.2789s  310.04us                    -               -         -         -         -  2.3438MB  7.3822GB/s      Device    Pageable     Tesla T4 (0)         1         7  [CUDA memcpy DtoH]\n",
            "37.2797s  321.18us                    -               -         -         -         -  2.3438MB  7.1263GB/s      Device    Pageable     Tesla T4 (0)         1         7  [CUDA memcpy DtoH]\n",
            "37.2804s  24.736us                    -               -         -         -         -  300.00KB  11.566GB/s      Device    Pageable     Tesla T4 (0)         1         7  [CUDA memcpy DtoH]\n",
            "37.2834s  329.21us                    -               -         -         -         -  2.3438MB  6.9524GB/s    Pageable      Device     Tesla T4 (0)         1         7  [CUDA memcpy HtoD]\n",
            "37.2845s  336.16us                    -               -         -         -         -  2.3438MB  6.8088GB/s    Pageable      Device     Tesla T4 (0)         1         7  [CUDA memcpy HtoD]\n",
            "37.2855s  341.60us                    -               -         -         -         -  2.3438MB  6.7004GB/s    Pageable      Device     Tesla T4 (0)         1         7  [CUDA memcpy HtoD]\n",
            "37.2862s  27.232us                    -               -         -         -         -  300.00KB  10.506GB/s    Pageable      Device     Tesla T4 (0)         1         7  [CUDA memcpy HtoD]\n",
            "37.2863s  941.24ms            (15 20 1)       (32 32 1)        50        0B        0B         -           -           -           -     Tesla T4 (0)         1         7  cudapy::__main__::compute_alpha$241(Array<double, int=2, C, mutable, aligned>, __int64, Array<double, int=2, C, mutable, aligned>, Array<double, int=2, C, mutable, aligned>, Array<bool, int=2, C, mutable, aligned>) [1730]\n",
            "38.2276s  385.63us                    -               -         -         -         -  2.3438MB  5.9353GB/s      Device    Pageable     Tesla T4 (0)         1         7  [CUDA memcpy DtoH]\n",
            "38.2286s  340.38us                    -               -         -         -         -  2.3438MB  6.7243GB/s      Device    Pageable     Tesla T4 (0)         1         7  [CUDA memcpy DtoH]\n",
            "38.2294s  309.08us                    -               -         -         -         -  2.3438MB  7.4051GB/s      Device    Pageable     Tesla T4 (0)         1         7  [CUDA memcpy DtoH]\n",
            "38.2302s  24.735us                    -               -         -         -         -  300.00KB  11.567GB/s      Device    Pageable     Tesla T4 (0)         1         7  [CUDA memcpy DtoH]\n",
            "38.2350s  335.55us                    -               -         -         -         -  2.3438MB  6.8211GB/s    Pageable      Device     Tesla T4 (0)         1         7  [CUDA memcpy HtoD]\n",
            "38.2361s  334.17us                    -               -         -         -         -  2.3438MB  6.8492GB/s    Pageable      Device     Tesla T4 (0)         1         7  [CUDA memcpy HtoD]\n",
            "38.2371s  330.49us                    -               -         -         -         -  2.3438MB  6.9255GB/s    Pageable      Device     Tesla T4 (0)         1         7  [CUDA memcpy HtoD]\n",
            "38.2378s  27.200us                    -               -         -         -         -  300.00KB  10.518GB/s    Pageable      Device     Tesla T4 (0)         1         7  [CUDA memcpy HtoD]\n",
            "38.2379s  1.18123s            (15 20 1)       (32 32 1)        50        0B        0B         -           -           -           -     Tesla T4 (0)         1         7  cudapy::__main__::compute_alpha$241(Array<double, int=2, C, mutable, aligned>, __int64, Array<double, int=2, C, mutable, aligned>, Array<double, int=2, C, mutable, aligned>, Array<bool, int=2, C, mutable, aligned>) [1782]\n",
            "39.4192s  346.27us                    -               -         -         -         -  2.3438MB  6.6099GB/s      Device    Pageable     Tesla T4 (0)         1         7  [CUDA memcpy DtoH]\n",
            "39.4201s  314.56us                    -               -         -         -         -  2.3438MB  7.2763GB/s      Device    Pageable     Tesla T4 (0)         1         7  [CUDA memcpy DtoH]\n",
            "39.4209s  313.28us                    -               -         -         -         -  2.3438MB  7.3061GB/s      Device    Pageable     Tesla T4 (0)         1         7  [CUDA memcpy DtoH]\n",
            "39.4216s  24.544us                    -               -         -         -         -  300.00KB  11.657GB/s      Device    Pageable     Tesla T4 (0)         1         7  [CUDA memcpy DtoH]\n",
            "39.4246s  342.14us                    -               -         -         -         -  2.3438MB  6.6897GB/s    Pageable      Device     Tesla T4 (0)         1         7  [CUDA memcpy HtoD]\n",
            "39.4257s  362.53us                    -               -         -         -         -  2.3438MB  6.3135GB/s    Pageable      Device     Tesla T4 (0)         1         7  [CUDA memcpy HtoD]\n",
            "39.4267s  346.75us                    -               -         -         -         -  2.3438MB  6.6008GB/s    Pageable      Device     Tesla T4 (0)         1         7  [CUDA memcpy HtoD]\n",
            "39.4277s  27.200us                    -               -         -         -         -  300.00KB  10.518GB/s    Pageable      Device     Tesla T4 (0)         1         7  [CUDA memcpy HtoD]\n",
            "39.4278s  1.18188s            (15 20 1)       (32 32 1)        50        0B        0B         -           -           -           -     Tesla T4 (0)         1         7  cudapy::__main__::compute_alpha$241(Array<double, int=2, C, mutable, aligned>, __int64, Array<double, int=2, C, mutable, aligned>, Array<double, int=2, C, mutable, aligned>, Array<bool, int=2, C, mutable, aligned>) [1823]\n",
            "40.6097s  390.88us                    -               -         -         -         -  2.3438MB  5.8556GB/s      Device    Pageable     Tesla T4 (0)         1         7  [CUDA memcpy DtoH]\n",
            "40.6107s  321.95us                    -               -         -         -         -  2.3438MB  7.1093GB/s      Device    Pageable     Tesla T4 (0)         1         7  [CUDA memcpy DtoH]\n",
            "40.6114s  307.93us                    -               -         -         -         -  2.3438MB  7.4328GB/s      Device    Pageable     Tesla T4 (0)         1         7  [CUDA memcpy DtoH]\n",
            "40.6122s  24.736us                    -               -         -         -         -  300.00KB  11.566GB/s      Device    Pageable     Tesla T4 (0)         1         7  [CUDA memcpy DtoH]\n",
            "40.6152s  332.00us                    -               -         -         -         -  2.3438MB  6.8941GB/s    Pageable      Device     Tesla T4 (0)         1         7  [CUDA memcpy HtoD]\n",
            "40.6162s  333.12us                    -               -         -         -         -  2.3438MB  6.8709GB/s    Pageable      Device     Tesla T4 (0)         1         7  [CUDA memcpy HtoD]\n",
            "40.6173s  334.11us                    -               -         -         -         -  2.3438MB  6.8505GB/s    Pageable      Device     Tesla T4 (0)         1         7  [CUDA memcpy HtoD]\n",
            "40.6180s  27.168us                    -               -         -         -         -  300.00KB  10.531GB/s    Pageable      Device     Tesla T4 (0)         1         7  [CUDA memcpy HtoD]\n",
            "40.6181s  948.66ms            (15 20 1)       (32 32 1)        50        0B        0B         -           -           -           -     Tesla T4 (0)         1         7  cudapy::__main__::compute_alpha$241(Array<double, int=2, C, mutable, aligned>, __int64, Array<double, int=2, C, mutable, aligned>, Array<double, int=2, C, mutable, aligned>, Array<bool, int=2, C, mutable, aligned>) [1864]\n",
            "41.5667s  385.85us                    -               -         -         -         -  2.3438MB  5.9319GB/s      Device    Pageable     Tesla T4 (0)         1         7  [CUDA memcpy DtoH]\n",
            "41.5676s  331.23us                    -               -         -         -         -  2.3438MB  6.9101GB/s      Device    Pageable     Tesla T4 (0)         1         7  [CUDA memcpy DtoH]\n",
            "41.5684s  308.44us                    -               -         -         -         -  2.3438MB  7.4205GB/s      Device    Pageable     Tesla T4 (0)         1         7  [CUDA memcpy DtoH]\n",
            "41.5692s  24.768us                    -               -         -         -         -  300.00KB  11.551GB/s      Device    Pageable     Tesla T4 (0)         1         7  [CUDA memcpy DtoH]\n",
            "41.5733s  362.37us                    -               -         -         -         -  2.3438MB  6.3163GB/s    Pageable      Device     Tesla T4 (0)         1         7  [CUDA memcpy HtoD]\n",
            "41.5744s  332.13us                    -               -         -         -         -  2.3438MB  6.8914GB/s    Pageable      Device     Tesla T4 (0)         1         7  [CUDA memcpy HtoD]\n",
            "41.5754s  329.92us                    -               -         -         -         -  2.3438MB  6.9376GB/s    Pageable      Device     Tesla T4 (0)         1         7  [CUDA memcpy HtoD]\n",
            "41.5761s  27.168us                    -               -         -         -         -  300.00KB  10.531GB/s    Pageable      Device     Tesla T4 (0)         1         7  [CUDA memcpy HtoD]\n",
            "41.5762s  949.57ms            (15 20 1)       (32 32 1)        50        0B        0B         -           -           -           -     Tesla T4 (0)         1         7  cudapy::__main__::compute_alpha$241(Array<double, int=2, C, mutable, aligned>, __int64, Array<double, int=2, C, mutable, aligned>, Array<double, int=2, C, mutable, aligned>, Array<bool, int=2, C, mutable, aligned>) [1916]\n",
            "42.5258s  339.00us                    -               -         -         -         -  2.3438MB  6.7516GB/s      Device    Pageable     Tesla T4 (0)         1         7  [CUDA memcpy DtoH]\n",
            "42.5266s  322.08us                    -               -         -         -         -  2.3438MB  7.1064GB/s      Device    Pageable     Tesla T4 (0)         1         7  [CUDA memcpy DtoH]\n",
            "42.5274s  340.09us                    -               -         -         -         -  2.3438MB  6.7300GB/s      Device    Pageable     Tesla T4 (0)         1         7  [CUDA memcpy DtoH]\n",
            "42.5281s  24.736us                    -               -         -         -         -  300.00KB  11.566GB/s      Device    Pageable     Tesla T4 (0)         1         7  [CUDA memcpy DtoH]\n",
            "42.5309s  329.63us                    -               -         -         -         -  2.3438MB  6.9436GB/s    Pageable      Device     Tesla T4 (0)         1         7  [CUDA memcpy HtoD]\n",
            "42.5320s  366.91us                    -               -         -         -         -  2.3438MB  6.2381GB/s    Pageable      Device     Tesla T4 (0)         1         7  [CUDA memcpy HtoD]\n",
            "42.5331s  347.45us                    -               -         -         -         -  2.3438MB  6.5874GB/s    Pageable      Device     Tesla T4 (0)         1         7  [CUDA memcpy HtoD]\n",
            "42.5339s  27.263us                    -               -         -         -         -  300.00KB  10.494GB/s    Pageable      Device     Tesla T4 (0)         1         7  [CUDA memcpy HtoD]\n",
            "42.5340s  946.92ms            (15 20 1)       (32 32 1)        50        0B        0B         -           -           -           -     Tesla T4 (0)         1         7  cudapy::__main__::compute_alpha$241(Array<double, int=2, C, mutable, aligned>, __int64, Array<double, int=2, C, mutable, aligned>, Array<double, int=2, C, mutable, aligned>, Array<bool, int=2, C, mutable, aligned>) [1957]\n",
            "43.4809s  352.44us                    -               -         -         -         -  2.3438MB  6.4941GB/s      Device    Pageable     Tesla T4 (0)         1         7  [CUDA memcpy DtoH]\n",
            "43.4818s  316.86us                    -               -         -         -         -  2.3438MB  7.2234GB/s      Device    Pageable     Tesla T4 (0)         1         7  [CUDA memcpy DtoH]\n",
            "43.4826s  327.20us                    -               -         -         -         -  2.3438MB  6.9952GB/s      Device    Pageable     Tesla T4 (0)         1         7  [CUDA memcpy DtoH]\n",
            "43.4834s  24.832us                    -               -         -         -         -  300.00KB  11.522GB/s      Device    Pageable     Tesla T4 (0)         1         7  [CUDA memcpy DtoH]\n",
            "43.4863s  326.84us                    -               -         -         -         -  2.3438MB  7.0028GB/s    Pageable      Device     Tesla T4 (0)         1         7  [CUDA memcpy HtoD]\n",
            "43.4873s  332.09us                    -               -         -         -         -  2.3438MB  6.8921GB/s    Pageable      Device     Tesla T4 (0)         1         7  [CUDA memcpy HtoD]\n",
            "43.4884s  330.78us                    -               -         -         -         -  2.3438MB  6.9194GB/s    Pageable      Device     Tesla T4 (0)         1         7  [CUDA memcpy HtoD]\n",
            "43.4891s  27.231us                    -               -         -         -         -  300.00KB  10.506GB/s    Pageable      Device     Tesla T4 (0)         1         7  [CUDA memcpy HtoD]\n",
            "43.4892s  1.18862s            (15 20 1)       (32 32 1)        50        0B        0B         -           -           -           -     Tesla T4 (0)         1         7  cudapy::__main__::compute_alpha$241(Array<double, int=2, C, mutable, aligned>, __int64, Array<double, int=2, C, mutable, aligned>, Array<double, int=2, C, mutable, aligned>, Array<bool, int=2, C, mutable, aligned>) [1998]\n",
            "44.6778s  362.27us                    -               -         -         -         -  2.3438MB  6.3180GB/s      Device    Pageable     Tesla T4 (0)         1         7  [CUDA memcpy DtoH]\n",
            "44.6787s  335.80us                    -               -         -         -         -  2.3438MB  6.8159GB/s      Device    Pageable     Tesla T4 (0)         1         7  [CUDA memcpy DtoH]\n",
            "44.6794s  305.89us                    -               -         -         -         -  2.3438MB  7.4826GB/s      Device    Pageable     Tesla T4 (0)         1         7  [CUDA memcpy DtoH]\n",
            "44.6802s  24.576us                    -               -         -         -         -  300.00KB  11.642GB/s      Device    Pageable     Tesla T4 (0)         1         7  [CUDA memcpy DtoH]\n",
            "44.6842s  333.40us                    -               -         -         -         -  2.3438MB  6.8650GB/s    Pageable      Device     Tesla T4 (0)         1         7  [CUDA memcpy HtoD]\n",
            "44.6853s  344.16us                    -               -         -         -         -  2.3438MB  6.6505GB/s    Pageable      Device     Tesla T4 (0)         1         7  [CUDA memcpy HtoD]\n",
            "44.6863s  329.56us                    -               -         -         -         -  2.3438MB  6.9450GB/s    Pageable      Device     Tesla T4 (0)         1         7  [CUDA memcpy HtoD]\n",
            "44.6870s  27.456us                    -               -         -         -         -  300.00KB  10.420GB/s    Pageable      Device     Tesla T4 (0)         1         7  [CUDA memcpy HtoD]\n",
            "44.6871s  1.18854s            (15 20 1)       (32 32 1)        50        0B        0B         -           -           -           -     Tesla T4 (0)         1         7  cudapy::__main__::compute_alpha$241(Array<double, int=2, C, mutable, aligned>, __int64, Array<double, int=2, C, mutable, aligned>, Array<double, int=2, C, mutable, aligned>, Array<bool, int=2, C, mutable, aligned>) [2050]\n",
            "45.8756s  338.05us                    -               -         -         -         -  2.3438MB  6.7708GB/s      Device    Pageable     Tesla T4 (0)         1         7  [CUDA memcpy DtoH]\n",
            "45.8765s  328.70us                    -               -         -         -         -  2.3438MB  6.9632GB/s      Device    Pageable     Tesla T4 (0)         1         7  [CUDA memcpy DtoH]\n",
            "45.8773s  306.97us                    -               -         -         -         -  2.3438MB  7.4561GB/s      Device    Pageable     Tesla T4 (0)         1         7  [CUDA memcpy DtoH]\n",
            "45.8780s  24.768us                    -               -         -         -         -  300.00KB  11.551GB/s      Device    Pageable     Tesla T4 (0)         1         7  [CUDA memcpy DtoH]\n",
            "45.8809s  339.20us                    -               -         -         -         -  2.3438MB  6.7478GB/s    Pageable      Device     Tesla T4 (0)         1         7  [CUDA memcpy HtoD]\n",
            "45.8820s  343.49us                    -               -         -         -         -  2.3438MB  6.6635GB/s    Pageable      Device     Tesla T4 (0)         1         7  [CUDA memcpy HtoD]\n",
            "45.8831s  336.00us                    -               -         -         -         -  2.3438MB  6.8120GB/s    Pageable      Device     Tesla T4 (0)         1         7  [CUDA memcpy HtoD]\n",
            "45.8839s  26.976us                    -               -         -         -         -  300.00KB  10.606GB/s    Pageable      Device     Tesla T4 (0)         1         7  [CUDA memcpy HtoD]\n",
            "45.8840s  1.19113s            (15 20 1)       (32 32 1)        50        0B        0B         -           -           -           -     Tesla T4 (0)         1         7  cudapy::__main__::compute_alpha$241(Array<double, int=2, C, mutable, aligned>, __int64, Array<double, int=2, C, mutable, aligned>, Array<double, int=2, C, mutable, aligned>, Array<bool, int=2, C, mutable, aligned>) [2091]\n",
            "47.0751s  335.52us                    -               -         -         -         -  2.3438MB  6.8218GB/s      Device    Pageable     Tesla T4 (0)         1         7  [CUDA memcpy DtoH]\n",
            "47.0760s  310.30us                    -               -         -         -         -  2.3438MB  7.3761GB/s      Device    Pageable     Tesla T4 (0)         1         7  [CUDA memcpy DtoH]\n",
            "47.0767s  307.68us                    -               -         -         -         -  2.3438MB  7.4390GB/s      Device    Pageable     Tesla T4 (0)         1         7  [CUDA memcpy DtoH]\n",
            "47.0774s  24.704us                    -               -         -         -         -  300.00KB  11.581GB/s      Device    Pageable     Tesla T4 (0)         1         7  [CUDA memcpy DtoH]\n",
            "47.0814s  330.14us                    -               -         -         -         -  2.3438MB  6.9329GB/s    Pageable      Device     Tesla T4 (0)         1         7  [CUDA memcpy HtoD]\n",
            "47.0825s  367.16us                    -               -         -         -         -  2.3438MB  6.2338GB/s    Pageable      Device     Tesla T4 (0)         1         7  [CUDA memcpy HtoD]\n",
            "47.0836s  363.64us                    -               -         -         -         -  2.3438MB  6.2941GB/s    Pageable      Device     Tesla T4 (0)         1         7  [CUDA memcpy HtoD]\n",
            "47.0845s  27.487us                    -               -         -         -         -  300.00KB  10.409GB/s    Pageable      Device     Tesla T4 (0)         1         7  [CUDA memcpy HtoD]\n",
            "47.0846s  951.89ms            (15 20 1)       (32 32 1)        50        0B        0B         -           -           -           -     Tesla T4 (0)         1         7  cudapy::__main__::compute_alpha$241(Array<double, int=2, C, mutable, aligned>, __int64, Array<double, int=2, C, mutable, aligned>, Array<double, int=2, C, mutable, aligned>, Array<bool, int=2, C, mutable, aligned>) [2143]\n",
            "48.0365s  344.64us                    -               -         -         -         -  2.3438MB  6.6413GB/s      Device    Pageable     Tesla T4 (0)         1         7  [CUDA memcpy DtoH]\n",
            "48.0376s  325.50us                    -               -         -         -         -  2.3438MB  7.0317GB/s      Device    Pageable     Tesla T4 (0)         1         7  [CUDA memcpy DtoH]\n",
            "48.0384s  304.70us                    -               -         -         -         -  2.3438MB  7.5117GB/s      Device    Pageable     Tesla T4 (0)         1         7  [CUDA memcpy DtoH]\n",
            "48.0391s  24.640us                    -               -         -         -         -  300.00KB  11.611GB/s      Device    Pageable     Tesla T4 (0)         1         7  [CUDA memcpy DtoH]\n",
            "48.0419s  341.18us                    -               -         -         -         -  2.3438MB  6.7085GB/s    Pageable      Device     Tesla T4 (0)         1         7  [CUDA memcpy HtoD]\n",
            "48.0430s  348.89us                    -               -         -         -         -  2.3438MB  6.5602GB/s    Pageable      Device     Tesla T4 (0)         1         7  [CUDA memcpy HtoD]\n",
            "48.0442s  374.20us                    -               -         -         -         -  2.3438MB  6.1165GB/s    Pageable      Device     Tesla T4 (0)         1         7  [CUDA memcpy HtoD]\n",
            "48.0450s  27.231us                    -               -         -         -         -  300.00KB  10.506GB/s    Pageable      Device     Tesla T4 (0)         1         7  [CUDA memcpy HtoD]\n",
            "48.0451s  954.17ms            (15 20 1)       (32 32 1)        50        0B        0B         -           -           -           -     Tesla T4 (0)         1         7  cudapy::__main__::compute_alpha$241(Array<double, int=2, C, mutable, aligned>, __int64, Array<double, int=2, C, mutable, aligned>, Array<double, int=2, C, mutable, aligned>, Array<bool, int=2, C, mutable, aligned>) [2184]\n",
            "48.9993s  362.08us                    -               -         -         -         -  2.3438MB  6.3214GB/s      Device    Pageable     Tesla T4 (0)         1         7  [CUDA memcpy DtoH]\n",
            "49.0002s  319.84us                    -               -         -         -         -  2.3438MB  7.1562GB/s      Device    Pageable     Tesla T4 (0)         1         7  [CUDA memcpy DtoH]\n",
            "49.0010s  309.31us                    -               -         -         -         -  2.3438MB  7.3998GB/s      Device    Pageable     Tesla T4 (0)         1         7  [CUDA memcpy DtoH]\n",
            "49.0017s  24.800us                    -               -         -         -         -  300.00KB  11.536GB/s      Device    Pageable     Tesla T4 (0)         1         7  [CUDA memcpy DtoH]\n",
            "49.0047s  345.15us                    -               -         -         -         -  2.3438MB  6.6314GB/s    Pageable      Device     Tesla T4 (0)         1         7  [CUDA memcpy HtoD]\n",
            "49.0058s  330.56us                    -               -         -         -         -  2.3438MB  6.9241GB/s    Pageable      Device     Tesla T4 (0)         1         7  [CUDA memcpy HtoD]\n",
            "49.0068s  329.37us                    -               -         -         -         -  2.3438MB  6.9490GB/s    Pageable      Device     Tesla T4 (0)         1         7  [CUDA memcpy HtoD]\n",
            "49.0075s  27.167us                    -               -         -         -         -  300.00KB  10.531GB/s    Pageable      Device     Tesla T4 (0)         1         7  [CUDA memcpy HtoD]\n",
            "49.0076s  954.11ms            (15 20 1)       (32 32 1)        50        0B        0B         -           -           -           -     Tesla T4 (0)         1         7  cudapy::__main__::compute_alpha$241(Array<double, int=2, C, mutable, aligned>, __int64, Array<double, int=2, C, mutable, aligned>, Array<double, int=2, C, mutable, aligned>, Array<bool, int=2, C, mutable, aligned>) [2225]\n",
            "49.9617s  357.60us                    -               -         -         -         -  2.3438MB  6.4006GB/s      Device    Pageable     Tesla T4 (0)         1         7  [CUDA memcpy DtoH]\n",
            "49.9631s  333.47us                    -               -         -         -         -  2.3438MB  6.8637GB/s      Device    Pageable     Tesla T4 (0)         1         7  [CUDA memcpy DtoH]\n",
            "49.9640s  338.59us                    -               -         -         -         -  2.3438MB  6.7599GB/s      Device    Pageable     Tesla T4 (0)         1         7  [CUDA memcpy DtoH]\n",
            "49.9648s  24.735us                    -               -         -         -         -  300.00KB  11.567GB/s      Device    Pageable     Tesla T4 (0)         1         7  [CUDA memcpy DtoH]\n",
            "49.9696s  375.55us                    -               -         -         -         -  2.3438MB  6.0946GB/s    Pageable      Device     Tesla T4 (0)         1         7  [CUDA memcpy HtoD]\n",
            "49.9709s  363.36us                    -               -         -         -         -  2.3438MB  6.2991GB/s    Pageable      Device     Tesla T4 (0)         1         7  [CUDA memcpy HtoD]\n",
            "49.9722s  356.06us                    -               -         -         -         -  2.3438MB  6.4282GB/s    Pageable      Device     Tesla T4 (0)         1         7  [CUDA memcpy HtoD]\n",
            "49.9732s  27.264us                    -               -         -         -         -  300.00KB  10.494GB/s    Pageable      Device     Tesla T4 (0)         1         7  [CUDA memcpy HtoD]\n",
            "49.9733s  1.19554s            (15 20 1)       (32 32 1)        50        0B        0B         -           -           -           -     Tesla T4 (0)         1         7  cudapy::__main__::compute_alpha$241(Array<double, int=2, C, mutable, aligned>, __int64, Array<double, int=2, C, mutable, aligned>, Array<double, int=2, C, mutable, aligned>, Array<bool, int=2, C, mutable, aligned>) [2277]\n",
            "51.1688s  334.27us                    -               -         -         -         -  2.3438MB  6.8473GB/s      Device    Pageable     Tesla T4 (0)         1         7  [CUDA memcpy DtoH]\n",
            "51.1697s  321.98us                    -               -         -         -         -  2.3438MB  7.1086GB/s      Device    Pageable     Tesla T4 (0)         1         7  [CUDA memcpy DtoH]\n",
            "51.1704s  303.23us                    -               -         -         -         -  2.3438MB  7.5482GB/s      Device    Pageable     Tesla T4 (0)         1         7  [CUDA memcpy DtoH]\n",
            "51.1711s  24.640us                    -               -         -         -         -  300.00KB  11.611GB/s      Device    Pageable     Tesla T4 (0)         1         7  [CUDA memcpy DtoH]\n",
            "51.1740s  355.36us                    -               -         -         -         -  2.3438MB  6.4409GB/s    Pageable      Device     Tesla T4 (0)         1         7  [CUDA memcpy HtoD]\n",
            "51.1751s  332.48us                    -               -         -         -         -  2.3438MB  6.8842GB/s    Pageable      Device     Tesla T4 (0)         1         7  [CUDA memcpy HtoD]\n",
            "51.1761s  328.03us                    -               -         -         -         -  2.3438MB  6.9775GB/s    Pageable      Device     Tesla T4 (0)         1         7  [CUDA memcpy HtoD]\n",
            "51.1768s  27.423us                    -               -         -         -         -  300.00KB  10.433GB/s    Pageable      Device     Tesla T4 (0)         1         7  [CUDA memcpy HtoD]\n",
            "51.1769s  1.19943s            (15 20 1)       (32 32 1)        50        0B        0B         -           -           -           -     Tesla T4 (0)         1         7  cudapy::__main__::compute_alpha$241(Array<double, int=2, C, mutable, aligned>, __int64, Array<double, int=2, C, mutable, aligned>, Array<double, int=2, C, mutable, aligned>, Array<bool, int=2, C, mutable, aligned>) [2318]\n",
            "52.3764s  339.74us                    -               -         -         -         -  2.3438MB  6.7370GB/s      Device    Pageable     Tesla T4 (0)         1         7  [CUDA memcpy DtoH]\n",
            "52.3773s  311.39us                    -               -         -         -         -  2.3438MB  7.3504GB/s      Device    Pageable     Tesla T4 (0)         1         7  [CUDA memcpy DtoH]\n",
            "52.3781s  318.49us                    -               -         -         -         -  2.3438MB  7.1864GB/s      Device    Pageable     Tesla T4 (0)         1         7  [CUDA memcpy DtoH]\n",
            "52.3788s  24.768us                    -               -         -         -         -  300.00KB  11.551GB/s      Device    Pageable     Tesla T4 (0)         1         7  [CUDA memcpy DtoH]\n",
            "52.3816s  370.84us                    -               -         -         -         -  2.3438MB  6.1719GB/s    Pageable      Device     Tesla T4 (0)         1         7  [CUDA memcpy HtoD]\n",
            "52.3828s  388.57us                    -               -         -         -         -  2.3438MB  5.8903GB/s    Pageable      Device     Tesla T4 (0)         1         7  [CUDA memcpy HtoD]\n",
            "52.3840s  356.83us                    -               -         -         -         -  2.3438MB  6.4143GB/s    Pageable      Device     Tesla T4 (0)         1         7  [CUDA memcpy HtoD]\n",
            "52.3847s  27.136us                    -               -         -         -         -  300.00KB  10.543GB/s    Pageable      Device     Tesla T4 (0)         1         7  [CUDA memcpy HtoD]\n",
            "52.3848s  958.08ms            (15 20 1)       (32 32 1)        50        0B        0B         -           -           -           -     Tesla T4 (0)         1         7  cudapy::__main__::compute_alpha$241(Array<double, int=2, C, mutable, aligned>, __int64, Array<double, int=2, C, mutable, aligned>, Array<double, int=2, C, mutable, aligned>, Array<bool, int=2, C, mutable, aligned>) [2359]\n",
            "53.3429s  372.70us                    -               -         -         -         -  2.3438MB  6.1412GB/s      Device    Pageable     Tesla T4 (0)         1         7  [CUDA memcpy DtoH]\n",
            "53.3438s  320.73us                    -               -         -         -         -  2.3438MB  7.1362GB/s      Device    Pageable     Tesla T4 (0)         1         7  [CUDA memcpy DtoH]\n",
            "53.3446s  321.73us                    -               -         -         -         -  2.3438MB  7.1142GB/s      Device    Pageable     Tesla T4 (0)         1         7  [CUDA memcpy DtoH]\n",
            "53.3453s  24.799us                    -               -         -         -         -  300.00KB  11.537GB/s      Device    Pageable     Tesla T4 (0)         1         7  [CUDA memcpy DtoH]\n",
            "\n",
            "Regs: Number of registers used per CUDA thread. This number includes registers used internally by the CUDA driver and/or tools and can be more than what the compiler shows.\n",
            "SSMem: Static shared memory allocated per CUDA block.\n",
            "DSMem: Dynamic shared memory allocated per CUDA block.\n",
            "SrcMemType: The type of source memory accessed by memory operation/copy\n",
            "DstMemType: The type of destination memory accessed by memory operation/copy\n",
            "CPU times: user 288 ms, sys: 44.8 ms, total: 333 ms\n",
            "Wall time: 56.3 s\n"
          ]
        }
      ],
      "source": [
        "%%time\n",
        "!nvprof --print-gpu-trace python3 parallel_v1.py"
      ],
      "id": "CwbzFwXK7c3i"
    },
    {
      "cell_type": "markdown",
      "source": [
        "**Ảnh kết quả**"
      ],
      "metadata": {
        "id": "Gyfq55hlfevH"
      },
      "id": "Gyfq55hlfevH"
    },
    {
      "cell_type": "markdown",
      "source": [
        "- Ảnh chỉ áp dụng Global Matting:\n",
        "\n",
        "<img width=\"40%\" src='https://drive.google.com/uc?id=1-a3THTLnRgomDjLfPM3l4qcGGGnaJPdP'/>"
      ],
      "metadata": {
        "id": "IhudXUucfevI"
      },
      "id": "IhudXUucfevI"
    },
    {
      "cell_type": "markdown",
      "source": [
        "- Ảnh áp dụng cả Global và Local Matting:\n",
        "\n",
        "<img width=\"40%\" src='https://drive.google.com/uc?id=1ZvkB_la4tmPchvHqGi6s0ngeAwwnTrng'/>"
      ],
      "metadata": {
        "id": "mFsr9hLgfevJ"
      },
      "id": "mFsr9hLgfevJ"
    },
    {
      "cell_type": "markdown",
      "source": [
        "#### 4.3.3. So sánh độ chính xác:"
      ],
      "metadata": {
        "id": "v21hUE96ZhTz"
      },
      "id": "v21hUE96ZhTz"
    },
    {
      "cell_type": "code",
      "source": [
        "img_seq = cv2.imread(os.path.join(IMAGES_FOLDER_PATH, '../Output/output_4_global_jit.png'))\n",
        "img_seq = cv2.cvtColor(img_seq, cv2.COLOR_BGR2RGB)\n",
        "img_par = cv2.imread(os.path.join(IMAGES_FOLDER_PATH, '../Output/output_4_global_parallel.png'))\n",
        "img_par = cv2.cvtColor(img_par, cv2.COLOR_BGR2RGB)\n",
        "errorL2 = cv2.norm(img_seq, img_par, cv2.NORM_L2)\n",
        "similarity = 1 - errorL2 / ( img_seq.shape[0] * img_seq.shape[1] )\n",
        "print('Độ giống nhau giữa ảnh của phiên bản tuần tự và phiên bản song song 1 = ',similarity)"
      ],
      "metadata": {
        "colab": {
          "base_uri": "https://localhost:8080/"
        },
        "id": "37wvCAGYZkfr",
        "outputId": "ee3033be-ec12-4402-bfeb-cf3274f12e1b"
      },
      "id": "37wvCAGYZkfr",
      "execution_count": 8,
      "outputs": [
        {
          "output_type": "stream",
          "name": "stdout",
          "text": [
            "Độ giống nhau giữa ảnh của phiên bản tuần tự và phiên bản song song 1 =  1.0\n"
          ]
        }
      ]
    },
    {
      "cell_type": "markdown",
      "source": [
        "#### 4.3.4. Kết quả và giải thích:"
      ],
      "metadata": {
        "id": "Ppl5lBZmUsI0"
      },
      "id": "Ppl5lBZmUsI0"
    },
    {
      "cell_type": "markdown",
      "source": [
        "Các kết quả thử nghiệm của nhóm đến thời điểm hiện tại:\n",
        "\n",
        "\n",
        "**Về mặt độ chính xác:** Ảnh từ các phiên bản cho ra kết quả giống nhau.\n",
        "\n",
        "**Về mặt thời gian:**\n",
        "\n",
        "- Python không dùng: 23.5s\n",
        "- Python có dùng jit: 2.73s\n",
        "- Song song với cuda.jit: 55.7s\n"
      ],
      "metadata": {
        "id": "04ONOM5sUvoK"
      },
      "id": "04ONOM5sUvoK"
    },
    {
      "cell_type": "markdown",
      "source": [
        "Giải thích các vấn đề gặp phải:\n",
        "- Phần Global bị tốn thời gian: Do chạy vòng lặp với `iters = 50` nên dữ liệu bị chuyển qua chuyển lại giữa device và host nhiều lần => mất thời gian \n",
        "\n",
        "=> Nhóm sẽ thay đổi bằng cách cố gắng thực hiện toàn bộ hàm trên cùng 1 bên, hoặc sử dụng SMEM"
      ],
      "metadata": {
        "id": "KpcCn8-tXosk"
      },
      "id": "KpcCn8-tXosk"
    },
    {
      "cell_type": "markdown",
      "metadata": {
        "id": "6nd6TRTmmwu1"
      },
      "source": [
        "## **5. Cài đặt song song - Phiên bản tối ưu hoá 1:**"
      ],
      "id": "6nd6TRTmmwu1"
    },
    {
      "cell_type": "markdown",
      "source": [
        "### 5.1. Phân tích:"
      ],
      "metadata": {
        "id": "PFZbYkxemwu2"
      },
      "id": "PFZbYkxemwu2"
    },
    {
      "cell_type": "markdown",
      "source": [
        "**Phần thực hiện tối ưu:** "
      ],
      "metadata": {
        "id": "xXeZ68BBmwu2"
      },
      "id": "xXeZ68BBmwu2"
    },
    {
      "cell_type": "markdown",
      "source": [
        "**Lý do nhóm lựa chọn phần này:**"
      ],
      "metadata": {
        "id": "tc3z4hDSmwu3"
      },
      "id": "tc3z4hDSmwu3"
    },
    {
      "cell_type": "markdown",
      "source": [
        "### 5.2. Thiết kế:"
      ],
      "metadata": {
        "id": "MSFFeb8Bmwu4"
      },
      "id": "MSFFeb8Bmwu4"
    },
    {
      "cell_type": "markdown",
      "source": [
        ""
      ],
      "metadata": {
        "id": "bRIMH5N_mwu4"
      },
      "id": "bRIMH5N_mwu4"
    },
    {
      "cell_type": "markdown",
      "source": [
        "### 5.3. Đánh giá:"
      ],
      "metadata": {
        "id": "u6-tOdyimwu5"
      },
      "id": "u6-tOdyimwu5"
    },
    {
      "cell_type": "markdown",
      "source": [
        "#### 5.3.1. Kịch bản thí nghiệm:"
      ],
      "metadata": {
        "id": "ekHRm4Ofmwu5"
      },
      "id": "ekHRm4Ofmwu5"
    },
    {
      "cell_type": "markdown",
      "source": [
        "Chương trình sẽ lần lượt thực hiện theo quy trình sau:\n",
        "1. Đọc ảnh gốc, ảnh tri map, ảnh nền mới. Chuyển ảnh gốc sang dạng grayscale\n",
        "2. Chạy hàm `matting_combined`: hàm tổng hợp quy trình xử lý ảnh với Global Matting bên trên. Ở hàm tổng hợp sẽ gọi hàm `global_alpha_matting` chạy song song trên GPU.\n",
        "3. Lưu file ảnh output được áp dụng Global Matting.\n",
        "4. Bắt đầu pha Local Matting. Cho người dùng nhập (ở đây nhóm set cứng) giá trị của vùng mong muốn được cải thiện.\n",
        "5. Tính toán giá trị `alpha` mới của các vùng này bằng các hàm tuần tự chứ không chạy song song như ở Global Matting.\n",
        "6. Gọi hàm `alpha_blend` để áp giá trị `alpha` mới vào ảnh.\n",
        "7. Lưu file ảnh output được áp dụng cả Global và Local Matting.\n",
        "\n",
        "Nhìn chung, kịch bản thí nghiệm tương tự với thực thi tuần tự, chỉ khác ở bước 2 và một chút lưu ý ở bước 5. Global Matting thì sẽ có song song trên GPU, còn Local Matting thì chỉ chạy với jit.\n"
      ],
      "metadata": {
        "id": "vn-izN50mwu6"
      },
      "id": "vn-izN50mwu6"
    },
    {
      "cell_type": "markdown",
      "source": [
        "#### 5.3.2. Thực thi:"
      ],
      "metadata": {
        "id": "PrbFVCiPmwu6"
      },
      "id": "PrbFVCiPmwu6"
    },
    {
      "cell_type": "markdown",
      "source": [
        "**Thực thi:**"
      ],
      "metadata": {
        "id": "MmhbHkBsmwu7"
      },
      "id": "MmhbHkBsmwu7"
    },
    {
      "cell_type": "code",
      "execution_count": null,
      "metadata": {
        "id": "bb4w93VMmwu8"
      },
      "outputs": [],
      "source": [
        "%%time\n",
        "!nvprof --print-gpu-trace python3 parallel_v1.py"
      ],
      "id": "bb4w93VMmwu8"
    },
    {
      "cell_type": "markdown",
      "source": [
        "**Ảnh kết quả**"
      ],
      "metadata": {
        "id": "vfViVaCzmwu9"
      },
      "id": "vfViVaCzmwu9"
    },
    {
      "cell_type": "markdown",
      "source": [
        "- Ảnh chỉ áp dụng Global Matting:\n",
        "\n",
        "<img width=\"40%\" src='https://drive.google.com/uc?id=1-a3THTLnRgomDjLfPM3l4qcGGGnaJPdP'/>"
      ],
      "metadata": {
        "id": "hSP3Qln1mwu-"
      },
      "id": "hSP3Qln1mwu-"
    },
    {
      "cell_type": "markdown",
      "source": [
        "- Ảnh áp dụng cả Global và Local Matting:\n",
        "\n",
        "<img width=\"40%\" src='https://drive.google.com/uc?id=1ZvkB_la4tmPchvHqGi6s0ngeAwwnTrng'/>"
      ],
      "metadata": {
        "id": "U-n0MShwmwu-"
      },
      "id": "U-n0MShwmwu-"
    },
    {
      "cell_type": "markdown",
      "source": [
        "#### 5.3.3. So sánh độ chính xác:"
      ],
      "metadata": {
        "id": "9PVtIPufmwu_"
      },
      "id": "9PVtIPufmwu_"
    },
    {
      "cell_type": "code",
      "source": [
        "img_seq = cv2.imread(os.path.join(IMAGES_FOLDER_PATH, '../Output/output_4_global_jit.png'))\n",
        "img_seq = cv2.cvtColor(img_seq, cv2.COLOR_BGR2RGB)\n",
        "img_par = cv2.imread(os.path.join(IMAGES_FOLDER_PATH, '../Output/output_4_global_parallel.png'))\n",
        "img_par = cv2.cvtColor(img_par, cv2.COLOR_BGR2RGB)\n",
        "errorL2 = cv2.norm(img_seq, img_par, cv2.NORM_L2)\n",
        "similarity = 1 - errorL2 / ( img_seq.shape[0] * img_seq.shape[1] )\n",
        "print('Độ giống nhau giữa ảnh của phiên bản tuần tự và phiên bản song song 1 = ',similarity)"
      ],
      "metadata": {
        "id": "Pqq0Ez5Qmwu_"
      },
      "execution_count": null,
      "outputs": [],
      "id": "Pqq0Ez5Qmwu_"
    },
    {
      "cell_type": "markdown",
      "source": [
        "#### 5.3.4. Kết quả và giải thích:"
      ],
      "metadata": {
        "id": "LQNp9IOUmwu_"
      },
      "id": "LQNp9IOUmwu_"
    },
    {
      "cell_type": "markdown",
      "source": [
        "Các kết quả thử nghiệm của nhóm đến thời điểm hiện tại:\n",
        "\n",
        "\n",
        "**Về mặt độ chính xác:** Ảnh từ các phiên bản cho ra kết quả giống nhau.\n",
        "\n",
        "**Về mặt thời gian:**\n",
        "\n",
        "- Python không dùng: 23.5s\n",
        "- Python có dùng jit: 2.73s\n",
        "- Song song với cuda.jit: 55.7s\n"
      ],
      "metadata": {
        "id": "SB48x65dmwvA"
      },
      "id": "SB48x65dmwvA"
    },
    {
      "cell_type": "markdown",
      "source": [
        "Giải thích các vấn đề gặp phải:\n",
        "- Phần Global bị tốn thời gian: Do chạy vòng lặp với `iters = 50` nên dữ liệu bị chuyển qua chuyển lại giữa device và host nhiều lần => mất thời gian \n",
        "\n",
        "=> Nhóm sẽ thay đổi bằng cách cố gắng thực hiện toàn bộ hàm trên cùng 1 bên, hoặc sử dụng SMEM"
      ],
      "metadata": {
        "id": "YjLAPWcmmwvA"
      },
      "id": "YjLAPWcmmwvA"
    },
    {
      "cell_type": "markdown",
      "metadata": {
        "id": "3Uofg-UTmzCX"
      },
      "source": [
        "## **6. Cài đặt song song - Phiên bản tối ưu hoá 2:**"
      ],
      "id": "3Uofg-UTmzCX"
    },
    {
      "cell_type": "markdown",
      "source": [
        "### 6.1. Phân tích:"
      ],
      "metadata": {
        "id": "lvnfuFiTmzCY"
      },
      "id": "lvnfuFiTmzCY"
    },
    {
      "cell_type": "markdown",
      "source": [
        "**Phần thực hiện tối ưu:** "
      ],
      "metadata": {
        "id": "nJ5BiaWrmzCZ"
      },
      "id": "nJ5BiaWrmzCZ"
    },
    {
      "cell_type": "markdown",
      "source": [
        "**Lý do nhóm lựa chọn phần này:**"
      ],
      "metadata": {
        "id": "1p1dMRmwmzCZ"
      },
      "id": "1p1dMRmwmzCZ"
    },
    {
      "cell_type": "markdown",
      "source": [
        "### 6.2. Thiết kế:"
      ],
      "metadata": {
        "id": "RURlofM7mzCa"
      },
      "id": "RURlofM7mzCa"
    },
    {
      "cell_type": "markdown",
      "source": [
        ""
      ],
      "metadata": {
        "id": "otKPyrKFmzCb"
      },
      "id": "otKPyrKFmzCb"
    },
    {
      "cell_type": "markdown",
      "source": [
        "### 6.3. Đánh giá:"
      ],
      "metadata": {
        "id": "Zyv__mO_mzCb"
      },
      "id": "Zyv__mO_mzCb"
    },
    {
      "cell_type": "markdown",
      "source": [
        "#### 6.3.1. Kịch bản thí nghiệm:"
      ],
      "metadata": {
        "id": "xzHZpQhemzCb"
      },
      "id": "xzHZpQhemzCb"
    },
    {
      "cell_type": "markdown",
      "source": [
        "Chương trình sẽ lần lượt thực hiện theo quy trình sau:\n",
        "1. Đọc ảnh gốc, ảnh tri map, ảnh nền mới. Chuyển ảnh gốc sang dạng grayscale\n",
        "2. Chạy hàm `matting_combined`: hàm tổng hợp quy trình xử lý ảnh với Global Matting bên trên. Ở hàm tổng hợp sẽ gọi hàm `global_alpha_matting` chạy song song trên GPU.\n",
        "3. Lưu file ảnh output được áp dụng Global Matting.\n",
        "4. Bắt đầu pha Local Matting. Cho người dùng nhập (ở đây nhóm set cứng) giá trị của vùng mong muốn được cải thiện.\n",
        "5. Tính toán giá trị `alpha` mới của các vùng này bằng các hàm tuần tự chứ không chạy song song như ở Global Matting.\n",
        "6. Gọi hàm `alpha_blend` để áp giá trị `alpha` mới vào ảnh.\n",
        "7. Lưu file ảnh output được áp dụng cả Global và Local Matting.\n",
        "\n",
        "Nhìn chung, kịch bản thí nghiệm tương tự với thực thi tuần tự, chỉ khác ở bước 2 và một chút lưu ý ở bước 5. Global Matting thì sẽ có song song trên GPU, còn Local Matting thì chỉ chạy với jit.\n"
      ],
      "metadata": {
        "id": "D5b4wZ5umzCc"
      },
      "id": "D5b4wZ5umzCc"
    },
    {
      "cell_type": "markdown",
      "source": [
        "#### 6.3.2. Thực thi:"
      ],
      "metadata": {
        "id": "gynCxtUimzCd"
      },
      "id": "gynCxtUimzCd"
    },
    {
      "cell_type": "markdown",
      "source": [
        "**Thực thi:**"
      ],
      "metadata": {
        "id": "g9yRLzokmzCd"
      },
      "id": "g9yRLzokmzCd"
    },
    {
      "cell_type": "code",
      "execution_count": null,
      "metadata": {
        "id": "GE9wCnkNmzCe"
      },
      "outputs": [],
      "source": [
        "%%time\n",
        "!nvprof --print-gpu-trace python3 parallel_v1.py"
      ],
      "id": "GE9wCnkNmzCe"
    },
    {
      "cell_type": "markdown",
      "source": [
        "**Ảnh kết quả**"
      ],
      "metadata": {
        "id": "4jn7BRMTmzCf"
      },
      "id": "4jn7BRMTmzCf"
    },
    {
      "cell_type": "markdown",
      "source": [
        "- Ảnh chỉ áp dụng Global Matting:\n",
        "\n",
        "<img width=\"40%\" src='https://drive.google.com/uc?id=1-a3THTLnRgomDjLfPM3l4qcGGGnaJPdP'/>"
      ],
      "metadata": {
        "id": "1LAnBJXymzCf"
      },
      "id": "1LAnBJXymzCf"
    },
    {
      "cell_type": "markdown",
      "source": [
        "- Ảnh áp dụng cả Global và Local Matting:\n",
        "\n",
        "<img width=\"40%\" src='https://drive.google.com/uc?id=1ZvkB_la4tmPchvHqGi6s0ngeAwwnTrng'/>"
      ],
      "metadata": {
        "id": "Op5wbEuLmzCf"
      },
      "id": "Op5wbEuLmzCf"
    },
    {
      "cell_type": "markdown",
      "source": [
        "#### 6.3.3. So sánh độ chính xác:"
      ],
      "metadata": {
        "id": "3ZUe-1O7mzCg"
      },
      "id": "3ZUe-1O7mzCg"
    },
    {
      "cell_type": "code",
      "source": [
        "img_seq = cv2.imread(os.path.join(IMAGES_FOLDER_PATH, '../Output/output_4_global_jit.png'))\n",
        "img_seq = cv2.cvtColor(img_seq, cv2.COLOR_BGR2RGB)\n",
        "img_par = cv2.imread(os.path.join(IMAGES_FOLDER_PATH, '../Output/output_4_global_parallel.png'))\n",
        "img_par = cv2.cvtColor(img_par, cv2.COLOR_BGR2RGB)\n",
        "errorL2 = cv2.norm(img_seq, img_par, cv2.NORM_L2)\n",
        "similarity = 1 - errorL2 / ( img_seq.shape[0] * img_seq.shape[1] )\n",
        "print('Độ giống nhau giữa ảnh của phiên bản tuần tự và phiên bản song song 1 = ',similarity)"
      ],
      "metadata": {
        "id": "EqfIEpZ_mzCg"
      },
      "execution_count": null,
      "outputs": [],
      "id": "EqfIEpZ_mzCg"
    },
    {
      "cell_type": "markdown",
      "source": [
        "#### 6.3.4. Kết quả và giải thích:"
      ],
      "metadata": {
        "id": "JWhhJ8QvmzCh"
      },
      "id": "JWhhJ8QvmzCh"
    },
    {
      "cell_type": "markdown",
      "source": [
        "Các kết quả thử nghiệm của nhóm đến thời điểm hiện tại:\n",
        "\n",
        "\n",
        "**Về mặt độ chính xác:** Ảnh từ các phiên bản cho ra kết quả giống nhau.\n",
        "\n",
        "**Về mặt thời gian:**\n",
        "\n",
        "- Python không dùng: 23.5s\n",
        "- Python có dùng jit: 2.73s\n",
        "- Song song với cuda.jit: 55.7s\n"
      ],
      "metadata": {
        "id": "698OwwH5mzCh"
      },
      "id": "698OwwH5mzCh"
    },
    {
      "cell_type": "markdown",
      "source": [
        "Giải thích các vấn đề gặp phải:\n",
        "- Phần Global bị tốn thời gian: Do chạy vòng lặp với `iters = 50` nên dữ liệu bị chuyển qua chuyển lại giữa device và host nhiều lần => mất thời gian \n",
        "\n",
        "=> Nhóm sẽ thay đổi bằng cách cố gắng thực hiện toàn bộ hàm trên cùng 1 bên, hoặc sử dụng SMEM"
      ],
      "metadata": {
        "id": "edJZXFnjmzCh"
      },
      "id": "edJZXFnjmzCh"
    },
    {
      "cell_type": "markdown",
      "metadata": {
        "id": "1gG_KmKD3-8w"
      },
      "source": [
        "### **Dự định của nhóm sắp tới**"
      ],
      "id": "1gG_KmKD3-8w"
    },
    {
      "cell_type": "markdown",
      "metadata": {
        "id": "Auk5rqADJJJP"
      },
      "source": [
        "- Tìm hiểu thêm về trimap\n",
        "- Cải tiến lại phần song song hoá `global matting`\n",
        "- Song song hoá phần `local matting`\n",
        "- Thêm các phiên bản cải tiến bằng việc sử dụng SMEM"
      ],
      "id": "Auk5rqADJJJP"
    },
    {
      "cell_type": "markdown",
      "metadata": {
        "id": "337c34ef"
      },
      "source": [
        "## **7. Nhìn lại quá trình làm đồ án**"
      ],
      "id": "337c34ef"
    },
    {
      "cell_type": "markdown",
      "metadata": {
        "id": "72079acf"
      },
      "source": [
        "**1712898 - Nguyễn Văn Hậu**\n",
        "- Khó khăn\n",
        "    + \n",
        "    + \n",
        "    + \n",
        "- Học được:\n",
        "    + \n",
        "    + "
      ],
      "id": "72079acf"
    },
    {
      "cell_type": "markdown",
      "metadata": {
        "id": "UGW49RWY73cE"
      },
      "source": [
        "**18120181 - Nguyễn Thị Cẩm Hồng**\n",
        "- Khó khăn\n",
        "    + \n",
        "    + \n",
        "    + \n",
        "- Học được:\n",
        "    + \n",
        "    + "
      ],
      "id": "UGW49RWY73cE"
    },
    {
      "cell_type": "markdown",
      "metadata": {
        "id": "2915e3fe"
      },
      "source": [
        "**18120216 - Mai Huỳnh Trung Nguyên**\n",
        "- Khó khăn\n",
        "    + \n",
        "    + \n",
        "    + \n",
        "- Học được:\n",
        "    + \n",
        "    + \n",
        "    + "
      ],
      "id": "2915e3fe"
    },
    {
      "cell_type": "markdown",
      "metadata": {
        "id": "BMPUTSuak3RI"
      },
      "source": [
        "**Nhóm**: \n",
        "- Khó khăn:\n",
        "  + \n",
        "  + \n",
        "  + \n",
        "- Do đó, nếu có thêm thời gian nhóm sẽ cố gắng thực hiện:\n",
        "  + \n",
        "  + \n",
        "  + \n"
      ],
      "id": "BMPUTSuak3RI"
    },
    {
      "cell_type": "markdown",
      "metadata": {
        "id": "4ae45e1e"
      },
      "source": [
        "## **8. Tài liệu tham khảo**"
      ],
      "id": "4ae45e1e"
    },
    {
      "cell_type": "markdown",
      "metadata": {
        "id": "9701b2bd"
      },
      "source": [
        "- Project: Poisson Matting, [github](https://github.com/avani17101/Poisson-Matting).\n",
        "- Paper: Poisson Matting của Juan Sun, Jiaya Jia, Chi-Keung Tang, Heung-Yeung Shum, [paper](http://www.cse.cuhk.edu.hk/~leojia/all_final_papers/matting_siggraph04.pdf)"
      ],
      "id": "9701b2bd"
    }
  ],
  "metadata": {
    "accelerator": "GPU",
    "colab": {
      "collapsed_sections": [
        "b5K1puaqDdv5",
        "l3dgxz-YF3eu",
        "i5EKrc0mktgd",
        "b0dmAWd2dn-Z",
        "Gji8K6iOXjOS",
        "Cad4rVT6eB8e",
        "337c34ef",
        "4ae45e1e"
      ],
      "name": "Report.ipynb",
      "toc_visible": true,
      "provenance": [],
      "include_colab_link": true
    },
    "kernelspec": {
      "display_name": "Python 3 (ipykernel)",
      "language": "python",
      "name": "python3"
    },
    "language_info": {
      "codemirror_mode": {
        "name": "ipython",
        "version": 3
      },
      "file_extension": ".py",
      "mimetype": "text/x-python",
      "name": "python",
      "nbconvert_exporter": "python",
      "pygments_lexer": "ipython3",
      "version": "3.8.8"
    },
    "toc": {
      "base_numbering": 1,
      "nav_menu": {},
      "number_sections": true,
      "sideBar": true,
      "skip_h1_title": false,
      "title_cell": "Table of Contents",
      "title_sidebar": "Contents",
      "toc_cell": false,
      "toc_position": {},
      "toc_section_display": true,
      "toc_window_display": false
    }
  },
  "nbformat": 4,
  "nbformat_minor": 5
}