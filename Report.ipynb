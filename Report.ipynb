{
  "cells": [
    {
      "cell_type": "markdown",
      "metadata": {
        "id": "view-in-github",
        "colab_type": "text"
      },
      "source": [
        "<a href=\"https://colab.research.google.com/github/mhtn-it/6_APP_Project/blob/main/Report.ipynb\" target=\"_parent\"><img src=\"https://colab.research.google.com/assets/colab-badge.svg\" alt=\"Open In Colab\"/></a>"
      ]
    },
    {
      "cell_type": "markdown",
      "metadata": {
        "id": "5b2dcf7c"
      },
      "source": [
        "# Đồ án môn Lập trình song song ứng dụng\n",
        "**Giảng viên: Thầy Trần Trung Kiên**\n",
        "\n",
        "## Thông tin nhóm\n",
        "### STT: Nhóm 6\n",
        "\n",
        "### Thành viên:\n",
        "1. 1712258 - Nguyễn Văn Hậu - [kenneth-nguyenn](https://github.com/kenneth-nguyenn)\n",
        "2. 18120181 - Nguyễn Thị Cẩm Hồng - [chnhgr](https://github.com/chnhgr)\n",
        "3. 18120216 - Mai Huỳnh Trung Nguyên - [mhtn-it](https://github.com/mhtn-it)\n",
        "\n",
        "### Tài liệu của nhóm\n",
        "- Kế hoạch nhóm, phân chia công việc: [Google Sheet](https://docs.google.com/spreadsheets/d/1lNRWbRRnsN0L1bEBLm2tHkauJC2jS9DPZiZfhLQ9Av8/edit?usp=sharing)\n",
        "- Link Colab thực thi: [Google Colab](https://colab.research.google.com/github/mhtn-it/6_APP_Project/blob/main/Report.ipynb)\n",
        "- Drive làm việc chung: [Google Drive](https://drive.google.com/drive/folders/1bDjdUTDdbr1EV_9VxSVIOGB60OutJlZi?usp=sharing)"
      ],
      "id": "5b2dcf7c"
    },
    {
      "cell_type": "markdown",
      "metadata": {
        "id": "2f93d974"
      },
      "source": [
        "## **Mô tả ứng dụng:** "
      ],
      "id": "2f93d974"
    },
    {
      "cell_type": "markdown",
      "source": [
        "### **Mô tả tổng quan:**"
      ],
      "metadata": {
        "id": "oLXvSmx5DZYw"
      },
      "id": "oLXvSmx5DZYw"
    },
    {
      "cell_type": "markdown",
      "metadata": {
        "id": "dc0bf646"
      },
      "source": [
        "**Đề tài**: Thay đổi background ảnh dựa vào phương pháp Poisson Matting\n",
        "\n",
        "**Input**: \n",
        "- Một bức ảnh chân dung\n",
        "- Trimap của ảnh (được tạo từ một bài toán khác)\n",
        "- Ảnh nền mới mong muốn\n",
        "\n",
        "**Output**: \n",
        "- Ảnh đã được thay đổi nền\n",
        "\n",
        "**Ý nghĩa thực tế của ứng dụng**:\n",
        "- Thay đổi background của ảnh khi cần thiết, ví dụ trong các trường hợp như ảnh kỷ niệm, ảnh thẻ, trang trí...\n",
        "- Áp dụng trên các phần mềm chỉnh sửa ảnh, trang web chỉnh sửa ảnh online\n",
        "\n",
        "**Lý do cần tăng tốc**: \n",
        "- Toàn bộ quá trình xử lý để cho ra một bức ảnh đúng và chính xác có thể mất đến vài phút (giảm trải nghiệm người dùng)\n",
        "- Khi xử lý hàng loạt, số lượng lớn thì thời gian sẽ rất lâu"
      ],
      "id": "dc0bf646"
    },
    {
      "cell_type": "markdown",
      "source": [
        "### **Ý tưởng chính của bài toán:**"
      ],
      "metadata": {
        "id": "b5K1puaqDdv5"
      },
      "id": "b5K1puaqDdv5"
    },
    {
      "cell_type": "markdown",
      "source": [
        "Từ hình ảnh gốc, trimap, ảnh nền mới ứng dụng sử dụng các biện pháp phủ (matting) và pha trộn (blending) để ghép ảnh chân dung background mới.\n",
        "\n",
        "![demo](https://github.com/avani17101/Poisson-Matting/raw/main/attachments/result1.png)\n",
        "\n",
        "Qua nhiều phương pháp cải thiện thì foreground ngày càng chính xác với đối tượng của mình.\n",
        "\n",
        "![demo2](https://github.com/avani17101/Poisson-Matting/raw/main/attachments/result2.png)"
      ],
      "metadata": {
        "id": "bZZzeO5EEBlQ"
      },
      "id": "bZZzeO5EEBlQ"
    },
    {
      "cell_type": "markdown",
      "source": [
        "### **Phần nhóm dự định song song hoá:**"
      ],
      "metadata": {
        "id": "l3dgxz-YF3eu"
      },
      "id": "l3dgxz-YF3eu"
    },
    {
      "cell_type": "markdown",
      "source": [
        "Nhóm nhận thấy việc xử lý ảnh có thể song song hoá bằng cách chia nhỏ công việc cho từng pixel. Do đó nhóm dự định sẽ lựa chọn các bước:\n",
        "- Thao tác matting và blending\n",
        "- Các bước xử lý để tạo độ chính xác cho foreground"
      ],
      "metadata": {
        "id": "5Df1RKJYF71Z"
      },
      "id": "5Df1RKJYF71Z"
    },
    {
      "cell_type": "markdown",
      "metadata": {
        "id": "d48122eb"
      },
      "source": [
        "## **Giải quyết bài toán**"
      ],
      "id": "d48122eb"
    },
    {
      "cell_type": "markdown",
      "metadata": {
        "id": "wOp0huxak_ou"
      },
      "source": [
        "### **Phần bổ trợ**"
      ],
      "id": "wOp0huxak_ou"
    },
    {
      "cell_type": "markdown",
      "source": [
        "Phần này dùng để tạo cách hàm bổ trợ cho việc thực hiện trên Google Colab. Bao gồm: liên kết Google Colab với Drive, Tạo hàm Python để hỗ trợ đọc file pnm và file ma trận ở notebook, kiểm tra thông tin GPU."
      ],
      "metadata": {
        "id": "PEmpHqajIEk5"
      },
      "id": "PEmpHqajIEk5"
    },
    {
      "cell_type": "markdown",
      "metadata": {
        "id": "i5EKrc0mktgd"
      },
      "source": [
        "#### Liên kết colab với Google Drive\n",
        "Để tiết kiệm thời gian load dữ liệu"
      ],
      "id": "i5EKrc0mktgd"
    },
    {
      "cell_type": "code",
      "execution_count": null,
      "metadata": {
        "colab": {
          "base_uri": "https://localhost:8080/"
        },
        "id": "tbt9_dp8i5xZ",
        "outputId": "da9bbd24-859a-470d-8450-f2f82b6c8873"
      },
      "outputs": [
        {
          "output_type": "stream",
          "name": "stdout",
          "text": [
            "Mounted at /content/drive\n"
          ]
        }
      ],
      "source": [
        "from google.colab import drive\n",
        "drive.mount('/content/drive')"
      ],
      "id": "tbt9_dp8i5xZ"
    },
    {
      "cell_type": "markdown",
      "metadata": {
        "id": "H1bC5hm6mQvm"
      },
      "source": [
        "#### Kiểm tra thông tin GPU"
      ],
      "id": "H1bC5hm6mQvm"
    },
    {
      "cell_type": "code",
      "execution_count": null,
      "metadata": {
        "colab": {
          "base_uri": "https://localhost:8080/"
        },
        "id": "AdRpZ_-enDEF",
        "outputId": "223d9424-771d-4e9f-d434-c577a5dae082"
      },
      "outputs": [
        {
          "output_type": "stream",
          "name": "stdout",
          "text": [
            "Sun Jan 23 15:43:45 2022       \n",
            "+-----------------------------------------------------------------------------+\n",
            "| NVIDIA-SMI 495.46       Driver Version: 460.32.03    CUDA Version: 11.2     |\n",
            "|-------------------------------+----------------------+----------------------+\n",
            "| GPU  Name        Persistence-M| Bus-Id        Disp.A | Volatile Uncorr. ECC |\n",
            "| Fan  Temp  Perf  Pwr:Usage/Cap|         Memory-Usage | GPU-Util  Compute M. |\n",
            "|                               |                      |               MIG M. |\n",
            "|===============================+======================+======================|\n",
            "|   0  Tesla K80           Off  | 00000000:00:04.0 Off |                    0 |\n",
            "| N/A   70C    P8    31W / 149W |      0MiB / 11441MiB |      0%      Default |\n",
            "|                               |                      |                  N/A |\n",
            "+-------------------------------+----------------------+----------------------+\n",
            "                                                                               \n",
            "+-----------------------------------------------------------------------------+\n",
            "| Processes:                                                                  |\n",
            "|  GPU   GI   CI        PID   Type   Process name                  GPU Memory |\n",
            "|        ID   ID                                                   Usage      |\n",
            "|=============================================================================|\n",
            "|  No running processes found                                                 |\n",
            "+-----------------------------------------------------------------------------+\n"
          ]
        }
      ],
      "source": [
        "!nvidia-smi"
      ],
      "id": "AdRpZ_-enDEF"
    },
    {
      "cell_type": "markdown",
      "metadata": {
        "id": "9CSPxVYgmtPL"
      },
      "source": [
        "Đoạn code tự động lấy 2 con số ứng với compute capability của GPU và lưu vào 2 biến `major` và `minor`:"
      ],
      "id": "9CSPxVYgmtPL"
    },
    {
      "cell_type": "code",
      "execution_count": null,
      "metadata": {
        "colab": {
          "base_uri": "https://localhost:8080/"
        },
        "id": "sDkJrCm0m_jC",
        "outputId": "8cb00796-a3f7-4e31-af21-2399a18750be"
      },
      "outputs": [
        {
          "output_type": "stream",
          "name": "stdout",
          "text": [
            "GPU compute capability: 3.7\n"
          ]
        }
      ],
      "source": [
        "from numba import cuda\n",
        "major, minor = cuda.get_current_device().compute_capability\n",
        "print(f'GPU compute capability: {major}.{minor}')"
      ],
      "id": "sDkJrCm0m_jC"
    },
    {
      "cell_type": "markdown",
      "metadata": {
        "id": "337c34ef"
      },
      "source": [
        "## Nhìn lại quá trình làm đồ án"
      ],
      "id": "337c34ef"
    },
    {
      "cell_type": "markdown",
      "metadata": {
        "id": "72079acf"
      },
      "source": [
        "**1712898 - Nguyễn Văn Hậu**\n",
        "- Khó khăn\n",
        "    + \n",
        "    + \n",
        "    + \n",
        "- Học được:\n",
        "    + \n",
        "    + "
      ],
      "id": "72079acf"
    },
    {
      "cell_type": "markdown",
      "metadata": {
        "id": "UGW49RWY73cE"
      },
      "source": [
        "**18120181 - Nguyễn Thị Cẩm Hồng**\n",
        "- Khó khăn\n",
        "    + \n",
        "    + \n",
        "    + \n",
        "- Học được:\n",
        "    + \n",
        "    + "
      ],
      "id": "UGW49RWY73cE"
    },
    {
      "cell_type": "markdown",
      "metadata": {
        "id": "2915e3fe"
      },
      "source": [
        "**18120216 - Mai Huỳnh Trung Nguyên**\n",
        "- Khó khăn\n",
        "    + \n",
        "    + \n",
        "    + \n",
        "- Học được:\n",
        "    + \n",
        "    + \n",
        "    + "
      ],
      "id": "2915e3fe"
    },
    {
      "cell_type": "markdown",
      "source": [
        "**Nhóm**: \n",
        "- Khó khăn:\n",
        "  + \n",
        "  + \n",
        "  + \n",
        "- Do đó, nếu có thêm thời gian nhóm sẽ cố gắng thực hiện:\n",
        "  + \n",
        "  + \n",
        "  + \n"
      ],
      "metadata": {
        "id": "BMPUTSuak3RI"
      },
      "id": "BMPUTSuak3RI"
    },
    {
      "cell_type": "markdown",
      "metadata": {
        "id": "4ae45e1e"
      },
      "source": [
        "## Tài liệu tham khảo"
      ],
      "id": "4ae45e1e"
    },
    {
      "cell_type": "markdown",
      "metadata": {
        "id": "9701b2bd"
      },
      "source": [
        "- Project: Poisson Matting, [github](https://github.com/avani17101/Poisson-Matting).\n",
        "- Paper: Poisson Matting của Juan Sun, Jiaya Jia, Chi-Keung Tang, Heung-Yeung Shum, [paper](http://www.cse.cuhk.edu.hk/~leojia/all_final_papers/matting_siggraph04.pdf)"
      ],
      "id": "9701b2bd"
    }
  ],
  "metadata": {
    "accelerator": "GPU",
    "colab": {
      "collapsed_sections": [],
      "name": "Report.ipynb",
      "provenance": [],
      "include_colab_link": true
    },
    "kernelspec": {
      "display_name": "Python 3 (ipykernel)",
      "language": "python",
      "name": "python3"
    },
    "language_info": {
      "codemirror_mode": {
        "name": "ipython",
        "version": 3
      },
      "file_extension": ".py",
      "mimetype": "text/x-python",
      "name": "python",
      "nbconvert_exporter": "python",
      "pygments_lexer": "ipython3",
      "version": "3.8.8"
    },
    "toc": {
      "base_numbering": 1,
      "nav_menu": {},
      "number_sections": true,
      "sideBar": true,
      "skip_h1_title": false,
      "title_cell": "Table of Contents",
      "title_sidebar": "Contents",
      "toc_cell": false,
      "toc_position": {},
      "toc_section_display": true,
      "toc_window_display": false
    }
  },
  "nbformat": 4,
  "nbformat_minor": 5
}