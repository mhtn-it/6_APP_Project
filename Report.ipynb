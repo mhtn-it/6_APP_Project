{
  "cells": [
    {
      "cell_type": "markdown",
      "metadata": {
        "id": "view-in-github"
      },
      "source": [
        "<a href=\"https://colab.research.google.com/github/mhtn-it/6_APP_Project/blob/main/Report.ipynb\" target=\"_parent\"><img src=\"https://colab.research.google.com/assets/colab-badge.svg\" alt=\"Open In Colab\"/></a>"
      ],
      "id": "view-in-github"
    },
    {
      "cell_type": "markdown",
      "metadata": {
        "id": "5b2dcf7c"
      },
      "source": [
        "# Đồ án môn Lập trình song song ứng dụng\n",
        "**Giảng viên hướng dẫn: Thầy Trần Trung Kiên**\n",
        "\n",
        "## Thông tin nhóm\n",
        "### STT: Nhóm 6\n",
        "\n",
        "### Thành viên:\n",
        "1. 1712258 - Nguyễn Văn Hậu - [kenneth-nguyenn](https://github.com/kenneth-nguyenn)\n",
        "2. 18120181 - Nguyễn Thị Cẩm Hồng - [chnhgr](https://github.com/chnhgr)\n",
        "3. 18120216 - Mai Huỳnh Trung Nguyên - [mhtn-it](https://github.com/mhtn-it)\n",
        "\n",
        "### Tài liệu của nhóm\n",
        "- Link thùng chứa Github của nhóm: [Github](https://github.com/mhtn-it/6_APP_Project)\n",
        "- Kế hoạch nhóm, phân chia công việc: [Google Sheet](https://docs.google.com/spreadsheets/d/1lNRWbRRnsN0L1bEBLm2tHkauJC2jS9DPZiZfhLQ9Av8/edit?usp=sharing)\n",
        "- Link Colab thực thi: [Google Colab](https://colab.research.google.com/github/mhtn-it/6_APP_Project/blob/main/Report.ipynb)"
      ],
      "id": "5b2dcf7c"
    },
    {
      "cell_type": "markdown",
      "metadata": {
        "id": "2f93d974"
      },
      "source": [
        "## **1. Mô tả ứng dụng:** "
      ],
      "id": "2f93d974"
    },
    {
      "cell_type": "markdown",
      "metadata": {
        "id": "oLXvSmx5DZYw"
      },
      "source": [
        "### **1.1. Mô tả tổng quan:**"
      ],
      "id": "oLXvSmx5DZYw"
    },
    {
      "cell_type": "markdown",
      "metadata": {
        "id": "dc0bf646"
      },
      "source": [
        "**Đề tài**: Thay đổi background ảnh dựa vào phương pháp Poisson Matting\n",
        "\n",
        "**Input**: \n",
        "- Một bức ảnh chân dung\n",
        "- Trimap của ảnh (được tạo từ một bài toán khác)\n",
        "- Ảnh nền mới mong muốn\n",
        "\n",
        "**Output**: \n",
        "- Ảnh đã được thay đổi nền\n",
        "\n",
        "**Ý nghĩa thực tế của ứng dụng**:\n",
        "- Thay đổi background của ảnh khi cần thiết, ví dụ trong các trường hợp như ảnh kỷ niệm, ảnh thẻ, trang trí...\n",
        "- Áp dụng trên các phần mềm chỉnh sửa ảnh, trang web chỉnh sửa ảnh online\n",
        "- Là một phần xử lý của quy trình đổi nền của video\n",
        "\n",
        "**Lý do cần tăng tốc**: \n",
        "- Toàn bộ quá trình xử lý để cho ra một bức ảnh đúng và chính xác có thể mất đến vài phút (giảm trải nghiệm người dùng)\n",
        "- Khi xử lý hàng loạt, số lượng lớn thì thời gian sẽ rất lâu\n",
        "- Nếu áp dụng cho đổi nền video thì cần có tốc độ nhanh"
      ],
      "id": "dc0bf646"
    },
    {
      "cell_type": "markdown",
      "metadata": {
        "id": "b5K1puaqDdv5"
      },
      "source": [
        "### **1.2. Ý tưởng chính của bài toán:**"
      ],
      "id": "b5K1puaqDdv5"
    },
    {
      "cell_type": "markdown",
      "metadata": {
        "id": "bZZzeO5EEBlQ"
      },
      "source": [
        "Từ hình ảnh gốc, trimap, ảnh nền mới ứng dụng sử dụng các biện pháp phủ (matting) và pha trộn (blending) để ghép ảnh chân dung background mới.\n",
        "\n",
        "<img src='https://drive.google.com/uc?id=1rpQhdF5U7Y2LTdbPb9pLc-i6dJ2IS3zC'/>\n",
        "\n",
        "Qua nhiều phương pháp cải thiện thì foreground ngày càng chính xác với đối tượng của mình.\n",
        "\n",
        "<img src='https://drive.google.com/uc?id=1sdEYodB2lyyb_FROl5okKbeavDmTJJLr'/>"
      ],
      "id": "bZZzeO5EEBlQ"
    },
    {
      "cell_type": "markdown",
      "metadata": {
        "id": "l3dgxz-YF3eu"
      },
      "source": [
        "### **1.3. Phần nhóm dự định song song hoá:**"
      ],
      "id": "l3dgxz-YF3eu"
    },
    {
      "cell_type": "markdown",
      "metadata": {
        "id": "5Df1RKJYF71Z"
      },
      "source": [
        "Nhóm nhận thấy việc xử lý ảnh có thể song song hoá bằng cách chia nhỏ công việc cho từng pixel. Do đó nhóm dự định sẽ lựa chọn bước: Thao tác Global Matting dùng để tính giá trị alpha cho việc blending ảnh."
      ],
      "id": "5Df1RKJYF71Z"
    },
    {
      "cell_type": "markdown",
      "metadata": {
        "id": "wOp0huxak_ou"
      },
      "source": [
        "## **2. Phần bổ trợ**"
      ],
      "id": "wOp0huxak_ou"
    },
    {
      "cell_type": "markdown",
      "metadata": {
        "id": "PEmpHqajIEk5"
      },
      "source": [
        "Phần này dùng để tạo cách hàm bổ trợ cho việc thực hiện trên Google Colab. Bao gồm: liên kết Google Colab với Drive, kiểm tra thông tin GPU, chuyển thư mục làm việc về thư mục `Code`, Import thư viện."
      ],
      "id": "PEmpHqajIEk5"
    },
    {
      "cell_type": "markdown",
      "metadata": {
        "id": "i5EKrc0mktgd"
      },
      "source": [
        "Liên kết colab với Google Drive để tiết kiệm thời gian load dữ liệu."
      ],
      "id": "i5EKrc0mktgd"
    },
    {
      "cell_type": "code",
      "execution_count": 1,
      "metadata": {
        "colab": {
          "base_uri": "https://localhost:8080/"
        },
        "id": "tbt9_dp8i5xZ",
        "outputId": "a92c7e53-c364-4620-b513-2dc631df899e"
      },
      "outputs": [
        {
          "output_type": "stream",
          "name": "stdout",
          "text": [
            "Mounted at /content/drive\n"
          ]
        }
      ],
      "source": [
        "from google.colab import drive\n",
        "drive.mount('/content/drive')"
      ],
      "id": "tbt9_dp8i5xZ"
    },
    {
      "cell_type": "markdown",
      "metadata": {
        "id": "H1bC5hm6mQvm"
      },
      "source": [
        "Kiểm tra thông tin GPU"
      ],
      "id": "H1bC5hm6mQvm"
    },
    {
      "cell_type": "code",
      "execution_count": 2,
      "metadata": {
        "colab": {
          "base_uri": "https://localhost:8080/"
        },
        "id": "AdRpZ_-enDEF",
        "outputId": "bc04c2a4-929e-4975-c23b-d8d6cca2302f"
      },
      "outputs": [
        {
          "output_type": "stream",
          "name": "stdout",
          "text": [
            "Found 1 CUDA devices\n",
            "id 0             b'Tesla T4'                              [SUPPORTED]\n",
            "                      compute capability: 7.5\n",
            "                           pci device id: 4\n",
            "                              pci bus id: 0\n",
            "Summary:\n",
            "\t1/1 devices are supported\n"
          ]
        },
        {
          "output_type": "execute_result",
          "data": {
            "text/plain": [
              "True"
            ]
          },
          "metadata": {},
          "execution_count": 2
        }
      ],
      "source": [
        "from numba import jit, prange, cuda\n",
        "cuda.detect()"
      ],
      "id": "AdRpZ_-enDEF"
    },
    {
      "cell_type": "markdown",
      "metadata": {
        "id": "2h7pJoi_Cvzi"
      },
      "source": [
        "Chuyển vị trí thực thi về thư mục Code"
      ],
      "id": "2h7pJoi_Cvzi"
    },
    {
      "cell_type": "code",
      "execution_count": 3,
      "metadata": {
        "colab": {
          "base_uri": "https://localhost:8080/"
        },
        "id": "8jWSCrAhDlKO",
        "outputId": "43311763-09a8-4183-a81d-88cb555557f2"
      },
      "outputs": [
        {
          "output_type": "stream",
          "name": "stdout",
          "text": [
            "/content/drive/MyDrive/6_APP_Project/Code\n"
          ]
        }
      ],
      "source": [
        "cd drive/MyDrive/6_APP_Project/Code"
      ],
      "id": "8jWSCrAhDlKO"
    },
    {
      "cell_type": "markdown",
      "metadata": {
        "id": "dnYjgIyOD2mj"
      },
      "source": [
        "Import thư viện"
      ],
      "id": "dnYjgIyOD2mj"
    },
    {
      "cell_type": "code",
      "execution_count": 4,
      "metadata": {
        "id": "K03lgFZ0E_Ij"
      },
      "outputs": [],
      "source": [
        "import numpy as np\n",
        "import cv2\n",
        "import matplotlib.pyplot as plt\n",
        "%matplotlib inline\n",
        "import os\n",
        "from  scipy import ndimage\n",
        "import time\n",
        "import scipy\n",
        "from scipy.optimize import fmin\n",
        "IMAGES_FOLDER_PATH = \"../Data/Input\""
      ],
      "id": "K03lgFZ0E_Ij"
    },
    {
      "cell_type": "markdown",
      "metadata": {
        "id": "sbFNliCqCh29"
      },
      "source": [
        "## **3. Cài đặt tuần tự**"
      ],
      "id": "sbFNliCqCh29"
    },
    {
      "cell_type": "markdown",
      "metadata": {
        "id": "b0dmAWd2dn-Z"
      },
      "source": [
        "### 3.1. Thiết kế:"
      ],
      "id": "b0dmAWd2dn-Z"
    },
    {
      "cell_type": "markdown",
      "source": [
        "#### 3.1.1. Quy trình tổng quan:"
      ],
      "metadata": {
        "id": "u9pwjoyoUipw"
      },
      "id": "u9pwjoyoUipw"
    },
    {
      "cell_type": "markdown",
      "metadata": {
        "id": "e38a5169"
      },
      "source": [
        "<img src='https://drive.google.com/uc?id=1PF-AdVz4KhFx2CmqpLdORmRBVEBED-xM'/>"
      ],
      "id": "e38a5169"
    },
    {
      "cell_type": "markdown",
      "source": [
        "<img src='https://drive.google.com/uc?id=1hnm-vuha0rYrlHrgK_rvJpSoMKYrKvZm'/>"
      ],
      "metadata": {
        "id": "Vs6tsDKQUrWy"
      },
      "id": "Vs6tsDKQUrWy"
    },
    {
      "cell_type": "markdown",
      "source": [
        "<img src='https://drive.google.com/uc?id=1-FVmGkJIPUqEdUIRy12vYyyZP7MZVkM_'/>"
      ],
      "metadata": {
        "id": "iFtrYWEpUsvA"
      },
      "id": "iFtrYWEpUsvA"
    },
    {
      "cell_type": "markdown",
      "metadata": {
        "id": "BVUVz2wHFURg"
      },
      "source": [
        "#### 3.1.2. Các ảnh Input:"
      ],
      "id": "BVUVz2wHFURg"
    },
    {
      "cell_type": "markdown",
      "metadata": {
        "id": "W2L_Hj7mzFj5"
      },
      "source": [
        "Danh sách các input, bao gồm:\n",
        "- Ảnh gốc\n",
        "- Ảnh trimap\n",
        "- Ảnh background mới\n",
        "\n",
        "Lưu ý:\n",
        "- Ảnh grayscale được thêm vào để minh hoạ, người dùng không cần cung cấp.\n",
        "- Phương pháp tạo ảnh trimap nhóm đã tìm hiểu và làm thử nhưng chưa thành công nên tạm thời bỏ qua và sử dụng các trimap có sẵn.\n",
        "\n",
        "<img src='https://drive.google.com/uc?id=1ULspQFfkDyjg-WFZZnLmNRQCjKW1hhhJ'/>"
      ],
      "id": "W2L_Hj7mzFj5"
    },
    {
      "cell_type": "markdown",
      "metadata": {
        "id": "nSC5Oi892kZU"
      },
      "source": [
        "#### 3.1.3. Phân tích ảnh input:"
      ],
      "id": "nSC5Oi892kZU"
    },
    {
      "cell_type": "markdown",
      "metadata": {
        "id": "Q2Er-oan0Oya"
      },
      "source": [
        "Từ các ảnh input ta dùng hàm tính toán mask để phân tích ra được vùng/ảnh của foreground, background và unknown. Nguyên tắc: các pixel trên ảnh trimap sẽ là:\n",
        "- Background: nếu giá trị < 10.\n",
        "- Foreground: nếu giá trị > 245.\n",
        "- Unknown: còn lại\n",
        "\n",
        "<img align=\"justify\" src='https://drive.google.com/uc?id=1S36DiTkgMNj_aUYCNK8es4yvYu5dFmdA'/>\n"
      ],
      "id": "Q2Er-oan0Oya"
    },
    {
      "cell_type": "markdown",
      "metadata": {
        "id": "udibb7PL1UeY"
      },
      "source": [
        "Từ các vùng ở trên ta ghép:\n",
        "- F = foreground + unknown\n",
        "- B = background + unknown\n",
        "\n",
        "<img align=\"justify\" src='https://drive.google.com/uc?id=1_uwZGhYmlF76OxKPetgzvz8ed24asQEJ'/>\n"
      ],
      "id": "udibb7PL1UeY"
    },
    {
      "cell_type": "markdown",
      "metadata": {
        "id": "Gji8K6iOXjOS"
      },
      "source": [
        "#### 3.1.4. Global Matting:"
      ],
      "id": "Gji8K6iOXjOS"
    },
    {
      "cell_type": "markdown",
      "metadata": {
        "id": "8eoVDYYKXwC-"
      },
      "source": [
        "Phương trình Poisson:\n",
        "\n",
        "$$\\nabla I = (F - B)\\nabla \\alpha + \\alpha \\nabla F + (1 - \\alpha)\\nabla B$$\n",
        "\n",
        "Suy ra:\n",
        "\n",
        "$$\\Delta \\alpha = div (\\frac{\\nabla I}{F-B})$$\n",
        "trong đó, $\\Delta = (\\frac{\\partial^2}{\\partial x^2},\\frac{\\partial^2}{\\partial y^2})$\n",
        "là một toán tử Laplacian and toán tử vector div của Gradient ảnh input đối với hiệu của Foreground và Background.\n",
        "\n",
        "\n",
        "Phương trinh Poisson được giải bằng phương pháp ước lượng Gauss Siedel Iteration\n",
        "\n",
        "cho,  $$ \\frac{\\partial^2 f}{\\partial x^2}+\\frac{\\partial^2 f}{\\partial y^2} = S$$\n",
        "$$ {f_{i,j}}^{(n+1)} = \\frac{\\beta}{4}({f_{i+1,j}}^{(n)} + {f_{i-1,j}}^{(n+1)}) + {f_{i,j+1}}^{(n)} + {f_{i,j-1}}^{(n+1)} - S_{i,j}) + (1-\\beta){f_{i,j}}^{(n)}$$\n",
        "với $\\beta$ nằm trong đoạn (1,2)\n",
        "\n",
        "Tìm hiểu thêm về phương trình Poisson [tại đây](https://www.microsoft.com/en-us/research/wp-content/uploads/2016/02/poissonmatting_siggraph04.pdf)..\n"
      ],
      "id": "8eoVDYYKXwC-"
    },
    {
      "cell_type": "markdown",
      "metadata": {
        "id": "68044668"
      },
      "source": [
        "Lý do sử dụng Phương trình Poisson:\n",
        "\n",
        "Poisson là một phương pháp tổng quát dùng để mô tả hành vi của các đại lượng ví dụ như hướng thế năng điện, trọng lực, chất lỏng. Áp dụng với bài toán này ta có thể mô tả xu hướng gradient của các pixel. Khi đó việc giải phương trình (tìm alpha) có thể xác định được độ mờ của pixel đó để biết nó có xu hướng nghiêng về background hay foreground."
      ],
      "id": "68044668"
    },
    {
      "cell_type": "markdown",
      "metadata": {
        "id": "0coi3EVq2sks"
      },
      "source": [
        "Sau khi áp dụng phương pháp trên ta được một mảng numpy chứa các giá trị alpha dùng để ghép với nền mới. Ta có thể xem alpha nhưng một hệ số làm mờ.\n",
        "\n",
        "<img src='https://drive.google.com/uc?id=1up3_IVpNZRzD-mziEwlr2M-Kjn_Xrh-4'/>\n"
      ],
      "id": "0coi3EVq2sks"
    },
    {
      "cell_type": "markdown",
      "metadata": {
        "id": "gPmiELGbSLK1"
      },
      "source": [
        "#### 3.1.5. Alpha Blending:"
      ],
      "id": "gPmiELGbSLK1"
    },
    {
      "cell_type": "markdown",
      "metadata": {
        "id": "zb1jK7PhSQaz"
      },
      "source": [
        "Tiến hành blending mảng alpha global matting ở trên với hình nên mới để được kết quả.\n",
        "\n",
        "<img src='https://drive.google.com/uc?id=1O9bYFhq6t6jfgrDaqglRTurH8NZt8xSm'/>"
      ],
      "id": "zb1jK7PhSQaz"
    },
    {
      "cell_type": "markdown",
      "metadata": {
        "id": "5IvaMvJwwEc7"
      },
      "source": [
        "#### 3.1.6. Local Matting:"
      ],
      "id": "5IvaMvJwwEc7"
    },
    {
      "cell_type": "markdown",
      "metadata": {
        "id": "SjszXVFSumcJ"
      },
      "source": [
        "Người dùng sẽ quan sát ảnh sau khi dùng Global Matting và đánh dấu những điểm ROI (Region of Interest - Những khu vực mong muốn được cải thiện hơn) sau đó chương trình sẽ chạy Local Matting trên khu vực này để cải thiện chất lượng hình ảnh.\n",
        "Local Matting cũng chính là Global Matting nhưng trên một khu vực nhỏ hơn."
      ],
      "id": "SjszXVFSumcJ"
    },
    {
      "cell_type": "markdown",
      "metadata": {
        "id": "xZ6ABfecw6-m"
      },
      "source": [
        "Ví dụ, với hình ở trên ta chọn 2 khu vực có chỉ số như sau:\n",
        "- top, bottom, left, right = [347, 475, 130, 195]\n",
        "- top, bottom, left, right = [367, 480, 386, 439]\n",
        "\n",
        "\n",
        "<img src='https://drive.google.com/uc?id=1s3DTgKOwGPqLOCmo_oZV0XncFOdW5Xfz'/>"
      ],
      "id": "xZ6ABfecw6-m"
    },
    {
      "cell_type": "markdown",
      "metadata": {
        "id": "W6lSqCoIzZW_"
      },
      "source": [
        "Local matte và ảnh kết quả sau khi blending:\n",
        "\n",
        "<img src=\"https://drive.google.com/uc?id=1St6RIQp6ztso5_k6gOSkqhCEmT_narm_\"/>\n",
        "\n"
      ],
      "id": "W6lSqCoIzZW_"
    },
    {
      "cell_type": "markdown",
      "metadata": {
        "id": "pyT-B9W81oTZ"
      },
      "source": [
        "Hiện tại nhóm đang tự quan sát và set cứng các giá trị ROI trong file code. Nhóm kì vọng cuối đồ án sẽ thực hiện để xử lý qua tham số dòng lệnh để thực tế hơn.\n",
        "\n",
        "Quy trình dự định:\n",
        "- In ra ảnh từ global matting\n",
        "- Người dùng nhập vào danh sách những khu vực muốn chỉnh sửa\n",
        "- In ra kết quả sau khi local matting"
      ],
      "id": "pyT-B9W81oTZ"
    },
    {
      "cell_type": "markdown",
      "source": [
        "### 3.2. Đánh giá:"
      ],
      "metadata": {
        "id": "TNep9kR3X_5L"
      },
      "id": "TNep9kR3X_5L"
    },
    {
      "cell_type": "markdown",
      "source": [
        "#### 3.2.1. Kịch bản thí nghiệm:"
      ],
      "metadata": {
        "id": "qTUjDwgYYHuJ"
      },
      "id": "qTUjDwgYYHuJ"
    },
    {
      "cell_type": "markdown",
      "source": [
        "Chương trình sẽ lần lượt thực hiện theo quy trình sau:\n",
        "1. Đọc ảnh gốc, ảnh tri map, ảnh nền mới. Chuyển ảnh gốc sang dạng grayscale\n",
        "2. Chạy hàm `matting_combined`: hàm tổng hợp quy trình xử lý ảnh với Global Matting bên trên.\n",
        "3. Lưu file ảnh output được áp dụng Global Matting.\n",
        "4. Bắt đầu pha Local Matting. Cho người dùng nhập (ở đây nhóm set cứng) giá trị của vùng mong muốn được cải thiện.\n",
        "5. Tính toán giá trị `alpha` mới của các vùng này.\n",
        "6. Gọi hàm `alpha_blend` để áp giá trị `alpha` mới vào ảnh.\n",
        "7. Lưu file ảnh output được áp dụng cả Global và Local Matting.\n",
        "\n"
      ],
      "metadata": {
        "id": "gutehR0yYMcc"
      },
      "id": "gutehR0yYMcc"
    },
    {
      "cell_type": "markdown",
      "metadata": {
        "id": "Cad4rVT6eB8e"
      },
      "source": [
        "#### 3.2.2. Thực thi với Python (không jit):"
      ],
      "id": "Cad4rVT6eB8e"
    },
    {
      "cell_type": "markdown",
      "metadata": {
        "id": "8-9xInPc2OLm"
      },
      "source": [
        "Hiện tại để tiện kiểm tra thì nhóm set cứng giá trị input (ảnh gốc, trimap, background) tương tự như phần trình bày phía trên của notebook. Sau này dự kiến sẽ chuyển qua dùng tham số dòng lệnh."
      ],
      "id": "8-9xInPc2OLm"
    },
    {
      "cell_type": "markdown",
      "metadata": {
        "id": "JkqIX8Wl2Far"
      },
      "source": [
        "**Thực thi (thời gian xử lý với 1 ảnh):**"
      ],
      "id": "JkqIX8Wl2Far"
    },
    {
      "cell_type": "code",
      "execution_count": 5,
      "metadata": {
        "colab": {
          "base_uri": "https://localhost:8080/"
        },
        "id": "FJhcQ3DmlffA",
        "outputId": "bdd4aabb-70cb-4318-d100-3cce679acfa8"
      },
      "outputs": [
        {
          "output_type": "stream",
          "name": "stdout",
          "text": [
            "====SUCCESS GLOBAL MATTING====\n",
            "====SUCCESS LOCAL MATTING====\n",
            "CPU times: user 136 ms, sys: 27 ms, total: 163 ms\n",
            "Wall time: 26.4 s\n"
          ]
        }
      ],
      "source": [
        "%%time\n",
        "!python3 sequential.py"
      ],
      "id": "FJhcQ3DmlffA"
    },
    {
      "cell_type": "markdown",
      "source": [
        "**Ảnh kết quả**"
      ],
      "metadata": {
        "id": "yOzVhOYKXR-s"
      },
      "id": "yOzVhOYKXR-s"
    },
    {
      "cell_type": "markdown",
      "source": [
        "- Ảnh chỉ áp dụng Global Matting:\n",
        "\n",
        "<img width=\"40%\" src='https://drive.google.com/uc?id=1-a026cY2ST8ct9Sd-ZKhw2PBHWF4_qfY'/>"
      ],
      "metadata": {
        "id": "sg3IAZXDXVRB"
      },
      "id": "sg3IAZXDXVRB"
    },
    {
      "cell_type": "markdown",
      "source": [
        "- Ảnh áp dụng cả Global và Local Matting:\n",
        "\n",
        "<img width=\"40%\" src='https://drive.google.com/uc?id=1-MXY0dxhLKQyfUArGLJMkTjWfluOW-MT'/>"
      ],
      "metadata": {
        "id": "HrcyXixSXXxv"
      },
      "id": "HrcyXixSXXxv"
    },
    {
      "cell_type": "markdown",
      "source": [
        "#### 3.2.3. Thực thi với Python (có jit):"
      ],
      "metadata": {
        "id": "t7ji_NWOW2-E"
      },
      "id": "t7ji_NWOW2-E"
    },
    {
      "cell_type": "markdown",
      "metadata": {
        "id": "nm8yt98vGuvM"
      },
      "source": [
        "Thực thi tuần tự với Numba jit. Phần sử dụng git:\n",
        "- Hàm `global_alpha_matting`: hàm chạy phương pháp Gauss Siedel để tìm ra alpha phù hợp.\n",
        "\n",
        "Những phần sử dụng thư viện có sẵn:\n",
        "- Numpy: các phương thức `gradient`, `maximum`, `minimun`...; các phép toán nhân, cộng ma trận\n",
        "- OpenCV: đọc ảnh, lưu ảnh, chuyển ảnh sang grayscale, RGB\n",
        "\n",
        "> Nhóm đã có thử cài đặt để dùng jit với các hàm trên nhưng thấy tốc độ giảm không đáng kể (< 0.5s hoặc đôi khi chậm hơn) nên quyết định không jit nữa."
      ],
      "id": "nm8yt98vGuvM"
    },
    {
      "cell_type": "markdown",
      "source": [
        "**Thực thi:**"
      ],
      "metadata": {
        "id": "L5jXe1ltcLD0"
      },
      "id": "L5jXe1ltcLD0"
    },
    {
      "cell_type": "code",
      "execution_count": 6,
      "metadata": {
        "colab": {
          "base_uri": "https://localhost:8080/"
        },
        "id": "cqsdKd-QjW2r",
        "outputId": "cc3a6442-e8a4-44b8-f2ee-24c72189a4aa"
      },
      "outputs": [
        {
          "output_type": "stream",
          "name": "stdout",
          "text": [
            "====SUCCESS GLOBAL MATTING====\n",
            "====SUCCESS LOCAL MATTING====\n",
            "CPU times: user 31.1 ms, sys: 7.19 ms, total: 38.3 ms\n",
            "Wall time: 2.83 s\n"
          ]
        }
      ],
      "source": [
        "%%time\n",
        "!python3 sequential_jit.py"
      ],
      "id": "cqsdKd-QjW2r"
    },
    {
      "cell_type": "markdown",
      "source": [
        "**Ảnh kết quả**"
      ],
      "metadata": {
        "id": "aHaWQKtgb_sa"
      },
      "id": "aHaWQKtgb_sa"
    },
    {
      "cell_type": "markdown",
      "source": [
        "- Ảnh chỉ áp dụng Global Matting:\n",
        "\n",
        "<img width=\"40%\" src='https://drive.google.com/uc?id=1-DiphlaTa2wYUlTZiHGylhtlIxzPoUgr'/>"
      ],
      "metadata": {
        "id": "fuDFVPKtb_sa"
      },
      "id": "fuDFVPKtb_sa"
    },
    {
      "cell_type": "markdown",
      "source": [
        "- Ảnh áp dụng cả Global và Local Matting:\n",
        "\n",
        "<img width=\"40%\" src='https://drive.google.com/uc?id=1-BxQMpPPH2iIdH_7j25BcWU_qf4wltiE'/>"
      ],
      "metadata": {
        "id": "ZNmL-Sqzb_sa"
      },
      "id": "ZNmL-Sqzb_sa"
    },
    {
      "cell_type": "markdown",
      "metadata": {
        "id": "nnh47mIp7Zfy"
      },
      "source": [
        "## **4. Cài đặt song song:**"
      ],
      "id": "nnh47mIp7Zfy"
    },
    {
      "cell_type": "markdown",
      "source": [
        "### 4.1. Phân tích:"
      ],
      "metadata": {
        "id": "0rGTMYg9aIVO"
      },
      "id": "0rGTMYg9aIVO"
    },
    {
      "cell_type": "markdown",
      "source": [
        "**Phần thực hiện song song:** Bước tính toán alpha nằm trong hàm `global_alpha_matting`.\n",
        "\n",
        "Thông tin về hàm `global_alpha_matting`:\n",
        "  \n",
        "    \"\"\"\n",
        "    Hàm thực thi global alpha matting\n",
        "\n",
        "    Parameters:\n",
        "    -----------\n",
        "    alpha: giá trị xấp xỉ của alpha\n",
        "    d2alpha: tổng đạo hàm riêng bậc 2 của alpha theo X và Y\n",
        "    unknown_seg: mảng munby đại diện cho vùng chưa xác định rõ\n",
        "    iters: số lần chạy của phương pháp ước lượng Gauss Siedel\n",
        "    threshold: ngưỡng cho sự thay đổi sau mỗi lần chạy. Nếu dưới ngưỡng thì phương trình sẽ dừng lại\n",
        "    beta: nhân tử beta của phương pháp ước lượng Gauss Siedel\n",
        "\n",
        "    Return:\n",
        "    -----------\n",
        "    Mảng numpy đại diện cho chỉ số matte đã được tạo\n",
        "    \"\"\"\n",
        "\n",
        "Quy trình của hàm:\n",
        "\n",
        "- Bước đầu gán prev_alpha: 1 ma trận toàn số 0\n",
        "- Tính toán sai khác giữa prev_alpha và alpha\n",
        "- Đi vào vòng lặp với số lần lặp là iters\n",
        "  - Tính độ khác biệt giữa prev_alpha và alpha (*)\n",
        "  - Chạy 2 vòng lặp for lần lượt duyệt qua từng pixel của alpha\n",
        "  - Tính lại giá trị của từng pixel theo công thức từ beta, alpha, pre_alpha, d2alpha (**)\n",
        "\n",
        "=> Nhóm lựa chọn song song phần (*) và (**) ở trên bằng cách: chia cho mỗi thread đảm nhận các pixel để tính lại giá trị của alpha.\n",
        "\n",
        "Nhóm chỉ song song khi xử lý global matting, còn local matting thì chỉ thực hiện trên jit."
      ],
      "metadata": {
        "id": "uxSUH2yzVX62"
      },
      "id": "uxSUH2yzVX62"
    },
    {
      "cell_type": "markdown",
      "source": [
        "**Lý do nhóm lựa chọn phần này:**\n",
        "\n",
        "Nhóm nhận thấy bước này có những công việc lặp đi lặp lại nhiều lần. Ở mỗi lần công việc có thể chia cho các thresh thực hiện để giúp tăng tốc độ."
      ],
      "metadata": {
        "id": "ChxcUJ1hdVoU"
      },
      "id": "ChxcUJ1hdVoU"
    },
    {
      "cell_type": "markdown",
      "source": [
        "### 4.2. Thiết kế:"
      ],
      "metadata": {
        "id": "dyuiYD6tdpxv"
      },
      "id": "dyuiYD6tdpxv"
    },
    {
      "cell_type": "markdown",
      "source": [
        ""
      ],
      "metadata": {
        "id": "xTGR8AWgduDa"
      },
      "id": "xTGR8AWgduDa"
    },
    {
      "cell_type": "markdown",
      "source": [
        "### 4.3. Đánh giá:"
      ],
      "metadata": {
        "id": "TEK9A3neduoE"
      },
      "id": "TEK9A3neduoE"
    },
    {
      "cell_type": "markdown",
      "source": [
        "#### 4.3.1. Kịch bản thí nghiệm:"
      ],
      "metadata": {
        "id": "FeXiRsPZd3SZ"
      },
      "id": "FeXiRsPZd3SZ"
    },
    {
      "cell_type": "markdown",
      "source": [
        "Chương trình sẽ lần lượt thực hiện theo quy trình sau:\n",
        "1. Đọc ảnh gốc, ảnh tri map, ảnh nền mới. Chuyển ảnh gốc sang dạng grayscale\n",
        "2. Chạy hàm `matting_combined`: hàm tổng hợp quy trình xử lý ảnh với Global Matting bên trên. Ở hàm tổng hợp sẽ gọi hàm `global_alpha_matting` chạy song song trên GPU.\n",
        "3. Lưu file ảnh output được áp dụng Global Matting.\n",
        "4. Bắt đầu pha Local Matting. Cho người dùng nhập (ở đây nhóm set cứng) giá trị của vùng mong muốn được cải thiện.\n",
        "5. Tính toán giá trị `alpha` mới của các vùng này bằng các hàm tuần tự chứ không chạy song song như ở Global Matting.\n",
        "6. Gọi hàm `alpha_blend` để áp giá trị `alpha` mới vào ảnh.\n",
        "7. Lưu file ảnh output được áp dụng cả Global và Local Matting.\n",
        "\n",
        "Nhìn chung, kịch bản thí nghiệm tương tự với thực thi tuần tự, chỉ khác ở bước 2 và một chút lưu ý ở bước 5. Global Matting thì sẽ có song song trên GPU, còn Local Matting thì chỉ chạy với jit.\n"
      ],
      "metadata": {
        "id": "e2it5scPd8Yz"
      },
      "id": "e2it5scPd8Yz"
    },
    {
      "cell_type": "markdown",
      "source": [
        "#### 4.3.2. Thực thi:"
      ],
      "metadata": {
        "id": "-JpS0PeyfG8t"
      },
      "id": "-JpS0PeyfG8t"
    },
    {
      "cell_type": "markdown",
      "source": [
        "**Thực thi:**"
      ],
      "metadata": {
        "id": "aZkCDqtRfYVr"
      },
      "id": "aZkCDqtRfYVr"
    },
    {
      "cell_type": "code",
      "execution_count": 10,
      "metadata": {
        "colab": {
          "base_uri": "https://localhost:8080/"
        },
        "id": "CwbzFwXK7c3i",
        "outputId": "eecd1dd9-4580-48dd-c2d2-c5b30b95c91f"
      },
      "outputs": [
        {
          "output_type": "stream",
          "name": "stdout",
          "text": [
            "==369== NVPROF is profiling process 369, command: python3 parallel.py\n",
            "====SUCCESS GLOBAL MATTING====\n",
            "====SUCCESS LOCAL MATTING====\n",
            "==369== Profiling application: python3 parallel.py\n",
            "==369== Profiling result:\n",
            "   Start  Duration            Grid Size      Block Size     Regs*    SSMem*    DSMem*      Size  Throughput  SrcMemType  DstMemType           Device   Context    Stream  Name\n",
            "449.24ms  343.29us                    -               -         -         -         -  2.3438MB  6.6672GB/s    Pageable      Device     Tesla T4 (0)         1         7  [CUDA memcpy HtoD]\n",
            "450.39ms  332.35us                    -               -         -         -         -  2.3438MB  6.8868GB/s    Pageable      Device     Tesla T4 (0)         1         7  [CUDA memcpy HtoD]\n",
            "451.53ms  341.92us                    -               -         -         -         -  2.3438MB  6.6940GB/s    Pageable      Device     Tesla T4 (0)         1         7  [CUDA memcpy HtoD]\n",
            "452.41ms  27.744us                    -               -         -         -         -  300.00KB  10.312GB/s    Pageable      Device     Tesla T4 (0)         1         7  [CUDA memcpy HtoD]\n",
            "715.88ms  9.1520us            (15 20 1)       (32 32 1)        16        0B        0B         -           -           -           -     Tesla T4 (0)         1         7  cudapy::__main__::compute_diff_kerner$241(Array<double, int=2, C, mutable, aligned>, Array<double, int=2, C, mutable, aligned>, double) [158]\n",
            "861.22ms  36.448us            (15 20 1)       (32 32 1)        32        0B        0B         -           -           -           -     Tesla T4 (0)         1         7  cudapy::__main__::compute_alpha_kernel$242(Array<double, int=2, C, mutable, aligned>, __int64, Array<double, int=2, C, mutable, aligned>, Array<double, int=2, C, mutable, aligned>, Array<bool, int=2, C, mutable, aligned>) [178]\n",
            "861.67ms  9.1840us            (15 20 1)       (32 32 1)        16        0B        0B         -           -           -           -     Tesla T4 (0)         1         7  cudapy::__main__::compute_diff_kerner$241(Array<double, int=2, C, mutable, aligned>, Array<double, int=2, C, mutable, aligned>, double) [183]\n",
            "862.17ms  36.224us            (15 20 1)       (32 32 1)        32        0B        0B         -           -           -           -     Tesla T4 (0)         1         7  cudapy::__main__::compute_alpha_kernel$242(Array<double, int=2, C, mutable, aligned>, __int64, Array<double, int=2, C, mutable, aligned>, Array<double, int=2, C, mutable, aligned>, Array<bool, int=2, C, mutable, aligned>) [188]\n",
            "862.51ms  9.1520us            (15 20 1)       (32 32 1)        16        0B        0B         -           -           -           -     Tesla T4 (0)         1         7  cudapy::__main__::compute_diff_kerner$241(Array<double, int=2, C, mutable, aligned>, Array<double, int=2, C, mutable, aligned>, double) [193]\n",
            "862.99ms  36.319us            (15 20 1)       (32 32 1)        32        0B        0B         -           -           -           -     Tesla T4 (0)         1         7  cudapy::__main__::compute_alpha_kernel$242(Array<double, int=2, C, mutable, aligned>, __int64, Array<double, int=2, C, mutable, aligned>, Array<double, int=2, C, mutable, aligned>, Array<bool, int=2, C, mutable, aligned>) [198]\n",
            "863.58ms  9.1200us            (15 20 1)       (32 32 1)        16        0B        0B         -           -           -           -     Tesla T4 (0)         1         7  cudapy::__main__::compute_diff_kerner$241(Array<double, int=2, C, mutable, aligned>, Array<double, int=2, C, mutable, aligned>, double) [203]\n",
            "864.13ms  36.320us            (15 20 1)       (32 32 1)        32        0B        0B         -           -           -           -     Tesla T4 (0)         1         7  cudapy::__main__::compute_alpha_kernel$242(Array<double, int=2, C, mutable, aligned>, __int64, Array<double, int=2, C, mutable, aligned>, Array<double, int=2, C, mutable, aligned>, Array<bool, int=2, C, mutable, aligned>) [208]\n",
            "864.47ms  9.1520us            (15 20 1)       (32 32 1)        16        0B        0B         -           -           -           -     Tesla T4 (0)         1         7  cudapy::__main__::compute_diff_kerner$241(Array<double, int=2, C, mutable, aligned>, Array<double, int=2, C, mutable, aligned>, double) [213]\n",
            "864.76ms  36.288us            (15 20 1)       (32 32 1)        32        0B        0B         -           -           -           -     Tesla T4 (0)         1         7  cudapy::__main__::compute_alpha_kernel$242(Array<double, int=2, C, mutable, aligned>, __int64, Array<double, int=2, C, mutable, aligned>, Array<double, int=2, C, mutable, aligned>, Array<bool, int=2, C, mutable, aligned>) [218]\n",
            "864.97ms  9.1200us            (15 20 1)       (32 32 1)        16        0B        0B         -           -           -           -     Tesla T4 (0)         1         7  cudapy::__main__::compute_diff_kerner$241(Array<double, int=2, C, mutable, aligned>, Array<double, int=2, C, mutable, aligned>, double) [223]\n",
            "865.25ms  36.224us            (15 20 1)       (32 32 1)        32        0B        0B         -           -           -           -     Tesla T4 (0)         1         7  cudapy::__main__::compute_alpha_kernel$242(Array<double, int=2, C, mutable, aligned>, __int64, Array<double, int=2, C, mutable, aligned>, Array<double, int=2, C, mutable, aligned>, Array<bool, int=2, C, mutable, aligned>) [228]\n",
            "865.42ms  9.0880us            (15 20 1)       (32 32 1)        16        0B        0B         -           -           -           -     Tesla T4 (0)         1         7  cudapy::__main__::compute_diff_kerner$241(Array<double, int=2, C, mutable, aligned>, Array<double, int=2, C, mutable, aligned>, double) [233]\n",
            "865.70ms  36.384us            (15 20 1)       (32 32 1)        32        0B        0B         -           -           -           -     Tesla T4 (0)         1         7  cudapy::__main__::compute_alpha_kernel$242(Array<double, int=2, C, mutable, aligned>, __int64, Array<double, int=2, C, mutable, aligned>, Array<double, int=2, C, mutable, aligned>, Array<bool, int=2, C, mutable, aligned>) [238]\n",
            "865.88ms  9.1200us            (15 20 1)       (32 32 1)        16        0B        0B         -           -           -           -     Tesla T4 (0)         1         7  cudapy::__main__::compute_diff_kerner$241(Array<double, int=2, C, mutable, aligned>, Array<double, int=2, C, mutable, aligned>, double) [243]\n",
            "866.11ms  36.288us            (15 20 1)       (32 32 1)        32        0B        0B         -           -           -           -     Tesla T4 (0)         1         7  cudapy::__main__::compute_alpha_kernel$242(Array<double, int=2, C, mutable, aligned>, __int64, Array<double, int=2, C, mutable, aligned>, Array<double, int=2, C, mutable, aligned>, Array<bool, int=2, C, mutable, aligned>) [248]\n",
            "866.28ms  9.1520us            (15 20 1)       (32 32 1)        16        0B        0B         -           -           -           -     Tesla T4 (0)         1         7  cudapy::__main__::compute_diff_kerner$241(Array<double, int=2, C, mutable, aligned>, Array<double, int=2, C, mutable, aligned>, double) [253]\n",
            "866.56ms  36.384us            (15 20 1)       (32 32 1)        32        0B        0B         -           -           -           -     Tesla T4 (0)         1         7  cudapy::__main__::compute_alpha_kernel$242(Array<double, int=2, C, mutable, aligned>, __int64, Array<double, int=2, C, mutable, aligned>, Array<double, int=2, C, mutable, aligned>, Array<bool, int=2, C, mutable, aligned>) [258]\n",
            "866.73ms  9.1200us            (15 20 1)       (32 32 1)        16        0B        0B         -           -           -           -     Tesla T4 (0)         1         7  cudapy::__main__::compute_diff_kerner$241(Array<double, int=2, C, mutable, aligned>, Array<double, int=2, C, mutable, aligned>, double) [263]\n",
            "867.00ms  36.224us            (15 20 1)       (32 32 1)        32        0B        0B         -           -           -           -     Tesla T4 (0)         1         7  cudapy::__main__::compute_alpha_kernel$242(Array<double, int=2, C, mutable, aligned>, __int64, Array<double, int=2, C, mutable, aligned>, Array<double, int=2, C, mutable, aligned>, Array<bool, int=2, C, mutable, aligned>) [268]\n",
            "867.17ms  9.1520us            (15 20 1)       (32 32 1)        16        0B        0B         -           -           -           -     Tesla T4 (0)         1         7  cudapy::__main__::compute_diff_kerner$241(Array<double, int=2, C, mutable, aligned>, Array<double, int=2, C, mutable, aligned>, double) [273]\n",
            "867.38ms  36.320us            (15 20 1)       (32 32 1)        32        0B        0B         -           -           -           -     Tesla T4 (0)         1         7  cudapy::__main__::compute_alpha_kernel$242(Array<double, int=2, C, mutable, aligned>, __int64, Array<double, int=2, C, mutable, aligned>, Array<double, int=2, C, mutable, aligned>, Array<bool, int=2, C, mutable, aligned>) [278]\n",
            "867.55ms  9.1200us            (15 20 1)       (32 32 1)        16        0B        0B         -           -           -           -     Tesla T4 (0)         1         7  cudapy::__main__::compute_diff_kerner$241(Array<double, int=2, C, mutable, aligned>, Array<double, int=2, C, mutable, aligned>, double) [283]\n",
            "867.77ms  36.192us            (15 20 1)       (32 32 1)        32        0B        0B         -           -           -           -     Tesla T4 (0)         1         7  cudapy::__main__::compute_alpha_kernel$242(Array<double, int=2, C, mutable, aligned>, __int64, Array<double, int=2, C, mutable, aligned>, Array<double, int=2, C, mutable, aligned>, Array<bool, int=2, C, mutable, aligned>) [288]\n",
            "867.94ms  9.1190us            (15 20 1)       (32 32 1)        16        0B        0B         -           -           -           -     Tesla T4 (0)         1         7  cudapy::__main__::compute_diff_kerner$241(Array<double, int=2, C, mutable, aligned>, Array<double, int=2, C, mutable, aligned>, double) [293]\n",
            "868.15ms  36.319us            (15 20 1)       (32 32 1)        32        0B        0B         -           -           -           -     Tesla T4 (0)         1         7  cudapy::__main__::compute_alpha_kernel$242(Array<double, int=2, C, mutable, aligned>, __int64, Array<double, int=2, C, mutable, aligned>, Array<double, int=2, C, mutable, aligned>, Array<bool, int=2, C, mutable, aligned>) [298]\n",
            "868.30ms  9.1200us            (15 20 1)       (32 32 1)        16        0B        0B         -           -           -           -     Tesla T4 (0)         1         7  cudapy::__main__::compute_diff_kerner$241(Array<double, int=2, C, mutable, aligned>, Array<double, int=2, C, mutable, aligned>, double) [303]\n",
            "868.59ms  36.351us            (15 20 1)       (32 32 1)        32        0B        0B         -           -           -           -     Tesla T4 (0)         1         7  cudapy::__main__::compute_alpha_kernel$242(Array<double, int=2, C, mutable, aligned>, __int64, Array<double, int=2, C, mutable, aligned>, Array<double, int=2, C, mutable, aligned>, Array<bool, int=2, C, mutable, aligned>) [308]\n",
            "868.77ms  9.1840us            (15 20 1)       (32 32 1)        16        0B        0B         -           -           -           -     Tesla T4 (0)         1         7  cudapy::__main__::compute_diff_kerner$241(Array<double, int=2, C, mutable, aligned>, Array<double, int=2, C, mutable, aligned>, double) [313]\n",
            "869.04ms  36.224us            (15 20 1)       (32 32 1)        32        0B        0B         -           -           -           -     Tesla T4 (0)         1         7  cudapy::__main__::compute_alpha_kernel$242(Array<double, int=2, C, mutable, aligned>, __int64, Array<double, int=2, C, mutable, aligned>, Array<double, int=2, C, mutable, aligned>, Array<bool, int=2, C, mutable, aligned>) [318]\n",
            "869.22ms  9.1200us            (15 20 1)       (32 32 1)        16        0B        0B         -           -           -           -     Tesla T4 (0)         1         7  cudapy::__main__::compute_diff_kerner$241(Array<double, int=2, C, mutable, aligned>, Array<double, int=2, C, mutable, aligned>, double) [323]\n",
            "869.47ms  36.288us            (15 20 1)       (32 32 1)        32        0B        0B         -           -           -           -     Tesla T4 (0)         1         7  cudapy::__main__::compute_alpha_kernel$242(Array<double, int=2, C, mutable, aligned>, __int64, Array<double, int=2, C, mutable, aligned>, Array<double, int=2, C, mutable, aligned>, Array<bool, int=2, C, mutable, aligned>) [328]\n",
            "869.67ms  9.1840us            (15 20 1)       (32 32 1)        16        0B        0B         -           -           -           -     Tesla T4 (0)         1         7  cudapy::__main__::compute_diff_kerner$241(Array<double, int=2, C, mutable, aligned>, Array<double, int=2, C, mutable, aligned>, double) [333]\n",
            "869.95ms  36.352us            (15 20 1)       (32 32 1)        32        0B        0B         -           -           -           -     Tesla T4 (0)         1         7  cudapy::__main__::compute_alpha_kernel$242(Array<double, int=2, C, mutable, aligned>, __int64, Array<double, int=2, C, mutable, aligned>, Array<double, int=2, C, mutable, aligned>, Array<bool, int=2, C, mutable, aligned>) [338]\n",
            "870.11ms  9.1200us            (15 20 1)       (32 32 1)        16        0B        0B         -           -           -           -     Tesla T4 (0)         1         7  cudapy::__main__::compute_diff_kerner$241(Array<double, int=2, C, mutable, aligned>, Array<double, int=2, C, mutable, aligned>, double) [343]\n",
            "870.35ms  36.320us            (15 20 1)       (32 32 1)        32        0B        0B         -           -           -           -     Tesla T4 (0)         1         7  cudapy::__main__::compute_alpha_kernel$242(Array<double, int=2, C, mutable, aligned>, __int64, Array<double, int=2, C, mutable, aligned>, Array<double, int=2, C, mutable, aligned>, Array<bool, int=2, C, mutable, aligned>) [348]\n",
            "870.52ms  9.1190us            (15 20 1)       (32 32 1)        16        0B        0B         -           -           -           -     Tesla T4 (0)         1         7  cudapy::__main__::compute_diff_kerner$241(Array<double, int=2, C, mutable, aligned>, Array<double, int=2, C, mutable, aligned>, double) [353]\n",
            "870.75ms  36.224us            (15 20 1)       (32 32 1)        32        0B        0B         -           -           -           -     Tesla T4 (0)         1         7  cudapy::__main__::compute_alpha_kernel$242(Array<double, int=2, C, mutable, aligned>, __int64, Array<double, int=2, C, mutable, aligned>, Array<double, int=2, C, mutable, aligned>, Array<bool, int=2, C, mutable, aligned>) [358]\n",
            "870.93ms  9.1520us            (15 20 1)       (32 32 1)        16        0B        0B         -           -           -           -     Tesla T4 (0)         1         7  cudapy::__main__::compute_diff_kerner$241(Array<double, int=2, C, mutable, aligned>, Array<double, int=2, C, mutable, aligned>, double) [363]\n",
            "871.16ms  36.255us            (15 20 1)       (32 32 1)        32        0B        0B         -           -           -           -     Tesla T4 (0)         1         7  cudapy::__main__::compute_alpha_kernel$242(Array<double, int=2, C, mutable, aligned>, __int64, Array<double, int=2, C, mutable, aligned>, Array<double, int=2, C, mutable, aligned>, Array<bool, int=2, C, mutable, aligned>) [368]\n",
            "871.32ms  9.0880us            (15 20 1)       (32 32 1)        16        0B        0B         -           -           -           -     Tesla T4 (0)         1         7  cudapy::__main__::compute_diff_kerner$241(Array<double, int=2, C, mutable, aligned>, Array<double, int=2, C, mutable, aligned>, double) [373]\n",
            "871.55ms  36.192us            (15 20 1)       (32 32 1)        32        0B        0B         -           -           -           -     Tesla T4 (0)         1         7  cudapy::__main__::compute_alpha_kernel$242(Array<double, int=2, C, mutable, aligned>, __int64, Array<double, int=2, C, mutable, aligned>, Array<double, int=2, C, mutable, aligned>, Array<bool, int=2, C, mutable, aligned>) [378]\n",
            "871.71ms  9.1200us            (15 20 1)       (32 32 1)        16        0B        0B         -           -           -           -     Tesla T4 (0)         1         7  cudapy::__main__::compute_diff_kerner$241(Array<double, int=2, C, mutable, aligned>, Array<double, int=2, C, mutable, aligned>, double) [383]\n",
            "871.93ms  36.224us            (15 20 1)       (32 32 1)        32        0B        0B         -           -           -           -     Tesla T4 (0)         1         7  cudapy::__main__::compute_alpha_kernel$242(Array<double, int=2, C, mutable, aligned>, __int64, Array<double, int=2, C, mutable, aligned>, Array<double, int=2, C, mutable, aligned>, Array<bool, int=2, C, mutable, aligned>) [388]\n",
            "872.08ms  9.1200us            (15 20 1)       (32 32 1)        16        0B        0B         -           -           -           -     Tesla T4 (0)         1         7  cudapy::__main__::compute_diff_kerner$241(Array<double, int=2, C, mutable, aligned>, Array<double, int=2, C, mutable, aligned>, double) [393]\n",
            "872.29ms  36.256us            (15 20 1)       (32 32 1)        32        0B        0B         -           -           -           -     Tesla T4 (0)         1         7  cudapy::__main__::compute_alpha_kernel$242(Array<double, int=2, C, mutable, aligned>, __int64, Array<double, int=2, C, mutable, aligned>, Array<double, int=2, C, mutable, aligned>, Array<bool, int=2, C, mutable, aligned>) [398]\n",
            "872.45ms  9.1520us            (15 20 1)       (32 32 1)        16        0B        0B         -           -           -           -     Tesla T4 (0)         1         7  cudapy::__main__::compute_diff_kerner$241(Array<double, int=2, C, mutable, aligned>, Array<double, int=2, C, mutable, aligned>, double) [403]\n",
            "872.66ms  36.287us            (15 20 1)       (32 32 1)        32        0B        0B         -           -           -           -     Tesla T4 (0)         1         7  cudapy::__main__::compute_alpha_kernel$242(Array<double, int=2, C, mutable, aligned>, __int64, Array<double, int=2, C, mutable, aligned>, Array<double, int=2, C, mutable, aligned>, Array<bool, int=2, C, mutable, aligned>) [408]\n",
            "872.83ms  9.1200us            (15 20 1)       (32 32 1)        16        0B        0B         -           -           -           -     Tesla T4 (0)         1         7  cudapy::__main__::compute_diff_kerner$241(Array<double, int=2, C, mutable, aligned>, Array<double, int=2, C, mutable, aligned>, double) [413]\n",
            "873.04ms  36.320us            (15 20 1)       (32 32 1)        32        0B        0B         -           -           -           -     Tesla T4 (0)         1         7  cudapy::__main__::compute_alpha_kernel$242(Array<double, int=2, C, mutable, aligned>, __int64, Array<double, int=2, C, mutable, aligned>, Array<double, int=2, C, mutable, aligned>, Array<bool, int=2, C, mutable, aligned>) [418]\n",
            "873.20ms  9.1200us            (15 20 1)       (32 32 1)        16        0B        0B         -           -           -           -     Tesla T4 (0)         1         7  cudapy::__main__::compute_diff_kerner$241(Array<double, int=2, C, mutable, aligned>, Array<double, int=2, C, mutable, aligned>, double) [423]\n",
            "873.40ms  36.320us            (15 20 1)       (32 32 1)        32        0B        0B         -           -           -           -     Tesla T4 (0)         1         7  cudapy::__main__::compute_alpha_kernel$242(Array<double, int=2, C, mutable, aligned>, __int64, Array<double, int=2, C, mutable, aligned>, Array<double, int=2, C, mutable, aligned>, Array<bool, int=2, C, mutable, aligned>) [428]\n",
            "873.57ms  9.1200us            (15 20 1)       (32 32 1)        16        0B        0B         -           -           -           -     Tesla T4 (0)         1         7  cudapy::__main__::compute_diff_kerner$241(Array<double, int=2, C, mutable, aligned>, Array<double, int=2, C, mutable, aligned>, double) [433]\n",
            "873.78ms  36.288us            (15 20 1)       (32 32 1)        32        0B        0B         -           -           -           -     Tesla T4 (0)         1         7  cudapy::__main__::compute_alpha_kernel$242(Array<double, int=2, C, mutable, aligned>, __int64, Array<double, int=2, C, mutable, aligned>, Array<double, int=2, C, mutable, aligned>, Array<bool, int=2, C, mutable, aligned>) [438]\n",
            "873.95ms  9.1200us            (15 20 1)       (32 32 1)        16        0B        0B         -           -           -           -     Tesla T4 (0)         1         7  cudapy::__main__::compute_diff_kerner$241(Array<double, int=2, C, mutable, aligned>, Array<double, int=2, C, mutable, aligned>, double) [443]\n",
            "874.16ms  36.287us            (15 20 1)       (32 32 1)        32        0B        0B         -           -           -           -     Tesla T4 (0)         1         7  cudapy::__main__::compute_alpha_kernel$242(Array<double, int=2, C, mutable, aligned>, __int64, Array<double, int=2, C, mutable, aligned>, Array<double, int=2, C, mutable, aligned>, Array<bool, int=2, C, mutable, aligned>) [448]\n",
            "874.31ms  9.1200us            (15 20 1)       (32 32 1)        16        0B        0B         -           -           -           -     Tesla T4 (0)         1         7  cudapy::__main__::compute_diff_kerner$241(Array<double, int=2, C, mutable, aligned>, Array<double, int=2, C, mutable, aligned>, double) [453]\n",
            "874.56ms  36.320us            (15 20 1)       (32 32 1)        32        0B        0B         -           -           -           -     Tesla T4 (0)         1         7  cudapy::__main__::compute_alpha_kernel$242(Array<double, int=2, C, mutable, aligned>, __int64, Array<double, int=2, C, mutable, aligned>, Array<double, int=2, C, mutable, aligned>, Array<bool, int=2, C, mutable, aligned>) [458]\n",
            "874.72ms  9.1200us            (15 20 1)       (32 32 1)        16        0B        0B         -           -           -           -     Tesla T4 (0)         1         7  cudapy::__main__::compute_diff_kerner$241(Array<double, int=2, C, mutable, aligned>, Array<double, int=2, C, mutable, aligned>, double) [463]\n",
            "874.96ms  36.288us            (15 20 1)       (32 32 1)        32        0B        0B         -           -           -           -     Tesla T4 (0)         1         7  cudapy::__main__::compute_alpha_kernel$242(Array<double, int=2, C, mutable, aligned>, __int64, Array<double, int=2, C, mutable, aligned>, Array<double, int=2, C, mutable, aligned>, Array<bool, int=2, C, mutable, aligned>) [468]\n",
            "875.12ms  9.0880us            (15 20 1)       (32 32 1)        16        0B        0B         -           -           -           -     Tesla T4 (0)         1         7  cudapy::__main__::compute_diff_kerner$241(Array<double, int=2, C, mutable, aligned>, Array<double, int=2, C, mutable, aligned>, double) [473]\n",
            "875.34ms  36.256us            (15 20 1)       (32 32 1)        32        0B        0B         -           -           -           -     Tesla T4 (0)         1         7  cudapy::__main__::compute_alpha_kernel$242(Array<double, int=2, C, mutable, aligned>, __int64, Array<double, int=2, C, mutable, aligned>, Array<double, int=2, C, mutable, aligned>, Array<bool, int=2, C, mutable, aligned>) [478]\n",
            "875.50ms  9.1200us            (15 20 1)       (32 32 1)        16        0B        0B         -           -           -           -     Tesla T4 (0)         1         7  cudapy::__main__::compute_diff_kerner$241(Array<double, int=2, C, mutable, aligned>, Array<double, int=2, C, mutable, aligned>, double) [483]\n",
            "875.74ms  36.384us            (15 20 1)       (32 32 1)        32        0B        0B         -           -           -           -     Tesla T4 (0)         1         7  cudapy::__main__::compute_alpha_kernel$242(Array<double, int=2, C, mutable, aligned>, __int64, Array<double, int=2, C, mutable, aligned>, Array<double, int=2, C, mutable, aligned>, Array<bool, int=2, C, mutable, aligned>) [488]\n",
            "875.91ms  9.1200us            (15 20 1)       (32 32 1)        16        0B        0B         -           -           -           -     Tesla T4 (0)         1         7  cudapy::__main__::compute_diff_kerner$241(Array<double, int=2, C, mutable, aligned>, Array<double, int=2, C, mutable, aligned>, double) [493]\n",
            "876.14ms  36.288us            (15 20 1)       (32 32 1)        32        0B        0B         -           -           -           -     Tesla T4 (0)         1         7  cudapy::__main__::compute_alpha_kernel$242(Array<double, int=2, C, mutable, aligned>, __int64, Array<double, int=2, C, mutable, aligned>, Array<double, int=2, C, mutable, aligned>, Array<bool, int=2, C, mutable, aligned>) [498]\n",
            "876.30ms  9.1840us            (15 20 1)       (32 32 1)        16        0B        0B         -           -           -           -     Tesla T4 (0)         1         7  cudapy::__main__::compute_diff_kerner$241(Array<double, int=2, C, mutable, aligned>, Array<double, int=2, C, mutable, aligned>, double) [503]\n",
            "876.52ms  36.383us            (15 20 1)       (32 32 1)        32        0B        0B         -           -           -           -     Tesla T4 (0)         1         7  cudapy::__main__::compute_alpha_kernel$242(Array<double, int=2, C, mutable, aligned>, __int64, Array<double, int=2, C, mutable, aligned>, Array<double, int=2, C, mutable, aligned>, Array<bool, int=2, C, mutable, aligned>) [508]\n",
            "876.70ms  9.1200us            (15 20 1)       (32 32 1)        16        0B        0B         -           -           -           -     Tesla T4 (0)         1         7  cudapy::__main__::compute_diff_kerner$241(Array<double, int=2, C, mutable, aligned>, Array<double, int=2, C, mutable, aligned>, double) [513]\n",
            "876.93ms  36.320us            (15 20 1)       (32 32 1)        32        0B        0B         -           -           -           -     Tesla T4 (0)         1         7  cudapy::__main__::compute_alpha_kernel$242(Array<double, int=2, C, mutable, aligned>, __int64, Array<double, int=2, C, mutable, aligned>, Array<double, int=2, C, mutable, aligned>, Array<bool, int=2, C, mutable, aligned>) [518]\n",
            "877.10ms  9.1200us            (15 20 1)       (32 32 1)        16        0B        0B         -           -           -           -     Tesla T4 (0)         1         7  cudapy::__main__::compute_diff_kerner$241(Array<double, int=2, C, mutable, aligned>, Array<double, int=2, C, mutable, aligned>, double) [523]\n",
            "877.32ms  36.320us            (15 20 1)       (32 32 1)        32        0B        0B         -           -           -           -     Tesla T4 (0)         1         7  cudapy::__main__::compute_alpha_kernel$242(Array<double, int=2, C, mutable, aligned>, __int64, Array<double, int=2, C, mutable, aligned>, Array<double, int=2, C, mutable, aligned>, Array<bool, int=2, C, mutable, aligned>) [528]\n",
            "877.48ms  9.1520us            (15 20 1)       (32 32 1)        16        0B        0B         -           -           -           -     Tesla T4 (0)         1         7  cudapy::__main__::compute_diff_kerner$241(Array<double, int=2, C, mutable, aligned>, Array<double, int=2, C, mutable, aligned>, double) [533]\n",
            "877.71ms  36.288us            (15 20 1)       (32 32 1)        32        0B        0B         -           -           -           -     Tesla T4 (0)         1         7  cudapy::__main__::compute_alpha_kernel$242(Array<double, int=2, C, mutable, aligned>, __int64, Array<double, int=2, C, mutable, aligned>, Array<double, int=2, C, mutable, aligned>, Array<bool, int=2, C, mutable, aligned>) [538]\n",
            "877.89ms  9.1200us            (15 20 1)       (32 32 1)        16        0B        0B         -           -           -           -     Tesla T4 (0)         1         7  cudapy::__main__::compute_diff_kerner$241(Array<double, int=2, C, mutable, aligned>, Array<double, int=2, C, mutable, aligned>, double) [543]\n",
            "878.11ms  36.288us            (15 20 1)       (32 32 1)        32        0B        0B         -           -           -           -     Tesla T4 (0)         1         7  cudapy::__main__::compute_alpha_kernel$242(Array<double, int=2, C, mutable, aligned>, __int64, Array<double, int=2, C, mutable, aligned>, Array<double, int=2, C, mutable, aligned>, Array<bool, int=2, C, mutable, aligned>) [548]\n",
            "878.27ms  9.1520us            (15 20 1)       (32 32 1)        16        0B        0B         -           -           -           -     Tesla T4 (0)         1         7  cudapy::__main__::compute_diff_kerner$241(Array<double, int=2, C, mutable, aligned>, Array<double, int=2, C, mutable, aligned>, double) [553]\n",
            "878.51ms  36.224us            (15 20 1)       (32 32 1)        32        0B        0B         -           -           -           -     Tesla T4 (0)         1         7  cudapy::__main__::compute_alpha_kernel$242(Array<double, int=2, C, mutable, aligned>, __int64, Array<double, int=2, C, mutable, aligned>, Array<double, int=2, C, mutable, aligned>, Array<bool, int=2, C, mutable, aligned>) [558]\n",
            "878.70ms  9.1520us            (15 20 1)       (32 32 1)        16        0B        0B         -           -           -           -     Tesla T4 (0)         1         7  cudapy::__main__::compute_diff_kerner$241(Array<double, int=2, C, mutable, aligned>, Array<double, int=2, C, mutable, aligned>, double) [563]\n",
            "878.97ms  36.320us            (15 20 1)       (32 32 1)        32        0B        0B         -           -           -           -     Tesla T4 (0)         1         7  cudapy::__main__::compute_alpha_kernel$242(Array<double, int=2, C, mutable, aligned>, __int64, Array<double, int=2, C, mutable, aligned>, Array<double, int=2, C, mutable, aligned>, Array<bool, int=2, C, mutable, aligned>) [568]\n",
            "879.15ms  9.1520us            (15 20 1)       (32 32 1)        16        0B        0B         -           -           -           -     Tesla T4 (0)         1         7  cudapy::__main__::compute_diff_kerner$241(Array<double, int=2, C, mutable, aligned>, Array<double, int=2, C, mutable, aligned>, double) [573]\n",
            "879.40ms  36.320us            (15 20 1)       (32 32 1)        32        0B        0B         -           -           -           -     Tesla T4 (0)         1         7  cudapy::__main__::compute_alpha_kernel$242(Array<double, int=2, C, mutable, aligned>, __int64, Array<double, int=2, C, mutable, aligned>, Array<double, int=2, C, mutable, aligned>, Array<bool, int=2, C, mutable, aligned>) [578]\n",
            "879.59ms  9.1520us            (15 20 1)       (32 32 1)        16        0B        0B         -           -           -           -     Tesla T4 (0)         1         7  cudapy::__main__::compute_diff_kerner$241(Array<double, int=2, C, mutable, aligned>, Array<double, int=2, C, mutable, aligned>, double) [583]\n",
            "879.86ms  36.256us            (15 20 1)       (32 32 1)        32        0B        0B         -           -           -           -     Tesla T4 (0)         1         7  cudapy::__main__::compute_alpha_kernel$242(Array<double, int=2, C, mutable, aligned>, __int64, Array<double, int=2, C, mutable, aligned>, Array<double, int=2, C, mutable, aligned>, Array<bool, int=2, C, mutable, aligned>) [588]\n",
            "880.01ms  9.1520us            (15 20 1)       (32 32 1)        16        0B        0B         -           -           -           -     Tesla T4 (0)         1         7  cudapy::__main__::compute_diff_kerner$241(Array<double, int=2, C, mutable, aligned>, Array<double, int=2, C, mutable, aligned>, double) [593]\n",
            "880.24ms  36.320us            (15 20 1)       (32 32 1)        32        0B        0B         -           -           -           -     Tesla T4 (0)         1         7  cudapy::__main__::compute_alpha_kernel$242(Array<double, int=2, C, mutable, aligned>, __int64, Array<double, int=2, C, mutable, aligned>, Array<double, int=2, C, mutable, aligned>, Array<bool, int=2, C, mutable, aligned>) [598]\n",
            "880.39ms  9.1520us            (15 20 1)       (32 32 1)        16        0B        0B         -           -           -           -     Tesla T4 (0)         1         7  cudapy::__main__::compute_diff_kerner$241(Array<double, int=2, C, mutable, aligned>, Array<double, int=2, C, mutable, aligned>, double) [603]\n",
            "880.61ms  36.319us            (15 20 1)       (32 32 1)        32        0B        0B         -           -           -           -     Tesla T4 (0)         1         7  cudapy::__main__::compute_alpha_kernel$242(Array<double, int=2, C, mutable, aligned>, __int64, Array<double, int=2, C, mutable, aligned>, Array<double, int=2, C, mutable, aligned>, Array<bool, int=2, C, mutable, aligned>) [608]\n",
            "880.76ms  9.1200us            (15 20 1)       (32 32 1)        16        0B        0B         -           -           -           -     Tesla T4 (0)         1         7  cudapy::__main__::compute_diff_kerner$241(Array<double, int=2, C, mutable, aligned>, Array<double, int=2, C, mutable, aligned>, double) [613]\n",
            "880.99ms  36.384us            (15 20 1)       (32 32 1)        32        0B        0B         -           -           -           -     Tesla T4 (0)         1         7  cudapy::__main__::compute_alpha_kernel$242(Array<double, int=2, C, mutable, aligned>, __int64, Array<double, int=2, C, mutable, aligned>, Array<double, int=2, C, mutable, aligned>, Array<bool, int=2, C, mutable, aligned>) [618]\n",
            "881.14ms  9.1520us            (15 20 1)       (32 32 1)        16        0B        0B         -           -           -           -     Tesla T4 (0)         1         7  cudapy::__main__::compute_diff_kerner$241(Array<double, int=2, C, mutable, aligned>, Array<double, int=2, C, mutable, aligned>, double) [623]\n",
            "881.37ms  36.160us            (15 20 1)       (32 32 1)        32        0B        0B         -           -           -           -     Tesla T4 (0)         1         7  cudapy::__main__::compute_alpha_kernel$242(Array<double, int=2, C, mutable, aligned>, __int64, Array<double, int=2, C, mutable, aligned>, Array<double, int=2, C, mutable, aligned>, Array<bool, int=2, C, mutable, aligned>) [628]\n",
            "881.53ms  9.1200us            (15 20 1)       (32 32 1)        16        0B        0B         -           -           -           -     Tesla T4 (0)         1         7  cudapy::__main__::compute_diff_kerner$241(Array<double, int=2, C, mutable, aligned>, Array<double, int=2, C, mutable, aligned>, double) [633]\n",
            "881.77ms  36.224us            (15 20 1)       (32 32 1)        32        0B        0B         -           -           -           -     Tesla T4 (0)         1         7  cudapy::__main__::compute_alpha_kernel$242(Array<double, int=2, C, mutable, aligned>, __int64, Array<double, int=2, C, mutable, aligned>, Array<double, int=2, C, mutable, aligned>, Array<bool, int=2, C, mutable, aligned>) [638]\n",
            "881.95ms  9.1520us            (15 20 1)       (32 32 1)        16        0B        0B         -           -           -           -     Tesla T4 (0)         1         7  cudapy::__main__::compute_diff_kerner$241(Array<double, int=2, C, mutable, aligned>, Array<double, int=2, C, mutable, aligned>, double) [643]\n",
            "882.17ms  36.320us            (15 20 1)       (32 32 1)        32        0B        0B         -           -           -           -     Tesla T4 (0)         1         7  cudapy::__main__::compute_alpha_kernel$242(Array<double, int=2, C, mutable, aligned>, __int64, Array<double, int=2, C, mutable, aligned>, Array<double, int=2, C, mutable, aligned>, Array<bool, int=2, C, mutable, aligned>) [648]\n",
            "882.33ms  9.1200us            (15 20 1)       (32 32 1)        16        0B        0B         -           -           -           -     Tesla T4 (0)         1         7  cudapy::__main__::compute_diff_kerner$241(Array<double, int=2, C, mutable, aligned>, Array<double, int=2, C, mutable, aligned>, double) [653]\n",
            "882.56ms  36.223us            (15 20 1)       (32 32 1)        32        0B        0B         -           -           -           -     Tesla T4 (0)         1         7  cudapy::__main__::compute_alpha_kernel$242(Array<double, int=2, C, mutable, aligned>, __int64, Array<double, int=2, C, mutable, aligned>, Array<double, int=2, C, mutable, aligned>, Array<bool, int=2, C, mutable, aligned>) [658]\n",
            "882.72ms  9.1520us            (15 20 1)       (32 32 1)        16        0B        0B         -           -           -           -     Tesla T4 (0)         1         7  cudapy::__main__::compute_diff_kerner$241(Array<double, int=2, C, mutable, aligned>, Array<double, int=2, C, mutable, aligned>, double) [663]\n",
            "882.98ms  36.319us            (15 20 1)       (32 32 1)        32        0B        0B         -           -           -           -     Tesla T4 (0)         1         7  cudapy::__main__::compute_alpha_kernel$242(Array<double, int=2, C, mutable, aligned>, __int64, Array<double, int=2, C, mutable, aligned>, Array<double, int=2, C, mutable, aligned>, Array<bool, int=2, C, mutable, aligned>) [668]\n",
            "883.20ms  689.02us                    -               -         -         -         -  2.3438MB  3.3218GB/s      Device    Pageable     Tesla T4 (0)         1         7  [CUDA memcpy DtoH]\n",
            "\n",
            "Regs: Number of registers used per CUDA thread. This number includes registers used internally by the CUDA driver and/or tools and can be more than what the compiler shows.\n",
            "SSMem: Static shared memory allocated per CUDA block.\n",
            "DSMem: Dynamic shared memory allocated per CUDA block.\n",
            "SrcMemType: The type of source memory accessed by memory operation/copy\n",
            "DstMemType: The type of destination memory accessed by memory operation/copy\n",
            "CPU times: user 34.4 ms, sys: 13.6 ms, total: 48 ms\n",
            "Wall time: 2.83 s\n"
          ]
        }
      ],
      "source": [
        "%%time\n",
        "!nvprof --print-gpu-trace python3 parallel.py"
      ],
      "id": "CwbzFwXK7c3i"
    },
    {
      "cell_type": "markdown",
      "source": [
        "**Ảnh kết quả**"
      ],
      "metadata": {
        "id": "Gyfq55hlfevH"
      },
      "id": "Gyfq55hlfevH"
    },
    {
      "cell_type": "markdown",
      "source": [
        "- Ảnh chỉ áp dụng Global Matting:\n",
        "\n",
        "<img width=\"40%\" src='https://drive.google.com/uc?id=1-a3THTLnRgomDjLfPM3l4qcGGGnaJPdP'/>"
      ],
      "metadata": {
        "id": "IhudXUucfevI"
      },
      "id": "IhudXUucfevI"
    },
    {
      "cell_type": "markdown",
      "source": [
        "- Ảnh áp dụng cả Global và Local Matting:\n",
        "\n",
        "<img width=\"40%\" src='https://drive.google.com/uc?id=1ZvkB_la4tmPchvHqGi6s0ngeAwwnTrng'/>"
      ],
      "metadata": {
        "id": "mFsr9hLgfevJ"
      },
      "id": "mFsr9hLgfevJ"
    },
    {
      "cell_type": "markdown",
      "source": [
        "#### 4.3.3. So sánh độ chính xác:"
      ],
      "metadata": {
        "id": "v21hUE96ZhTz"
      },
      "id": "v21hUE96ZhTz"
    },
    {
      "cell_type": "code",
      "source": [
        "img_seq = cv2.imread(os.path.join(IMAGES_FOLDER_PATH, '../Output/output_4_global_jit.png'))\n",
        "img_seq = cv2.cvtColor(img_seq, cv2.COLOR_BGR2RGB)\n",
        "img_par = cv2.imread(os.path.join(IMAGES_FOLDER_PATH, '../Output/output_4_global_parallel.png'))\n",
        "img_par = cv2.cvtColor(img_par, cv2.COLOR_BGR2RGB)\n",
        "errorL2 = cv2.norm(img_seq, img_par, cv2.NORM_L2)\n",
        "similarity = 1 - errorL2 / ( img_seq.shape[0] * img_seq.shape[1] )\n",
        "print('Độ giống nhau giữa ảnh của phiên bản tuần tự và phiên bản song song 1 = ',similarity)"
      ],
      "metadata": {
        "colab": {
          "base_uri": "https://localhost:8080/"
        },
        "id": "37wvCAGYZkfr",
        "outputId": "47bea4d6-3f46-42c7-d13c-be33c0f89db3"
      },
      "id": "37wvCAGYZkfr",
      "execution_count": 8,
      "outputs": [
        {
          "output_type": "stream",
          "name": "stdout",
          "text": [
            "Độ giống nhau giữa ảnh của phiên bản tuần tự và phiên bản song song 1 =  1.0\n"
          ]
        }
      ]
    },
    {
      "cell_type": "markdown",
      "source": [
        "#### 4.3.4. Kết quả và giải thích:"
      ],
      "metadata": {
        "id": "Ppl5lBZmUsI0"
      },
      "id": "Ppl5lBZmUsI0"
    },
    {
      "cell_type": "markdown",
      "source": [
        "Các kết quả thử nghiệm của nhóm đến thời điểm hiện tại:\n",
        "\n",
        "\n",
        "**Về mặt độ chính xác:** Ảnh từ các phiên bản cho ra kết quả giống nhau.\n",
        "\n",
        "**Về mặt thời gian:**\n",
        "\n",
        "- Python không dùng: 23.5s\n",
        "- Python có dùng jit: 2.73s\n",
        "- Song song với cuda.jit: 2.73s\n"
      ],
      "metadata": {
        "id": "04ONOM5sUvoK"
      },
      "id": "04ONOM5sUvoK"
    },
    {
      "cell_type": "markdown",
      "source": [
        "Giải thích kết quả:\n",
        "- Thời gian của phiên bản song song và phiên bản tuần tự có dùng jit không chênh lệch nhiều (đôi lúc bản song song chậm hơn khoảng 0.2-0.5s): có thể do số phần song song hoá của nhóm chưa nhiều, nên tốc độ không cải thiện nhiều."
      ],
      "metadata": {
        "id": "KpcCn8-tXosk"
      },
      "id": "KpcCn8-tXosk"
    },
    {
      "cell_type": "markdown",
      "metadata": {
        "id": "6nd6TRTmmwu1"
      },
      "source": [
        "## **5. Cài đặt song song - Phiên bản tối ưu hoá 1:**"
      ],
      "id": "6nd6TRTmmwu1"
    },
    {
      "cell_type": "markdown",
      "source": [
        "### 5.1. Phân tích:"
      ],
      "metadata": {
        "id": "PFZbYkxemwu2"
      },
      "id": "PFZbYkxemwu2"
    },
    {
      "cell_type": "markdown",
      "source": [
        "**Phần thực hiện tối ưu:** "
      ],
      "metadata": {
        "id": "xXeZ68BBmwu2"
      },
      "id": "xXeZ68BBmwu2"
    },
    {
      "cell_type": "markdown",
      "source": [
        "**Lý do nhóm lựa chọn phần này:**"
      ],
      "metadata": {
        "id": "tc3z4hDSmwu3"
      },
      "id": "tc3z4hDSmwu3"
    },
    {
      "cell_type": "markdown",
      "source": [
        "### 5.2. Thiết kế:"
      ],
      "metadata": {
        "id": "MSFFeb8Bmwu4"
      },
      "id": "MSFFeb8Bmwu4"
    },
    {
      "cell_type": "markdown",
      "source": [
        ""
      ],
      "metadata": {
        "id": "bRIMH5N_mwu4"
      },
      "id": "bRIMH5N_mwu4"
    },
    {
      "cell_type": "markdown",
      "source": [
        "### 5.3. Đánh giá:"
      ],
      "metadata": {
        "id": "u6-tOdyimwu5"
      },
      "id": "u6-tOdyimwu5"
    },
    {
      "cell_type": "markdown",
      "source": [
        "#### 5.3.1. Kịch bản thí nghiệm:"
      ],
      "metadata": {
        "id": "ekHRm4Ofmwu5"
      },
      "id": "ekHRm4Ofmwu5"
    },
    {
      "cell_type": "markdown",
      "source": [
        "Chương trình sẽ lần lượt thực hiện theo quy trình sau:\n",
        "1. Đọc ảnh gốc, ảnh tri map, ảnh nền mới. Chuyển ảnh gốc sang dạng grayscale\n",
        "2. Chạy hàm `matting_combined`: hàm tổng hợp quy trình xử lý ảnh với Global Matting bên trên. Ở hàm tổng hợp sẽ gọi hàm `global_alpha_matting` chạy song song trên GPU.\n",
        "3. Lưu file ảnh output được áp dụng Global Matting.\n",
        "4. Bắt đầu pha Local Matting. Cho người dùng nhập (ở đây nhóm set cứng) giá trị của vùng mong muốn được cải thiện.\n",
        "5. Tính toán giá trị `alpha` mới của các vùng này bằng các hàm tuần tự chứ không chạy song song như ở Global Matting.\n",
        "6. Gọi hàm `alpha_blend` để áp giá trị `alpha` mới vào ảnh.\n",
        "7. Lưu file ảnh output được áp dụng cả Global và Local Matting.\n",
        "\n",
        "Nhìn chung, kịch bản thí nghiệm tương tự với thực thi tuần tự, chỉ khác ở bước 2 và một chút lưu ý ở bước 5. Global Matting thì sẽ có song song trên GPU, còn Local Matting thì chỉ chạy với jit.\n"
      ],
      "metadata": {
        "id": "vn-izN50mwu6"
      },
      "id": "vn-izN50mwu6"
    },
    {
      "cell_type": "markdown",
      "source": [
        "#### 5.3.2. Thực thi:"
      ],
      "metadata": {
        "id": "PrbFVCiPmwu6"
      },
      "id": "PrbFVCiPmwu6"
    },
    {
      "cell_type": "markdown",
      "source": [
        "**Thực thi:**"
      ],
      "metadata": {
        "id": "MmhbHkBsmwu7"
      },
      "id": "MmhbHkBsmwu7"
    },
    {
      "cell_type": "code",
      "execution_count": null,
      "metadata": {
        "id": "bb4w93VMmwu8"
      },
      "outputs": [],
      "source": [
        "%%time\n",
        "!nvprof --print-gpu-trace python3 parallel_v1.py"
      ],
      "id": "bb4w93VMmwu8"
    },
    {
      "cell_type": "markdown",
      "source": [
        "**Ảnh kết quả**"
      ],
      "metadata": {
        "id": "vfViVaCzmwu9"
      },
      "id": "vfViVaCzmwu9"
    },
    {
      "cell_type": "markdown",
      "source": [
        "- Ảnh chỉ áp dụng Global Matting:\n",
        "\n",
        "<img width=\"40%\" src='https://drive.google.com/uc?id=1-a3THTLnRgomDjLfPM3l4qcGGGnaJPdP'/>"
      ],
      "metadata": {
        "id": "hSP3Qln1mwu-"
      },
      "id": "hSP3Qln1mwu-"
    },
    {
      "cell_type": "markdown",
      "source": [
        "- Ảnh áp dụng cả Global và Local Matting:\n",
        "\n",
        "<img width=\"40%\" src='https://drive.google.com/uc?id=1ZvkB_la4tmPchvHqGi6s0ngeAwwnTrng'/>"
      ],
      "metadata": {
        "id": "U-n0MShwmwu-"
      },
      "id": "U-n0MShwmwu-"
    },
    {
      "cell_type": "markdown",
      "source": [
        "#### 5.3.3. So sánh độ chính xác:"
      ],
      "metadata": {
        "id": "9PVtIPufmwu_"
      },
      "id": "9PVtIPufmwu_"
    },
    {
      "cell_type": "code",
      "source": [
        "img_seq = cv2.imread(os.path.join(IMAGES_FOLDER_PATH, '../Output/output_4_global_jit.png'))\n",
        "img_seq = cv2.cvtColor(img_seq, cv2.COLOR_BGR2RGB)\n",
        "img_par = cv2.imread(os.path.join(IMAGES_FOLDER_PATH, '../Output/output_4_global_parallel.png'))\n",
        "img_par = cv2.cvtColor(img_par, cv2.COLOR_BGR2RGB)\n",
        "errorL2 = cv2.norm(img_seq, img_par, cv2.NORM_L2)\n",
        "similarity = 1 - errorL2 / ( img_seq.shape[0] * img_seq.shape[1] )\n",
        "print('Độ giống nhau giữa ảnh của phiên bản tuần tự và phiên bản song song 1 = ',similarity)"
      ],
      "metadata": {
        "id": "Pqq0Ez5Qmwu_"
      },
      "execution_count": null,
      "outputs": [],
      "id": "Pqq0Ez5Qmwu_"
    },
    {
      "cell_type": "markdown",
      "source": [
        "#### 5.3.4. Kết quả và giải thích:"
      ],
      "metadata": {
        "id": "LQNp9IOUmwu_"
      },
      "id": "LQNp9IOUmwu_"
    },
    {
      "cell_type": "markdown",
      "source": [
        "Các kết quả thử nghiệm của nhóm đến thời điểm hiện tại:\n",
        "\n",
        "\n",
        "**Về mặt độ chính xác:** Ảnh từ các phiên bản cho ra kết quả giống nhau.\n",
        "\n",
        "**Về mặt thời gian:**\n",
        "\n",
        "- Python không dùng: 23.5s\n",
        "- Python có dùng jit: 2.73s\n",
        "- Song song với cuda.jit: 55.7s\n"
      ],
      "metadata": {
        "id": "SB48x65dmwvA"
      },
      "id": "SB48x65dmwvA"
    },
    {
      "cell_type": "markdown",
      "source": [
        "Giải thích các vấn đề gặp phải:\n",
        "- Phần Global bị tốn thời gian: Do chạy vòng lặp với `iters = 50` nên dữ liệu bị chuyển qua chuyển lại giữa device và host nhiều lần => mất thời gian \n",
        "\n",
        "=> Nhóm sẽ thay đổi bằng cách cố gắng thực hiện toàn bộ hàm trên cùng 1 bên, hoặc sử dụng SMEM"
      ],
      "metadata": {
        "id": "YjLAPWcmmwvA"
      },
      "id": "YjLAPWcmmwvA"
    },
    {
      "cell_type": "markdown",
      "metadata": {
        "id": "3Uofg-UTmzCX"
      },
      "source": [
        "## **6. Cài đặt song song - Phiên bản tối ưu hoá 2:**"
      ],
      "id": "3Uofg-UTmzCX"
    },
    {
      "cell_type": "markdown",
      "source": [
        "### 6.1. Phân tích:"
      ],
      "metadata": {
        "id": "lvnfuFiTmzCY"
      },
      "id": "lvnfuFiTmzCY"
    },
    {
      "cell_type": "markdown",
      "source": [
        "**Phần thực hiện tối ưu:** "
      ],
      "metadata": {
        "id": "nJ5BiaWrmzCZ"
      },
      "id": "nJ5BiaWrmzCZ"
    },
    {
      "cell_type": "markdown",
      "source": [
        "**Lý do nhóm lựa chọn phần này:**"
      ],
      "metadata": {
        "id": "1p1dMRmwmzCZ"
      },
      "id": "1p1dMRmwmzCZ"
    },
    {
      "cell_type": "markdown",
      "source": [
        "### 6.2. Thiết kế:"
      ],
      "metadata": {
        "id": "RURlofM7mzCa"
      },
      "id": "RURlofM7mzCa"
    },
    {
      "cell_type": "markdown",
      "source": [
        ""
      ],
      "metadata": {
        "id": "otKPyrKFmzCb"
      },
      "id": "otKPyrKFmzCb"
    },
    {
      "cell_type": "markdown",
      "source": [
        "### 6.3. Đánh giá:"
      ],
      "metadata": {
        "id": "Zyv__mO_mzCb"
      },
      "id": "Zyv__mO_mzCb"
    },
    {
      "cell_type": "markdown",
      "source": [
        "#### 6.3.1. Kịch bản thí nghiệm:"
      ],
      "metadata": {
        "id": "xzHZpQhemzCb"
      },
      "id": "xzHZpQhemzCb"
    },
    {
      "cell_type": "markdown",
      "source": [
        "Chương trình sẽ lần lượt thực hiện theo quy trình sau:\n",
        "1. Đọc ảnh gốc, ảnh tri map, ảnh nền mới. Chuyển ảnh gốc sang dạng grayscale\n",
        "2. Chạy hàm `matting_combined`: hàm tổng hợp quy trình xử lý ảnh với Global Matting bên trên. Ở hàm tổng hợp sẽ gọi hàm `global_alpha_matting` chạy song song trên GPU.\n",
        "3. Lưu file ảnh output được áp dụng Global Matting.\n",
        "4. Bắt đầu pha Local Matting. Cho người dùng nhập (ở đây nhóm set cứng) giá trị của vùng mong muốn được cải thiện.\n",
        "5. Tính toán giá trị `alpha` mới của các vùng này bằng các hàm tuần tự chứ không chạy song song như ở Global Matting.\n",
        "6. Gọi hàm `alpha_blend` để áp giá trị `alpha` mới vào ảnh.\n",
        "7. Lưu file ảnh output được áp dụng cả Global và Local Matting.\n",
        "\n",
        "Nhìn chung, kịch bản thí nghiệm tương tự với thực thi tuần tự, chỉ khác ở bước 2 và một chút lưu ý ở bước 5. Global Matting thì sẽ có song song trên GPU, còn Local Matting thì chỉ chạy với jit.\n"
      ],
      "metadata": {
        "id": "D5b4wZ5umzCc"
      },
      "id": "D5b4wZ5umzCc"
    },
    {
      "cell_type": "markdown",
      "source": [
        "#### 6.3.2. Thực thi:"
      ],
      "metadata": {
        "id": "gynCxtUimzCd"
      },
      "id": "gynCxtUimzCd"
    },
    {
      "cell_type": "markdown",
      "source": [
        "**Thực thi:**"
      ],
      "metadata": {
        "id": "g9yRLzokmzCd"
      },
      "id": "g9yRLzokmzCd"
    },
    {
      "cell_type": "code",
      "execution_count": null,
      "metadata": {
        "id": "GE9wCnkNmzCe"
      },
      "outputs": [],
      "source": [
        "%%time\n",
        "!nvprof --print-gpu-trace python3 parallel_v1.py"
      ],
      "id": "GE9wCnkNmzCe"
    },
    {
      "cell_type": "markdown",
      "source": [
        "**Ảnh kết quả**"
      ],
      "metadata": {
        "id": "4jn7BRMTmzCf"
      },
      "id": "4jn7BRMTmzCf"
    },
    {
      "cell_type": "markdown",
      "source": [
        "- Ảnh chỉ áp dụng Global Matting:\n",
        "\n",
        "<img width=\"40%\" src='https://drive.google.com/uc?id=1-a3THTLnRgomDjLfPM3l4qcGGGnaJPdP'/>"
      ],
      "metadata": {
        "id": "1LAnBJXymzCf"
      },
      "id": "1LAnBJXymzCf"
    },
    {
      "cell_type": "markdown",
      "source": [
        "- Ảnh áp dụng cả Global và Local Matting:\n",
        "\n",
        "<img width=\"40%\" src='https://drive.google.com/uc?id=1ZvkB_la4tmPchvHqGi6s0ngeAwwnTrng'/>"
      ],
      "metadata": {
        "id": "Op5wbEuLmzCf"
      },
      "id": "Op5wbEuLmzCf"
    },
    {
      "cell_type": "markdown",
      "source": [
        "#### 6.3.3. So sánh độ chính xác:"
      ],
      "metadata": {
        "id": "3ZUe-1O7mzCg"
      },
      "id": "3ZUe-1O7mzCg"
    },
    {
      "cell_type": "code",
      "source": [
        "img_seq = cv2.imread(os.path.join(IMAGES_FOLDER_PATH, '../Output/output_4_global_jit.png'))\n",
        "img_seq = cv2.cvtColor(img_seq, cv2.COLOR_BGR2RGB)\n",
        "img_par = cv2.imread(os.path.join(IMAGES_FOLDER_PATH, '../Output/output_4_global_parallel.png'))\n",
        "img_par = cv2.cvtColor(img_par, cv2.COLOR_BGR2RGB)\n",
        "errorL2 = cv2.norm(img_seq, img_par, cv2.NORM_L2)\n",
        "similarity = 1 - errorL2 / ( img_seq.shape[0] * img_seq.shape[1] )\n",
        "print('Độ giống nhau giữa ảnh của phiên bản tuần tự và phiên bản song song 1 = ',similarity)"
      ],
      "metadata": {
        "id": "EqfIEpZ_mzCg"
      },
      "execution_count": null,
      "outputs": [],
      "id": "EqfIEpZ_mzCg"
    },
    {
      "cell_type": "markdown",
      "source": [
        "#### 6.3.4. Kết quả và giải thích:"
      ],
      "metadata": {
        "id": "JWhhJ8QvmzCh"
      },
      "id": "JWhhJ8QvmzCh"
    },
    {
      "cell_type": "markdown",
      "source": [
        "Các kết quả thử nghiệm của nhóm đến thời điểm hiện tại:\n",
        "\n",
        "\n",
        "**Về mặt độ chính xác:** Ảnh từ các phiên bản cho ra kết quả giống nhau.\n",
        "\n",
        "**Về mặt thời gian:**\n",
        "\n",
        "- Python không dùng: 23.5s\n",
        "- Python có dùng jit: 2.73s\n",
        "- Song song với cuda.jit: 55.7s\n"
      ],
      "metadata": {
        "id": "698OwwH5mzCh"
      },
      "id": "698OwwH5mzCh"
    },
    {
      "cell_type": "markdown",
      "source": [
        "Giải thích các vấn đề gặp phải:\n",
        "- Phần Global bị tốn thời gian: Do chạy vòng lặp với `iters = 50` nên dữ liệu bị chuyển qua chuyển lại giữa device và host nhiều lần => mất thời gian \n",
        "\n",
        "=> Nhóm sẽ thay đổi bằng cách cố gắng thực hiện toàn bộ hàm trên cùng 1 bên, hoặc sử dụng SMEM"
      ],
      "metadata": {
        "id": "edJZXFnjmzCh"
      },
      "id": "edJZXFnjmzCh"
    },
    {
      "cell_type": "markdown",
      "metadata": {
        "id": "1gG_KmKD3-8w"
      },
      "source": [
        "### **Dự định của nhóm sắp tới**"
      ],
      "id": "1gG_KmKD3-8w"
    },
    {
      "cell_type": "markdown",
      "metadata": {
        "id": "Auk5rqADJJJP"
      },
      "source": [
        "- Tìm hiểu thêm về trimap\n",
        "- Cải tiến lại phần song song hoá `global matting`\n",
        "- Song song hoá phần `local matting`\n",
        "- Thêm các phiên bản cải tiến bằng việc sử dụng SMEM"
      ],
      "id": "Auk5rqADJJJP"
    },
    {
      "cell_type": "markdown",
      "metadata": {
        "id": "337c34ef"
      },
      "source": [
        "## **7. Nhìn lại quá trình làm đồ án**"
      ],
      "id": "337c34ef"
    },
    {
      "cell_type": "markdown",
      "metadata": {
        "id": "72079acf"
      },
      "source": [
        "**1712898 - Nguyễn Văn Hậu**\n",
        "- Khó khăn\n",
        "    + \n",
        "    + \n",
        "    + \n",
        "- Học được:\n",
        "    + \n",
        "    + "
      ],
      "id": "72079acf"
    },
    {
      "cell_type": "markdown",
      "metadata": {
        "id": "UGW49RWY73cE"
      },
      "source": [
        "**18120181 - Nguyễn Thị Cẩm Hồng**\n",
        "- Khó khăn\n",
        "    + \n",
        "    + \n",
        "    + \n",
        "- Học được:\n",
        "    + \n",
        "    + "
      ],
      "id": "UGW49RWY73cE"
    },
    {
      "cell_type": "markdown",
      "metadata": {
        "id": "2915e3fe"
      },
      "source": [
        "**18120216 - Mai Huỳnh Trung Nguyên**\n",
        "- Khó khăn\n",
        "    + \n",
        "    + \n",
        "    + \n",
        "- Học được:\n",
        "    + \n",
        "    + \n",
        "    + "
      ],
      "id": "2915e3fe"
    },
    {
      "cell_type": "markdown",
      "metadata": {
        "id": "BMPUTSuak3RI"
      },
      "source": [
        "**Nhóm**: \n",
        "- Khó khăn:\n",
        "  + \n",
        "  + \n",
        "  + \n",
        "- Do đó, nếu có thêm thời gian nhóm sẽ cố gắng thực hiện:\n",
        "  + \n",
        "  + \n",
        "  + \n"
      ],
      "id": "BMPUTSuak3RI"
    },
    {
      "cell_type": "markdown",
      "metadata": {
        "id": "4ae45e1e"
      },
      "source": [
        "## **8. Tài liệu tham khảo**"
      ],
      "id": "4ae45e1e"
    },
    {
      "cell_type": "markdown",
      "metadata": {
        "id": "9701b2bd"
      },
      "source": [
        "- Project: Poisson Matting, [github](https://github.com/avani17101/Poisson-Matting).\n",
        "- Paper: Poisson Matting của Juan Sun, Jiaya Jia, Chi-Keung Tang, Heung-Yeung Shum, [paper](http://www.cse.cuhk.edu.hk/~leojia/all_final_papers/matting_siggraph04.pdf)"
      ],
      "id": "9701b2bd"
    }
  ],
  "metadata": {
    "accelerator": "GPU",
    "colab": {
      "collapsed_sections": [
        "b5K1puaqDdv5",
        "l3dgxz-YF3eu",
        "i5EKrc0mktgd",
        "b0dmAWd2dn-Z",
        "Gji8K6iOXjOS",
        "Cad4rVT6eB8e",
        "337c34ef",
        "4ae45e1e"
      ],
      "name": "Report.ipynb",
      "toc_visible": true,
      "provenance": []
    },
    "kernelspec": {
      "display_name": "Python 3 (ipykernel)",
      "language": "python",
      "name": "python3"
    },
    "language_info": {
      "codemirror_mode": {
        "name": "ipython",
        "version": 3
      },
      "file_extension": ".py",
      "mimetype": "text/x-python",
      "name": "python",
      "nbconvert_exporter": "python",
      "pygments_lexer": "ipython3",
      "version": "3.8.8"
    },
    "toc": {
      "base_numbering": 1,
      "nav_menu": {},
      "number_sections": true,
      "sideBar": true,
      "skip_h1_title": false,
      "title_cell": "Table of Contents",
      "title_sidebar": "Contents",
      "toc_cell": false,
      "toc_position": {},
      "toc_section_display": true,
      "toc_window_display": false
    }
  },
  "nbformat": 4,
  "nbformat_minor": 5
}