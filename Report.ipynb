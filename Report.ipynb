{
  "cells": [
    {
      "cell_type": "markdown",
      "id": "view-in-github",
      "metadata": {
        "id": "view-in-github"
      },
      "source": [
        "<a href=\"https://colab.research.google.com/github/mhtn-it/6_APP_Project/blob/main/Report.ipynb\" target=\"_parent\"><img src=\"https://colab.research.google.com/assets/colab-badge.svg\" alt=\"Open In Colab\"/></a>"
      ]
    },
    {
      "cell_type": "markdown",
      "id": "5b2dcf7c",
      "metadata": {
        "id": "5b2dcf7c"
      },
      "source": [
        "# Đồ án môn Lập trình song song ứng dụng\n",
        "**Giảng viên: Thầy Trần Trung Kiên**\n",
        "\n",
        "## Thông tin nhóm\n",
        "### STT: Nhóm 6\n",
        "\n",
        "### Thành viên:\n",
        "1. 1712258 - Nguyễn Văn Hậu - [kenneth-nguyenn](https://github.com/kenneth-nguyenn)\n",
        "2. 18120181 - Nguyễn Thị Cẩm Hồng - [chnhgr](https://github.com/chnhgr)\n",
        "3. 18120216 - Mai Huỳnh Trung Nguyên - [mhtn-it](https://github.com/mhtn-it)\n",
        "\n",
        "### Tài liệu của nhóm\n",
        "- Kế hoạch nhóm, phân chia công việc: [Google Sheet](https://docs.google.com/spreadsheets/d/1lNRWbRRnsN0L1bEBLm2tHkauJC2jS9DPZiZfhLQ9Av8/edit?usp=sharing)\n",
        "- Link Colab thực thi: [Google Colab](https://colab.research.google.com/github/mhtn-it/6_APP_Project/blob/main/Report.ipynb)\n",
        "- Drive làm việc chung: [Google Drive](https://drive.google.com/drive/folders/1bDjdUTDdbr1EV_9VxSVIOGB60OutJlZi?usp=sharing)"
      ]
    },
    {
      "cell_type": "markdown",
      "id": "2f93d974",
      "metadata": {
        "id": "2f93d974"
      },
      "source": [
        "## **Mô tả ứng dụng:** "
      ]
    },
    {
      "cell_type": "markdown",
      "id": "oLXvSmx5DZYw",
      "metadata": {
        "id": "oLXvSmx5DZYw"
      },
      "source": [
        "### **Mô tả tổng quan:**"
      ]
    },
    {
      "cell_type": "markdown",
      "id": "dc0bf646",
      "metadata": {
        "id": "dc0bf646"
      },
      "source": [
        "**Đề tài**: Thay đổi background ảnh dựa vào phương pháp Poisson Matting\n",
        "\n",
        "**Input**: \n",
        "- Một bức ảnh chân dung\n",
        "- Trimap của ảnh (được tạo từ một bài toán khác)\n",
        "- Ảnh nền mới mong muốn\n",
        "\n",
        "**Output**: \n",
        "- Ảnh đã được thay đổi nền\n",
        "\n",
        "**Ý nghĩa thực tế của ứng dụng**:\n",
        "- Thay đổi background của ảnh khi cần thiết, ví dụ trong các trường hợp như ảnh kỷ niệm, ảnh thẻ, trang trí...\n",
        "- Áp dụng trên các phần mềm chỉnh sửa ảnh, trang web chỉnh sửa ảnh online\n",
        "\n",
        "**Lý do cần tăng tốc**: \n",
        "- Toàn bộ quá trình xử lý để cho ra một bức ảnh đúng và chính xác có thể mất đến vài phút (giảm trải nghiệm người dùng)\n",
        "- Khi xử lý hàng loạt, số lượng lớn thì thời gian sẽ rất lâu"
      ]
    },
    {
      "cell_type": "markdown",
      "id": "b5K1puaqDdv5",
      "metadata": {
        "id": "b5K1puaqDdv5"
      },
      "source": [
        "### **Ý tưởng chính của bài toán:**"
      ]
    },
    {
      "cell_type": "markdown",
      "id": "bZZzeO5EEBlQ",
      "metadata": {
        "id": "bZZzeO5EEBlQ"
      },
      "source": [
        "Từ hình ảnh gốc, trimap, ảnh nền mới ứng dụng sử dụng các biện pháp phủ (matting) và pha trộn (blending) để ghép ảnh chân dung background mới.\n",
        "\n",
        "![demo](https://github.com/avani17101/Poisson-Matting/raw/main/attachments/result1.png)\n",
        "\n",
        "Qua nhiều phương pháp cải thiện thì foreground ngày càng chính xác với đối tượng của mình.\n",
        "\n",
        "![demo2](https://github.com/avani17101/Poisson-Matting/raw/main/attachments/result2.png)"
      ]
    },
    {
      "cell_type": "markdown",
      "id": "l3dgxz-YF3eu",
      "metadata": {
        "id": "l3dgxz-YF3eu"
      },
      "source": [
        "### **Phần nhóm dự định song song hoá:**"
      ]
    },
    {
      "cell_type": "markdown",
      "id": "5Df1RKJYF71Z",
      "metadata": {
        "id": "5Df1RKJYF71Z"
      },
      "source": [
        "Nhóm nhận thấy việc xử lý ảnh có thể song song hoá bằng cách chia nhỏ công việc cho từng pixel. Do đó nhóm dự định sẽ lựa chọn các bước:\n",
        "- Thao tác matting và blending\n",
        "- Các bước xử lý để tạo độ chính xác cho foreground"
      ]
    },
    {
      "cell_type": "markdown",
      "id": "d48122eb",
      "metadata": {
        "id": "d48122eb"
      },
      "source": [
        "## **Giải quyết bài toán**"
      ]
    },
    {
      "cell_type": "markdown",
      "id": "wOp0huxak_ou",
      "metadata": {
        "id": "wOp0huxak_ou"
      },
      "source": [
        "### **Phần bổ trợ**"
      ]
    },
    {
      "cell_type": "markdown",
      "id": "PEmpHqajIEk5",
      "metadata": {
        "id": "PEmpHqajIEk5"
      },
      "source": [
        "Phần này dùng để tạo cách hàm bổ trợ cho việc thực hiện trên Google Colab. Bao gồm: liên kết Google Colab với Drive, Tạo hàm Python để hỗ trợ đọc file pnm và file ma trận ở notebook, kiểm tra thông tin GPU."
      ]
    },
    {
      "cell_type": "markdown",
      "id": "i5EKrc0mktgd",
      "metadata": {
        "id": "i5EKrc0mktgd"
      },
      "source": [
        "#### Liên kết colab với Google Drive\n",
        "Để tiết kiệm thời gian load dữ liệu"
      ]
    },
    {
      "cell_type": "code",
      "execution_count": 1,
      "id": "tbt9_dp8i5xZ",
      "metadata": {
        "colab": {
          "base_uri": "https://localhost:8080/"
        },
        "id": "tbt9_dp8i5xZ",
        "outputId": "3258692f-5849-4341-f12a-f45d96d470e4"
      },
      "outputs": [
        {
          "output_type": "stream",
          "name": "stdout",
          "text": [
            "Drive already mounted at /content/drive; to attempt to forcibly remount, call drive.mount(\"/content/drive\", force_remount=True).\n"
          ]
        }
      ],
      "source": [
        "from google.colab import drive\n",
        "drive.mount('/content/drive')"
      ]
    },
    {
      "cell_type": "markdown",
      "id": "H1bC5hm6mQvm",
      "metadata": {
        "id": "H1bC5hm6mQvm"
      },
      "source": [
        "#### Kiểm tra thông tin GPU"
      ]
    },
    {
      "cell_type": "code",
      "execution_count": 2,
      "id": "AdRpZ_-enDEF",
      "metadata": {
        "colab": {
          "base_uri": "https://localhost:8080/"
        },
        "id": "AdRpZ_-enDEF",
        "outputId": "d0a8e073-44ef-4a7e-958c-05e7ed3a4079"
      },
      "outputs": [
        {
          "output_type": "stream",
          "name": "stdout",
          "text": [
            "Sat May 28 16:48:08 2022       \n",
            "+-----------------------------------------------------------------------------+\n",
            "| NVIDIA-SMI 460.32.03    Driver Version: 460.32.03    CUDA Version: 11.2     |\n",
            "|-------------------------------+----------------------+----------------------+\n",
            "| GPU  Name        Persistence-M| Bus-Id        Disp.A | Volatile Uncorr. ECC |\n",
            "| Fan  Temp  Perf  Pwr:Usage/Cap|         Memory-Usage | GPU-Util  Compute M. |\n",
            "|                               |                      |               MIG M. |\n",
            "|===============================+======================+======================|\n",
            "|   0  Tesla T4            Off  | 00000000:00:04.0 Off |                    0 |\n",
            "| N/A   64C    P8    11W /  70W |      0MiB / 15109MiB |      0%      Default |\n",
            "|                               |                      |                  N/A |\n",
            "+-------------------------------+----------------------+----------------------+\n",
            "                                                                               \n",
            "+-----------------------------------------------------------------------------+\n",
            "| Processes:                                                                  |\n",
            "|  GPU   GI   CI        PID   Type   Process name                  GPU Memory |\n",
            "|        ID   ID                                                   Usage      |\n",
            "|=============================================================================|\n",
            "|  No running processes found                                                 |\n",
            "+-----------------------------------------------------------------------------+\n"
          ]
        }
      ],
      "source": [
        "!nvidia-smi"
      ]
    },
    {
      "cell_type": "markdown",
      "id": "9CSPxVYgmtPL",
      "metadata": {
        "id": "9CSPxVYgmtPL"
      },
      "source": [
        "Đoạn code tự động lấy 2 con số ứng với compute capability của GPU và lưu vào 2 biến `major` và `minor`:"
      ]
    },
    {
      "cell_type": "code",
      "execution_count": 3,
      "id": "sDkJrCm0m_jC",
      "metadata": {
        "colab": {
          "base_uri": "https://localhost:8080/"
        },
        "id": "sDkJrCm0m_jC",
        "outputId": "461b8060-7cdc-486e-acf0-9c243fd0744a"
      },
      "outputs": [
        {
          "output_type": "stream",
          "name": "stdout",
          "text": [
            "GPU compute capability: 7.5\n"
          ]
        }
      ],
      "source": [
        "from numba import cuda\n",
        "major, minor = cuda.get_current_device().compute_capability\n",
        "print(f'GPU compute capability: {major}.{minor}')"
      ]
    },
    {
      "cell_type": "markdown",
      "id": "sbFNliCqCh29",
      "metadata": {
        "id": "sbFNliCqCh29"
      },
      "source": [
        "### **Thực thi tuần tự**"
      ]
    },
    {
      "cell_type": "markdown",
      "id": "3uoiHitdy6W4",
      "metadata": {
        "id": "3uoiHitdy6W4"
      },
      "source": [
        "#### Chuẩn bị"
      ]
    },
    {
      "cell_type": "markdown",
      "id": "2h7pJoi_Cvzi",
      "metadata": {
        "id": "2h7pJoi_Cvzi"
      },
      "source": [
        "Chuyển vị trí thực thi về thư mục Code"
      ]
    },
    {
      "cell_type": "code",
      "execution_count": 4,
      "id": "8jWSCrAhDlKO",
      "metadata": {
        "colab": {
          "base_uri": "https://localhost:8080/"
        },
        "id": "8jWSCrAhDlKO",
        "outputId": "f57139ae-9f95-47f2-cb4b-2fd6592699a7"
      },
      "outputs": [
        {
          "output_type": "stream",
          "name": "stdout",
          "text": [
            "/content/drive/.shortcut-targets-by-id/1bDjdUTDdbr1EV_9VxSVIOGB60OutJlZi/6_APP_Project/Code\n"
          ]
        }
      ],
      "source": [
        "cd drive/MyDrive/6_APP_Project/Code"
      ]
    },
    {
      "cell_type": "markdown",
      "id": "dnYjgIyOD2mj",
      "metadata": {
        "id": "dnYjgIyOD2mj"
      },
      "source": [
        "Import thư viện"
      ]
    },
    {
      "cell_type": "code",
      "execution_count": 5,
      "id": "K03lgFZ0E_Ij",
      "metadata": {
        "id": "K03lgFZ0E_Ij"
      },
      "outputs": [],
      "source": [
        "import numpy as np\n",
        "import cv2\n",
        "import matplotlib.pyplot as plt\n",
        "%matplotlib inline\n",
        "import os\n",
        "from  scipy import ndimage\n",
        "import time\n",
        "import scipy\n",
        "from scipy.optimize import fmin"
      ]
    },
    {
      "cell_type": "markdown",
      "id": "b0dmAWd2dn-Z",
      "metadata": {
        "id": "b0dmAWd2dn-Z"
      },
      "source": [
        "#### Quy trình"
      ]
    },
    {
      "cell_type": "markdown",
      "id": "e38a5169",
      "metadata": {
        "id": "e38a5169"
      },
      "source": [
        "<img src='https://drive.google.com/uc?id=1PF-AdVz4KhFx2CmqpLdORmRBVEBED-xM'/>"
      ]
    },
    {
      "cell_type": "markdown",
      "source": [
        "<img src='https://drive.google.com/uc?id=1hnm-vuha0rYrlHrgK_rvJpSoMKYrKvZm'/>"
      ],
      "metadata": {
        "id": "AGhBGpdvZ1XU"
      },
      "id": "AGhBGpdvZ1XU"
    },
    {
      "cell_type": "markdown",
      "source": [
        "<img src='https://drive.google.com/uc?id=1-FVmGkJIPUqEdUIRy12vYyyZP7MZVkM_'/>"
      ],
      "metadata": {
        "id": "o_i-VsaMZ7E-"
      },
      "id": "o_i-VsaMZ7E-"
    },
    {
      "cell_type": "markdown",
      "id": "BVUVz2wHFURg",
      "metadata": {
        "id": "BVUVz2wHFURg"
      },
      "source": [
        "#### Các ảnh Input"
      ]
    },
    {
      "cell_type": "markdown",
      "id": "W2L_Hj7mzFj5",
      "metadata": {
        "id": "W2L_Hj7mzFj5"
      },
      "source": [
        "Danh sách các input, bao gồm:\n",
        "- Ảnh gốc\n",
        "- Ảnh trimap\n",
        "- Ảnh background mới\n",
        "\n",
        "Lưu ý:\n",
        "- Ảnh grayscale được thêm vào để minh hoạ, người dùng không cần cung cấp.\n",
        "- Phương pháp tạo ảnh trimap nhóm đã tìm hiểu và làm thử nhưng chưa thành công nên tạm thời bỏ qua và sử dụng các trimap có sẵn.\n",
        "\n",
        "<img src='https://drive.google.com/uc?id=1ULspQFfkDyjg-WFZZnLmNRQCjKW1hhhJ'/>"
      ]
    },
    {
      "cell_type": "markdown",
      "id": "nSC5Oi892kZU",
      "metadata": {
        "id": "nSC5Oi892kZU"
      },
      "source": [
        "#### Phân tích ảnh input"
      ]
    },
    {
      "cell_type": "markdown",
      "id": "Q2Er-oan0Oya",
      "metadata": {
        "id": "Q2Er-oan0Oya"
      },
      "source": [
        "Từ các ảnh input ta dùng hàm tính toán mask để phân tích ra được vùng/ảnh của foreground, background và unknown. Nguyên tắc: các pixel trên ảnh trimap sẽ là:\n",
        "- Background: nếu giá trị < 10.\n",
        "- Foreground: nếu giá trị > 245.\n",
        "- Unknown: còn lại\n",
        "\n",
        "<img align=\"justify\" src='https://drive.google.com/uc?id=1S36DiTkgMNj_aUYCNK8es4yvYu5dFmdA'/>\n"
      ]
    },
    {
      "cell_type": "markdown",
      "id": "udibb7PL1UeY",
      "metadata": {
        "id": "udibb7PL1UeY"
      },
      "source": [
        "Từ các vùng ở trên ta ghép:\n",
        "- F = foreground + unknown\n",
        "- B = background + unknown\n",
        "\n",
        "<img align=\"justify\" src='https://drive.google.com/uc?id=1_uwZGhYmlF76OxKPetgzvz8ed24asQEJ'/>\n"
      ]
    },
    {
      "cell_type": "markdown",
      "id": "Gji8K6iOXjOS",
      "metadata": {
        "id": "Gji8K6iOXjOS"
      },
      "source": [
        "#### Global Matting"
      ]
    },
    {
      "cell_type": "markdown",
      "id": "8eoVDYYKXwC-",
      "metadata": {
        "id": "8eoVDYYKXwC-"
      },
      "source": [
        "Phương trình Poisson:\n",
        "\n",
        "$$\\nabla I = (F - B)\\nabla \\alpha + \\alpha \\nabla F + (1 - \\alpha)\\nabla B$$\n",
        "\n",
        "Suy ra:\n",
        "\n",
        "$$\\Delta \\alpha = div (\\frac{\\nabla I}{F-B})$$\n",
        "trong đó, $\\Delta = (\\frac{\\partial^2}{\\partial x^2},\\frac{\\partial^2}{\\partial y^2})$\n",
        "là một toán tử Laplacian and toán tử vector div của Gradient ảnh input đối với hiệu của Foreground và Background.\n",
        "\n",
        "\n",
        "Phương trinh Poisson được giải bằng phương pháp ước lượng Gauss Siedel Iteration\n",
        "\n",
        "cho,  $$ \\frac{\\partial^2 f}{\\partial x^2}+\\frac{\\partial^2 f}{\\partial y^2} = S$$\n",
        "$$ {f_{i,j}}^{(n+1)} = \\frac{\\beta}{4}({f_{i+1,j}}^{(n)} + {f_{i-1,j}}^{(n+1)}) + {f_{i,j+1}}^{(n)} + {f_{i,j-1}}^{(n+1)} - S_{i,j}) + (1-\\beta){f_{i,j}}^{(n)}$$\n",
        "với $\\beta$ nằm trong đoạn (1,2)\n",
        "\n",
        "Tìm hiểu thêm về phương trình Poisson [tại đây](https://www.microsoft.com/en-us/research/wp-content/uploads/2016/02/poissonmatting_siggraph04.pdf)..\n"
      ]
    },
    {
      "cell_type": "markdown",
      "id": "68044668",
      "metadata": {
        "id": "68044668"
      },
      "source": [
        "Lý do sử dụng Phương trình Poisson:\n",
        "\n",
        "Poisson là một phương pháp tổng quát dùng để mô tả hành vi của các đại lượng ví dụ như hướng thế năng điện, trọng lực, chất lỏng. \n",
        "\n",
        "Trước khi có bài báo này, công thức Poisson đã được áp dụng vào một số bài toán: remove shadow, tone mapping, edit image...\n",
        "\n",
        "Áp dụng với bài toán này ta có thể mô tả xu hướng gradient và sự tương tác của các pixel. Khi đó việc giải phương trình (tìm alpha) có thể xác định được độ mờ của pixel đó để biết nó có xu hướng nghiêng về background hay foreground."
      ]
    },
    {
      "cell_type": "markdown",
      "id": "0coi3EVq2sks",
      "metadata": {
        "id": "0coi3EVq2sks"
      },
      "source": [
        "Sau khi áp dụng phương pháp trên ta được một mảng numpy chứa các giá trị alpha dùng để ghép với nền mới. Ta có thể xem alpha nhưng một hệ số làm mờ.\n",
        "\n",
        "<img src='https://drive.google.com/uc?id=1up3_IVpNZRzD-mziEwlr2M-Kjn_Xrh-4'/>\n"
      ]
    },
    {
      "cell_type": "markdown",
      "id": "gPmiELGbSLK1",
      "metadata": {
        "id": "gPmiELGbSLK1"
      },
      "source": [
        "#### Alpha Blending"
      ]
    },
    {
      "cell_type": "markdown",
      "id": "zb1jK7PhSQaz",
      "metadata": {
        "id": "zb1jK7PhSQaz"
      },
      "source": [
        "Tiến hành blending mảng alpha global matting ở trên với hình nên mới để được kết quả.\n",
        "\n",
        "<img src='https://drive.google.com/uc?id=1O9bYFhq6t6jfgrDaqglRTurH8NZt8xSm'/>"
      ]
    },
    {
      "cell_type": "markdown",
      "id": "5IvaMvJwwEc7",
      "metadata": {
        "id": "5IvaMvJwwEc7"
      },
      "source": [
        "#### Local Matting"
      ]
    },
    {
      "cell_type": "markdown",
      "id": "SjszXVFSumcJ",
      "metadata": {
        "id": "SjszXVFSumcJ"
      },
      "source": [
        "Người dùng sẽ quan sát ảnh sau khi dùng Global Matting và đánh dấu những điểm ROI (Region of Interest - Những khu vực mong muốn được cải thiện hơn) sau đó chương trình sẽ chạy Local Matting trên khu vực này để cải thiện chất lượng hình ảnh.\n",
        "Local Matting cũng chính là Global Matting nhưng trên một khu vực nhỏ hơn."
      ]
    },
    {
      "cell_type": "markdown",
      "id": "xZ6ABfecw6-m",
      "metadata": {
        "id": "xZ6ABfecw6-m"
      },
      "source": [
        "Ví dụ, với hình ở trên ta chọn 2 khu vực có chỉ số như sau:\n",
        "- top, bottom, left, right = [347, 475, 130, 195]\n",
        "- top, bottom, left, right = [367, 480, 386, 439]\n",
        "\n",
        "\n",
        "<img src='https://drive.google.com/uc?id=1s3DTgKOwGPqLOCmo_oZV0XncFOdW5Xfz'/>"
      ]
    },
    {
      "cell_type": "markdown",
      "id": "W6lSqCoIzZW_",
      "metadata": {
        "id": "W6lSqCoIzZW_"
      },
      "source": [
        "Local matte và ảnh kết quả sau khi blending:\n",
        "\n",
        "<img src=\"https://drive.google.com/uc?id=1St6RIQp6ztso5_k6gOSkqhCEmT_narm_\"/>\n",
        "\n"
      ]
    },
    {
      "cell_type": "markdown",
      "id": "pyT-B9W81oTZ",
      "metadata": {
        "id": "pyT-B9W81oTZ"
      },
      "source": [
        "Hiện tại nhóm đang tự quan sát và set cứng các giá trị ROI trong file code. Nhóm kì vọng cuối đồ án sẽ thực hiện để xử lý qua tham số dòng lệnh để thực tế hơn.\n",
        "\n",
        "Quy trình dự định:\n",
        "- In ra ảnh từ global matting\n",
        "- Người dùng nhập vào danh sách những khu vực muốn chỉnh sửa\n",
        "- In ra kết quả sau khi local matting"
      ]
    },
    {
      "cell_type": "markdown",
      "id": "Cad4rVT6eB8e",
      "metadata": {
        "id": "Cad4rVT6eB8e"
      },
      "source": [
        "#### Thực hiện"
      ]
    },
    {
      "cell_type": "markdown",
      "id": "8-9xInPc2OLm",
      "metadata": {
        "id": "8-9xInPc2OLm"
      },
      "source": [
        "Hiện tại để tiện kiểm tra thì nhóm set cứng giá trị input (ảnh gốc, trimap, background) tương tự như phần trình bày phía trên của notebook. Sau này dự kiến sẽ chuyển qua dùng tham số dòng lệnh."
      ]
    },
    {
      "cell_type": "markdown",
      "id": "JkqIX8Wl2Far",
      "metadata": {
        "id": "JkqIX8Wl2Far"
      },
      "source": [
        "Thực thi với Python thuần (thời gian xử lý với 1 ảnh):"
      ]
    },
    {
      "cell_type": "code",
      "execution_count": 6,
      "id": "FJhcQ3DmlffA",
      "metadata": {
        "colab": {
          "base_uri": "https://localhost:8080/"
        },
        "id": "FJhcQ3DmlffA",
        "outputId": "dc19bd53-ddd9-462b-e647-6d3ee9d58f98"
      },
      "outputs": [
        {
          "output_type": "stream",
          "name": "stdout",
          "text": [
            "CPU times: user 140 ms, sys: 26.8 ms, total: 167 ms\n",
            "Wall time: 25 s\n"
          ]
        }
      ],
      "source": [
        "%%time\n",
        "!python sequential.py"
      ]
    },
    {
      "cell_type": "markdown",
      "id": "nm8yt98vGuvM",
      "metadata": {
        "id": "nm8yt98vGuvM"
      },
      "source": [
        "Thực thi tuần tự với Numba jit. Phần sử dụng git:\n",
        "- Hàm `global_alpha_matting`: hàm chạy phương pháp Gauss Siedel để tìm ra alpha phù hợp.\n",
        "\n",
        "Những phần sử dụng thư viện có sẵn:\n",
        "- Numpy: các phương thức `gradient`, `maximum`, `minimun`...; các phép toán nhân, cộng ma trận\n",
        "- OpenCV: đọc ảnh, lưu ảnh, chuyển ảnh sang grayscale, RGB\n",
        "\n",
        "> Nhóm đã có thử cài đặt để dùng jit với các hàm trên nhưng thấy tốc độ giảm không đáng kể (< 0.5s hoặc đôi khi chậm hơn) nên quyết định không jit nữa"
      ]
    },
    {
      "cell_type": "code",
      "execution_count": 7,
      "id": "cqsdKd-QjW2r",
      "metadata": {
        "colab": {
          "base_uri": "https://localhost:8080/"
        },
        "id": "cqsdKd-QjW2r",
        "outputId": "25ad6a70-31b3-40d2-ec8c-3f13f14968d2"
      },
      "outputs": [
        {
          "output_type": "stream",
          "name": "stdout",
          "text": [
            "CPU times: user 17.9 ms, sys: 11.4 ms, total: 29.3 ms\n",
            "Wall time: 2.32 s\n"
          ]
        }
      ],
      "source": [
        "%%time\n",
        "!python sequential_jit.py"
      ]
    },
    {
      "cell_type": "markdown",
      "id": "1gG_KmKD3-8w",
      "metadata": {
        "id": "1gG_KmKD3-8w"
      },
      "source": [
        "### **Dự định của nhóm sắp tới**"
      ]
    },
    {
      "cell_type": "markdown",
      "id": "Auk5rqADJJJP",
      "metadata": {
        "id": "Auk5rqADJJJP"
      },
      "source": [
        "- Cố gắng tìm hiểu kĩ hơn để tự tạo trimap cho riêng mình\n",
        "- Song song hoá phần `global_alpha_matting` (có thể gặp khó khăn vì thời gian khi dùng jit hiện tại khá nhanh)\n",
        "- Nếu thực hiện được trimap thì sẽ song song hoá phần trimap"
      ]
    },
    {
      "cell_type": "markdown",
      "id": "337c34ef",
      "metadata": {
        "id": "337c34ef"
      },
      "source": [
        "## Nhìn lại quá trình làm đồ án"
      ]
    },
    {
      "cell_type": "markdown",
      "id": "72079acf",
      "metadata": {
        "id": "72079acf"
      },
      "source": [
        "**1712898 - Nguyễn Văn Hậu**\n",
        "- Khó khăn\n",
        "    + \n",
        "    + \n",
        "    + \n",
        "- Học được:\n",
        "    + \n",
        "    + "
      ]
    },
    {
      "cell_type": "markdown",
      "id": "UGW49RWY73cE",
      "metadata": {
        "id": "UGW49RWY73cE"
      },
      "source": [
        "**18120181 - Nguyễn Thị Cẩm Hồng**\n",
        "- Khó khăn\n",
        "    + \n",
        "    + \n",
        "    + \n",
        "- Học được:\n",
        "    + \n",
        "    + "
      ]
    },
    {
      "cell_type": "markdown",
      "id": "2915e3fe",
      "metadata": {
        "id": "2915e3fe"
      },
      "source": [
        "**18120216 - Mai Huỳnh Trung Nguyên**\n",
        "- Khó khăn\n",
        "    + \n",
        "    + \n",
        "    + \n",
        "- Học được:\n",
        "    + \n",
        "    + \n",
        "    + "
      ]
    },
    {
      "cell_type": "markdown",
      "id": "BMPUTSuak3RI",
      "metadata": {
        "id": "BMPUTSuak3RI"
      },
      "source": [
        "**Nhóm**: \n",
        "- Khó khăn:\n",
        "  + \n",
        "  + \n",
        "  + \n",
        "- Do đó, nếu có thêm thời gian nhóm sẽ cố gắng thực hiện:\n",
        "  + \n",
        "  + \n",
        "  + \n"
      ]
    },
    {
      "cell_type": "markdown",
      "id": "4ae45e1e",
      "metadata": {
        "id": "4ae45e1e"
      },
      "source": [
        "## Tài liệu tham khảo"
      ]
    },
    {
      "cell_type": "markdown",
      "id": "9701b2bd",
      "metadata": {
        "id": "9701b2bd"
      },
      "source": [
        "- Project: Poisson Matting, [github](https://github.com/avani17101/Poisson-Matting).\n",
        "- Paper: Poisson Matting của Juan Sun, Jiaya Jia, Chi-Keung Tang, Heung-Yeung Shum, [paper](http://www.cse.cuhk.edu.hk/~leojia/all_final_papers/matting_siggraph04.pdf)"
      ]
    }
  ],
  "metadata": {
    "accelerator": "GPU",
    "colab": {
      "collapsed_sections": [
        "wOp0huxak_ou",
        "i5EKrc0mktgd",
        "H1bC5hm6mQvm",
        "3uoiHitdy6W4",
        "337c34ef",
        "4ae45e1e"
      ],
      "name": "Report.ipynb",
      "provenance": []
    },
    "kernelspec": {
      "display_name": "Python 3 (ipykernel)",
      "language": "python",
      "name": "python3"
    },
    "language_info": {
      "codemirror_mode": {
        "name": "ipython",
        "version": 3
      },
      "file_extension": ".py",
      "mimetype": "text/x-python",
      "name": "python",
      "nbconvert_exporter": "python",
      "pygments_lexer": "ipython3",
      "version": "3.8.8"
    },
    "toc": {
      "base_numbering": 1,
      "nav_menu": {},
      "number_sections": true,
      "sideBar": true,
      "skip_h1_title": false,
      "title_cell": "Table of Contents",
      "title_sidebar": "Contents",
      "toc_cell": false,
      "toc_position": {},
      "toc_section_display": true,
      "toc_window_display": false
    }
  },
  "nbformat": 4,
  "nbformat_minor": 5
}